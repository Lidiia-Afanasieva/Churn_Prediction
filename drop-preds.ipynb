{
 "cells": [
  {
   "cell_type": "code",
   "execution_count": 1,
   "id": "3a9b5514",
   "metadata": {
    "execution": {
     "iopub.execute_input": "2023-01-18T23:29:23.030422Z",
     "iopub.status.busy": "2023-01-18T23:29:23.030005Z",
     "iopub.status.idle": "2023-01-18T23:29:24.105118Z",
     "shell.execute_reply": "2023-01-18T23:29:24.104153Z"
    },
    "papermill": {
     "duration": 1.085623,
     "end_time": "2023-01-18T23:29:24.107634",
     "exception": false,
     "start_time": "2023-01-18T23:29:23.022011",
     "status": "completed"
    },
    "tags": []
   },
   "outputs": [],
   "source": [
    "import os\n",
    "from sklearn.metrics import roc_auc_score\n",
    "import pandas as pd\n",
    "import numpy as np\n",
    "from matplotlib import pyplot as plt\n",
    "\n",
    "from sklearn.linear_model import LogisticRegression, LogisticRegressionCV\n",
    "from sklearn.model_selection import train_test_split, GridSearchCV\n",
    "from sklearn.preprocessing import StandardScaler, RobustScaler, LabelEncoder, OneHotEncoder\n",
    "from sklearn.pipeline import make_pipeline\n",
    "\n",
    "from sklearn.compose import ColumnTransformer\n",
    "from sklearn.pipeline import Pipeline\n",
    "from sklearn.impute import SimpleImputer\n",
    "\n",
    "from sklearn.preprocessing import OneHotEncoder"
   ]
  },
  {
   "cell_type": "code",
   "execution_count": 2,
   "id": "b4bd48aa",
   "metadata": {
    "execution": {
     "iopub.execute_input": "2023-01-18T23:29:24.121479Z",
     "iopub.status.busy": "2023-01-18T23:29:24.120445Z",
     "iopub.status.idle": "2023-01-18T23:29:24.126820Z",
     "shell.execute_reply": "2023-01-18T23:29:24.126167Z"
    },
    "papermill": {
     "duration": 0.015953,
     "end_time": "2023-01-18T23:29:24.128961",
     "exception": false,
     "start_time": "2023-01-18T23:29:24.113008",
     "status": "completed"
    },
    "tags": []
   },
   "outputs": [],
   "source": [
    "# Числовые признаки\n",
    "num_cols = [\n",
    "    'ClientPeriod',\n",
    "    'MonthlySpending',\n",
    "    'TotalSpent'\n",
    "]\n",
    "\n",
    "# Категориальные признаки\n",
    "cat_cols = [\n",
    "    'Sex',\n",
    "    'IsSeniorCitizen',\n",
    "    'HasPartner',\n",
    "    'HasChild',\n",
    "    'HasPhoneService',\n",
    "    'HasMultiplePhoneNumbers',\n",
    "    'HasInternetService',\n",
    "    'HasOnlineSecurityService',\n",
    "    'HasOnlineBackup',\n",
    "    'HasDeviceProtection',\n",
    "    'HasTechSupportAccess',\n",
    "    'HasOnlineTV',\n",
    "    'HasMovieSubscription',\n",
    "    'HasContractPhone',\n",
    "    'IsBillingPaperless',\n",
    "    'PaymentMethod'\n",
    "]\n",
    "\n",
    "no_cat = [\n",
    "    'ClientPeriod',\n",
    "    'MonthlySpending',\n",
    "    'TotalSpent',\n",
    "    'Churn'\n",
    "]\n",
    "\n",
    "feature_cols = num_cols + cat_cols\n",
    "col_count = len(feature_cols)\n",
    "unique_cat = []\n",
    "target_col = 'Churn'\n",
    "error_col = 'TotalSpent'"
   ]
  },
  {
   "cell_type": "code",
   "execution_count": 3,
   "id": "23306fc5",
   "metadata": {
    "execution": {
     "iopub.execute_input": "2023-01-18T23:29:24.141809Z",
     "iopub.status.busy": "2023-01-18T23:29:24.141077Z",
     "iopub.status.idle": "2023-01-18T23:29:24.146290Z",
     "shell.execute_reply": "2023-01-18T23:29:24.145357Z"
    },
    "papermill": {
     "duration": 0.013822,
     "end_time": "2023-01-18T23:29:24.148420",
     "exception": false,
     "start_time": "2023-01-18T23:29:24.134598",
     "status": "completed"
    },
    "tags": []
   },
   "outputs": [],
   "source": [
    "# GET_DUMMIES VERSION\n",
    "\n",
    "# # train set download\n",
    "# data = pd.read_csv('/kaggle/input/advanced-dls-spring-2021/train.csv')\n",
    "# data = data.dropna()\n",
    "\n",
    "# # похоже в этом столбце некорректный формат данных\n",
    "# data[error_col] =  pd.to_numeric(data[error_col], errors='coerce')\n",
    "# data = data.dropna()\n",
    "\n",
    "# # numeric data settings\n",
    "# scaler = StandardScaler()\n",
    "# data[num_cols] = scaler.fit_transform(data[num_cols])\n",
    "\n",
    "# # categorical data settings\n",
    "# data[cat_cols] = data[cat_cols].apply(LabelEncoder().fit_transform)\n",
    "# data = pd.get_dummies(data, columns=cat_cols)\n",
    "\n",
    "# # test set download\n",
    "# X_submis = pd.read_csv('/kaggle/input/advanced-dls-spring-2021/test.csv')\n",
    "# X_submis[error_col] =  pd.to_numeric(X_submis[error_col], errors='coerce')\n",
    "# median = X_submis[error_col].sum()//len(X_submis[error_col])\n",
    "# X_submis = X_submis.fillna(median)\n",
    "\n",
    "# X_submis[cat_cols] = X_submis[cat_cols].apply(LabelEncoder().fit_transform)\n",
    "# X_submis = pd.get_dummies(X_submis, columns=cat_cols)\n",
    "# X_submis[num_cols] = scaler.fit_transform(X_submis[num_cols])\n",
    "\n",
    "# submission = pd.read_csv('/kaggle/input/advanced-dls-spring-2021/submission.csv')"
   ]
  },
  {
   "cell_type": "code",
   "execution_count": 4,
   "id": "20a3d7df",
   "metadata": {
    "execution": {
     "iopub.execute_input": "2023-01-18T23:29:24.160257Z",
     "iopub.status.busy": "2023-01-18T23:29:24.159879Z",
     "iopub.status.idle": "2023-01-18T23:29:24.164015Z",
     "shell.execute_reply": "2023-01-18T23:29:24.163099Z"
    },
    "papermill": {
     "duration": 0.012167,
     "end_time": "2023-01-18T23:29:24.165889",
     "exception": false,
     "start_time": "2023-01-18T23:29:24.153722",
     "status": "completed"
    },
    "tags": []
   },
   "outputs": [],
   "source": [
    "# # DEBAG CELL\n",
    "\n",
    "# # train set download\n",
    "# data = pd.read_csv('/kaggle/input/advanced-dls-spring-2021/train.csv')\n",
    "# data = data.dropna()"
   ]
  },
  {
   "cell_type": "code",
   "execution_count": 5,
   "id": "4fb2d274",
   "metadata": {
    "execution": {
     "iopub.execute_input": "2023-01-18T23:29:24.177921Z",
     "iopub.status.busy": "2023-01-18T23:29:24.177040Z",
     "iopub.status.idle": "2023-01-18T23:29:24.182513Z",
     "shell.execute_reply": "2023-01-18T23:29:24.181157Z"
    },
    "papermill": {
     "duration": 0.01323,
     "end_time": "2023-01-18T23:29:24.184220",
     "exception": false,
     "start_time": "2023-01-18T23:29:24.170990",
     "status": "completed"
    },
    "tags": []
   },
   "outputs": [],
   "source": [
    "# data"
   ]
  },
  {
   "cell_type": "code",
   "execution_count": 6,
   "id": "8619c67a",
   "metadata": {
    "execution": {
     "iopub.execute_input": "2023-01-18T23:29:24.195775Z",
     "iopub.status.busy": "2023-01-18T23:29:24.195269Z",
     "iopub.status.idle": "2023-01-18T23:29:24.199384Z",
     "shell.execute_reply": "2023-01-18T23:29:24.198718Z"
    },
    "papermill": {
     "duration": 0.011926,
     "end_time": "2023-01-18T23:29:24.201146",
     "exception": false,
     "start_time": "2023-01-18T23:29:24.189220",
     "status": "completed"
    },
    "tags": []
   },
   "outputs": [],
   "source": [
    "# # DEBAG CELL\n",
    "\n",
    "# data[cat_cols]"
   ]
  },
  {
   "cell_type": "code",
   "execution_count": 7,
   "id": "cf6dfc82",
   "metadata": {
    "execution": {
     "iopub.execute_input": "2023-01-18T23:29:24.214070Z",
     "iopub.status.busy": "2023-01-18T23:29:24.213008Z",
     "iopub.status.idle": "2023-01-18T23:29:24.218809Z",
     "shell.execute_reply": "2023-01-18T23:29:24.218182Z"
    },
    "papermill": {
     "duration": 0.014311,
     "end_time": "2023-01-18T23:29:24.220514",
     "exception": false,
     "start_time": "2023-01-18T23:29:24.206203",
     "status": "completed"
    },
    "tags": []
   },
   "outputs": [],
   "source": [
    "def get_unique_cat(df, cat_cols):\n",
    "    \n",
    "    global unique_cat\n",
    "    unique_cat = [] #debag\n",
    "    \n",
    "    for col in cat_cols:\n",
    "        unique_cat += [f'{col}_{item}' for item, cat in enumerate(list(df[col].unique()))]\n",
    "    \n",
    "    return unique_cat\n",
    "# len(list(df[col].unique()))"
   ]
  },
  {
   "cell_type": "code",
   "execution_count": 8,
   "id": "d2063289",
   "metadata": {
    "execution": {
     "iopub.execute_input": "2023-01-18T23:29:24.233622Z",
     "iopub.status.busy": "2023-01-18T23:29:24.232731Z",
     "iopub.status.idle": "2023-01-18T23:29:24.237836Z",
     "shell.execute_reply": "2023-01-18T23:29:24.237159Z"
    },
    "papermill": {
     "duration": 0.013963,
     "end_time": "2023-01-18T23:29:24.239529",
     "exception": false,
     "start_time": "2023-01-18T23:29:24.225566",
     "status": "completed"
    },
    "tags": []
   },
   "outputs": [],
   "source": [
    "def df_constructor(main_df, encode_arr, cols):\n",
    "    global num_cols\n",
    "    \n",
    "    df_encoded = pd.DataFrame(encode_arr, columns=cols)\n",
    "    \n",
    "    main_df = main_df[no_cat].reset_index(drop=True)\n",
    "    full_df = main_df.join(df_encoded)\n",
    "    return full_df"
   ]
  },
  {
   "cell_type": "code",
   "execution_count": 9,
   "id": "d83e534f",
   "metadata": {
    "execution": {
     "iopub.execute_input": "2023-01-18T23:29:24.251443Z",
     "iopub.status.busy": "2023-01-18T23:29:24.250524Z",
     "iopub.status.idle": "2023-01-18T23:29:24.435497Z",
     "shell.execute_reply": "2023-01-18T23:29:24.434384Z"
    },
    "papermill": {
     "duration": 0.193711,
     "end_time": "2023-01-18T23:29:24.438256",
     "exception": false,
     "start_time": "2023-01-18T23:29:24.244545",
     "status": "completed"
    },
    "tags": []
   },
   "outputs": [],
   "source": [
    "# ONE_HOT_ENCODE + INDEX UPDATE VERSION\n",
    "\n",
    "# train set download\n",
    "data = pd.read_csv('/kaggle/input/advanced-dls-spring-2021/train.csv')\n",
    "\n",
    "# похоже в этом столбце некорректный формат данных\n",
    "data[error_col] =  pd.to_numeric(data[error_col], errors='coerce')\n",
    "data = data.dropna()\n",
    "\n",
    "# numeric data settings\n",
    "scaler = StandardScaler()\n",
    "data[num_cols] = scaler.fit_transform(data[num_cols])\n",
    "\n",
    "# categorical data settings\n",
    "unique_cat_arr = get_unique_cat(data[cat_cols], cat_cols)\n",
    "encoder = OneHotEncoder(sparse=False, handle_unknown = 'ignore')\n",
    "data[cat_cols] = data[cat_cols].apply(LabelEncoder().fit_transform)\n",
    "data = data.dropna()\n",
    "\n",
    "encoded_arr = encoder.fit_transform(data[cat_cols])\n",
    "coded_data = df_constructor(data, encoded_arr, unique_cat_arr)\n",
    "\n",
    "# test set download\n",
    "X_submis = pd.read_csv('/kaggle/input/advanced-dls-spring-2021/test.csv')\n",
    "X_submis[error_col] =  pd.to_numeric(X_submis[error_col], errors='coerce')\n",
    "median = X_submis[error_col].sum()//len(X_submis[error_col])\n",
    "X_submis = X_submis.fillna(median)\n",
    "\n",
    "X_submis[cat_cols] = X_submis[cat_cols].apply(LabelEncoder().fit_transform)\n",
    "X_submis = pd.get_dummies(X_submis, columns=cat_cols)\n",
    "X_submis[num_cols] = scaler.fit_transform(X_submis[num_cols])\n",
    "\n",
    "submission = pd.read_csv('/kaggle/input/advanced-dls-spring-2021/submission.csv')"
   ]
  },
  {
   "cell_type": "code",
   "execution_count": 10,
   "id": "560d14b4",
   "metadata": {
    "execution": {
     "iopub.execute_input": "2023-01-18T23:29:24.451545Z",
     "iopub.status.busy": "2023-01-18T23:29:24.451114Z",
     "iopub.status.idle": "2023-01-18T23:29:24.494661Z",
     "shell.execute_reply": "2023-01-18T23:29:24.493675Z"
    },
    "papermill": {
     "duration": 0.052024,
     "end_time": "2023-01-18T23:29:24.496783",
     "exception": false,
     "start_time": "2023-01-18T23:29:24.444759",
     "status": "completed"
    },
    "tags": []
   },
   "outputs": [
    {
     "data": {
      "text/html": [
       "<div>\n",
       "<style scoped>\n",
       "    .dataframe tbody tr th:only-of-type {\n",
       "        vertical-align: middle;\n",
       "    }\n",
       "\n",
       "    .dataframe tbody tr th {\n",
       "        vertical-align: top;\n",
       "    }\n",
       "\n",
       "    .dataframe thead th {\n",
       "        text-align: right;\n",
       "    }\n",
       "</style>\n",
       "<table border=\"1\" class=\"dataframe\">\n",
       "  <thead>\n",
       "    <tr style=\"text-align: right;\">\n",
       "      <th></th>\n",
       "      <th>ClientPeriod</th>\n",
       "      <th>MonthlySpending</th>\n",
       "      <th>TotalSpent</th>\n",
       "      <th>Churn</th>\n",
       "      <th>Sex_0</th>\n",
       "      <th>Sex_1</th>\n",
       "      <th>IsSeniorCitizen_0</th>\n",
       "      <th>IsSeniorCitizen_1</th>\n",
       "      <th>HasPartner_0</th>\n",
       "      <th>HasPartner_1</th>\n",
       "      <th>...</th>\n",
       "      <th>HasMovieSubscription_2</th>\n",
       "      <th>HasContractPhone_0</th>\n",
       "      <th>HasContractPhone_1</th>\n",
       "      <th>HasContractPhone_2</th>\n",
       "      <th>IsBillingPaperless_0</th>\n",
       "      <th>IsBillingPaperless_1</th>\n",
       "      <th>PaymentMethod_0</th>\n",
       "      <th>PaymentMethod_1</th>\n",
       "      <th>PaymentMethod_2</th>\n",
       "      <th>PaymentMethod_3</th>\n",
       "    </tr>\n",
       "  </thead>\n",
       "  <tbody>\n",
       "    <tr>\n",
       "      <th>0</th>\n",
       "      <td>0.919099</td>\n",
       "      <td>-1.506436</td>\n",
       "      <td>-0.557582</td>\n",
       "      <td>0</td>\n",
       "      <td>0.0</td>\n",
       "      <td>1.0</td>\n",
       "      <td>1.0</td>\n",
       "      <td>0.0</td>\n",
       "      <td>0.0</td>\n",
       "      <td>1.0</td>\n",
       "      <td>...</td>\n",
       "      <td>0.0</td>\n",
       "      <td>0.0</td>\n",
       "      <td>1.0</td>\n",
       "      <td>0.0</td>\n",
       "      <td>1.0</td>\n",
       "      <td>0.0</td>\n",
       "      <td>0.0</td>\n",
       "      <td>0.0</td>\n",
       "      <td>0.0</td>\n",
       "      <td>1.0</td>\n",
       "    </tr>\n",
       "    <tr>\n",
       "      <th>1</th>\n",
       "      <td>1.612060</td>\n",
       "      <td>-1.295997</td>\n",
       "      <td>-0.184763</td>\n",
       "      <td>0</td>\n",
       "      <td>0.0</td>\n",
       "      <td>1.0</td>\n",
       "      <td>1.0</td>\n",
       "      <td>0.0</td>\n",
       "      <td>0.0</td>\n",
       "      <td>1.0</td>\n",
       "      <td>...</td>\n",
       "      <td>0.0</td>\n",
       "      <td>0.0</td>\n",
       "      <td>0.0</td>\n",
       "      <td>1.0</td>\n",
       "      <td>1.0</td>\n",
       "      <td>0.0</td>\n",
       "      <td>0.0</td>\n",
       "      <td>1.0</td>\n",
       "      <td>0.0</td>\n",
       "      <td>0.0</td>\n",
       "    </tr>\n",
       "    <tr>\n",
       "      <th>2</th>\n",
       "      <td>-1.282072</td>\n",
       "      <td>0.362658</td>\n",
       "      <td>-0.976504</td>\n",
       "      <td>1</td>\n",
       "      <td>0.0</td>\n",
       "      <td>1.0</td>\n",
       "      <td>1.0</td>\n",
       "      <td>0.0</td>\n",
       "      <td>1.0</td>\n",
       "      <td>0.0</td>\n",
       "      <td>...</td>\n",
       "      <td>0.0</td>\n",
       "      <td>1.0</td>\n",
       "      <td>0.0</td>\n",
       "      <td>0.0</td>\n",
       "      <td>0.0</td>\n",
       "      <td>1.0</td>\n",
       "      <td>0.0</td>\n",
       "      <td>0.0</td>\n",
       "      <td>1.0</td>\n",
       "      <td>0.0</td>\n",
       "    </tr>\n",
       "    <tr>\n",
       "      <th>3</th>\n",
       "      <td>-0.018437</td>\n",
       "      <td>0.475334</td>\n",
       "      <td>0.122800</td>\n",
       "      <td>0</td>\n",
       "      <td>1.0</td>\n",
       "      <td>0.0</td>\n",
       "      <td>0.0</td>\n",
       "      <td>1.0</td>\n",
       "      <td>0.0</td>\n",
       "      <td>1.0</td>\n",
       "      <td>...</td>\n",
       "      <td>0.0</td>\n",
       "      <td>1.0</td>\n",
       "      <td>0.0</td>\n",
       "      <td>0.0</td>\n",
       "      <td>1.0</td>\n",
       "      <td>0.0</td>\n",
       "      <td>0.0</td>\n",
       "      <td>0.0</td>\n",
       "      <td>0.0</td>\n",
       "      <td>1.0</td>\n",
       "    </tr>\n",
       "    <tr>\n",
       "      <th>4</th>\n",
       "      <td>1.122911</td>\n",
       "      <td>1.666716</td>\n",
       "      <td>1.968909</td>\n",
       "      <td>0</td>\n",
       "      <td>1.0</td>\n",
       "      <td>0.0</td>\n",
       "      <td>1.0</td>\n",
       "      <td>0.0</td>\n",
       "      <td>0.0</td>\n",
       "      <td>1.0</td>\n",
       "      <td>...</td>\n",
       "      <td>1.0</td>\n",
       "      <td>0.0</td>\n",
       "      <td>0.0</td>\n",
       "      <td>1.0</td>\n",
       "      <td>1.0</td>\n",
       "      <td>0.0</td>\n",
       "      <td>0.0</td>\n",
       "      <td>1.0</td>\n",
       "      <td>0.0</td>\n",
       "      <td>0.0</td>\n",
       "    </tr>\n",
       "    <tr>\n",
       "      <th>...</th>\n",
       "      <td>...</td>\n",
       "      <td>...</td>\n",
       "      <td>...</td>\n",
       "      <td>...</td>\n",
       "      <td>...</td>\n",
       "      <td>...</td>\n",
       "      <td>...</td>\n",
       "      <td>...</td>\n",
       "      <td>...</td>\n",
       "      <td>...</td>\n",
       "      <td>...</td>\n",
       "      <td>...</td>\n",
       "      <td>...</td>\n",
       "      <td>...</td>\n",
       "      <td>...</td>\n",
       "      <td>...</td>\n",
       "      <td>...</td>\n",
       "      <td>...</td>\n",
       "      <td>...</td>\n",
       "      <td>...</td>\n",
       "      <td>...</td>\n",
       "    </tr>\n",
       "    <tr>\n",
       "      <th>5268</th>\n",
       "      <td>-1.200547</td>\n",
       "      <td>-1.145210</td>\n",
       "      <td>-0.973749</td>\n",
       "      <td>0</td>\n",
       "      <td>0.0</td>\n",
       "      <td>1.0</td>\n",
       "      <td>1.0</td>\n",
       "      <td>0.0</td>\n",
       "      <td>1.0</td>\n",
       "      <td>0.0</td>\n",
       "      <td>...</td>\n",
       "      <td>0.0</td>\n",
       "      <td>1.0</td>\n",
       "      <td>0.0</td>\n",
       "      <td>0.0</td>\n",
       "      <td>1.0</td>\n",
       "      <td>0.0</td>\n",
       "      <td>0.0</td>\n",
       "      <td>0.0</td>\n",
       "      <td>1.0</td>\n",
       "      <td>0.0</td>\n",
       "    </tr>\n",
       "    <tr>\n",
       "      <th>5269</th>\n",
       "      <td>0.715287</td>\n",
       "      <td>-0.679594</td>\n",
       "      <td>-0.045372</td>\n",
       "      <td>0</td>\n",
       "      <td>0.0</td>\n",
       "      <td>1.0</td>\n",
       "      <td>1.0</td>\n",
       "      <td>0.0</td>\n",
       "      <td>0.0</td>\n",
       "      <td>1.0</td>\n",
       "      <td>...</td>\n",
       "      <td>0.0</td>\n",
       "      <td>0.0</td>\n",
       "      <td>1.0</td>\n",
       "      <td>0.0</td>\n",
       "      <td>0.0</td>\n",
       "      <td>1.0</td>\n",
       "      <td>1.0</td>\n",
       "      <td>0.0</td>\n",
       "      <td>0.0</td>\n",
       "      <td>0.0</td>\n",
       "    </tr>\n",
       "    <tr>\n",
       "      <th>5270</th>\n",
       "      <td>-1.282072</td>\n",
       "      <td>-0.328310</td>\n",
       "      <td>-0.985693</td>\n",
       "      <td>0</td>\n",
       "      <td>0.0</td>\n",
       "      <td>1.0</td>\n",
       "      <td>1.0</td>\n",
       "      <td>0.0</td>\n",
       "      <td>1.0</td>\n",
       "      <td>0.0</td>\n",
       "      <td>...</td>\n",
       "      <td>0.0</td>\n",
       "      <td>1.0</td>\n",
       "      <td>0.0</td>\n",
       "      <td>0.0</td>\n",
       "      <td>1.0</td>\n",
       "      <td>0.0</td>\n",
       "      <td>0.0</td>\n",
       "      <td>0.0</td>\n",
       "      <td>0.0</td>\n",
       "      <td>1.0</td>\n",
       "    </tr>\n",
       "    <tr>\n",
       "      <th>5271</th>\n",
       "      <td>-0.140724</td>\n",
       "      <td>0.365972</td>\n",
       "      <td>-0.033560</td>\n",
       "      <td>0</td>\n",
       "      <td>1.0</td>\n",
       "      <td>0.0</td>\n",
       "      <td>1.0</td>\n",
       "      <td>0.0</td>\n",
       "      <td>1.0</td>\n",
       "      <td>0.0</td>\n",
       "      <td>...</td>\n",
       "      <td>0.0</td>\n",
       "      <td>1.0</td>\n",
       "      <td>0.0</td>\n",
       "      <td>0.0</td>\n",
       "      <td>0.0</td>\n",
       "      <td>1.0</td>\n",
       "      <td>0.0</td>\n",
       "      <td>1.0</td>\n",
       "      <td>0.0</td>\n",
       "      <td>0.0</td>\n",
       "    </tr>\n",
       "    <tr>\n",
       "      <th>5272</th>\n",
       "      <td>-0.548349</td>\n",
       "      <td>0.362658</td>\n",
       "      <td>-0.403645</td>\n",
       "      <td>0</td>\n",
       "      <td>1.0</td>\n",
       "      <td>0.0</td>\n",
       "      <td>1.0</td>\n",
       "      <td>0.0</td>\n",
       "      <td>1.0</td>\n",
       "      <td>0.0</td>\n",
       "      <td>...</td>\n",
       "      <td>0.0</td>\n",
       "      <td>1.0</td>\n",
       "      <td>0.0</td>\n",
       "      <td>0.0</td>\n",
       "      <td>0.0</td>\n",
       "      <td>1.0</td>\n",
       "      <td>0.0</td>\n",
       "      <td>0.0</td>\n",
       "      <td>0.0</td>\n",
       "      <td>1.0</td>\n",
       "    </tr>\n",
       "  </tbody>\n",
       "</table>\n",
       "<p>5273 rows × 47 columns</p>\n",
       "</div>"
      ],
      "text/plain": [
       "      ClientPeriod  MonthlySpending  TotalSpent  Churn  Sex_0  Sex_1  \\\n",
       "0         0.919099        -1.506436   -0.557582      0    0.0    1.0   \n",
       "1         1.612060        -1.295997   -0.184763      0    0.0    1.0   \n",
       "2        -1.282072         0.362658   -0.976504      1    0.0    1.0   \n",
       "3        -0.018437         0.475334    0.122800      0    1.0    0.0   \n",
       "4         1.122911         1.666716    1.968909      0    1.0    0.0   \n",
       "...            ...              ...         ...    ...    ...    ...   \n",
       "5268     -1.200547        -1.145210   -0.973749      0    0.0    1.0   \n",
       "5269      0.715287        -0.679594   -0.045372      0    0.0    1.0   \n",
       "5270     -1.282072        -0.328310   -0.985693      0    0.0    1.0   \n",
       "5271     -0.140724         0.365972   -0.033560      0    1.0    0.0   \n",
       "5272     -0.548349         0.362658   -0.403645      0    1.0    0.0   \n",
       "\n",
       "      IsSeniorCitizen_0  IsSeniorCitizen_1  HasPartner_0  HasPartner_1  ...  \\\n",
       "0                   1.0                0.0           0.0           1.0  ...   \n",
       "1                   1.0                0.0           0.0           1.0  ...   \n",
       "2                   1.0                0.0           1.0           0.0  ...   \n",
       "3                   0.0                1.0           0.0           1.0  ...   \n",
       "4                   1.0                0.0           0.0           1.0  ...   \n",
       "...                 ...                ...           ...           ...  ...   \n",
       "5268                1.0                0.0           1.0           0.0  ...   \n",
       "5269                1.0                0.0           0.0           1.0  ...   \n",
       "5270                1.0                0.0           1.0           0.0  ...   \n",
       "5271                1.0                0.0           1.0           0.0  ...   \n",
       "5272                1.0                0.0           1.0           0.0  ...   \n",
       "\n",
       "      HasMovieSubscription_2  HasContractPhone_0  HasContractPhone_1  \\\n",
       "0                        0.0                 0.0                 1.0   \n",
       "1                        0.0                 0.0                 0.0   \n",
       "2                        0.0                 1.0                 0.0   \n",
       "3                        0.0                 1.0                 0.0   \n",
       "4                        1.0                 0.0                 0.0   \n",
       "...                      ...                 ...                 ...   \n",
       "5268                     0.0                 1.0                 0.0   \n",
       "5269                     0.0                 0.0                 1.0   \n",
       "5270                     0.0                 1.0                 0.0   \n",
       "5271                     0.0                 1.0                 0.0   \n",
       "5272                     0.0                 1.0                 0.0   \n",
       "\n",
       "      HasContractPhone_2  IsBillingPaperless_0  IsBillingPaperless_1  \\\n",
       "0                    0.0                   1.0                   0.0   \n",
       "1                    1.0                   1.0                   0.0   \n",
       "2                    0.0                   0.0                   1.0   \n",
       "3                    0.0                   1.0                   0.0   \n",
       "4                    1.0                   1.0                   0.0   \n",
       "...                  ...                   ...                   ...   \n",
       "5268                 0.0                   1.0                   0.0   \n",
       "5269                 0.0                   0.0                   1.0   \n",
       "5270                 0.0                   1.0                   0.0   \n",
       "5271                 0.0                   0.0                   1.0   \n",
       "5272                 0.0                   0.0                   1.0   \n",
       "\n",
       "      PaymentMethod_0  PaymentMethod_1  PaymentMethod_2  PaymentMethod_3  \n",
       "0                 0.0              0.0              0.0              1.0  \n",
       "1                 0.0              1.0              0.0              0.0  \n",
       "2                 0.0              0.0              1.0              0.0  \n",
       "3                 0.0              0.0              0.0              1.0  \n",
       "4                 0.0              1.0              0.0              0.0  \n",
       "...               ...              ...              ...              ...  \n",
       "5268              0.0              0.0              1.0              0.0  \n",
       "5269              1.0              0.0              0.0              0.0  \n",
       "5270              0.0              0.0              0.0              1.0  \n",
       "5271              0.0              1.0              0.0              0.0  \n",
       "5272              0.0              0.0              0.0              1.0  \n",
       "\n",
       "[5273 rows x 47 columns]"
      ]
     },
     "execution_count": 10,
     "metadata": {},
     "output_type": "execute_result"
    }
   ],
   "source": [
    "# DEBAG CELL\n",
    "\n",
    "coded_data"
   ]
  },
  {
   "cell_type": "code",
   "execution_count": 11,
   "id": "724019a2",
   "metadata": {
    "execution": {
     "iopub.execute_input": "2023-01-18T23:29:24.510980Z",
     "iopub.status.busy": "2023-01-18T23:29:24.510606Z",
     "iopub.status.idle": "2023-01-18T23:29:24.522680Z",
     "shell.execute_reply": "2023-01-18T23:29:24.521258Z"
    },
    "papermill": {
     "duration": 0.022182,
     "end_time": "2023-01-18T23:29:24.525285",
     "exception": false,
     "start_time": "2023-01-18T23:29:24.503103",
     "status": "completed"
    },
    "tags": []
   },
   "outputs": [],
   "source": [
    "y = coded_data[target_col]\n",
    "\n",
    "features_list = list(coded_data)\n",
    "features_list.remove(target_col)\n",
    "\n",
    "X = coded_data[features_list]\n",
    "X_train, X_test, y_train, y_test = train_test_split(X.values, y.values, \n",
    "                                                    train_size=0.8,\n",
    "                                                    random_state=42)\n",
    "\n",
    "X_submis = X_submis.to_numpy()"
   ]
  },
  {
   "cell_type": "code",
   "execution_count": 12,
   "id": "7a920785",
   "metadata": {
    "collapsed": true,
    "execution": {
     "iopub.execute_input": "2023-01-18T23:29:24.538781Z",
     "iopub.status.busy": "2023-01-18T23:29:24.538406Z",
     "iopub.status.idle": "2023-01-18T23:30:02.626855Z",
     "shell.execute_reply": "2023-01-18T23:30:02.625549Z"
    },
    "jupyter": {
     "outputs_hidden": true
    },
    "papermill": {
     "duration": 38.102563,
     "end_time": "2023-01-18T23:30:02.633901",
     "exception": false,
     "start_time": "2023-01-18T23:29:24.531338",
     "status": "completed"
    },
    "tags": []
   },
   "outputs": [
    {
     "name": "stderr",
     "output_type": "stream",
     "text": [
      "/opt/conda/lib/python3.7/site-packages/sklearn/linear_model/_logistic.py:818: ConvergenceWarning: lbfgs failed to converge (status=1):\n",
      "STOP: TOTAL NO. of ITERATIONS REACHED LIMIT.\n",
      "\n",
      "Increase the number of iterations (max_iter) or scale the data as shown in:\n",
      "    https://scikit-learn.org/stable/modules/preprocessing.html\n",
      "Please also refer to the documentation for alternative solver options:\n",
      "    https://scikit-learn.org/stable/modules/linear_model.html#logistic-regression\n",
      "  extra_warning_msg=_LOGISTIC_SOLVER_CONVERGENCE_MSG,\n",
      "/opt/conda/lib/python3.7/site-packages/sklearn/linear_model/_logistic.py:818: ConvergenceWarning: lbfgs failed to converge (status=1):\n",
      "STOP: TOTAL NO. of ITERATIONS REACHED LIMIT.\n",
      "\n",
      "Increase the number of iterations (max_iter) or scale the data as shown in:\n",
      "    https://scikit-learn.org/stable/modules/preprocessing.html\n",
      "Please also refer to the documentation for alternative solver options:\n",
      "    https://scikit-learn.org/stable/modules/linear_model.html#logistic-regression\n",
      "  extra_warning_msg=_LOGISTIC_SOLVER_CONVERGENCE_MSG,\n",
      "/opt/conda/lib/python3.7/site-packages/sklearn/linear_model/_logistic.py:818: ConvergenceWarning: lbfgs failed to converge (status=1):\n",
      "STOP: TOTAL NO. of ITERATIONS REACHED LIMIT.\n",
      "\n",
      "Increase the number of iterations (max_iter) or scale the data as shown in:\n",
      "    https://scikit-learn.org/stable/modules/preprocessing.html\n",
      "Please also refer to the documentation for alternative solver options:\n",
      "    https://scikit-learn.org/stable/modules/linear_model.html#logistic-regression\n",
      "  extra_warning_msg=_LOGISTIC_SOLVER_CONVERGENCE_MSG,\n",
      "/opt/conda/lib/python3.7/site-packages/sklearn/linear_model/_logistic.py:818: ConvergenceWarning: lbfgs failed to converge (status=1):\n",
      "STOP: TOTAL NO. of ITERATIONS REACHED LIMIT.\n",
      "\n",
      "Increase the number of iterations (max_iter) or scale the data as shown in:\n",
      "    https://scikit-learn.org/stable/modules/preprocessing.html\n",
      "Please also refer to the documentation for alternative solver options:\n",
      "    https://scikit-learn.org/stable/modules/linear_model.html#logistic-regression\n",
      "  extra_warning_msg=_LOGISTIC_SOLVER_CONVERGENCE_MSG,\n",
      "/opt/conda/lib/python3.7/site-packages/sklearn/linear_model/_logistic.py:818: ConvergenceWarning: lbfgs failed to converge (status=1):\n",
      "STOP: TOTAL NO. of ITERATIONS REACHED LIMIT.\n",
      "\n",
      "Increase the number of iterations (max_iter) or scale the data as shown in:\n",
      "    https://scikit-learn.org/stable/modules/preprocessing.html\n",
      "Please also refer to the documentation for alternative solver options:\n",
      "    https://scikit-learn.org/stable/modules/linear_model.html#logistic-regression\n",
      "  extra_warning_msg=_LOGISTIC_SOLVER_CONVERGENCE_MSG,\n"
     ]
    },
    {
     "data": {
      "text/plain": [
       "Pipeline(steps=[('standardscaler', StandardScaler()),\n",
       "                ('onehotencoder', OneHotEncoder(handle_unknown='ignore')),\n",
       "                ('gridsearchcv',\n",
       "                 GridSearchCV(cv=10,\n",
       "                              estimator=LogisticRegression(max_iter=1000),\n",
       "                              param_grid={'C': [100, 10, 1, 0.1, 0.01,\n",
       "                                                0.001]}))])"
      ]
     },
     "execution_count": 12,
     "metadata": {},
     "output_type": "execute_result"
    }
   ],
   "source": [
    "C_l = [100, 10, 1, 0.1, 0.01, 0.001]\n",
    "\n",
    "param_grid = {'C': C_l}\n",
    "\n",
    "search = GridSearchCV(LogisticRegression(max_iter=1000), \n",
    "                      param_grid,\n",
    "                      cv=10,\n",
    "                      refit=True)\n",
    "\n",
    "pipe = make_pipeline(\n",
    "    StandardScaler(),\n",
    "    OneHotEncoder(handle_unknown='ignore'),\n",
    "    search\n",
    ")\n",
    "pipe.fit(X_train, y_train)"
   ]
  },
  {
   "cell_type": "code",
   "execution_count": 13,
   "id": "7e70314f",
   "metadata": {
    "execution": {
     "iopub.execute_input": "2023-01-18T23:30:02.648737Z",
     "iopub.status.busy": "2023-01-18T23:30:02.648329Z",
     "iopub.status.idle": "2023-01-18T23:30:02.655126Z",
     "shell.execute_reply": "2023-01-18T23:30:02.653485Z"
    },
    "papermill": {
     "duration": 0.018012,
     "end_time": "2023-01-18T23:30:02.657978",
     "exception": false,
     "start_time": "2023-01-18T23:30:02.639966",
     "status": "completed"
    },
    "tags": []
   },
   "outputs": [
    {
     "name": "stdout",
     "output_type": "stream",
     "text": [
      "<class 'numpy.ndarray'>\n"
     ]
    }
   ],
   "source": [
    "print(type(np.array([100., 10., 1., 0.1, 0.01, 0.001])))"
   ]
  },
  {
   "cell_type": "code",
   "execution_count": 14,
   "id": "51a93184",
   "metadata": {
    "execution": {
     "iopub.execute_input": "2023-01-18T23:30:02.672997Z",
     "iopub.status.busy": "2023-01-18T23:30:02.672618Z",
     "iopub.status.idle": "2023-01-18T23:30:02.681127Z",
     "shell.execute_reply": "2023-01-18T23:30:02.679530Z"
    },
    "papermill": {
     "duration": 0.018553,
     "end_time": "2023-01-18T23:30:02.683690",
     "exception": false,
     "start_time": "2023-01-18T23:30:02.665137",
     "status": "completed"
    },
    "tags": []
   },
   "outputs": [],
   "source": [
    "# DEBAG CELL\n",
    "\n",
    "C_l = (100, 10, 1, 0.1, 0.01, 0.001)\n",
    "\n",
    "# param_grid = {'C': C_l}\n",
    "\n",
    "param_grid = {\n",
    "    'logreg__class_weight':[None, 'balanced'],\n",
    "    'logreg__C':C_l,\n",
    "}\n",
    "# print(type(param_grid['logreg__C']))\n",
    "\n",
    "num_features = num_cols\n",
    "\n",
    "# нормализация численных данных\n",
    "num_transformer = Pipeline(steps=[\n",
    "    ('numerical', StandardScaler())])\n",
    "\n",
    "# кодировная каьегор жанных\n",
    "categorical_features = unique_cat\n",
    "\n",
    "categorical_transformer = Pipeline(steps=[\n",
    "    # ('imputer', SimpleImputer(strategy='constant', fill_value='missing')),\n",
    "    ('encoding', LabelEncoder()),\n",
    "    ('onehot', OneHotEncoder(handle_unknown='ignore'))\n",
    "    ])\n",
    "\n",
    "# использует трансвормеры на отдельных колонках\n",
    "preprocessor = ColumnTransformer(\n",
    "    transformers=[\n",
    "        ('num', num_transformer, num_features),\n",
    "        ('cat', categorical_transformer, categorical_features)])\n",
    "\n",
    "\n",
    "pipe =  Pipeline(steps=[('preprocessor', preprocessor),\n",
    "                   (\"logreg\", LogisticRegression())\n",
    "                   ])\n",
    "\n",
    "search = GridSearchCV(pipe, \n",
    "                      param_grid,\n",
    "                      scoring='roc_auc',\n",
    "                      cv=10,\n",
    "                      refit=True)\n",
    "\n",
    "# search.fit(X_train, y_train)"
   ]
  },
  {
   "cell_type": "code",
   "execution_count": 15,
   "id": "dbb0910e",
   "metadata": {
    "execution": {
     "iopub.execute_input": "2023-01-18T23:30:02.697640Z",
     "iopub.status.busy": "2023-01-18T23:30:02.697280Z",
     "iopub.status.idle": "2023-01-18T23:30:02.704813Z",
     "shell.execute_reply": "2023-01-18T23:30:02.703694Z"
    },
    "papermill": {
     "duration": 0.016857,
     "end_time": "2023-01-18T23:30:02.706734",
     "exception": false,
     "start_time": "2023-01-18T23:30:02.689877",
     "status": "completed"
    },
    "tags": []
   },
   "outputs": [
    {
     "data": {
      "text/plain": [
       "dict_keys(['memory', 'steps', 'verbose', 'preprocessor', 'logreg', 'preprocessor__n_jobs', 'preprocessor__remainder', 'preprocessor__sparse_threshold', 'preprocessor__transformer_weights', 'preprocessor__transformers', 'preprocessor__verbose', 'preprocessor__verbose_feature_names_out', 'preprocessor__num', 'preprocessor__cat', 'preprocessor__num__memory', 'preprocessor__num__steps', 'preprocessor__num__verbose', 'preprocessor__num__numerical', 'preprocessor__num__numerical__copy', 'preprocessor__num__numerical__with_mean', 'preprocessor__num__numerical__with_std', 'preprocessor__cat__memory', 'preprocessor__cat__steps', 'preprocessor__cat__verbose', 'preprocessor__cat__encoding', 'preprocessor__cat__onehot', 'preprocessor__cat__onehot__categories', 'preprocessor__cat__onehot__drop', 'preprocessor__cat__onehot__dtype', 'preprocessor__cat__onehot__handle_unknown', 'preprocessor__cat__onehot__sparse', 'logreg__C', 'logreg__class_weight', 'logreg__dual', 'logreg__fit_intercept', 'logreg__intercept_scaling', 'logreg__l1_ratio', 'logreg__max_iter', 'logreg__multi_class', 'logreg__n_jobs', 'logreg__penalty', 'logreg__random_state', 'logreg__solver', 'logreg__tol', 'logreg__verbose', 'logreg__warm_start'])"
      ]
     },
     "execution_count": 15,
     "metadata": {},
     "output_type": "execute_result"
    }
   ],
   "source": [
    "pipe.get_params().keys()"
   ]
  },
  {
   "cell_type": "code",
   "execution_count": 16,
   "id": "e10b1e94",
   "metadata": {
    "execution": {
     "iopub.execute_input": "2023-01-18T23:30:02.720754Z",
     "iopub.status.busy": "2023-01-18T23:30:02.720389Z",
     "iopub.status.idle": "2023-01-18T23:30:02.726339Z",
     "shell.execute_reply": "2023-01-18T23:30:02.724512Z"
    },
    "papermill": {
     "duration": 0.015615,
     "end_time": "2023-01-18T23:30:02.728622",
     "exception": false,
     "start_time": "2023-01-18T23:30:02.713007",
     "status": "completed"
    },
    "tags": []
   },
   "outputs": [],
   "source": [
    "# preds_train = pipe.predict(X_test)"
   ]
  },
  {
   "cell_type": "code",
   "execution_count": 17,
   "id": "b1626be4",
   "metadata": {
    "execution": {
     "iopub.execute_input": "2023-01-18T23:30:02.742736Z",
     "iopub.status.busy": "2023-01-18T23:30:02.742397Z",
     "iopub.status.idle": "2023-01-18T23:30:02.747632Z",
     "shell.execute_reply": "2023-01-18T23:30:02.745701Z"
    },
    "papermill": {
     "duration": 0.015876,
     "end_time": "2023-01-18T23:30:02.750865",
     "exception": false,
     "start_time": "2023-01-18T23:30:02.734989",
     "status": "completed"
    },
    "tags": []
   },
   "outputs": [],
   "source": [
    "# print(\"Tuned Hyperparameters :\", search.best_params_)\n",
    "# print(\"Accuracy :\",search.best_score_)"
   ]
  },
  {
   "cell_type": "code",
   "execution_count": 18,
   "id": "ea7bf5cd",
   "metadata": {
    "execution": {
     "iopub.execute_input": "2023-01-18T23:30:02.765915Z",
     "iopub.status.busy": "2023-01-18T23:30:02.765311Z",
     "iopub.status.idle": "2023-01-18T23:30:02.769152Z",
     "shell.execute_reply": "2023-01-18T23:30:02.768048Z"
    },
    "papermill": {
     "duration": 0.013484,
     "end_time": "2023-01-18T23:30:02.771297",
     "exception": false,
     "start_time": "2023-01-18T23:30:02.757813",
     "status": "completed"
    },
    "tags": []
   },
   "outputs": [],
   "source": [
    "# preds_test = pipe.predict(X_submis)"
   ]
  },
  {
   "cell_type": "code",
   "execution_count": 19,
   "id": "0a0b08d8",
   "metadata": {
    "execution": {
     "iopub.execute_input": "2023-01-18T23:30:02.786728Z",
     "iopub.status.busy": "2023-01-18T23:30:02.786286Z",
     "iopub.status.idle": "2023-01-18T23:30:02.790361Z",
     "shell.execute_reply": "2023-01-18T23:30:02.789159Z"
    },
    "papermill": {
     "duration": 0.014484,
     "end_time": "2023-01-18T23:30:02.792063",
     "exception": false,
     "start_time": "2023-01-18T23:30:02.777579",
     "status": "completed"
    },
    "tags": []
   },
   "outputs": [],
   "source": [
    "# new_df = pd.DataFrame(preds_test)\n",
    "# print(preds_test.shape)"
   ]
  },
  {
   "cell_type": "code",
   "execution_count": 20,
   "id": "ab01df7b",
   "metadata": {
    "collapsed": true,
    "execution": {
     "iopub.execute_input": "2023-01-18T23:30:02.806495Z",
     "iopub.status.busy": "2023-01-18T23:30:02.806149Z",
     "iopub.status.idle": "2023-01-18T23:30:02.810581Z",
     "shell.execute_reply": "2023-01-18T23:30:02.809213Z"
    },
    "jupyter": {
     "outputs_hidden": true
    },
    "papermill": {
     "duration": 0.013662,
     "end_time": "2023-01-18T23:30:02.812533",
     "exception": false,
     "start_time": "2023-01-18T23:30:02.798871",
     "status": "completed"
    },
    "tags": []
   },
   "outputs": [],
   "source": [
    "# submission['#']"
   ]
  },
  {
   "cell_type": "code",
   "execution_count": 21,
   "id": "9d55e656",
   "metadata": {
    "execution": {
     "iopub.execute_input": "2023-01-18T23:30:02.826557Z",
     "iopub.status.busy": "2023-01-18T23:30:02.826159Z",
     "iopub.status.idle": "2023-01-18T23:30:02.831537Z",
     "shell.execute_reply": "2023-01-18T23:30:02.830260Z"
    },
    "papermill": {
     "duration": 0.015173,
     "end_time": "2023-01-18T23:30:02.833937",
     "exception": false,
     "start_time": "2023-01-18T23:30:02.818764",
     "status": "completed"
    },
    "tags": []
   },
   "outputs": [],
   "source": [
    "# submission[target_col] = new_df\n",
    "# os.chdir('/kaggle/working/')\n",
    "# submission.to_csv('submission_.csv', index=False)\n",
    "# print(\"Your submission was successfully saved!\")"
   ]
  }
 ],
 "metadata": {
  "kernelspec": {
   "display_name": "Python 3",
   "language": "python",
   "name": "python3"
  },
  "language_info": {
   "codemirror_mode": {
    "name": "ipython",
    "version": 3
   },
   "file_extension": ".py",
   "mimetype": "text/x-python",
   "name": "python",
   "nbconvert_exporter": "python",
   "pygments_lexer": "ipython3",
   "version": "3.7.12"
  },
  "papermill": {
   "default_parameters": {},
   "duration": 48.14759,
   "end_time": "2023-01-18T23:30:03.662497",
   "environment_variables": {},
   "exception": null,
   "input_path": "__notebook__.ipynb",
   "output_path": "__notebook__.ipynb",
   "parameters": {},
   "start_time": "2023-01-18T23:29:15.514907",
   "version": "2.3.4"
  }
 },
 "nbformat": 4,
 "nbformat_minor": 5
}
