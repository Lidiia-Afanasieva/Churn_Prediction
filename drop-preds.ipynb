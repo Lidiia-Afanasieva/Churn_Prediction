{
 "cells": [
  {
   "cell_type": "code",
   "execution_count": 1,
   "id": "99674dba",
   "metadata": {
    "execution": {
     "iopub.execute_input": "2023-01-26T13:46:07.769529Z",
     "iopub.status.busy": "2023-01-26T13:46:07.769029Z",
     "iopub.status.idle": "2023-01-26T13:46:08.992076Z",
     "shell.execute_reply": "2023-01-26T13:46:08.990794Z"
    },
    "papermill": {
     "duration": 1.233554,
     "end_time": "2023-01-26T13:46:08.994874",
     "exception": false,
     "start_time": "2023-01-26T13:46:07.761320",
     "status": "completed"
    },
    "tags": []
   },
   "outputs": [],
   "source": [
    "import os\n",
    "from sklearn.metrics import roc_auc_score\n",
    "import pandas as pd\n",
    "import numpy as np\n",
    "from matplotlib import pyplot as plt\n",
    "\n",
    "from sklearn.linear_model import LogisticRegression, LogisticRegressionCV\n",
    "from sklearn.model_selection import train_test_split, GridSearchCV\n",
    "from sklearn.preprocessing import StandardScaler, RobustScaler, LabelEncoder, OneHotEncoder\n",
    "from sklearn.pipeline import make_pipeline\n",
    "\n",
    "from sklearn.compose import ColumnTransformer\n",
    "from sklearn.pipeline import Pipeline\n",
    "from sklearn.impute import SimpleImputer\n",
    "\n",
    "from sklearn.metrics import confusion_matrix\n",
    "from sklearn.metrics import classification_report\n",
    "\n",
    "#for classification_report\n",
    "from sklearn.utils.multiclass import unique_labels\n",
    "from sklearn.metrics import precision_recall_fscore_support\n",
    "from tabulate import tabulate"
   ]
  },
  {
   "cell_type": "code",
   "execution_count": 2,
   "id": "29949526",
   "metadata": {
    "execution": {
     "iopub.execute_input": "2023-01-26T13:46:09.005848Z",
     "iopub.status.busy": "2023-01-26T13:46:09.005455Z",
     "iopub.status.idle": "2023-01-26T13:46:09.017462Z",
     "shell.execute_reply": "2023-01-26T13:46:09.016340Z"
    },
    "papermill": {
     "duration": 0.02064,
     "end_time": "2023-01-26T13:46:09.020259",
     "exception": false,
     "start_time": "2023-01-26T13:46:08.999619",
     "status": "completed"
    },
    "tags": []
   },
   "outputs": [],
   "source": [
    "def classification_report(y_true, y_pred, labels=None, \n",
    "                          target_names=['0', '1'],\n",
    "                          sample_weight=None, digits=4, tablfmt='pipe'):\n",
    "    \n",
    "    floatfmt = '.{:}f'.format(digits)\n",
    "    if labels is None:\n",
    "        labels = unique_labels(y_true, y_pred)\n",
    "    else:\n",
    "        labels = np.asarray(labels)\n",
    "\n",
    "    if target_names is not None and len(labels) != len(target_names):\n",
    "        print(\n",
    "            \"labels size, {0}, does not match size of target_names, {1}\"\n",
    "            .format(len(labels), len(target_names))\n",
    "        )\n",
    "\n",
    "    last_line_heading = 'avg / total'\n",
    "\n",
    "    if target_names is None:\n",
    "        target_names = [u'%s' % l for l in labels]\n",
    "\n",
    "    headers = [\"precision\", \"recall\", \"f1-score\", \"support\"]\n",
    "\n",
    "    p, r, f1, s = precision_recall_fscore_support(y_true, y_pred,\n",
    "                                                  labels=labels,\n",
    "                                                  average=None,\n",
    "                                                  sample_weight=sample_weight)\n",
    "\n",
    "    rows = zip(target_names, p, r, f1, s)\n",
    "    tbl_rows = []\n",
    "    for row in rows:\n",
    "        tbl_rows.append(row)\n",
    "\n",
    "    # compute averages\n",
    "    last_row = (last_line_heading,\n",
    "                np.average(p, weights=s),\n",
    "                np.average(r, weights=s),\n",
    "                np.average(f1, weights=s),\n",
    "                np.sum(s))\n",
    "    tbl_rows.append(last_row)\n",
    "    return tabulate(tbl_rows, headers=headers,\n",
    "                    tablefmt=tablfmt, floatfmt=floatfmt)"
   ]
  },
  {
   "cell_type": "code",
   "execution_count": 3,
   "id": "51593496",
   "metadata": {
    "execution": {
     "iopub.execute_input": "2023-01-26T13:46:09.031386Z",
     "iopub.status.busy": "2023-01-26T13:46:09.030960Z",
     "iopub.status.idle": "2023-01-26T13:46:09.038516Z",
     "shell.execute_reply": "2023-01-26T13:46:09.037297Z"
    },
    "papermill": {
     "duration": 0.016047,
     "end_time": "2023-01-26T13:46:09.040933",
     "exception": false,
     "start_time": "2023-01-26T13:46:09.024886",
     "status": "completed"
    },
    "tags": []
   },
   "outputs": [],
   "source": [
    "# Числовые признаки\n",
    "num_cols = [\n",
    "    'ClientPeriod',\n",
    "    'MonthlySpending',\n",
    "    'TotalSpent'\n",
    "]\n",
    "\n",
    "# Категориальные признаки\n",
    "cat_cols = [\n",
    "    'Sex',\n",
    "    'IsSeniorCitizen',\n",
    "    'HasPartner',\n",
    "    'HasChild',\n",
    "    'HasPhoneService',\n",
    "    'HasMultiplePhoneNumbers',\n",
    "    'HasInternetService',\n",
    "    'HasOnlineSecurityService',\n",
    "    'HasOnlineBackup',\n",
    "    'HasDeviceProtection',\n",
    "    'HasTechSupportAccess',\n",
    "    'HasOnlineTV',\n",
    "    'HasMovieSubscription',\n",
    "    'HasContractPhone',\n",
    "    'IsBillingPaperless',\n",
    "    'PaymentMethod'\n",
    "]\n",
    "\n",
    "no_cat = [\n",
    "    'ClientPeriod',\n",
    "    'MonthlySpending',\n",
    "    'TotalSpent',\n",
    "    'Churn'\n",
    "]\n",
    "\n",
    "feature_cols = num_cols + cat_cols\n",
    "col_count = len(feature_cols)\n",
    "unique_cat = []\n",
    "target_col = 'Churn'\n",
    "error_col = 'TotalSpent'"
   ]
  },
  {
   "cell_type": "code",
   "execution_count": 4,
   "id": "d80c8893",
   "metadata": {
    "execution": {
     "iopub.execute_input": "2023-01-26T13:46:09.051585Z",
     "iopub.status.busy": "2023-01-26T13:46:09.051200Z",
     "iopub.status.idle": "2023-01-26T13:46:09.252982Z",
     "shell.execute_reply": "2023-01-26T13:46:09.251742Z"
    },
    "papermill": {
     "duration": 0.210186,
     "end_time": "2023-01-26T13:46:09.255739",
     "exception": false,
     "start_time": "2023-01-26T13:46:09.045553",
     "status": "completed"
    },
    "tags": []
   },
   "outputs": [],
   "source": [
    "# GET_DUMMIES VERSION\n",
    "\n",
    "# train set download\n",
    "data = pd.read_csv('/kaggle/input/advanced-dls-spring-2021/train.csv')\n",
    "data = data.dropna()\n",
    "\n",
    "# похоже в этом столбце некорректный формат данных\n",
    "data[error_col] =  pd.to_numeric(data[error_col], errors='coerce')\n",
    "data = data.dropna()\n",
    "\n",
    "# numeric data settings\n",
    "scaler = StandardScaler()\n",
    "data[num_cols] = scaler.fit_transform(data[num_cols])\n",
    "\n",
    "# categorical data settings\n",
    "data[cat_cols] = data[cat_cols].apply(LabelEncoder().fit_transform)\n",
    "data = pd.get_dummies(data, columns=cat_cols)\n",
    "\n",
    "# test set download\n",
    "X_submis = pd.read_csv('/kaggle/input/advanced-dls-spring-2021/test.csv')\n",
    "X_submis[error_col] =  pd.to_numeric(X_submis[error_col], errors='coerce')\n",
    "median = X_submis[error_col].sum()//len(X_submis[error_col])\n",
    "X_submis = X_submis.fillna(median)\n",
    "\n",
    "X_submis[cat_cols] = X_submis[cat_cols].apply(LabelEncoder().fit_transform)\n",
    "X_submis = pd.get_dummies(X_submis, columns=cat_cols)\n",
    "X_submis[num_cols] = scaler.fit_transform(X_submis[num_cols])\n",
    "\n",
    "submission = pd.read_csv('/kaggle/input/advanced-dls-spring-2021/submission.csv')"
   ]
  },
  {
   "cell_type": "code",
   "execution_count": 5,
   "id": "d22a409c",
   "metadata": {
    "execution": {
     "iopub.execute_input": "2023-01-26T13:46:09.268194Z",
     "iopub.status.busy": "2023-01-26T13:46:09.267020Z",
     "iopub.status.idle": "2023-01-26T13:46:09.281757Z",
     "shell.execute_reply": "2023-01-26T13:46:09.280398Z"
    },
    "papermill": {
     "duration": 0.023858,
     "end_time": "2023-01-26T13:46:09.284329",
     "exception": false,
     "start_time": "2023-01-26T13:46:09.260471",
     "status": "completed"
    },
    "tags": []
   },
   "outputs": [],
   "source": [
    "y = data[target_col]\n",
    "\n",
    "features_list = list(data)\n",
    "features_list.remove(target_col)\n",
    "\n",
    "X = data[features_list]\n",
    "X_train, X_test, y_train, y_test = train_test_split(X.values, y.values, \n",
    "                                                    train_size=0.9,\n",
    "                                                    random_state=42)\n",
    "\n",
    "X_submis = X_submis.to_numpy()"
   ]
  },
  {
   "cell_type": "code",
   "execution_count": 6,
   "id": "6c102c66",
   "metadata": {
    "execution": {
     "iopub.execute_input": "2023-01-26T13:46:09.295020Z",
     "iopub.status.busy": "2023-01-26T13:46:09.294598Z",
     "iopub.status.idle": "2023-01-26T13:46:09.301369Z",
     "shell.execute_reply": "2023-01-26T13:46:09.300215Z"
    },
    "papermill": {
     "duration": 0.014902,
     "end_time": "2023-01-26T13:46:09.303809",
     "exception": false,
     "start_time": "2023-01-26T13:46:09.288907",
     "status": "completed"
    },
    "tags": []
   },
   "outputs": [],
   "source": [
    "def get_unique_cat(df, cat_cols):\n",
    "    \n",
    "    global unique_cat\n",
    "    unique_cat = [] #debag\n",
    "    \n",
    "    for col in cat_cols:\n",
    "        unique_cat += [f'{col}_{item}' for item, cat in enumerate(list(df[col].unique()))]\n",
    "    \n",
    "    return unique_cat"
   ]
  },
  {
   "cell_type": "code",
   "execution_count": 7,
   "id": "c2f0385e",
   "metadata": {
    "execution": {
     "iopub.execute_input": "2023-01-26T13:46:09.314957Z",
     "iopub.status.busy": "2023-01-26T13:46:09.314547Z",
     "iopub.status.idle": "2023-01-26T13:46:09.321089Z",
     "shell.execute_reply": "2023-01-26T13:46:09.319859Z"
    },
    "papermill": {
     "duration": 0.015022,
     "end_time": "2023-01-26T13:46:09.323700",
     "exception": false,
     "start_time": "2023-01-26T13:46:09.308678",
     "status": "completed"
    },
    "tags": []
   },
   "outputs": [],
   "source": [
    "def df_constructor(main_df, encode_arr, cols):\n",
    "    global num_cols\n",
    "    \n",
    "    df_encoded = pd.DataFrame(encode_arr, columns=cols)\n",
    "    \n",
    "    main_df = main_df[no_cat].reset_index(drop=True)\n",
    "    full_df = main_df.join(df_encoded)\n",
    "    return full_df"
   ]
  },
  {
   "cell_type": "code",
   "execution_count": 8,
   "id": "5786cbd2",
   "metadata": {
    "execution": {
     "iopub.execute_input": "2023-01-26T13:46:09.335544Z",
     "iopub.status.busy": "2023-01-26T13:46:09.335105Z",
     "iopub.status.idle": "2023-01-26T13:47:20.771431Z",
     "shell.execute_reply": "2023-01-26T13:47:20.770187Z"
    },
    "papermill": {
     "duration": 71.454081,
     "end_time": "2023-01-26T13:47:20.782668",
     "exception": false,
     "start_time": "2023-01-26T13:46:09.328587",
     "status": "completed"
    },
    "tags": []
   },
   "outputs": [
    {
     "data": {
      "text/plain": [
       "GridSearchCV(cv=10, estimator=LogisticRegression(max_iter=5000),\n",
       "             param_grid={'C': [0.001, 0.01, 0.1, 1, 10, 30, 50, 100, 100],\n",
       "                         'solver': ['lbfgs', 'sag', 'newton-cg', 'liblinear']})"
      ]
     },
     "execution_count": 8,
     "metadata": {},
     "output_type": "execute_result"
    }
   ],
   "source": [
    "C_l = [0.001, 0.01, 0.1, 1, 10, 30, 50, 100, 100]\n",
    "\n",
    "param_grid = {'C': C_l,\n",
    "             'solver':['lbfgs', 'sag', 'newton-cg','liblinear'],}\n",
    "\n",
    "search = GridSearchCV(LogisticRegression(max_iter=5000), \n",
    "                      param_grid,\n",
    "                      cv=10,\n",
    "                      refit=True)\n",
    "\n",
    "search.fit(X_train, y_train)"
   ]
  },
  {
   "cell_type": "code",
   "execution_count": 9,
   "id": "a623af26",
   "metadata": {
    "execution": {
     "iopub.execute_input": "2023-01-26T13:47:20.799886Z",
     "iopub.status.busy": "2023-01-26T13:47:20.799317Z",
     "iopub.status.idle": "2023-01-26T13:47:20.808366Z",
     "shell.execute_reply": "2023-01-26T13:47:20.807034Z"
    },
    "papermill": {
     "duration": 0.02088,
     "end_time": "2023-01-26T13:47:20.811110",
     "exception": false,
     "start_time": "2023-01-26T13:47:20.790230",
     "status": "completed"
    },
    "tags": []
   },
   "outputs": [
    {
     "name": "stdout",
     "output_type": "stream",
     "text": [
      "Tuned Hyperparameters : {'C': 30, 'solver': 'liblinear'}\n",
      "Accuracy : 0.8073786364645791\n"
     ]
    }
   ],
   "source": [
    "print(\"Tuned Hyperparameters :\", search.best_params_)\n",
    "print(\"Accuracy :\",search.best_score_)"
   ]
  },
  {
   "cell_type": "code",
   "execution_count": 10,
   "id": "b71b1cae",
   "metadata": {
    "execution": {
     "iopub.execute_input": "2023-01-26T13:47:20.823826Z",
     "iopub.status.busy": "2023-01-26T13:47:20.823440Z",
     "iopub.status.idle": "2023-01-26T13:47:20.878143Z",
     "shell.execute_reply": "2023-01-26T13:47:20.877173Z"
    },
    "papermill": {
     "duration": 0.063561,
     "end_time": "2023-01-26T13:47:20.880803",
     "exception": false,
     "start_time": "2023-01-26T13:47:20.817242",
     "status": "completed"
    },
    "tags": []
   },
   "outputs": [],
   "source": [
    "model = LogisticRegression(C=100,solver='liblinear', max_iter=5000).fit(X_train, y_train)"
   ]
  },
  {
   "cell_type": "code",
   "execution_count": 11,
   "id": "e05228af",
   "metadata": {
    "execution": {
     "iopub.execute_input": "2023-01-26T13:47:20.892487Z",
     "iopub.status.busy": "2023-01-26T13:47:20.891701Z",
     "iopub.status.idle": "2023-01-26T13:47:20.903036Z",
     "shell.execute_reply": "2023-01-26T13:47:20.901772Z"
    },
    "papermill": {
     "duration": 0.020885,
     "end_time": "2023-01-26T13:47:20.906505",
     "exception": false,
     "start_time": "2023-01-26T13:47:20.885620",
     "status": "completed"
    },
    "tags": []
   },
   "outputs": [
    {
     "name": "stdout",
     "output_type": "stream",
     "text": [
      "|             |   precision |   recall |   f1-score |   support |\n",
      "|:------------|------------:|---------:|-----------:|----------:|\n",
      "| 0           |      0.8392 |   0.8875 |     0.8627 |  400.0000 |\n",
      "| 1           |      0.5714 |   0.4688 |     0.5150 |  128.0000 |\n",
      "| avg / total |      0.7743 |   0.7860 |     0.7784 |  528.0000 |\n"
     ]
    }
   ],
   "source": [
    "preds_test = model.predict(X_test)\n",
    "print(classification_report(y_test, preds_test)) # lol/ print и вывод консольный имеет разный способ вывода. забавно"
   ]
  },
  {
   "cell_type": "code",
   "execution_count": 12,
   "id": "c39bd47a",
   "metadata": {
    "execution": {
     "iopub.execute_input": "2023-01-26T13:47:20.923819Z",
     "iopub.status.busy": "2023-01-26T13:47:20.923285Z",
     "iopub.status.idle": "2023-01-26T13:47:20.930584Z",
     "shell.execute_reply": "2023-01-26T13:47:20.929286Z"
    },
    "papermill": {
     "duration": 0.01964,
     "end_time": "2023-01-26T13:47:20.933801",
     "exception": false,
     "start_time": "2023-01-26T13:47:20.914161",
     "status": "completed"
    },
    "tags": []
   },
   "outputs": [],
   "source": [
    "preds_submis = model.predict(X_submis)"
   ]
  },
  {
   "cell_type": "code",
   "execution_count": 13,
   "id": "3d33950f",
   "metadata": {
    "execution": {
     "iopub.execute_input": "2023-01-26T13:47:20.951195Z",
     "iopub.status.busy": "2023-01-26T13:47:20.950628Z",
     "iopub.status.idle": "2023-01-26T13:47:20.958542Z",
     "shell.execute_reply": "2023-01-26T13:47:20.957268Z"
    },
    "papermill": {
     "duration": 0.021993,
     "end_time": "2023-01-26T13:47:20.963485",
     "exception": false,
     "start_time": "2023-01-26T13:47:20.941492",
     "status": "completed"
    },
    "tags": []
   },
   "outputs": [
    {
     "name": "stdout",
     "output_type": "stream",
     "text": [
      "(1761,)\n"
     ]
    }
   ],
   "source": [
    "new_df = pd.DataFrame(preds_submis)\n",
    "print(preds_submis.shape)"
   ]
  },
  {
   "cell_type": "code",
   "execution_count": 14,
   "id": "4099d1b4",
   "metadata": {
    "execution": {
     "iopub.execute_input": "2023-01-26T13:47:20.981103Z",
     "iopub.status.busy": "2023-01-26T13:47:20.980553Z",
     "iopub.status.idle": "2023-01-26T13:47:20.995253Z",
     "shell.execute_reply": "2023-01-26T13:47:20.994008Z"
    },
    "papermill": {
     "duration": 0.02695,
     "end_time": "2023-01-26T13:47:20.998285",
     "exception": false,
     "start_time": "2023-01-26T13:47:20.971335",
     "status": "completed"
    },
    "tags": []
   },
   "outputs": [
    {
     "name": "stdout",
     "output_type": "stream",
     "text": [
      "Your submission was successfully saved!\n"
     ]
    }
   ],
   "source": [
    "submission[target_col] = new_df\n",
    "os.chdir('/kaggle/working/')\n",
    "submission.to_csv('submission_.csv', index=False)\n",
    "print(\"Your submission was successfully saved!\")"
   ]
  },
  {
   "cell_type": "code",
   "execution_count": 15,
   "id": "a2f28dfe",
   "metadata": {
    "execution": {
     "iopub.execute_input": "2023-01-26T13:47:21.017295Z",
     "iopub.status.busy": "2023-01-26T13:47:21.016728Z",
     "iopub.status.idle": "2023-01-26T13:47:21.022627Z",
     "shell.execute_reply": "2023-01-26T13:47:21.021378Z"
    },
    "papermill": {
     "duration": 0.01866,
     "end_time": "2023-01-26T13:47:21.026184",
     "exception": false,
     "start_time": "2023-01-26T13:47:21.007524",
     "status": "completed"
    },
    "tags": []
   },
   "outputs": [],
   "source": [
    "# обдолбанные мысли\n",
    "#модет сёрч не надо запускать для трейнинга?\n",
    "#может не нужно готовить данные для сёрча, если он прогоняет их серез свои эстиматоры\n",
    "#зачем тогда регрессия в сёрче\n",
    "#"
   ]
  }
 ],
 "metadata": {
  "kernelspec": {
   "display_name": "Python 3",
   "language": "python",
   "name": "python3"
  },
  "language_info": {
   "codemirror_mode": {
    "name": "ipython",
    "version": 3
   },
   "file_extension": ".py",
   "mimetype": "text/x-python",
   "name": "python",
   "nbconvert_exporter": "python",
   "pygments_lexer": "ipython3",
   "version": "3.7.12"
  },
  "papermill": {
   "default_parameters": {},
   "duration": 85.277482,
   "end_time": "2023-01-26T13:47:24.134777",
   "environment_variables": {},
   "exception": null,
   "input_path": "__notebook__.ipynb",
   "output_path": "__notebook__.ipynb",
   "parameters": {},
   "start_time": "2023-01-26T13:45:58.857295",
   "version": "2.3.4"
  }
 },
 "nbformat": 4,
 "nbformat_minor": 5
}
