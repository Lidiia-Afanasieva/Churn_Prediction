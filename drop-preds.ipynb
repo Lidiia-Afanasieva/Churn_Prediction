{
 "cells": [
  {
   "cell_type": "code",
   "execution_count": 1,
   "id": "7d7f2d7e",
   "metadata": {
    "execution": {
     "iopub.execute_input": "2023-01-20T08:26:13.918184Z",
     "iopub.status.busy": "2023-01-20T08:26:13.917677Z",
     "iopub.status.idle": "2023-01-20T08:26:15.238641Z",
     "shell.execute_reply": "2023-01-20T08:26:15.237493Z"
    },
    "papermill": {
     "duration": 1.331556,
     "end_time": "2023-01-20T08:26:15.241742",
     "exception": false,
     "start_time": "2023-01-20T08:26:13.910186",
     "status": "completed"
    },
    "tags": []
   },
   "outputs": [],
   "source": [
    "import os\n",
    "from sklearn.metrics import roc_auc_score\n",
    "import pandas as pd\n",
    "import numpy as np\n",
    "from matplotlib import pyplot as plt\n",
    "\n",
    "from sklearn.linear_model import LogisticRegression, LogisticRegressionCV\n",
    "from sklearn.model_selection import train_test_split, GridSearchCV\n",
    "from sklearn.preprocessing import StandardScaler, RobustScaler, LabelEncoder, OneHotEncoder\n",
    "from sklearn.pipeline import make_pipeline\n",
    "\n",
    "from sklearn.compose import ColumnTransformer\n",
    "from sklearn.pipeline import Pipeline\n",
    "from sklearn.impute import SimpleImputer\n",
    "\n",
    "from sklearn.metrics import confusion_matrix\n",
    "from sklearn.metrics import classification_report\n",
    "\n",
    "#for classification_report\n",
    "from sklearn.utils.multiclass import unique_labels\n",
    "from sklearn.metrics import precision_recall_fscore_support\n",
    "from tabulate import tabulate"
   ]
  },
  {
   "cell_type": "code",
   "execution_count": 2,
   "id": "8de178e2",
   "metadata": {
    "execution": {
     "iopub.execute_input": "2023-01-20T08:26:15.253006Z",
     "iopub.status.busy": "2023-01-20T08:26:15.252055Z",
     "iopub.status.idle": "2023-01-20T08:26:15.263884Z",
     "shell.execute_reply": "2023-01-20T08:26:15.262655Z"
    },
    "papermill": {
     "duration": 0.020228,
     "end_time": "2023-01-20T08:26:15.266645",
     "exception": false,
     "start_time": "2023-01-20T08:26:15.246417",
     "status": "completed"
    },
    "tags": []
   },
   "outputs": [],
   "source": [
    "def classification_report(y_true, y_pred, labels=None, \n",
    "                          target_names=['0', '1'],\n",
    "                          sample_weight=None, digits=4, tablfmt='pipe'):\n",
    "    \n",
    "    floatfmt = '.{:}f'.format(digits)\n",
    "    if labels is None:\n",
    "        labels = unique_labels(y_true, y_pred)\n",
    "    else:\n",
    "        labels = np.asarray(labels)\n",
    "\n",
    "    if target_names is not None and len(labels) != len(target_names):\n",
    "        print(\n",
    "            \"labels size, {0}, does not match size of target_names, {1}\"\n",
    "            .format(len(labels), len(target_names))\n",
    "        )\n",
    "\n",
    "    last_line_heading = 'avg / total'\n",
    "\n",
    "    if target_names is None:\n",
    "        target_names = [u'%s' % l for l in labels]\n",
    "\n",
    "    headers = [\"precision\", \"recall\", \"f1-score\", \"support\"]\n",
    "\n",
    "    p, r, f1, s = precision_recall_fscore_support(y_true, y_pred,\n",
    "                                                  labels=labels,\n",
    "                                                  average=None,\n",
    "                                                  sample_weight=sample_weight)\n",
    "\n",
    "    rows = zip(target_names, p, r, f1, s)\n",
    "    tbl_rows = []\n",
    "    for row in rows:\n",
    "        tbl_rows.append(row)\n",
    "\n",
    "    # compute averages\n",
    "    last_row = (last_line_heading,\n",
    "                np.average(p, weights=s),\n",
    "                np.average(r, weights=s),\n",
    "                np.average(f1, weights=s),\n",
    "                np.sum(s))\n",
    "    tbl_rows.append(last_row)\n",
    "    return tabulate(tbl_rows, headers=headers,\n",
    "                    tablefmt=tablfmt, floatfmt=floatfmt)"
   ]
  },
  {
   "cell_type": "code",
   "execution_count": 3,
   "id": "11ad8e36",
   "metadata": {
    "execution": {
     "iopub.execute_input": "2023-01-20T08:26:15.277858Z",
     "iopub.status.busy": "2023-01-20T08:26:15.277472Z",
     "iopub.status.idle": "2023-01-20T08:26:15.283588Z",
     "shell.execute_reply": "2023-01-20T08:26:15.282822Z"
    },
    "papermill": {
     "duration": 0.014254,
     "end_time": "2023-01-20T08:26:15.285679",
     "exception": false,
     "start_time": "2023-01-20T08:26:15.271425",
     "status": "completed"
    },
    "tags": []
   },
   "outputs": [],
   "source": [
    "# Числовые признаки\n",
    "num_cols = [\n",
    "    'ClientPeriod',\n",
    "    'MonthlySpending',\n",
    "    'TotalSpent'\n",
    "]\n",
    "\n",
    "# Категориальные признаки\n",
    "cat_cols = [\n",
    "    'Sex',\n",
    "    'IsSeniorCitizen',\n",
    "    'HasPartner',\n",
    "    'HasChild',\n",
    "    'HasPhoneService',\n",
    "    'HasMultiplePhoneNumbers',\n",
    "    'HasInternetService',\n",
    "    'HasOnlineSecurityService',\n",
    "    'HasOnlineBackup',\n",
    "    'HasDeviceProtection',\n",
    "    'HasTechSupportAccess',\n",
    "    'HasOnlineTV',\n",
    "    'HasMovieSubscription',\n",
    "    'HasContractPhone',\n",
    "    'IsBillingPaperless',\n",
    "    'PaymentMethod'\n",
    "]\n",
    "\n",
    "no_cat = [\n",
    "    'ClientPeriod',\n",
    "    'MonthlySpending',\n",
    "    'TotalSpent',\n",
    "    'Churn'\n",
    "]\n",
    "\n",
    "feature_cols = num_cols + cat_cols\n",
    "col_count = len(feature_cols)\n",
    "unique_cat = []\n",
    "target_col = 'Churn'\n",
    "error_col = 'TotalSpent'"
   ]
  },
  {
   "cell_type": "code",
   "execution_count": 4,
   "id": "c1df7f38",
   "metadata": {
    "execution": {
     "iopub.execute_input": "2023-01-20T08:26:15.296447Z",
     "iopub.status.busy": "2023-01-20T08:26:15.296042Z",
     "iopub.status.idle": "2023-01-20T08:26:15.301987Z",
     "shell.execute_reply": "2023-01-20T08:26:15.300774Z"
    },
    "papermill": {
     "duration": 0.014173,
     "end_time": "2023-01-20T08:26:15.304378",
     "exception": false,
     "start_time": "2023-01-20T08:26:15.290205",
     "status": "completed"
    },
    "tags": []
   },
   "outputs": [],
   "source": [
    "def get_unique_cat(df, cat_cols):\n",
    "    \n",
    "    global unique_cat\n",
    "    unique_cat = [] #debag\n",
    "    \n",
    "    for col in cat_cols:\n",
    "        unique_cat += [f'{col}_{item}' for item, cat in enumerate(list(df[col].unique()))]\n",
    "    \n",
    "    return unique_cat\n",
    "# len(list(df[col].unique()))"
   ]
  },
  {
   "cell_type": "code",
   "execution_count": 5,
   "id": "139f9826",
   "metadata": {
    "execution": {
     "iopub.execute_input": "2023-01-20T08:26:15.315714Z",
     "iopub.status.busy": "2023-01-20T08:26:15.314667Z",
     "iopub.status.idle": "2023-01-20T08:26:15.320920Z",
     "shell.execute_reply": "2023-01-20T08:26:15.319735Z"
    },
    "papermill": {
     "duration": 0.014587,
     "end_time": "2023-01-20T08:26:15.323486",
     "exception": false,
     "start_time": "2023-01-20T08:26:15.308899",
     "status": "completed"
    },
    "tags": []
   },
   "outputs": [],
   "source": [
    "def df_constructor(main_df, encode_arr, cols):\n",
    "    global num_cols\n",
    "    \n",
    "    df_encoded = pd.DataFrame(encode_arr, columns=cols)\n",
    "    \n",
    "    main_df = main_df[no_cat].reset_index(drop=True)\n",
    "    full_df = main_df.join(df_encoded)\n",
    "    return full_df"
   ]
  },
  {
   "cell_type": "code",
   "execution_count": 6,
   "id": "802659b9",
   "metadata": {
    "execution": {
     "iopub.execute_input": "2023-01-20T08:26:15.334019Z",
     "iopub.status.busy": "2023-01-20T08:26:15.333645Z",
     "iopub.status.idle": "2023-01-20T08:26:15.393310Z",
     "shell.execute_reply": "2023-01-20T08:26:15.392208Z"
    },
    "papermill": {
     "duration": 0.06799,
     "end_time": "2023-01-20T08:26:15.396014",
     "exception": false,
     "start_time": "2023-01-20T08:26:15.328024",
     "status": "completed"
    },
    "tags": []
   },
   "outputs": [],
   "source": [
    "# DATA IMPORT\n",
    "\n",
    "data = pd.read_csv('/kaggle/input/advanced-dls-spring-2021/train.csv')\n",
    "# похоже в этом столбце некорректный формат данных\n",
    "data[error_col] =  pd.to_numeric(data[error_col], errors='coerce')"
   ]
  },
  {
   "cell_type": "code",
   "execution_count": 7,
   "id": "af219394",
   "metadata": {
    "execution": {
     "iopub.execute_input": "2023-01-20T08:26:15.407041Z",
     "iopub.status.busy": "2023-01-20T08:26:15.406663Z",
     "iopub.status.idle": "2023-01-20T08:26:15.422994Z",
     "shell.execute_reply": "2023-01-20T08:26:15.422097Z"
    },
    "papermill": {
     "duration": 0.024971,
     "end_time": "2023-01-20T08:26:15.425550",
     "exception": false,
     "start_time": "2023-01-20T08:26:15.400579",
     "status": "completed"
    },
    "tags": []
   },
   "outputs": [],
   "source": [
    "# DATASET SPLIT\n",
    "\n",
    "y = data[target_col]\n",
    "\n",
    "features_list = list(data)\n",
    "features_list.remove(target_col)\n",
    "\n",
    "X = data[features_list]\n",
    "X_train, X_test, y_train, y_test = train_test_split(X, y, \n",
    "                                                    train_size=0.9,\n",
    "                                                    random_state=42)\n",
    "\n",
    "# X_submis = X_submis.to_numpy()"
   ]
  },
  {
   "cell_type": "code",
   "execution_count": 8,
   "id": "595fc553",
   "metadata": {
    "execution": {
     "iopub.execute_input": "2023-01-20T08:26:15.436402Z",
     "iopub.status.busy": "2023-01-20T08:26:15.436040Z",
     "iopub.status.idle": "2023-01-20T08:26:27.317800Z",
     "shell.execute_reply": "2023-01-20T08:26:27.316357Z"
    },
    "papermill": {
     "duration": 11.890791,
     "end_time": "2023-01-20T08:26:27.320975",
     "exception": false,
     "start_time": "2023-01-20T08:26:15.430184",
     "status": "completed"
    },
    "tags": []
   },
   "outputs": [
    {
     "data": {
      "text/plain": [
       "GridSearchCV(cv=10,\n",
       "             estimator=Pipeline(steps=[('preprocessor',\n",
       "                                        ColumnTransformer(transformers=[('num',\n",
       "                                                                         Pipeline(steps=[('imputer',\n",
       "                                                                                          SimpleImputer(strategy='median')),\n",
       "                                                                                         ('numerical',\n",
       "                                                                                          StandardScaler())]),\n",
       "                                                                         ['ClientPeriod',\n",
       "                                                                          'MonthlySpending',\n",
       "                                                                          'TotalSpent']),\n",
       "                                                                        ('cat',\n",
       "                                                                         Pipeline(steps=[('encoding',\n",
       "                                                                                          LabelEncoder()),\n",
       "                                                                                         ('onehot',\n",
       "                                                                                          OneHotEncoder(handle_unknown='ignore'))]),\n",
       "                                                                         [])])),\n",
       "                                       ('logreg', LogisticRegression())]),\n",
       "             param_grid={'logreg__C': [100, 10, 1, 0.1, 0.01, 0.001],\n",
       "                         'logreg__class_weight': [None, 'balanced'],\n",
       "                         'preprocessor__num__imputer__strategy': ['mean',\n",
       "                                                                  'median']},\n",
       "             scoring='roc_auc')"
      ]
     },
     "execution_count": 8,
     "metadata": {},
     "output_type": "execute_result"
    }
   ],
   "source": [
    "# DATA ENCODING\n",
    "\n",
    "C_l = [100, 10, 1, 0.1, 0.01, 0.001]\n",
    "\n",
    "param_grid = {\n",
    "    'logreg__class_weight':[None, 'balanced'],\n",
    "    'logreg__C':C_l,\n",
    "    'preprocessor__num__imputer__strategy':['mean','median']\n",
    "#     'logreg__C': C_l,\n",
    "#     'solver':['lbfgs', 'sag', 'newton-cg','liblinear'],\n",
    "}\n",
    "\n",
    "num_features = num_cols\n",
    "\n",
    "# preprocessing pipline for numeric data\n",
    "num_transformer = Pipeline(steps=[\n",
    "    ('imputer', SimpleImputer(strategy='median')),\n",
    "    ('numerical', StandardScaler())])\n",
    "\n",
    "categorical_features = unique_cat\n",
    "\n",
    "# preprocessing pipline for categorical data\n",
    "categorical_transformer = Pipeline(steps=[\n",
    "    ('encoding', LabelEncoder()),\n",
    "    ('onehot', OneHotEncoder(handle_unknown='ignore'))\n",
    "    ])\n",
    "\n",
    "# использует трансвормеры на отдельных колонках\n",
    "preprocessor = ColumnTransformer(\n",
    "    transformers=[\n",
    "        ('num', num_transformer, num_features),\n",
    "        ('cat', categorical_transformer, categorical_features)])\n",
    "\n",
    "\n",
    "pipe =  Pipeline(steps=[('preprocessor', preprocessor),\n",
    "                   (\"logreg\", LogisticRegression())\n",
    "                   ])\n",
    "\n",
    "# pipe.fit(X_train, y_train)\n",
    "\n",
    "search = GridSearchCV(pipe, \n",
    "                      param_grid,\n",
    "                      scoring='roc_auc',\n",
    "                      cv=10,\n",
    "                      refit=True)\n",
    "\n",
    "search.fit(X_train, y_train)"
   ]
  },
  {
   "cell_type": "code",
   "execution_count": 9,
   "id": "f8dae7a6",
   "metadata": {
    "execution": {
     "iopub.execute_input": "2023-01-20T08:26:27.335026Z",
     "iopub.status.busy": "2023-01-20T08:26:27.333673Z",
     "iopub.status.idle": "2023-01-20T08:26:27.342454Z",
     "shell.execute_reply": "2023-01-20T08:26:27.341345Z"
    },
    "papermill": {
     "duration": 0.017985,
     "end_time": "2023-01-20T08:26:27.344642",
     "exception": false,
     "start_time": "2023-01-20T08:26:27.326657",
     "status": "completed"
    },
    "tags": []
   },
   "outputs": [
    {
     "data": {
      "text/plain": [
       "dict_keys(['memory', 'steps', 'verbose', 'preprocessor', 'logreg', 'preprocessor__n_jobs', 'preprocessor__remainder', 'preprocessor__sparse_threshold', 'preprocessor__transformer_weights', 'preprocessor__transformers', 'preprocessor__verbose', 'preprocessor__verbose_feature_names_out', 'preprocessor__num', 'preprocessor__cat', 'preprocessor__num__memory', 'preprocessor__num__steps', 'preprocessor__num__verbose', 'preprocessor__num__imputer', 'preprocessor__num__numerical', 'preprocessor__num__imputer__add_indicator', 'preprocessor__num__imputer__copy', 'preprocessor__num__imputer__fill_value', 'preprocessor__num__imputer__missing_values', 'preprocessor__num__imputer__strategy', 'preprocessor__num__imputer__verbose', 'preprocessor__num__numerical__copy', 'preprocessor__num__numerical__with_mean', 'preprocessor__num__numerical__with_std', 'preprocessor__cat__memory', 'preprocessor__cat__steps', 'preprocessor__cat__verbose', 'preprocessor__cat__encoding', 'preprocessor__cat__onehot', 'preprocessor__cat__onehot__categories', 'preprocessor__cat__onehot__drop', 'preprocessor__cat__onehot__dtype', 'preprocessor__cat__onehot__handle_unknown', 'preprocessor__cat__onehot__sparse', 'logreg__C', 'logreg__class_weight', 'logreg__dual', 'logreg__fit_intercept', 'logreg__intercept_scaling', 'logreg__l1_ratio', 'logreg__max_iter', 'logreg__multi_class', 'logreg__n_jobs', 'logreg__penalty', 'logreg__random_state', 'logreg__solver', 'logreg__tol', 'logreg__verbose', 'logreg__warm_start'])"
      ]
     },
     "execution_count": 9,
     "metadata": {},
     "output_type": "execute_result"
    }
   ],
   "source": [
    "pipe.get_params().keys()"
   ]
  },
  {
   "cell_type": "code",
   "execution_count": 10,
   "id": "ecf2ead9",
   "metadata": {
    "execution": {
     "iopub.execute_input": "2023-01-20T08:26:27.356474Z",
     "iopub.status.busy": "2023-01-20T08:26:27.356018Z",
     "iopub.status.idle": "2023-01-20T08:26:27.362597Z",
     "shell.execute_reply": "2023-01-20T08:26:27.361396Z"
    },
    "papermill": {
     "duration": 0.015275,
     "end_time": "2023-01-20T08:26:27.365051",
     "exception": false,
     "start_time": "2023-01-20T08:26:27.349776",
     "status": "completed"
    },
    "tags": []
   },
   "outputs": [
    {
     "name": "stdout",
     "output_type": "stream",
     "text": [
      "Tuned Hyperparameters : {'logreg__C': 100, 'logreg__class_weight': 'balanced', 'preprocessor__num__imputer__strategy': 'median'}\n",
      "Accuracy : 0.8095276373232503\n"
     ]
    }
   ],
   "source": [
    "print(\"Tuned Hyperparameters :\", search.best_params_)\n",
    "print(\"Accuracy :\",search.best_score_)"
   ]
  },
  {
   "cell_type": "code",
   "execution_count": 11,
   "id": "bc674955",
   "metadata": {
    "execution": {
     "iopub.execute_input": "2023-01-20T08:26:27.377276Z",
     "iopub.status.busy": "2023-01-20T08:26:27.376687Z",
     "iopub.status.idle": "2023-01-20T08:26:27.389721Z",
     "shell.execute_reply": "2023-01-20T08:26:27.388497Z"
    },
    "papermill": {
     "duration": 0.021752,
     "end_time": "2023-01-20T08:26:27.391938",
     "exception": false,
     "start_time": "2023-01-20T08:26:27.370186",
     "status": "completed"
    },
    "tags": []
   },
   "outputs": [
    {
     "name": "stdout",
     "output_type": "stream",
     "text": [
      "model score: 0.747\n"
     ]
    }
   ],
   "source": [
    "print(\"model score: %.3f\" % search.score(X_test, y_test))"
   ]
  },
  {
   "cell_type": "code",
   "execution_count": 12,
   "id": "5199f0c0",
   "metadata": {
    "execution": {
     "iopub.execute_input": "2023-01-20T08:26:27.404896Z",
     "iopub.status.busy": "2023-01-20T08:26:27.404174Z",
     "iopub.status.idle": "2023-01-20T08:26:27.446255Z",
     "shell.execute_reply": "2023-01-20T08:26:27.445373Z"
    },
    "papermill": {
     "duration": 0.051388,
     "end_time": "2023-01-20T08:26:27.448765",
     "exception": false,
     "start_time": "2023-01-20T08:26:27.397377",
     "status": "completed"
    },
    "tags": []
   },
   "outputs": [],
   "source": [
    "# test set download\n",
    "X_submis = pd.read_csv('/kaggle/input/advanced-dls-spring-2021/test.csv')\n",
    "X_submis[error_col] =  pd.to_numeric(X_submis[error_col], errors='coerce')\n",
    "median = X_submis[error_col].sum()//len(X_submis[error_col])\n",
    "X_submis = X_submis.fillna(median)\n",
    "\n",
    "submission = pd.read_csv('/kaggle/input/advanced-dls-spring-2021/submission.csv')"
   ]
  },
  {
   "cell_type": "code",
   "execution_count": 13,
   "id": "1a9ba1aa",
   "metadata": {
    "execution": {
     "iopub.execute_input": "2023-01-20T08:26:27.460550Z",
     "iopub.status.busy": "2023-01-20T08:26:27.460146Z",
     "iopub.status.idle": "2023-01-20T08:26:27.470972Z",
     "shell.execute_reply": "2023-01-20T08:26:27.469552Z"
    },
    "papermill": {
     "duration": 0.019794,
     "end_time": "2023-01-20T08:26:27.473764",
     "exception": false,
     "start_time": "2023-01-20T08:26:27.453970",
     "status": "completed"
    },
    "tags": []
   },
   "outputs": [],
   "source": [
    "preds_train = search.predict(X_submis)"
   ]
  },
  {
   "cell_type": "code",
   "execution_count": 14,
   "id": "17ed522c",
   "metadata": {
    "execution": {
     "iopub.execute_input": "2023-01-20T08:26:27.486165Z",
     "iopub.status.busy": "2023-01-20T08:26:27.485766Z",
     "iopub.status.idle": "2023-01-20T08:26:27.491764Z",
     "shell.execute_reply": "2023-01-20T08:26:27.490439Z"
    },
    "papermill": {
     "duration": 0.015502,
     "end_time": "2023-01-20T08:26:27.494708",
     "exception": false,
     "start_time": "2023-01-20T08:26:27.479206",
     "status": "completed"
    },
    "tags": []
   },
   "outputs": [
    {
     "name": "stdout",
     "output_type": "stream",
     "text": [
      "(1761,)\n"
     ]
    }
   ],
   "source": [
    "new_df = pd.DataFrame(preds_train)\n",
    "print(preds_train.shape)"
   ]
  },
  {
   "cell_type": "code",
   "execution_count": 15,
   "id": "33c635df",
   "metadata": {
    "execution": {
     "iopub.execute_input": "2023-01-20T08:26:27.507585Z",
     "iopub.status.busy": "2023-01-20T08:26:27.507166Z",
     "iopub.status.idle": "2023-01-20T08:26:27.519193Z",
     "shell.execute_reply": "2023-01-20T08:26:27.517823Z"
    },
    "papermill": {
     "duration": 0.020932,
     "end_time": "2023-01-20T08:26:27.521665",
     "exception": false,
     "start_time": "2023-01-20T08:26:27.500733",
     "status": "completed"
    },
    "tags": []
   },
   "outputs": [
    {
     "name": "stdout",
     "output_type": "stream",
     "text": [
      "Your submission was successfully saved!\n"
     ]
    }
   ],
   "source": [
    "submission[target_col] = new_df\n",
    "os.chdir('/kaggle/working/')\n",
    "submission.to_csv('submission_.csv', index=False)\n",
    "print(\"Your submission was successfully saved!\")"
   ]
  }
 ],
 "metadata": {
  "kernelspec": {
   "display_name": "Python 3",
   "language": "python",
   "name": "python3"
  },
  "language_info": {
   "codemirror_mode": {
    "name": "ipython",
    "version": 3
   },
   "file_extension": ".py",
   "mimetype": "text/x-python",
   "name": "python",
   "nbconvert_exporter": "python",
   "pygments_lexer": "ipython3",
   "version": "3.7.12"
  },
  "papermill": {
   "default_parameters": {},
   "duration": 23.010909,
   "end_time": "2023-01-20T08:26:28.248742",
   "environment_variables": {},
   "exception": null,
   "input_path": "__notebook__.ipynb",
   "output_path": "__notebook__.ipynb",
   "parameters": {},
   "start_time": "2023-01-20T08:26:05.237833",
   "version": "2.3.4"
  }
 },
 "nbformat": 4,
 "nbformat_minor": 5
}
