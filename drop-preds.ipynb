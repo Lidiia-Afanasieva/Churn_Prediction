{
 "cells": [
  {
   "cell_type": "code",
   "execution_count": 1,
   "id": "b317a713",
   "metadata": {
    "execution": {
     "iopub.execute_input": "2023-01-15T19:31:36.884256Z",
     "iopub.status.busy": "2023-01-15T19:31:36.883345Z",
     "iopub.status.idle": "2023-01-15T19:31:37.885223Z",
     "shell.execute_reply": "2023-01-15T19:31:37.884126Z"
    },
    "papermill": {
     "duration": 1.011997,
     "end_time": "2023-01-15T19:31:37.887970",
     "exception": false,
     "start_time": "2023-01-15T19:31:36.875973",
     "status": "completed"
    },
    "tags": []
   },
   "outputs": [],
   "source": [
    "import os\n",
    "from sklearn.metrics import roc_auc_score\n",
    "import pandas as pd\n",
    "import numpy as np\n",
    "from matplotlib import pyplot as plt\n",
    "\n",
    "from sklearn.linear_model import LogisticRegression, LogisticRegressionCV\n",
    "from sklearn.model_selection import train_test_split, GridSearchCV\n",
    "from sklearn.preprocessing import StandardScaler, RobustScaler, LabelEncoder, OneHotEncoder\n",
    "from sklearn.pipeline import make_pipeline\n",
    "\n",
    "from sklearn.preprocessing import OneHotEncoder"
   ]
  },
  {
   "cell_type": "code",
   "execution_count": 2,
   "id": "5e039907",
   "metadata": {
    "execution": {
     "iopub.execute_input": "2023-01-15T19:31:37.897267Z",
     "iopub.status.busy": "2023-01-15T19:31:37.896887Z",
     "iopub.status.idle": "2023-01-15T19:31:37.903987Z",
     "shell.execute_reply": "2023-01-15T19:31:37.902740Z"
    },
    "papermill": {
     "duration": 0.014936,
     "end_time": "2023-01-15T19:31:37.906823",
     "exception": false,
     "start_time": "2023-01-15T19:31:37.891887",
     "status": "completed"
    },
    "tags": []
   },
   "outputs": [],
   "source": [
    "# Числовые признаки\n",
    "num_cols = [\n",
    "    'ClientPeriod',\n",
    "    'MonthlySpending',\n",
    "    'TotalSpent'\n",
    "]\n",
    "\n",
    "# Категориальные признаки\n",
    "cat_cols = [\n",
    "    'Sex',\n",
    "    'IsSeniorCitizen',\n",
    "    'HasPartner',\n",
    "    'HasChild',\n",
    "    'HasPhoneService',\n",
    "    'HasMultiplePhoneNumbers',\n",
    "    'HasInternetService',\n",
    "    'HasOnlineSecurityService',\n",
    "    'HasOnlineBackup',\n",
    "    'HasDeviceProtection',\n",
    "    'HasTechSupportAccess',\n",
    "    'HasOnlineTV',\n",
    "    'HasMovieSubscription',\n",
    "    'HasContractPhone',\n",
    "    'IsBillingPaperless',\n",
    "    'PaymentMethod'\n",
    "]\n",
    "\n",
    "feature_cols = num_cols + cat_cols\n",
    "col_count = len(feature_cols)\n",
    "target_col = 'Churn'\n",
    "error_col = 'TotalSpent'"
   ]
  },
  {
   "cell_type": "code",
   "execution_count": 3,
   "id": "b6fbce97",
   "metadata": {
    "execution": {
     "iopub.execute_input": "2023-01-15T19:31:37.915547Z",
     "iopub.status.busy": "2023-01-15T19:31:37.915132Z",
     "iopub.status.idle": "2023-01-15T19:31:38.103300Z",
     "shell.execute_reply": "2023-01-15T19:31:38.102317Z"
    },
    "papermill": {
     "duration": 0.195731,
     "end_time": "2023-01-15T19:31:38.106140",
     "exception": false,
     "start_time": "2023-01-15T19:31:37.910409",
     "status": "completed"
    },
    "tags": []
   },
   "outputs": [],
   "source": [
    "# train set download\n",
    "data = pd.read_csv('/kaggle/input/advanced-dls-spring-2021/train.csv')\n",
    "data = data.dropna()\n",
    "\n",
    "# похоже в этом столбце некорректный формат данных\n",
    "data[error_col] =  pd.to_numeric(data[error_col], errors='coerce')\n",
    "data = data.dropna()\n",
    "\n",
    "# numeric data settings\n",
    "scaler = StandardScaler()\n",
    "data[num_cols] = scaler.fit_transform(data[num_cols])\n",
    "\n",
    "# categorical data settings\n",
    "data[cat_cols] = data[cat_cols].apply(LabelEncoder().fit_transform)\n",
    "data = pd.get_dummies(data, columns=cat_cols)\n",
    "\n",
    "# test set download\n",
    "X_submis = pd.read_csv('/kaggle/input/advanced-dls-spring-2021/test.csv')\n",
    "X_submis[error_col] =  pd.to_numeric(X_submis[error_col], errors='coerce')\n",
    "median = X_submis[error_col].sum()//len(X_submis[error_col])\n",
    "X_submis = X_submis.fillna(median)\n",
    "\n",
    "X_submis[cat_cols] = X_submis[cat_cols].apply(LabelEncoder().fit_transform)\n",
    "X_submis = pd.get_dummies(X_submis, columns=cat_cols)\n",
    "X_submis[num_cols] = scaler.fit_transform(X_submis[num_cols])\n",
    "\n",
    "submission = pd.read_csv('/kaggle/input/advanced-dls-spring-2021/submission.csv')"
   ]
  },
  {
   "cell_type": "code",
   "execution_count": 4,
   "id": "5b03305c",
   "metadata": {
    "execution": {
     "iopub.execute_input": "2023-01-15T19:31:38.115284Z",
     "iopub.status.busy": "2023-01-15T19:31:38.114860Z",
     "iopub.status.idle": "2023-01-15T19:31:38.129940Z",
     "shell.execute_reply": "2023-01-15T19:31:38.128787Z"
    },
    "papermill": {
     "duration": 0.022643,
     "end_time": "2023-01-15T19:31:38.132552",
     "exception": false,
     "start_time": "2023-01-15T19:31:38.109909",
     "status": "completed"
    },
    "tags": []
   },
   "outputs": [],
   "source": [
    "y = data[target_col]\n",
    "\n",
    "features_list = list(data)\n",
    "features_list.remove(target_col)\n",
    "\n",
    "X = data[features_list]\n",
    "X_train, X_test, y_train, y_test = train_test_split(X.values, y.values, \n",
    "                                                    train_size=0.8,\n",
    "                                                    random_state=42)\n",
    "\n",
    "X_submis = X_submis.to_numpy()"
   ]
  },
  {
   "cell_type": "code",
   "execution_count": 5,
   "id": "b928d77b",
   "metadata": {
    "execution": {
     "iopub.execute_input": "2023-01-15T19:31:38.141515Z",
     "iopub.status.busy": "2023-01-15T19:31:38.141113Z",
     "iopub.status.idle": "2023-01-15T19:31:41.845961Z",
     "shell.execute_reply": "2023-01-15T19:31:41.844855Z"
    },
    "papermill": {
     "duration": 3.713121,
     "end_time": "2023-01-15T19:31:41.849326",
     "exception": false,
     "start_time": "2023-01-15T19:31:38.136205",
     "status": "completed"
    },
    "tags": []
   },
   "outputs": [
    {
     "data": {
      "text/plain": [
       "Pipeline(steps=[('standardscaler', StandardScaler()),\n",
       "                ('gridsearchcv',\n",
       "                 GridSearchCV(cv=10, estimator=LogisticRegression(),\n",
       "                              param_grid={'C': [100, 10, 1, 0.1, 0.01]}))])"
      ]
     },
     "execution_count": 5,
     "metadata": {},
     "output_type": "execute_result"
    }
   ],
   "source": [
    "C_l = [100, 10, 1, 0.1, 0.01, 0.001]\n",
    "\n",
    "param_grid = {'C': [100, 10, 1, 0.1, 0.01]}\n",
    "\n",
    "search = GridSearchCV(LogisticRegression(), \n",
    "                      param_grid,\n",
    "                      cv=10,\n",
    "                      refit=True)\n",
    "\n",
    "pipe = make_pipeline(\n",
    "    # OneHotEncoder(handle_unknown='ignore'),\n",
    "    StandardScaler(),\n",
    "    search\n",
    ")\n",
    "pipe.fit(X_train, y_train)"
   ]
  },
  {
   "cell_type": "code",
   "execution_count": 6,
   "id": "bf22e5bc",
   "metadata": {
    "execution": {
     "iopub.execute_input": "2023-01-15T19:31:41.864133Z",
     "iopub.status.busy": "2023-01-15T19:31:41.862629Z",
     "iopub.status.idle": "2023-01-15T19:31:41.873419Z",
     "shell.execute_reply": "2023-01-15T19:31:41.872307Z"
    },
    "papermill": {
     "duration": 0.021207,
     "end_time": "2023-01-15T19:31:41.876838",
     "exception": false,
     "start_time": "2023-01-15T19:31:41.855631",
     "status": "completed"
    },
    "tags": []
   },
   "outputs": [],
   "source": [
    "preds_train = pipe.predict(X_test)"
   ]
  },
  {
   "cell_type": "code",
   "execution_count": 7,
   "id": "c1e145ef",
   "metadata": {
    "execution": {
     "iopub.execute_input": "2023-01-15T19:31:41.911743Z",
     "iopub.status.busy": "2023-01-15T19:31:41.911252Z",
     "iopub.status.idle": "2023-01-15T19:31:41.917661Z",
     "shell.execute_reply": "2023-01-15T19:31:41.916581Z"
    },
    "papermill": {
     "duration": 0.034172,
     "end_time": "2023-01-15T19:31:41.924913",
     "exception": false,
     "start_time": "2023-01-15T19:31:41.890741",
     "status": "completed"
    },
    "tags": []
   },
   "outputs": [
    {
     "name": "stdout",
     "output_type": "stream",
     "text": [
      "Tuned Hyperparameters : {'C': 100}\n",
      "Accuracy : 0.8044027422859138\n"
     ]
    }
   ],
   "source": [
    "print(\"Tuned Hyperparameters :\", search.best_params_)\n",
    "print(\"Accuracy :\",search.best_score_)"
   ]
  },
  {
   "cell_type": "code",
   "execution_count": 8,
   "id": "bbc17740",
   "metadata": {
    "execution": {
     "iopub.execute_input": "2023-01-15T19:31:41.969288Z",
     "iopub.status.busy": "2023-01-15T19:31:41.968784Z",
     "iopub.status.idle": "2023-01-15T19:31:41.977112Z",
     "shell.execute_reply": "2023-01-15T19:31:41.976094Z"
    },
    "papermill": {
     "duration": 0.031578,
     "end_time": "2023-01-15T19:31:41.980655",
     "exception": false,
     "start_time": "2023-01-15T19:31:41.949077",
     "status": "completed"
    },
    "tags": []
   },
   "outputs": [],
   "source": [
    "preds_test = pipe.predict(X_submis)"
   ]
  },
  {
   "cell_type": "code",
   "execution_count": 9,
   "id": "8e72848d",
   "metadata": {
    "execution": {
     "iopub.execute_input": "2023-01-15T19:31:42.013909Z",
     "iopub.status.busy": "2023-01-15T19:31:42.013319Z",
     "iopub.status.idle": "2023-01-15T19:31:42.020382Z",
     "shell.execute_reply": "2023-01-15T19:31:42.019389Z"
    },
    "papermill": {
     "duration": 0.033567,
     "end_time": "2023-01-15T19:31:42.030149",
     "exception": false,
     "start_time": "2023-01-15T19:31:41.996582",
     "status": "completed"
    },
    "tags": []
   },
   "outputs": [
    {
     "name": "stdout",
     "output_type": "stream",
     "text": [
      "(1761,)\n"
     ]
    }
   ],
   "source": [
    "new_df = pd.DataFrame(preds_test)\n",
    "print(preds_test.shape)"
   ]
  },
  {
   "cell_type": "code",
   "execution_count": 10,
   "id": "85da0494",
   "metadata": {
    "collapsed": true,
    "execution": {
     "iopub.execute_input": "2023-01-15T19:31:42.066032Z",
     "iopub.status.busy": "2023-01-15T19:31:42.065521Z",
     "iopub.status.idle": "2023-01-15T19:31:42.070786Z",
     "shell.execute_reply": "2023-01-15T19:31:42.069727Z"
    },
    "jupyter": {
     "outputs_hidden": true
    },
    "papermill": {
     "duration": 0.032478,
     "end_time": "2023-01-15T19:31:42.081141",
     "exception": false,
     "start_time": "2023-01-15T19:31:42.048663",
     "status": "completed"
    },
    "tags": []
   },
   "outputs": [],
   "source": [
    "# submission['#']"
   ]
  },
  {
   "cell_type": "code",
   "execution_count": 11,
   "id": "5fc63ef2",
   "metadata": {
    "execution": {
     "iopub.execute_input": "2023-01-15T19:31:42.102593Z",
     "iopub.status.busy": "2023-01-15T19:31:42.101194Z",
     "iopub.status.idle": "2023-01-15T19:31:42.117403Z",
     "shell.execute_reply": "2023-01-15T19:31:42.116225Z"
    },
    "papermill": {
     "duration": 0.025444,
     "end_time": "2023-01-15T19:31:42.120900",
     "exception": false,
     "start_time": "2023-01-15T19:31:42.095456",
     "status": "completed"
    },
    "tags": []
   },
   "outputs": [
    {
     "name": "stdout",
     "output_type": "stream",
     "text": [
      "Your submission was successfully saved!\n"
     ]
    }
   ],
   "source": [
    "submission[target_col] = new_df\n",
    "os.chdir('/kaggle/working/')\n",
    "submission.to_csv('submission_.csv', index=False)\n",
    "print(\"Your submission was successfully saved!\")"
   ]
  }
 ],
 "metadata": {
  "kernelspec": {
   "display_name": "Python 3",
   "language": "python",
   "name": "python3"
  },
  "language_info": {
   "codemirror_mode": {
    "name": "ipython",
    "version": 3
   },
   "file_extension": ".py",
   "mimetype": "text/x-python",
   "name": "python",
   "nbconvert_exporter": "python",
   "pygments_lexer": "ipython3",
   "version": "3.7.12"
  },
  "papermill": {
   "default_parameters": {},
   "duration": 15.424851,
   "end_time": "2023-01-15T19:31:42.847307",
   "environment_variables": {},
   "exception": null,
   "input_path": "__notebook__.ipynb",
   "output_path": "__notebook__.ipynb",
   "parameters": {},
   "start_time": "2023-01-15T19:31:27.422456",
   "version": "2.3.4"
  }
 },
 "nbformat": 4,
 "nbformat_minor": 5
}
