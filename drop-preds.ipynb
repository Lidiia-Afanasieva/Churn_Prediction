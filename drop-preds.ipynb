{
 "cells": [
  {
   "cell_type": "code",
   "execution_count": 1,
   "id": "7c40cfa5",
   "metadata": {
    "execution": {
     "iopub.execute_input": "2023-01-18T13:06:02.461509Z",
     "iopub.status.busy": "2023-01-18T13:06:02.461071Z",
     "iopub.status.idle": "2023-01-18T13:06:03.638393Z",
     "shell.execute_reply": "2023-01-18T13:06:03.637170Z"
    },
    "papermill": {
     "duration": 1.186766,
     "end_time": "2023-01-18T13:06:03.641055",
     "exception": false,
     "start_time": "2023-01-18T13:06:02.454289",
     "status": "completed"
    },
    "tags": []
   },
   "outputs": [],
   "source": [
    "import os\n",
    "from sklearn.metrics import roc_auc_score\n",
    "import pandas as pd\n",
    "import numpy as np\n",
    "from matplotlib import pyplot as plt\n",
    "\n",
    "from sklearn.linear_model import LogisticRegression, LogisticRegressionCV\n",
    "from sklearn.model_selection import train_test_split, GridSearchCV\n",
    "from sklearn.preprocessing import StandardScaler, RobustScaler, LabelEncoder, OneHotEncoder\n",
    "from sklearn.pipeline import make_pipeline\n",
    "\n",
    "from sklearn.preprocessing import OneHotEncoder"
   ]
  },
  {
   "cell_type": "code",
   "execution_count": 2,
   "id": "6167657a",
   "metadata": {
    "execution": {
     "iopub.execute_input": "2023-01-18T13:06:03.651886Z",
     "iopub.status.busy": "2023-01-18T13:06:03.651540Z",
     "iopub.status.idle": "2023-01-18T13:06:03.658556Z",
     "shell.execute_reply": "2023-01-18T13:06:03.657268Z"
    },
    "papermill": {
     "duration": 0.014964,
     "end_time": "2023-01-18T13:06:03.660892",
     "exception": false,
     "start_time": "2023-01-18T13:06:03.645928",
     "status": "completed"
    },
    "tags": []
   },
   "outputs": [],
   "source": [
    "# Числовые признаки\n",
    "num_cols = [\n",
    "    'ClientPeriod',\n",
    "    'MonthlySpending',\n",
    "    'TotalSpent'\n",
    "]\n",
    "\n",
    "# Категориальные признаки\n",
    "cat_cols = [\n",
    "    'Sex',\n",
    "    'IsSeniorCitizen',\n",
    "    'HasPartner',\n",
    "    'HasChild',\n",
    "    'HasPhoneService',\n",
    "    'HasMultiplePhoneNumbers',\n",
    "    'HasInternetService',\n",
    "    'HasOnlineSecurityService',\n",
    "    'HasOnlineBackup',\n",
    "    'HasDeviceProtection',\n",
    "    'HasTechSupportAccess',\n",
    "    'HasOnlineTV',\n",
    "    'HasMovieSubscription',\n",
    "    'HasContractPhone',\n",
    "    'IsBillingPaperless',\n",
    "    'PaymentMethod'\n",
    "]\n",
    "\n",
    "no_cat = [\n",
    "    'ClientPeriod',\n",
    "    'MonthlySpending',\n",
    "    'TotalSpent',\n",
    "    'Churn'\n",
    "]\n",
    "\n",
    "feature_cols = num_cols + cat_cols\n",
    "col_count = len(feature_cols)\n",
    "unique_cat = []\n",
    "target_col = 'Churn'\n",
    "error_col = 'TotalSpent'"
   ]
  },
  {
   "cell_type": "code",
   "execution_count": 3,
   "id": "0e86069c",
   "metadata": {
    "execution": {
     "iopub.execute_input": "2023-01-18T13:06:03.671841Z",
     "iopub.status.busy": "2023-01-18T13:06:03.671437Z",
     "iopub.status.idle": "2023-01-18T13:06:03.677385Z",
     "shell.execute_reply": "2023-01-18T13:06:03.675511Z"
    },
    "papermill": {
     "duration": 0.014414,
     "end_time": "2023-01-18T13:06:03.680083",
     "exception": false,
     "start_time": "2023-01-18T13:06:03.665669",
     "status": "completed"
    },
    "tags": []
   },
   "outputs": [],
   "source": [
    "# GET_DUMMIES VERSION\n",
    "\n",
    "# # train set download\n",
    "# data = pd.read_csv('/kaggle/input/advanced-dls-spring-2021/train.csv')\n",
    "# data = data.dropna()\n",
    "\n",
    "# # похоже в этом столбце некорректный формат данных\n",
    "# data[error_col] =  pd.to_numeric(data[error_col], errors='coerce')\n",
    "# data = data.dropna()\n",
    "\n",
    "# # numeric data settings\n",
    "# scaler = StandardScaler()\n",
    "# data[num_cols] = scaler.fit_transform(data[num_cols])\n",
    "\n",
    "# # categorical data settings\n",
    "# data[cat_cols] = data[cat_cols].apply(LabelEncoder().fit_transform)\n",
    "# data = pd.get_dummies(data, columns=cat_cols)\n",
    "\n",
    "# # test set download\n",
    "# X_submis = pd.read_csv('/kaggle/input/advanced-dls-spring-2021/test.csv')\n",
    "# X_submis[error_col] =  pd.to_numeric(X_submis[error_col], errors='coerce')\n",
    "# median = X_submis[error_col].sum()//len(X_submis[error_col])\n",
    "# X_submis = X_submis.fillna(median)\n",
    "\n",
    "# X_submis[cat_cols] = X_submis[cat_cols].apply(LabelEncoder().fit_transform)\n",
    "# X_submis = pd.get_dummies(X_submis, columns=cat_cols)\n",
    "# X_submis[num_cols] = scaler.fit_transform(X_submis[num_cols])\n",
    "\n",
    "# submission = pd.read_csv('/kaggle/input/advanced-dls-spring-2021/submission.csv')"
   ]
  },
  {
   "cell_type": "code",
   "execution_count": 4,
   "id": "ec7a3b9b",
   "metadata": {
    "execution": {
     "iopub.execute_input": "2023-01-18T13:06:03.691229Z",
     "iopub.status.busy": "2023-01-18T13:06:03.690378Z",
     "iopub.status.idle": "2023-01-18T13:06:03.693865Z",
     "shell.execute_reply": "2023-01-18T13:06:03.693285Z"
    },
    "papermill": {
     "duration": 0.01114,
     "end_time": "2023-01-18T13:06:03.695916",
     "exception": false,
     "start_time": "2023-01-18T13:06:03.684776",
     "status": "completed"
    },
    "tags": []
   },
   "outputs": [],
   "source": [
    "# # DEBAG CELL\n",
    "\n",
    "# # train set download\n",
    "# data = pd.read_csv('/kaggle/input/advanced-dls-spring-2021/train.csv')\n",
    "# data = data.dropna()"
   ]
  },
  {
   "cell_type": "code",
   "execution_count": 5,
   "id": "500e2609",
   "metadata": {
    "execution": {
     "iopub.execute_input": "2023-01-18T13:06:03.707223Z",
     "iopub.status.busy": "2023-01-18T13:06:03.706765Z",
     "iopub.status.idle": "2023-01-18T13:06:03.710904Z",
     "shell.execute_reply": "2023-01-18T13:06:03.710234Z"
    },
    "papermill": {
     "duration": 0.011735,
     "end_time": "2023-01-18T13:06:03.712588",
     "exception": false,
     "start_time": "2023-01-18T13:06:03.700853",
     "status": "completed"
    },
    "tags": []
   },
   "outputs": [],
   "source": [
    "# data"
   ]
  },
  {
   "cell_type": "code",
   "execution_count": 6,
   "id": "ff7f2d25",
   "metadata": {
    "execution": {
     "iopub.execute_input": "2023-01-18T13:06:03.723809Z",
     "iopub.status.busy": "2023-01-18T13:06:03.723293Z",
     "iopub.status.idle": "2023-01-18T13:06:03.727333Z",
     "shell.execute_reply": "2023-01-18T13:06:03.725826Z"
    },
    "papermill": {
     "duration": 0.012591,
     "end_time": "2023-01-18T13:06:03.729909",
     "exception": false,
     "start_time": "2023-01-18T13:06:03.717318",
     "status": "completed"
    },
    "tags": []
   },
   "outputs": [],
   "source": [
    "# # DEBAG CELL\n",
    "\n",
    "# data[cat_cols]"
   ]
  },
  {
   "cell_type": "code",
   "execution_count": 7,
   "id": "e0bf681d",
   "metadata": {
    "execution": {
     "iopub.execute_input": "2023-01-18T13:06:03.740779Z",
     "iopub.status.busy": "2023-01-18T13:06:03.740414Z",
     "iopub.status.idle": "2023-01-18T13:06:03.745949Z",
     "shell.execute_reply": "2023-01-18T13:06:03.745128Z"
    },
    "papermill": {
     "duration": 0.013116,
     "end_time": "2023-01-18T13:06:03.747789",
     "exception": false,
     "start_time": "2023-01-18T13:06:03.734673",
     "status": "completed"
    },
    "tags": []
   },
   "outputs": [],
   "source": [
    "def get_unique_cat(df, cat_cols):\n",
    "    \n",
    "    global unique_cat\n",
    "    unique_cat = [] #debag\n",
    "    \n",
    "    for col in cat_cols:\n",
    "        unique_cat += [f'{col}_{item}' for item, cat in enumerate(list(df[col].unique()))]\n",
    "    \n",
    "    return unique_cat\n",
    "# len(list(df[col].unique()))"
   ]
  },
  {
   "cell_type": "code",
   "execution_count": 8,
   "id": "05eac913",
   "metadata": {
    "execution": {
     "iopub.execute_input": "2023-01-18T13:06:03.758983Z",
     "iopub.status.busy": "2023-01-18T13:06:03.758118Z",
     "iopub.status.idle": "2023-01-18T13:06:03.763992Z",
     "shell.execute_reply": "2023-01-18T13:06:03.762662Z"
    },
    "papermill": {
     "duration": 0.013911,
     "end_time": "2023-01-18T13:06:03.766297",
     "exception": false,
     "start_time": "2023-01-18T13:06:03.752386",
     "status": "completed"
    },
    "tags": []
   },
   "outputs": [],
   "source": [
    "def df_constructor(main_df, encode_arr, cols):\n",
    "    global num_cols\n",
    "    \n",
    "    df_encoded = pd.DataFrame(encode_arr, columns=cols)\n",
    "    \n",
    "    main_df = main_df[no_cat].reset_index(drop=True)\n",
    "    full_df = main_df.join(df_encoded)\n",
    "    return full_df"
   ]
  },
  {
   "cell_type": "code",
   "execution_count": 9,
   "id": "b5a53a16",
   "metadata": {
    "execution": {
     "iopub.execute_input": "2023-01-18T13:06:03.777364Z",
     "iopub.status.busy": "2023-01-18T13:06:03.776731Z",
     "iopub.status.idle": "2023-01-18T13:06:03.963725Z",
     "shell.execute_reply": "2023-01-18T13:06:03.962660Z"
    },
    "papermill": {
     "duration": 0.195459,
     "end_time": "2023-01-18T13:06:03.966406",
     "exception": false,
     "start_time": "2023-01-18T13:06:03.770947",
     "status": "completed"
    },
    "tags": []
   },
   "outputs": [],
   "source": [
    "# ONE_HOT_ENCODE + INDEX UPDATE VERSION\n",
    "\n",
    "# train set download\n",
    "data = pd.read_csv('/kaggle/input/advanced-dls-spring-2021/train.csv')\n",
    "\n",
    "# похоже в этом столбце некорректный формат данных\n",
    "data[error_col] =  pd.to_numeric(data[error_col], errors='coerce')\n",
    "data = data.dropna()\n",
    "\n",
    "# numeric data settings\n",
    "scaler = StandardScaler()\n",
    "data[num_cols] = scaler.fit_transform(data[num_cols])\n",
    "\n",
    "# categorical data settings\n",
    "unique_cat_arr = get_unique_cat(data[cat_cols], cat_cols)\n",
    "encoder = OneHotEncoder(sparse=False, handle_unknown = 'ignore')\n",
    "data[cat_cols] = data[cat_cols].apply(LabelEncoder().fit_transform)\n",
    "data = data.dropna()\n",
    "\n",
    "encoded_arr = encoder.fit_transform(data[cat_cols])\n",
    "coded_data = df_constructor(data, encoded_arr, unique_cat_arr)\n",
    "\n",
    "# test set download\n",
    "X_submis = pd.read_csv('/kaggle/input/advanced-dls-spring-2021/test.csv')\n",
    "X_submis[error_col] =  pd.to_numeric(X_submis[error_col], errors='coerce')\n",
    "median = X_submis[error_col].sum()//len(X_submis[error_col])\n",
    "X_submis = X_submis.fillna(median)\n",
    "\n",
    "X_submis[cat_cols] = X_submis[cat_cols].apply(LabelEncoder().fit_transform)\n",
    "X_submis = pd.get_dummies(X_submis, columns=cat_cols)\n",
    "X_submis[num_cols] = scaler.fit_transform(X_submis[num_cols])\n",
    "\n",
    "submission = pd.read_csv('/kaggle/input/advanced-dls-spring-2021/submission.csv')"
   ]
  },
  {
   "cell_type": "code",
   "execution_count": 10,
   "id": "9f0efe99",
   "metadata": {
    "execution": {
     "iopub.execute_input": "2023-01-18T13:06:03.977602Z",
     "iopub.status.busy": "2023-01-18T13:06:03.976531Z",
     "iopub.status.idle": "2023-01-18T13:06:04.019358Z",
     "shell.execute_reply": "2023-01-18T13:06:04.018158Z"
    },
    "papermill": {
     "duration": 0.050768,
     "end_time": "2023-01-18T13:06:04.021743",
     "exception": false,
     "start_time": "2023-01-18T13:06:03.970975",
     "status": "completed"
    },
    "tags": []
   },
   "outputs": [
    {
     "data": {
      "text/html": [
       "<div>\n",
       "<style scoped>\n",
       "    .dataframe tbody tr th:only-of-type {\n",
       "        vertical-align: middle;\n",
       "    }\n",
       "\n",
       "    .dataframe tbody tr th {\n",
       "        vertical-align: top;\n",
       "    }\n",
       "\n",
       "    .dataframe thead th {\n",
       "        text-align: right;\n",
       "    }\n",
       "</style>\n",
       "<table border=\"1\" class=\"dataframe\">\n",
       "  <thead>\n",
       "    <tr style=\"text-align: right;\">\n",
       "      <th></th>\n",
       "      <th>ClientPeriod</th>\n",
       "      <th>MonthlySpending</th>\n",
       "      <th>TotalSpent</th>\n",
       "      <th>Churn</th>\n",
       "      <th>Sex_0</th>\n",
       "      <th>Sex_1</th>\n",
       "      <th>IsSeniorCitizen_0</th>\n",
       "      <th>IsSeniorCitizen_1</th>\n",
       "      <th>HasPartner_0</th>\n",
       "      <th>HasPartner_1</th>\n",
       "      <th>...</th>\n",
       "      <th>HasMovieSubscription_2</th>\n",
       "      <th>HasContractPhone_0</th>\n",
       "      <th>HasContractPhone_1</th>\n",
       "      <th>HasContractPhone_2</th>\n",
       "      <th>IsBillingPaperless_0</th>\n",
       "      <th>IsBillingPaperless_1</th>\n",
       "      <th>PaymentMethod_0</th>\n",
       "      <th>PaymentMethod_1</th>\n",
       "      <th>PaymentMethod_2</th>\n",
       "      <th>PaymentMethod_3</th>\n",
       "    </tr>\n",
       "  </thead>\n",
       "  <tbody>\n",
       "    <tr>\n",
       "      <th>0</th>\n",
       "      <td>0.919099</td>\n",
       "      <td>-1.506436</td>\n",
       "      <td>-0.557582</td>\n",
       "      <td>0</td>\n",
       "      <td>0.0</td>\n",
       "      <td>1.0</td>\n",
       "      <td>1.0</td>\n",
       "      <td>0.0</td>\n",
       "      <td>0.0</td>\n",
       "      <td>1.0</td>\n",
       "      <td>...</td>\n",
       "      <td>0.0</td>\n",
       "      <td>0.0</td>\n",
       "      <td>1.0</td>\n",
       "      <td>0.0</td>\n",
       "      <td>1.0</td>\n",
       "      <td>0.0</td>\n",
       "      <td>0.0</td>\n",
       "      <td>0.0</td>\n",
       "      <td>0.0</td>\n",
       "      <td>1.0</td>\n",
       "    </tr>\n",
       "    <tr>\n",
       "      <th>1</th>\n",
       "      <td>1.612060</td>\n",
       "      <td>-1.295997</td>\n",
       "      <td>-0.184763</td>\n",
       "      <td>0</td>\n",
       "      <td>0.0</td>\n",
       "      <td>1.0</td>\n",
       "      <td>1.0</td>\n",
       "      <td>0.0</td>\n",
       "      <td>0.0</td>\n",
       "      <td>1.0</td>\n",
       "      <td>...</td>\n",
       "      <td>0.0</td>\n",
       "      <td>0.0</td>\n",
       "      <td>0.0</td>\n",
       "      <td>1.0</td>\n",
       "      <td>1.0</td>\n",
       "      <td>0.0</td>\n",
       "      <td>0.0</td>\n",
       "      <td>1.0</td>\n",
       "      <td>0.0</td>\n",
       "      <td>0.0</td>\n",
       "    </tr>\n",
       "    <tr>\n",
       "      <th>2</th>\n",
       "      <td>-1.282072</td>\n",
       "      <td>0.362658</td>\n",
       "      <td>-0.976504</td>\n",
       "      <td>1</td>\n",
       "      <td>0.0</td>\n",
       "      <td>1.0</td>\n",
       "      <td>1.0</td>\n",
       "      <td>0.0</td>\n",
       "      <td>1.0</td>\n",
       "      <td>0.0</td>\n",
       "      <td>...</td>\n",
       "      <td>0.0</td>\n",
       "      <td>1.0</td>\n",
       "      <td>0.0</td>\n",
       "      <td>0.0</td>\n",
       "      <td>0.0</td>\n",
       "      <td>1.0</td>\n",
       "      <td>0.0</td>\n",
       "      <td>0.0</td>\n",
       "      <td>1.0</td>\n",
       "      <td>0.0</td>\n",
       "    </tr>\n",
       "    <tr>\n",
       "      <th>3</th>\n",
       "      <td>-0.018437</td>\n",
       "      <td>0.475334</td>\n",
       "      <td>0.122800</td>\n",
       "      <td>0</td>\n",
       "      <td>1.0</td>\n",
       "      <td>0.0</td>\n",
       "      <td>0.0</td>\n",
       "      <td>1.0</td>\n",
       "      <td>0.0</td>\n",
       "      <td>1.0</td>\n",
       "      <td>...</td>\n",
       "      <td>0.0</td>\n",
       "      <td>1.0</td>\n",
       "      <td>0.0</td>\n",
       "      <td>0.0</td>\n",
       "      <td>1.0</td>\n",
       "      <td>0.0</td>\n",
       "      <td>0.0</td>\n",
       "      <td>0.0</td>\n",
       "      <td>0.0</td>\n",
       "      <td>1.0</td>\n",
       "    </tr>\n",
       "    <tr>\n",
       "      <th>4</th>\n",
       "      <td>1.122911</td>\n",
       "      <td>1.666716</td>\n",
       "      <td>1.968909</td>\n",
       "      <td>0</td>\n",
       "      <td>1.0</td>\n",
       "      <td>0.0</td>\n",
       "      <td>1.0</td>\n",
       "      <td>0.0</td>\n",
       "      <td>0.0</td>\n",
       "      <td>1.0</td>\n",
       "      <td>...</td>\n",
       "      <td>1.0</td>\n",
       "      <td>0.0</td>\n",
       "      <td>0.0</td>\n",
       "      <td>1.0</td>\n",
       "      <td>1.0</td>\n",
       "      <td>0.0</td>\n",
       "      <td>0.0</td>\n",
       "      <td>1.0</td>\n",
       "      <td>0.0</td>\n",
       "      <td>0.0</td>\n",
       "    </tr>\n",
       "    <tr>\n",
       "      <th>...</th>\n",
       "      <td>...</td>\n",
       "      <td>...</td>\n",
       "      <td>...</td>\n",
       "      <td>...</td>\n",
       "      <td>...</td>\n",
       "      <td>...</td>\n",
       "      <td>...</td>\n",
       "      <td>...</td>\n",
       "      <td>...</td>\n",
       "      <td>...</td>\n",
       "      <td>...</td>\n",
       "      <td>...</td>\n",
       "      <td>...</td>\n",
       "      <td>...</td>\n",
       "      <td>...</td>\n",
       "      <td>...</td>\n",
       "      <td>...</td>\n",
       "      <td>...</td>\n",
       "      <td>...</td>\n",
       "      <td>...</td>\n",
       "      <td>...</td>\n",
       "    </tr>\n",
       "    <tr>\n",
       "      <th>5268</th>\n",
       "      <td>-1.200547</td>\n",
       "      <td>-1.145210</td>\n",
       "      <td>-0.973749</td>\n",
       "      <td>0</td>\n",
       "      <td>0.0</td>\n",
       "      <td>1.0</td>\n",
       "      <td>1.0</td>\n",
       "      <td>0.0</td>\n",
       "      <td>1.0</td>\n",
       "      <td>0.0</td>\n",
       "      <td>...</td>\n",
       "      <td>0.0</td>\n",
       "      <td>1.0</td>\n",
       "      <td>0.0</td>\n",
       "      <td>0.0</td>\n",
       "      <td>1.0</td>\n",
       "      <td>0.0</td>\n",
       "      <td>0.0</td>\n",
       "      <td>0.0</td>\n",
       "      <td>1.0</td>\n",
       "      <td>0.0</td>\n",
       "    </tr>\n",
       "    <tr>\n",
       "      <th>5269</th>\n",
       "      <td>0.715287</td>\n",
       "      <td>-0.679594</td>\n",
       "      <td>-0.045372</td>\n",
       "      <td>0</td>\n",
       "      <td>0.0</td>\n",
       "      <td>1.0</td>\n",
       "      <td>1.0</td>\n",
       "      <td>0.0</td>\n",
       "      <td>0.0</td>\n",
       "      <td>1.0</td>\n",
       "      <td>...</td>\n",
       "      <td>0.0</td>\n",
       "      <td>0.0</td>\n",
       "      <td>1.0</td>\n",
       "      <td>0.0</td>\n",
       "      <td>0.0</td>\n",
       "      <td>1.0</td>\n",
       "      <td>1.0</td>\n",
       "      <td>0.0</td>\n",
       "      <td>0.0</td>\n",
       "      <td>0.0</td>\n",
       "    </tr>\n",
       "    <tr>\n",
       "      <th>5270</th>\n",
       "      <td>-1.282072</td>\n",
       "      <td>-0.328310</td>\n",
       "      <td>-0.985693</td>\n",
       "      <td>0</td>\n",
       "      <td>0.0</td>\n",
       "      <td>1.0</td>\n",
       "      <td>1.0</td>\n",
       "      <td>0.0</td>\n",
       "      <td>1.0</td>\n",
       "      <td>0.0</td>\n",
       "      <td>...</td>\n",
       "      <td>0.0</td>\n",
       "      <td>1.0</td>\n",
       "      <td>0.0</td>\n",
       "      <td>0.0</td>\n",
       "      <td>1.0</td>\n",
       "      <td>0.0</td>\n",
       "      <td>0.0</td>\n",
       "      <td>0.0</td>\n",
       "      <td>0.0</td>\n",
       "      <td>1.0</td>\n",
       "    </tr>\n",
       "    <tr>\n",
       "      <th>5271</th>\n",
       "      <td>-0.140724</td>\n",
       "      <td>0.365972</td>\n",
       "      <td>-0.033560</td>\n",
       "      <td>0</td>\n",
       "      <td>1.0</td>\n",
       "      <td>0.0</td>\n",
       "      <td>1.0</td>\n",
       "      <td>0.0</td>\n",
       "      <td>1.0</td>\n",
       "      <td>0.0</td>\n",
       "      <td>...</td>\n",
       "      <td>0.0</td>\n",
       "      <td>1.0</td>\n",
       "      <td>0.0</td>\n",
       "      <td>0.0</td>\n",
       "      <td>0.0</td>\n",
       "      <td>1.0</td>\n",
       "      <td>0.0</td>\n",
       "      <td>1.0</td>\n",
       "      <td>0.0</td>\n",
       "      <td>0.0</td>\n",
       "    </tr>\n",
       "    <tr>\n",
       "      <th>5272</th>\n",
       "      <td>-0.548349</td>\n",
       "      <td>0.362658</td>\n",
       "      <td>-0.403645</td>\n",
       "      <td>0</td>\n",
       "      <td>1.0</td>\n",
       "      <td>0.0</td>\n",
       "      <td>1.0</td>\n",
       "      <td>0.0</td>\n",
       "      <td>1.0</td>\n",
       "      <td>0.0</td>\n",
       "      <td>...</td>\n",
       "      <td>0.0</td>\n",
       "      <td>1.0</td>\n",
       "      <td>0.0</td>\n",
       "      <td>0.0</td>\n",
       "      <td>0.0</td>\n",
       "      <td>1.0</td>\n",
       "      <td>0.0</td>\n",
       "      <td>0.0</td>\n",
       "      <td>0.0</td>\n",
       "      <td>1.0</td>\n",
       "    </tr>\n",
       "  </tbody>\n",
       "</table>\n",
       "<p>5273 rows × 47 columns</p>\n",
       "</div>"
      ],
      "text/plain": [
       "      ClientPeriod  MonthlySpending  TotalSpent  Churn  Sex_0  Sex_1  \\\n",
       "0         0.919099        -1.506436   -0.557582      0    0.0    1.0   \n",
       "1         1.612060        -1.295997   -0.184763      0    0.0    1.0   \n",
       "2        -1.282072         0.362658   -0.976504      1    0.0    1.0   \n",
       "3        -0.018437         0.475334    0.122800      0    1.0    0.0   \n",
       "4         1.122911         1.666716    1.968909      0    1.0    0.0   \n",
       "...            ...              ...         ...    ...    ...    ...   \n",
       "5268     -1.200547        -1.145210   -0.973749      0    0.0    1.0   \n",
       "5269      0.715287        -0.679594   -0.045372      0    0.0    1.0   \n",
       "5270     -1.282072        -0.328310   -0.985693      0    0.0    1.0   \n",
       "5271     -0.140724         0.365972   -0.033560      0    1.0    0.0   \n",
       "5272     -0.548349         0.362658   -0.403645      0    1.0    0.0   \n",
       "\n",
       "      IsSeniorCitizen_0  IsSeniorCitizen_1  HasPartner_0  HasPartner_1  ...  \\\n",
       "0                   1.0                0.0           0.0           1.0  ...   \n",
       "1                   1.0                0.0           0.0           1.0  ...   \n",
       "2                   1.0                0.0           1.0           0.0  ...   \n",
       "3                   0.0                1.0           0.0           1.0  ...   \n",
       "4                   1.0                0.0           0.0           1.0  ...   \n",
       "...                 ...                ...           ...           ...  ...   \n",
       "5268                1.0                0.0           1.0           0.0  ...   \n",
       "5269                1.0                0.0           0.0           1.0  ...   \n",
       "5270                1.0                0.0           1.0           0.0  ...   \n",
       "5271                1.0                0.0           1.0           0.0  ...   \n",
       "5272                1.0                0.0           1.0           0.0  ...   \n",
       "\n",
       "      HasMovieSubscription_2  HasContractPhone_0  HasContractPhone_1  \\\n",
       "0                        0.0                 0.0                 1.0   \n",
       "1                        0.0                 0.0                 0.0   \n",
       "2                        0.0                 1.0                 0.0   \n",
       "3                        0.0                 1.0                 0.0   \n",
       "4                        1.0                 0.0                 0.0   \n",
       "...                      ...                 ...                 ...   \n",
       "5268                     0.0                 1.0                 0.0   \n",
       "5269                     0.0                 0.0                 1.0   \n",
       "5270                     0.0                 1.0                 0.0   \n",
       "5271                     0.0                 1.0                 0.0   \n",
       "5272                     0.0                 1.0                 0.0   \n",
       "\n",
       "      HasContractPhone_2  IsBillingPaperless_0  IsBillingPaperless_1  \\\n",
       "0                    0.0                   1.0                   0.0   \n",
       "1                    1.0                   1.0                   0.0   \n",
       "2                    0.0                   0.0                   1.0   \n",
       "3                    0.0                   1.0                   0.0   \n",
       "4                    1.0                   1.0                   0.0   \n",
       "...                  ...                   ...                   ...   \n",
       "5268                 0.0                   1.0                   0.0   \n",
       "5269                 0.0                   0.0                   1.0   \n",
       "5270                 0.0                   1.0                   0.0   \n",
       "5271                 0.0                   0.0                   1.0   \n",
       "5272                 0.0                   0.0                   1.0   \n",
       "\n",
       "      PaymentMethod_0  PaymentMethod_1  PaymentMethod_2  PaymentMethod_3  \n",
       "0                 0.0              0.0              0.0              1.0  \n",
       "1                 0.0              1.0              0.0              0.0  \n",
       "2                 0.0              0.0              1.0              0.0  \n",
       "3                 0.0              0.0              0.0              1.0  \n",
       "4                 0.0              1.0              0.0              0.0  \n",
       "...               ...              ...              ...              ...  \n",
       "5268              0.0              0.0              1.0              0.0  \n",
       "5269              1.0              0.0              0.0              0.0  \n",
       "5270              0.0              0.0              0.0              1.0  \n",
       "5271              0.0              1.0              0.0              0.0  \n",
       "5272              0.0              0.0              0.0              1.0  \n",
       "\n",
       "[5273 rows x 47 columns]"
      ]
     },
     "execution_count": 10,
     "metadata": {},
     "output_type": "execute_result"
    }
   ],
   "source": [
    "# DEBAG CELL\n",
    "\n",
    "coded_data"
   ]
  },
  {
   "cell_type": "code",
   "execution_count": 11,
   "id": "7a697961",
   "metadata": {
    "execution": {
     "iopub.execute_input": "2023-01-18T13:06:04.034164Z",
     "iopub.status.busy": "2023-01-18T13:06:04.033810Z",
     "iopub.status.idle": "2023-01-18T13:06:04.045366Z",
     "shell.execute_reply": "2023-01-18T13:06:04.044145Z"
    },
    "papermill": {
     "duration": 0.019511,
     "end_time": "2023-01-18T13:06:04.047469",
     "exception": false,
     "start_time": "2023-01-18T13:06:04.027958",
     "status": "completed"
    },
    "tags": []
   },
   "outputs": [],
   "source": [
    "y = coded_data[target_col]\n",
    "\n",
    "features_list = list(coded_data)\n",
    "features_list.remove(target_col)\n",
    "\n",
    "X = coded_data[features_list]\n",
    "X_train, X_test, y_train, y_test = train_test_split(X.values, y.values, \n",
    "                                                    train_size=0.8,\n",
    "                                                    random_state=42)\n",
    "\n",
    "X_submis = X_submis.to_numpy()"
   ]
  },
  {
   "cell_type": "code",
   "execution_count": 12,
   "id": "b11d4396",
   "metadata": {
    "execution": {
     "iopub.execute_input": "2023-01-18T13:06:04.059900Z",
     "iopub.status.busy": "2023-01-18T13:06:04.059594Z",
     "iopub.status.idle": "2023-01-18T13:06:56.898166Z",
     "shell.execute_reply": "2023-01-18T13:06:56.896828Z"
    },
    "papermill": {
     "duration": 52.850907,
     "end_time": "2023-01-18T13:06:56.904904",
     "exception": false,
     "start_time": "2023-01-18T13:06:04.053997",
     "status": "completed"
    },
    "tags": []
   },
   "outputs": [
    {
     "data": {
      "text/plain": [
       "Pipeline(steps=[('onehotencoder', OneHotEncoder(handle_unknown='ignore')),\n",
       "                ('standardscaler', StandardScaler(with_mean=False)),\n",
       "                ('gridsearchcv',\n",
       "                 GridSearchCV(cv=10,\n",
       "                              estimator=LogisticRegression(max_iter=10000),\n",
       "                              param_grid={'C': [100, 10, 1, 0.1, 0.01,\n",
       "                                                0.001]}))])"
      ]
     },
     "execution_count": 12,
     "metadata": {},
     "output_type": "execute_result"
    }
   ],
   "source": [
    "C_l = [100, 10, 1, 0.1, 0.01, 0.001]\n",
    "\n",
    "param_grid = {'C': C_l}\n",
    "\n",
    "search = GridSearchCV(LogisticRegression(max_iter=10000), \n",
    "                      param_grid,\n",
    "                      cv=10,\n",
    "                      refit=True)\n",
    "\n",
    "pipe = make_pipeline(\n",
    "    OneHotEncoder(handle_unknown='ignore'),\n",
    "    StandardScaler(with_mean=False),\n",
    "    search\n",
    ")\n",
    "pipe.fit(X_train, y_train)"
   ]
  },
  {
   "cell_type": "code",
   "execution_count": 13,
   "id": "d269fdcc",
   "metadata": {
    "execution": {
     "iopub.execute_input": "2023-01-18T13:06:56.916261Z",
     "iopub.status.busy": "2023-01-18T13:06:56.915871Z",
     "iopub.status.idle": "2023-01-18T13:06:56.928685Z",
     "shell.execute_reply": "2023-01-18T13:06:56.927821Z"
    },
    "papermill": {
     "duration": 0.021162,
     "end_time": "2023-01-18T13:06:56.930964",
     "exception": false,
     "start_time": "2023-01-18T13:06:56.909802",
     "status": "completed"
    },
    "tags": []
   },
   "outputs": [],
   "source": [
    "preds_train = pipe.predict(X_test)"
   ]
  },
  {
   "cell_type": "code",
   "execution_count": 14,
   "id": "f0f2c655",
   "metadata": {
    "execution": {
     "iopub.execute_input": "2023-01-18T13:06:56.942869Z",
     "iopub.status.busy": "2023-01-18T13:06:56.942011Z",
     "iopub.status.idle": "2023-01-18T13:06:56.948910Z",
     "shell.execute_reply": "2023-01-18T13:06:56.947358Z"
    },
    "papermill": {
     "duration": 0.015948,
     "end_time": "2023-01-18T13:06:56.952007",
     "exception": false,
     "start_time": "2023-01-18T13:06:56.936059",
     "status": "completed"
    },
    "tags": []
   },
   "outputs": [
    {
     "name": "stdout",
     "output_type": "stream",
     "text": [
      "Tuned Hyperparameters : {'C': 0.001}\n",
      "Accuracy : 0.7769016446961083\n"
     ]
    }
   ],
   "source": [
    "print(\"Tuned Hyperparameters :\", search.best_params_)\n",
    "print(\"Accuracy :\",search.best_score_)"
   ]
  },
  {
   "cell_type": "code",
   "execution_count": 15,
   "id": "e74e4d7b",
   "metadata": {
    "execution": {
     "iopub.execute_input": "2023-01-18T13:06:56.965882Z",
     "iopub.status.busy": "2023-01-18T13:06:56.964547Z",
     "iopub.status.idle": "2023-01-18T13:06:56.979073Z",
     "shell.execute_reply": "2023-01-18T13:06:56.978133Z"
    },
    "papermill": {
     "duration": 0.023205,
     "end_time": "2023-01-18T13:06:56.981334",
     "exception": false,
     "start_time": "2023-01-18T13:06:56.958129",
     "status": "completed"
    },
    "tags": []
   },
   "outputs": [],
   "source": [
    "preds_test = pipe.predict(X_submis)"
   ]
  },
  {
   "cell_type": "code",
   "execution_count": 16,
   "id": "5302a31c",
   "metadata": {
    "execution": {
     "iopub.execute_input": "2023-01-18T13:06:56.993728Z",
     "iopub.status.busy": "2023-01-18T13:06:56.992557Z",
     "iopub.status.idle": "2023-01-18T13:06:56.998231Z",
     "shell.execute_reply": "2023-01-18T13:06:56.997181Z"
    },
    "papermill": {
     "duration": 0.014197,
     "end_time": "2023-01-18T13:06:57.000608",
     "exception": false,
     "start_time": "2023-01-18T13:06:56.986411",
     "status": "completed"
    },
    "tags": []
   },
   "outputs": [
    {
     "name": "stdout",
     "output_type": "stream",
     "text": [
      "(1761,)\n"
     ]
    }
   ],
   "source": [
    "new_df = pd.DataFrame(preds_test)\n",
    "print(preds_test.shape)"
   ]
  },
  {
   "cell_type": "code",
   "execution_count": 17,
   "id": "40129021",
   "metadata": {
    "collapsed": true,
    "execution": {
     "iopub.execute_input": "2023-01-18T13:06:57.012694Z",
     "iopub.status.busy": "2023-01-18T13:06:57.012295Z",
     "iopub.status.idle": "2023-01-18T13:06:57.016579Z",
     "shell.execute_reply": "2023-01-18T13:06:57.015616Z"
    },
    "jupyter": {
     "outputs_hidden": true
    },
    "papermill": {
     "duration": 0.012889,
     "end_time": "2023-01-18T13:06:57.018913",
     "exception": false,
     "start_time": "2023-01-18T13:06:57.006024",
     "status": "completed"
    },
    "tags": []
   },
   "outputs": [],
   "source": [
    "# submission['#']"
   ]
  },
  {
   "cell_type": "code",
   "execution_count": 18,
   "id": "44dbd314",
   "metadata": {
    "execution": {
     "iopub.execute_input": "2023-01-18T13:06:57.031016Z",
     "iopub.status.busy": "2023-01-18T13:06:57.030628Z",
     "iopub.status.idle": "2023-01-18T13:06:57.042380Z",
     "shell.execute_reply": "2023-01-18T13:06:57.040840Z"
    },
    "papermill": {
     "duration": 0.02014,
     "end_time": "2023-01-18T13:06:57.044260",
     "exception": false,
     "start_time": "2023-01-18T13:06:57.024120",
     "status": "completed"
    },
    "tags": []
   },
   "outputs": [
    {
     "name": "stdout",
     "output_type": "stream",
     "text": [
      "Your submission was successfully saved!\n"
     ]
    }
   ],
   "source": [
    "submission[target_col] = new_df\n",
    "os.chdir('/kaggle/working/')\n",
    "submission.to_csv('submission_.csv', index=False)\n",
    "print(\"Your submission was successfully saved!\")"
   ]
  }
 ],
 "metadata": {
  "kernelspec": {
   "display_name": "Python 3",
   "language": "python",
   "name": "python3"
  },
  "language_info": {
   "codemirror_mode": {
    "name": "ipython",
    "version": 3
   },
   "file_extension": ".py",
   "mimetype": "text/x-python",
   "name": "python",
   "nbconvert_exporter": "python",
   "pygments_lexer": "ipython3",
   "version": "3.7.12"
  },
  "papermill": {
   "default_parameters": {},
   "duration": 62.684265,
   "end_time": "2023-01-18T13:06:57.770882",
   "environment_variables": {},
   "exception": null,
   "input_path": "__notebook__.ipynb",
   "output_path": "__notebook__.ipynb",
   "parameters": {},
   "start_time": "2023-01-18T13:05:55.086617",
   "version": "2.3.4"
  }
 },
 "nbformat": 4,
 "nbformat_minor": 5
}
