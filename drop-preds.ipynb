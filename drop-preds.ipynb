{
 "cells": [
  {
   "cell_type": "code",
   "execution_count": 1,
   "id": "fdb793ae",
   "metadata": {
    "execution": {
     "iopub.execute_input": "2023-01-19T21:13:07.095189Z",
     "iopub.status.busy": "2023-01-19T21:13:07.094709Z",
     "iopub.status.idle": "2023-01-19T21:13:08.344311Z",
     "shell.execute_reply": "2023-01-19T21:13:08.343224Z"
    },
    "papermill": {
     "duration": 1.263852,
     "end_time": "2023-01-19T21:13:08.347394",
     "exception": false,
     "start_time": "2023-01-19T21:13:07.083542",
     "status": "completed"
    },
    "tags": []
   },
   "outputs": [],
   "source": [
    "import os\n",
    "from sklearn.metrics import roc_auc_score\n",
    "import pandas as pd\n",
    "import numpy as np\n",
    "from matplotlib import pyplot as plt\n",
    "\n",
    "from sklearn.linear_model import LogisticRegression, LogisticRegressionCV\n",
    "from sklearn.model_selection import train_test_split, GridSearchCV\n",
    "from sklearn.preprocessing import StandardScaler, RobustScaler, LabelEncoder, OneHotEncoder\n",
    "from sklearn.pipeline import make_pipeline\n",
    "\n",
    "from sklearn.compose import ColumnTransformer\n",
    "from sklearn.pipeline import Pipeline\n",
    "from sklearn.impute import SimpleImputer\n",
    "\n",
    "from sklearn.metrics import confusion_matrix\n",
    "from sklearn.metrics import classification_report\n",
    "\n",
    "#for classification_report\n",
    "from sklearn.utils.multiclass import unique_labels\n",
    "from sklearn.metrics import precision_recall_fscore_support\n",
    "from tabulate import tabulate"
   ]
  },
  {
   "cell_type": "code",
   "execution_count": 2,
   "id": "606ef61a",
   "metadata": {
    "execution": {
     "iopub.execute_input": "2023-01-19T21:13:08.365984Z",
     "iopub.status.busy": "2023-01-19T21:13:08.365508Z",
     "iopub.status.idle": "2023-01-19T21:13:08.376989Z",
     "shell.execute_reply": "2023-01-19T21:13:08.376117Z"
    },
    "papermill": {
     "duration": 0.023539,
     "end_time": "2023-01-19T21:13:08.379127",
     "exception": false,
     "start_time": "2023-01-19T21:13:08.355588",
     "status": "completed"
    },
    "tags": []
   },
   "outputs": [],
   "source": [
    "def classification_report(y_true, y_pred, labels=None, \n",
    "                          target_names=['0', '1'],\n",
    "                          sample_weight=None, digits=4, tablfmt='pipe'):\n",
    "    \n",
    "    floatfmt = '.{:}f'.format(digits)\n",
    "    if labels is None:\n",
    "        labels = unique_labels(y_true, y_pred)\n",
    "    else:\n",
    "        labels = np.asarray(labels)\n",
    "\n",
    "    if target_names is not None and len(labels) != len(target_names):\n",
    "        print(\n",
    "            \"labels size, {0}, does not match size of target_names, {1}\"\n",
    "            .format(len(labels), len(target_names))\n",
    "        )\n",
    "\n",
    "    last_line_heading = 'avg / total'\n",
    "\n",
    "    if target_names is None:\n",
    "        target_names = [u'%s' % l for l in labels]\n",
    "\n",
    "    headers = [\"precision\", \"recall\", \"f1-score\", \"support\"]\n",
    "\n",
    "    p, r, f1, s = precision_recall_fscore_support(y_true, y_pred,\n",
    "                                                  labels=labels,\n",
    "                                                  average=None,\n",
    "                                                  sample_weight=sample_weight)\n",
    "\n",
    "    rows = zip(target_names, p, r, f1, s)\n",
    "    tbl_rows = []\n",
    "    for row in rows:\n",
    "        tbl_rows.append(row)\n",
    "\n",
    "    # compute averages\n",
    "    last_row = (last_line_heading,\n",
    "                np.average(p, weights=s),\n",
    "                np.average(r, weights=s),\n",
    "                np.average(f1, weights=s),\n",
    "                np.sum(s))\n",
    "    tbl_rows.append(last_row)\n",
    "    return tabulate(tbl_rows, headers=headers,\n",
    "                    tablefmt=tablfmt, floatfmt=floatfmt)"
   ]
  },
  {
   "cell_type": "code",
   "execution_count": 3,
   "id": "8689e7e8",
   "metadata": {
    "execution": {
     "iopub.execute_input": "2023-01-19T21:13:08.403024Z",
     "iopub.status.busy": "2023-01-19T21:13:08.401577Z",
     "iopub.status.idle": "2023-01-19T21:13:08.411762Z",
     "shell.execute_reply": "2023-01-19T21:13:08.410319Z"
    },
    "papermill": {
     "duration": 0.025348,
     "end_time": "2023-01-19T21:13:08.414445",
     "exception": false,
     "start_time": "2023-01-19T21:13:08.389097",
     "status": "completed"
    },
    "tags": []
   },
   "outputs": [],
   "source": [
    "# Числовые признаки\n",
    "num_cols = [\n",
    "    'ClientPeriod',\n",
    "    'MonthlySpending',\n",
    "    'TotalSpent'\n",
    "]\n",
    "\n",
    "# Категориальные признаки\n",
    "cat_cols = [\n",
    "    'Sex',\n",
    "    'IsSeniorCitizen',\n",
    "    'HasPartner',\n",
    "    'HasChild',\n",
    "    'HasPhoneService',\n",
    "    'HasMultiplePhoneNumbers',\n",
    "    'HasInternetService',\n",
    "    'HasOnlineSecurityService',\n",
    "    'HasOnlineBackup',\n",
    "    'HasDeviceProtection',\n",
    "    'HasTechSupportAccess',\n",
    "    'HasOnlineTV',\n",
    "    'HasMovieSubscription',\n",
    "    'HasContractPhone',\n",
    "    'IsBillingPaperless',\n",
    "    'PaymentMethod'\n",
    "]\n",
    "\n",
    "no_cat = [\n",
    "    'ClientPeriod',\n",
    "    'MonthlySpending',\n",
    "    'TotalSpent',\n",
    "    'Churn'\n",
    "]\n",
    "\n",
    "feature_cols = num_cols + cat_cols\n",
    "col_count = len(feature_cols)\n",
    "unique_cat = []\n",
    "target_col = 'Churn'\n",
    "error_col = 'TotalSpent'"
   ]
  },
  {
   "cell_type": "code",
   "execution_count": 4,
   "id": "15e8e203",
   "metadata": {
    "execution": {
     "iopub.execute_input": "2023-01-19T21:13:08.433865Z",
     "iopub.status.busy": "2023-01-19T21:13:08.433319Z",
     "iopub.status.idle": "2023-01-19T21:13:08.511179Z",
     "shell.execute_reply": "2023-01-19T21:13:08.510030Z"
    },
    "papermill": {
     "duration": 0.09129,
     "end_time": "2023-01-19T21:13:08.513942",
     "exception": false,
     "start_time": "2023-01-19T21:13:08.422652",
     "status": "completed"
    },
    "tags": []
   },
   "outputs": [],
   "source": [
    "# GET_DUMMIES VERSION\n",
    "\n",
    "# train set download\n",
    "data = pd.read_csv('/kaggle/input/advanced-dls-spring-2021/train.csv')\n",
    "data = data.dropna()\n",
    "\n",
    "# похоже в этом столбце некорректный формат данных\n",
    "data[error_col] =  pd.to_numeric(data[error_col], errors='coerce')\n",
    "data = data.dropna()\n",
    "\n",
    "# # numeric data settings\n",
    "# scaler = StandardScaler()\n",
    "# data[num_cols] = scaler.fit_transform(data[num_cols])\n",
    "\n",
    "# # categorical data settings\n",
    "# data[cat_cols] = data[cat_cols].apply(LabelEncoder().fit_transform)\n",
    "# data = pd.get_dummies(data, columns=cat_cols)\n",
    "\n",
    "# # test set download\n",
    "# X_submis = pd.read_csv('/kaggle/input/advanced-dls-spring-2021/test.csv')\n",
    "# X_submis[error_col] =  pd.to_numeric(X_submis[error_col], errors='coerce')\n",
    "# median = X_submis[error_col].sum()//len(X_submis[error_col])\n",
    "# X_submis = X_submis.fillna(median)\n",
    "\n",
    "# X_submis[cat_cols] = X_submis[cat_cols].apply(LabelEncoder().fit_transform)\n",
    "# X_submis = pd.get_dummies(X_submis, columns=cat_cols)\n",
    "# X_submis[num_cols] = scaler.fit_transform(X_submis[num_cols])\n",
    "\n",
    "# submission = pd.read_csv('/kaggle/input/advanced-dls-spring-2021/submission.csv')"
   ]
  },
  {
   "cell_type": "code",
   "execution_count": 5,
   "id": "4bb51662",
   "metadata": {
    "execution": {
     "iopub.execute_input": "2023-01-19T21:13:08.531663Z",
     "iopub.status.busy": "2023-01-19T21:13:08.531239Z",
     "iopub.status.idle": "2023-01-19T21:13:08.544620Z",
     "shell.execute_reply": "2023-01-19T21:13:08.543672Z"
    },
    "papermill": {
     "duration": 0.025083,
     "end_time": "2023-01-19T21:13:08.547040",
     "exception": false,
     "start_time": "2023-01-19T21:13:08.521957",
     "status": "completed"
    },
    "tags": []
   },
   "outputs": [],
   "source": [
    "y = data[target_col]\n",
    "\n",
    "features_list = list(data)\n",
    "features_list.remove(target_col)\n",
    "\n",
    "X = data[features_list]\n",
    "X_train, X_test, y_train, y_test = train_test_split(X, y, \n",
    "                                                    train_size=0.9,\n",
    "                                                    random_state=42)\n",
    "\n",
    "# X_submis = X_submis.to_numpy()"
   ]
  },
  {
   "cell_type": "code",
   "execution_count": 6,
   "id": "d1003608",
   "metadata": {
    "execution": {
     "iopub.execute_input": "2023-01-19T21:13:08.566563Z",
     "iopub.status.busy": "2023-01-19T21:13:08.565478Z",
     "iopub.status.idle": "2023-01-19T21:13:08.570059Z",
     "shell.execute_reply": "2023-01-19T21:13:08.569229Z"
    },
    "papermill": {
     "duration": 0.017039,
     "end_time": "2023-01-19T21:13:08.572011",
     "exception": false,
     "start_time": "2023-01-19T21:13:08.554972",
     "status": "completed"
    },
    "tags": []
   },
   "outputs": [],
   "source": [
    "# # DEBAG CELL\n",
    "\n",
    "# # train set download\n",
    "# data = pd.read_csv('/kaggle/input/advanced-dls-spring-2021/train.csv')\n",
    "# data = data.dropna()"
   ]
  },
  {
   "cell_type": "code",
   "execution_count": 7,
   "id": "a9b83f5c",
   "metadata": {
    "execution": {
     "iopub.execute_input": "2023-01-19T21:13:08.590422Z",
     "iopub.status.busy": "2023-01-19T21:13:08.589406Z",
     "iopub.status.idle": "2023-01-19T21:13:08.594820Z",
     "shell.execute_reply": "2023-01-19T21:13:08.593648Z"
    },
    "papermill": {
     "duration": 0.01716,
     "end_time": "2023-01-19T21:13:08.597300",
     "exception": false,
     "start_time": "2023-01-19T21:13:08.580140",
     "status": "completed"
    },
    "tags": []
   },
   "outputs": [],
   "source": [
    "# data"
   ]
  },
  {
   "cell_type": "code",
   "execution_count": 8,
   "id": "79b3dd77",
   "metadata": {
    "execution": {
     "iopub.execute_input": "2023-01-19T21:13:08.615076Z",
     "iopub.status.busy": "2023-01-19T21:13:08.614660Z",
     "iopub.status.idle": "2023-01-19T21:13:08.619369Z",
     "shell.execute_reply": "2023-01-19T21:13:08.618080Z"
    },
    "papermill": {
     "duration": 0.016175,
     "end_time": "2023-01-19T21:13:08.621780",
     "exception": false,
     "start_time": "2023-01-19T21:13:08.605605",
     "status": "completed"
    },
    "tags": []
   },
   "outputs": [],
   "source": [
    "# # DEBAG CELL\n",
    "\n",
    "# data[cat_cols]"
   ]
  },
  {
   "cell_type": "code",
   "execution_count": 9,
   "id": "56fcad5e",
   "metadata": {
    "execution": {
     "iopub.execute_input": "2023-01-19T21:13:08.639344Z",
     "iopub.status.busy": "2023-01-19T21:13:08.638926Z",
     "iopub.status.idle": "2023-01-19T21:13:08.645493Z",
     "shell.execute_reply": "2023-01-19T21:13:08.644145Z"
    },
    "papermill": {
     "duration": 0.01827,
     "end_time": "2023-01-19T21:13:08.648025",
     "exception": false,
     "start_time": "2023-01-19T21:13:08.629755",
     "status": "completed"
    },
    "tags": []
   },
   "outputs": [],
   "source": [
    "def get_unique_cat(df, cat_cols):\n",
    "    \n",
    "    global unique_cat\n",
    "    unique_cat = [] #debag\n",
    "    \n",
    "    for col in cat_cols:\n",
    "        unique_cat += [f'{col}_{item}' for item, cat in enumerate(list(df[col].unique()))]\n",
    "    \n",
    "    return unique_cat\n",
    "# len(list(df[col].unique()))"
   ]
  },
  {
   "cell_type": "code",
   "execution_count": 10,
   "id": "887812eb",
   "metadata": {
    "execution": {
     "iopub.execute_input": "2023-01-19T21:13:08.666517Z",
     "iopub.status.busy": "2023-01-19T21:13:08.665481Z",
     "iopub.status.idle": "2023-01-19T21:13:08.671352Z",
     "shell.execute_reply": "2023-01-19T21:13:08.670287Z"
    },
    "papermill": {
     "duration": 0.017402,
     "end_time": "2023-01-19T21:13:08.673662",
     "exception": false,
     "start_time": "2023-01-19T21:13:08.656260",
     "status": "completed"
    },
    "tags": []
   },
   "outputs": [],
   "source": [
    "def df_constructor(main_df, encode_arr, cols):\n",
    "    global num_cols\n",
    "    \n",
    "    df_encoded = pd.DataFrame(encode_arr, columns=cols)\n",
    "    \n",
    "    main_df = main_df[no_cat].reset_index(drop=True)\n",
    "    full_df = main_df.join(df_encoded)\n",
    "    return full_df"
   ]
  },
  {
   "cell_type": "code",
   "execution_count": 11,
   "id": "b4f88036",
   "metadata": {
    "execution": {
     "iopub.execute_input": "2023-01-19T21:13:08.691745Z",
     "iopub.status.busy": "2023-01-19T21:13:08.691314Z",
     "iopub.status.idle": "2023-01-19T21:13:08.697133Z",
     "shell.execute_reply": "2023-01-19T21:13:08.695888Z"
    },
    "papermill": {
     "duration": 0.017658,
     "end_time": "2023-01-19T21:13:08.699500",
     "exception": false,
     "start_time": "2023-01-19T21:13:08.681842",
     "status": "completed"
    },
    "tags": []
   },
   "outputs": [],
   "source": [
    "# ONE_HOT_ENCODE + INDEX UPDATE VERSION\n",
    "\n",
    "# # train set download\n",
    "# data = pd.read_csv('/kaggle/input/advanced-dls-spring-2021/train.csv')\n",
    "\n",
    "# # похоже в этом столбце некорректный формат данных\n",
    "# data[error_col] =  pd.to_numeric(data[error_col], errors='coerce')\n",
    "# data = data.dropna()\n",
    "\n",
    "# # numeric data settings\n",
    "# scaler = StandardScaler()\n",
    "# data[num_cols] = scaler.fit_transform(data[num_cols])\n",
    "\n",
    "# # categorical data settings\n",
    "# unique_cat_arr = get_unique_cat(data[cat_cols], cat_cols)\n",
    "# encoder = OneHotEncoder(sparse=False, handle_unknown = 'ignore')\n",
    "# data[cat_cols] = data[cat_cols].apply(LabelEncoder().fit_transform)\n",
    "# data = data.dropna()\n",
    "\n",
    "# encoded_arr = encoder.fit_transform(data[cat_cols])\n",
    "# coded_data = df_constructor(data, encoded_arr, unique_cat_arr)\n",
    "\n",
    "# # test set download\n",
    "# X_submis = pd.read_csv('/kaggle/input/advanced-dls-spring-2021/test.csv')\n",
    "# X_submis[error_col] =  pd.to_numeric(X_submis[error_col], errors='coerce')\n",
    "# median = X_submis[error_col].sum()//len(X_submis[error_col])\n",
    "# X_submis = X_submis.fillna(median)\n",
    "\n",
    "# X_submis[cat_cols] = X_submis[cat_cols].apply(LabelEncoder().fit_transform)\n",
    "# X_submis = pd.get_dummies(X_submis, columns=cat_cols)\n",
    "# X_submis[num_cols] = scaler.fit_transform(X_submis[num_cols])\n",
    "\n",
    "# submission = pd.read_csv('/kaggle/input/advanced-dls-spring-2021/submission.csv')"
   ]
  },
  {
   "cell_type": "code",
   "execution_count": 12,
   "id": "3b3ec2c3",
   "metadata": {
    "execution": {
     "iopub.execute_input": "2023-01-19T21:13:08.717542Z",
     "iopub.status.busy": "2023-01-19T21:13:08.716536Z",
     "iopub.status.idle": "2023-01-19T21:13:08.721654Z",
     "shell.execute_reply": "2023-01-19T21:13:08.720509Z"
    },
    "papermill": {
     "duration": 0.016989,
     "end_time": "2023-01-19T21:13:08.724355",
     "exception": false,
     "start_time": "2023-01-19T21:13:08.707366",
     "status": "completed"
    },
    "tags": []
   },
   "outputs": [],
   "source": [
    "# DEBAG CELL\n",
    "\n",
    "# coded_data"
   ]
  },
  {
   "cell_type": "code",
   "execution_count": 13,
   "id": "c33ee3d8",
   "metadata": {
    "execution": {
     "iopub.execute_input": "2023-01-19T21:13:08.741916Z",
     "iopub.status.busy": "2023-01-19T21:13:08.741457Z",
     "iopub.status.idle": "2023-01-19T21:13:08.746775Z",
     "shell.execute_reply": "2023-01-19T21:13:08.745625Z"
    },
    "papermill": {
     "duration": 0.016993,
     "end_time": "2023-01-19T21:13:08.749106",
     "exception": false,
     "start_time": "2023-01-19T21:13:08.732113",
     "status": "completed"
    },
    "tags": []
   },
   "outputs": [],
   "source": [
    "# y = coded_data[target_col]\n",
    "\n",
    "# features_list = list(coded_data)\n",
    "# features_list.remove(target_col)\n",
    "\n",
    "# X = coded_data[features_list]\n",
    "# X_train, X_test, y_train, y_test = train_test_split(X.values, y.values, \n",
    "#                                                     train_size=0.8,\n",
    "#                                                     random_state=42)\n",
    "\n",
    "# X_submis = X_submis.to_numpy()"
   ]
  },
  {
   "cell_type": "code",
   "execution_count": 14,
   "id": "5e5daba2",
   "metadata": {
    "execution": {
     "iopub.execute_input": "2023-01-19T21:13:08.766267Z",
     "iopub.status.busy": "2023-01-19T21:13:08.765878Z",
     "iopub.status.idle": "2023-01-19T21:13:08.770899Z",
     "shell.execute_reply": "2023-01-19T21:13:08.769849Z"
    },
    "papermill": {
     "duration": 0.016199,
     "end_time": "2023-01-19T21:13:08.773105",
     "exception": false,
     "start_time": "2023-01-19T21:13:08.756906",
     "status": "completed"
    },
    "tags": []
   },
   "outputs": [],
   "source": [
    "# # IT WORK BUT NOT HANDSOM\n",
    "\n",
    "# C_l = [0.001, 0.01, 0.1, 1, 10, 30, 50, 100, 100]\n",
    "\n",
    "# param_grid = {'C': C_l,\n",
    "#              'solver':['lbfgs', 'sag', 'newton-cg','liblinear'],}\n",
    "\n",
    "# search = GridSearchCV(LogisticRegression(max_iter=5000), \n",
    "#                       param_grid,\n",
    "#                       cv=10,\n",
    "#                       refit=True)\n",
    "\n",
    "# # pipe = make_pipeline(\n",
    "# #     StandardScaler(),\n",
    "# #     OneHotEncoder(handle_unknown='ignore'),\n",
    "# #     search\n",
    "# # )\n",
    "# search.fit(X_train, y_train)"
   ]
  },
  {
   "cell_type": "code",
   "execution_count": 15,
   "id": "8ada5651",
   "metadata": {
    "execution": {
     "iopub.execute_input": "2023-01-19T21:13:08.790266Z",
     "iopub.status.busy": "2023-01-19T21:13:08.789850Z",
     "iopub.status.idle": "2023-01-19T21:13:08.794753Z",
     "shell.execute_reply": "2023-01-19T21:13:08.793712Z"
    },
    "papermill": {
     "duration": 0.016231,
     "end_time": "2023-01-19T21:13:08.797082",
     "exception": false,
     "start_time": "2023-01-19T21:13:08.780851",
     "status": "completed"
    },
    "tags": []
   },
   "outputs": [],
   "source": [
    "# print(\"Tuned Hyperparameters :\", search.best_params_)\n",
    "# print(\"Accuracy :\",search.best_score_)"
   ]
  },
  {
   "cell_type": "code",
   "execution_count": 16,
   "id": "7b92b395",
   "metadata": {
    "execution": {
     "iopub.execute_input": "2023-01-19T21:13:08.814445Z",
     "iopub.status.busy": "2023-01-19T21:13:08.813917Z",
     "iopub.status.idle": "2023-01-19T21:13:08.819073Z",
     "shell.execute_reply": "2023-01-19T21:13:08.818042Z"
    },
    "papermill": {
     "duration": 0.016785,
     "end_time": "2023-01-19T21:13:08.821545",
     "exception": false,
     "start_time": "2023-01-19T21:13:08.804760",
     "status": "completed"
    },
    "tags": []
   },
   "outputs": [],
   "source": [
    "# model = LogisticRegression(C=100,solver='liblinear', max_iter=5000).fit(X_train, y_train)"
   ]
  },
  {
   "cell_type": "code",
   "execution_count": 17,
   "id": "53969416",
   "metadata": {
    "execution": {
     "iopub.execute_input": "2023-01-19T21:13:08.838687Z",
     "iopub.status.busy": "2023-01-19T21:13:08.838287Z",
     "iopub.status.idle": "2023-01-19T21:13:08.843176Z",
     "shell.execute_reply": "2023-01-19T21:13:08.842069Z"
    },
    "papermill": {
     "duration": 0.01616,
     "end_time": "2023-01-19T21:13:08.845482",
     "exception": false,
     "start_time": "2023-01-19T21:13:08.829322",
     "status": "completed"
    },
    "tags": []
   },
   "outputs": [],
   "source": [
    "# preds_test = model.predict(X_test)\n",
    "# print(classification_report(y_test, preds_test)) # lol/ print и вывод консольный имеет разный способ вывода. забавно"
   ]
  },
  {
   "cell_type": "code",
   "execution_count": 18,
   "id": "a1ef2ce9",
   "metadata": {
    "execution": {
     "iopub.execute_input": "2023-01-19T21:13:08.862853Z",
     "iopub.status.busy": "2023-01-19T21:13:08.862445Z",
     "iopub.status.idle": "2023-01-19T21:13:08.866666Z",
     "shell.execute_reply": "2023-01-19T21:13:08.865493Z"
    },
    "papermill": {
     "duration": 0.015641,
     "end_time": "2023-01-19T21:13:08.868844",
     "exception": false,
     "start_time": "2023-01-19T21:13:08.853203",
     "status": "completed"
    },
    "tags": []
   },
   "outputs": [],
   "source": [
    "# preds_submis = model.predict(X_submis)"
   ]
  },
  {
   "cell_type": "code",
   "execution_count": 19,
   "id": "946697cf",
   "metadata": {
    "execution": {
     "iopub.execute_input": "2023-01-19T21:13:08.885829Z",
     "iopub.status.busy": "2023-01-19T21:13:08.885434Z",
     "iopub.status.idle": "2023-01-19T21:13:08.889526Z",
     "shell.execute_reply": "2023-01-19T21:13:08.888344Z"
    },
    "papermill": {
     "duration": 0.015239,
     "end_time": "2023-01-19T21:13:08.891671",
     "exception": false,
     "start_time": "2023-01-19T21:13:08.876432",
     "status": "completed"
    },
    "tags": []
   },
   "outputs": [],
   "source": [
    "# new_df = pd.DataFrame(preds_submis)\n",
    "# print(preds_submis.shape)"
   ]
  },
  {
   "cell_type": "code",
   "execution_count": 20,
   "id": "01d60b9e",
   "metadata": {
    "execution": {
     "iopub.execute_input": "2023-01-19T21:13:08.909536Z",
     "iopub.status.busy": "2023-01-19T21:13:08.908906Z",
     "iopub.status.idle": "2023-01-19T21:13:08.913444Z",
     "shell.execute_reply": "2023-01-19T21:13:08.912583Z"
    },
    "papermill": {
     "duration": 0.016027,
     "end_time": "2023-01-19T21:13:08.915609",
     "exception": false,
     "start_time": "2023-01-19T21:13:08.899582",
     "status": "completed"
    },
    "tags": []
   },
   "outputs": [],
   "source": [
    "# submission[target_col] = new_df\n",
    "# os.chdir('/kaggle/working/')\n",
    "# submission.to_csv('submission_.csv', index=False)\n",
    "# print(\"Your submission was successfully saved!\")"
   ]
  },
  {
   "cell_type": "code",
   "execution_count": 21,
   "id": "b40469ff",
   "metadata": {
    "execution": {
     "iopub.execute_input": "2023-01-19T21:13:08.932926Z",
     "iopub.status.busy": "2023-01-19T21:13:08.932281Z",
     "iopub.status.idle": "2023-01-19T21:13:08.937039Z",
     "shell.execute_reply": "2023-01-19T21:13:08.935986Z"
    },
    "papermill": {
     "duration": 0.016618,
     "end_time": "2023-01-19T21:13:08.939873",
     "exception": false,
     "start_time": "2023-01-19T21:13:08.923255",
     "status": "completed"
    },
    "tags": []
   },
   "outputs": [],
   "source": [
    "# print(type(np.array([100., 10., 1., 0.1, 0.01, 0.001])))"
   ]
  },
  {
   "cell_type": "code",
   "execution_count": 22,
   "id": "601c7457",
   "metadata": {
    "execution": {
     "iopub.execute_input": "2023-01-19T21:13:08.958183Z",
     "iopub.status.busy": "2023-01-19T21:13:08.957481Z",
     "iopub.status.idle": "2023-01-19T21:13:08.962356Z",
     "shell.execute_reply": "2023-01-19T21:13:08.961478Z"
    },
    "papermill": {
     "duration": 0.01647,
     "end_time": "2023-01-19T21:13:08.964602",
     "exception": false,
     "start_time": "2023-01-19T21:13:08.948132",
     "status": "completed"
    },
    "tags": []
   },
   "outputs": [],
   "source": [
    "# обдолбанные мысли\n",
    "#модет сёрч не надо запускать для трейнинга?\n",
    "#может не нужно готовить данные для сёрча, если он прогоняет их серез свои эстиматоры\n",
    "#зачем тогда регрессия в сёрче\n",
    "#"
   ]
  },
  {
   "cell_type": "code",
   "execution_count": 23,
   "id": "1ad18fc9",
   "metadata": {
    "execution": {
     "iopub.execute_input": "2023-01-19T21:13:08.982063Z",
     "iopub.status.busy": "2023-01-19T21:13:08.981375Z",
     "iopub.status.idle": "2023-01-19T21:13:08.986208Z",
     "shell.execute_reply": "2023-01-19T21:13:08.985399Z"
    },
    "papermill": {
     "duration": 0.016177,
     "end_time": "2023-01-19T21:13:08.988401",
     "exception": false,
     "start_time": "2023-01-19T21:13:08.972224",
     "status": "completed"
    },
    "tags": []
   },
   "outputs": [],
   "source": [
    "# X_train, X_test, y_train, y_test = train_test_split(data, y, test_size=0.2, random_state=0)\n"
   ]
  },
  {
   "cell_type": "code",
   "execution_count": 24,
   "id": "4cb33970",
   "metadata": {
    "execution": {
     "iopub.execute_input": "2023-01-19T21:13:09.006059Z",
     "iopub.status.busy": "2023-01-19T21:13:09.005635Z",
     "iopub.status.idle": "2023-01-19T21:13:09.106718Z",
     "shell.execute_reply": "2023-01-19T21:13:09.105543Z"
    },
    "papermill": {
     "duration": 0.114132,
     "end_time": "2023-01-19T21:13:09.110290",
     "exception": false,
     "start_time": "2023-01-19T21:13:08.996158",
     "status": "completed"
    },
    "tags": []
   },
   "outputs": [
    {
     "data": {
      "text/plain": [
       "Pipeline(steps=[('preprocessor',\n",
       "                 ColumnTransformer(transformers=[('num',\n",
       "                                                  Pipeline(steps=[('numerical',\n",
       "                                                                   StandardScaler())]),\n",
       "                                                  ['ClientPeriod',\n",
       "                                                   'MonthlySpending',\n",
       "                                                   'TotalSpent']),\n",
       "                                                 ('cat',\n",
       "                                                  Pipeline(steps=[('encoding',\n",
       "                                                                   LabelEncoder()),\n",
       "                                                                  ('onehot',\n",
       "                                                                   OneHotEncoder(handle_unknown='ignore'))]),\n",
       "                                                  [])])),\n",
       "                ('logreg', LogisticRegression())])"
      ]
     },
     "execution_count": 24,
     "metadata": {},
     "output_type": "execute_result"
    }
   ],
   "source": [
    "# DEBAG CELL\n",
    "\n",
    "C_l = (100, 10, 1, 0.1, 0.01, 0.001)\n",
    "\n",
    "# param_grid = {'C': C_l}\n",
    "\n",
    "param_grid = {\n",
    "    'logreg__class_weight':[None, 'balanced'],\n",
    "    'logreg__C':C_l,\n",
    "}\n",
    "# print(type(param_grid['logreg__C']))\n",
    "\n",
    "num_features = num_cols\n",
    "\n",
    "# preprocessing pipline for numeric data\n",
    "# нормализация численных данных\n",
    "num_transformer = Pipeline(steps=[\n",
    "    ('numerical', StandardScaler())])\n",
    "\n",
    "# кодировная каьегор жанных\n",
    "categorical_features = unique_cat\n",
    "\n",
    "# preprocessing pipline for categorical data\n",
    "categorical_transformer = Pipeline(steps=[\n",
    "    # ('imputer', SimpleImputer(strategy='constant', fill_value='missing')),\n",
    "    ('encoding', LabelEncoder()),\n",
    "    ('onehot', OneHotEncoder(handle_unknown='ignore'))\n",
    "    ])\n",
    "\n",
    "# использует трансвормеры на отдельных колонках\n",
    "preprocessor = ColumnTransformer(\n",
    "    transformers=[\n",
    "        ('num', num_transformer, num_features),\n",
    "        ('cat', categorical_transformer, categorical_features)])\n",
    "\n",
    "\n",
    "pipe =  Pipeline(steps=[('preprocessor', preprocessor),\n",
    "                   (\"logreg\", LogisticRegression())\n",
    "                   ])\n",
    "\n",
    "pipe.fit(X_train, y_train)\n",
    "\n",
    "# X_train, X_test, y_train, y_test = train_test_split(data, y, test_size=0.2, random_state=0)\n",
    "\n",
    "# search = GridSearchCV(pipe, \n",
    "#                       param_grid,\n",
    "#                       scoring='roc_auc',\n",
    "#                       cv=10,\n",
    "#                       refit=True)\n",
    "\n",
    "# # search.fit(X_train, y_train)"
   ]
  },
  {
   "cell_type": "code",
   "execution_count": 25,
   "id": "99662437",
   "metadata": {
    "execution": {
     "iopub.execute_input": "2023-01-19T21:13:09.137813Z",
     "iopub.status.busy": "2023-01-19T21:13:09.137229Z",
     "iopub.status.idle": "2023-01-19T21:13:09.153913Z",
     "shell.execute_reply": "2023-01-19T21:13:09.152503Z"
    },
    "papermill": {
     "duration": 0.034674,
     "end_time": "2023-01-19T21:13:09.157577",
     "exception": false,
     "start_time": "2023-01-19T21:13:09.122903",
     "status": "completed"
    },
    "tags": []
   },
   "outputs": [
    {
     "name": "stdout",
     "output_type": "stream",
     "text": [
      "model score: 0.771\n"
     ]
    }
   ],
   "source": [
    "print(\"model score: %.3f\" % pipe.score(X_test, y_test))"
   ]
  },
  {
   "cell_type": "code",
   "execution_count": 26,
   "id": "b1f86b0c",
   "metadata": {
    "execution": {
     "iopub.execute_input": "2023-01-19T21:13:09.176074Z",
     "iopub.status.busy": "2023-01-19T21:13:09.175294Z",
     "iopub.status.idle": "2023-01-19T21:13:09.208902Z",
     "shell.execute_reply": "2023-01-19T21:13:09.207994Z"
    },
    "papermill": {
     "duration": 0.045791,
     "end_time": "2023-01-19T21:13:09.211667",
     "exception": false,
     "start_time": "2023-01-19T21:13:09.165876",
     "status": "completed"
    },
    "tags": []
   },
   "outputs": [],
   "source": [
    "# test set download\n",
    "X_submis = pd.read_csv('/kaggle/input/advanced-dls-spring-2021/test.csv')\n",
    "X_submis[error_col] =  pd.to_numeric(X_submis[error_col], errors='coerce')\n",
    "median = X_submis[error_col].sum()//len(X_submis[error_col])\n",
    "X_submis = X_submis.fillna(median)\n",
    "\n",
    "submission = pd.read_csv('/kaggle/input/advanced-dls-spring-2021/submission.csv')"
   ]
  },
  {
   "cell_type": "code",
   "execution_count": 27,
   "id": "cf7d3af0",
   "metadata": {
    "execution": {
     "iopub.execute_input": "2023-01-19T21:13:09.230322Z",
     "iopub.status.busy": "2023-01-19T21:13:09.229543Z",
     "iopub.status.idle": "2023-01-19T21:13:09.239294Z",
     "shell.execute_reply": "2023-01-19T21:13:09.238201Z"
    },
    "papermill": {
     "duration": 0.022267,
     "end_time": "2023-01-19T21:13:09.242176",
     "exception": false,
     "start_time": "2023-01-19T21:13:09.219909",
     "status": "completed"
    },
    "tags": []
   },
   "outputs": [],
   "source": [
    "preds_train = pipe.predict(X_submis)"
   ]
  },
  {
   "cell_type": "code",
   "execution_count": 28,
   "id": "dcebfb3e",
   "metadata": {
    "execution": {
     "iopub.execute_input": "2023-01-19T21:13:09.260608Z",
     "iopub.status.busy": "2023-01-19T21:13:09.260194Z",
     "iopub.status.idle": "2023-01-19T21:13:09.265975Z",
     "shell.execute_reply": "2023-01-19T21:13:09.264630Z"
    },
    "papermill": {
     "duration": 0.018615,
     "end_time": "2023-01-19T21:13:09.268892",
     "exception": false,
     "start_time": "2023-01-19T21:13:09.250277",
     "status": "completed"
    },
    "tags": []
   },
   "outputs": [
    {
     "name": "stdout",
     "output_type": "stream",
     "text": [
      "(1761,)\n"
     ]
    }
   ],
   "source": [
    "new_df = pd.DataFrame(preds_train)\n",
    "print(preds_train.shape)"
   ]
  },
  {
   "cell_type": "code",
   "execution_count": 29,
   "id": "4acf93f5",
   "metadata": {
    "execution": {
     "iopub.execute_input": "2023-01-19T21:13:09.287110Z",
     "iopub.status.busy": "2023-01-19T21:13:09.286697Z",
     "iopub.status.idle": "2023-01-19T21:13:09.298145Z",
     "shell.execute_reply": "2023-01-19T21:13:09.296632Z"
    },
    "papermill": {
     "duration": 0.02349,
     "end_time": "2023-01-19T21:13:09.300631",
     "exception": false,
     "start_time": "2023-01-19T21:13:09.277141",
     "status": "completed"
    },
    "tags": []
   },
   "outputs": [
    {
     "name": "stdout",
     "output_type": "stream",
     "text": [
      "Your submission was successfully saved!\n"
     ]
    }
   ],
   "source": [
    "submission[target_col] = new_df\n",
    "os.chdir('/kaggle/working/')\n",
    "submission.to_csv('submission_.csv', index=False)\n",
    "print(\"Your submission was successfully saved!\")"
   ]
  },
  {
   "cell_type": "code",
   "execution_count": 30,
   "id": "caa8cd8c",
   "metadata": {
    "execution": {
     "iopub.execute_input": "2023-01-19T21:13:09.319023Z",
     "iopub.status.busy": "2023-01-19T21:13:09.318625Z",
     "iopub.status.idle": "2023-01-19T21:13:09.323310Z",
     "shell.execute_reply": "2023-01-19T21:13:09.321958Z"
    },
    "papermill": {
     "duration": 0.016845,
     "end_time": "2023-01-19T21:13:09.325693",
     "exception": false,
     "start_time": "2023-01-19T21:13:09.308848",
     "status": "completed"
    },
    "tags": []
   },
   "outputs": [],
   "source": [
    "# pipe.get_params().keys()"
   ]
  },
  {
   "cell_type": "code",
   "execution_count": 31,
   "id": "6373bf63",
   "metadata": {
    "execution": {
     "iopub.execute_input": "2023-01-19T21:13:09.343844Z",
     "iopub.status.busy": "2023-01-19T21:13:09.343409Z",
     "iopub.status.idle": "2023-01-19T21:13:09.348293Z",
     "shell.execute_reply": "2023-01-19T21:13:09.347259Z"
    },
    "papermill": {
     "duration": 0.016668,
     "end_time": "2023-01-19T21:13:09.350573",
     "exception": false,
     "start_time": "2023-01-19T21:13:09.333905",
     "status": "completed"
    },
    "tags": []
   },
   "outputs": [],
   "source": [
    "# preds_train = pipe.predict(X_test)"
   ]
  }
 ],
 "metadata": {
  "kernelspec": {
   "display_name": "Python 3",
   "language": "python",
   "name": "python3"
  },
  "language_info": {
   "codemirror_mode": {
    "name": "ipython",
    "version": 3
   },
   "file_extension": ".py",
   "mimetype": "text/x-python",
   "name": "python",
   "nbconvert_exporter": "python",
   "pygments_lexer": "ipython3",
   "version": "3.7.12"
  },
  "papermill": {
   "default_parameters": {},
   "duration": 11.649642,
   "end_time": "2023-01-19T21:13:10.083058",
   "environment_variables": {},
   "exception": null,
   "input_path": "__notebook__.ipynb",
   "output_path": "__notebook__.ipynb",
   "parameters": {},
   "start_time": "2023-01-19T21:12:58.433416",
   "version": "2.3.4"
  }
 },
 "nbformat": 4,
 "nbformat_minor": 5
}
