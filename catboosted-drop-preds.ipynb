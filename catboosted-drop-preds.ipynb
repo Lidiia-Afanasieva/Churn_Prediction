{
 "cells": [
  {
   "cell_type": "code",
   "execution_count": 1,
   "id": "19c09121",
   "metadata": {
    "_cell_guid": "b1076dfc-b9ad-4769-8c92-a6c4dae69d19",
    "_uuid": "8f2839f25d086af736a60e9eeb907d3b93b6e0e5",
    "execution": {
     "iopub.execute_input": "2023-01-26T00:28:15.993518Z",
     "iopub.status.busy": "2023-01-26T00:28:15.992741Z",
     "iopub.status.idle": "2023-01-26T00:28:17.512075Z",
     "shell.execute_reply": "2023-01-26T00:28:17.510841Z"
    },
    "papermill": {
     "duration": 1.53137,
     "end_time": "2023-01-26T00:28:17.515436",
     "exception": false,
     "start_time": "2023-01-26T00:28:15.984066",
     "status": "completed"
    },
    "tags": []
   },
   "outputs": [],
   "source": [
    "import os\n",
    "from sklearn.metrics import roc_auc_score\n",
    "import pandas as pd\n",
    "import numpy as np\n",
    "from matplotlib import pyplot as plt\n",
    "\n",
    "from sklearn.linear_model import LogisticRegression, LogisticRegressionCV\n",
    "from sklearn.model_selection import train_test_split, GridSearchCV\n",
    "from sklearn.preprocessing import StandardScaler, RobustScaler, LabelEncoder, OneHotEncoder\n",
    "from sklearn.pipeline import make_pipeline\n",
    "\n",
    "from sklearn.compose import ColumnTransformer\n",
    "from sklearn.pipeline import Pipeline\n",
    "from sklearn.impute import SimpleImputer\n",
    "\n",
    "from sklearn.metrics import confusion_matrix\n",
    "from sklearn.metrics import classification_report\n",
    "\n",
    "#for classification_report\n",
    "from sklearn.utils.multiclass import unique_labels\n",
    "from sklearn.metrics import precision_recall_fscore_support\n",
    "from tabulate import tabulate\n",
    "\n",
    "from catboost import CatBoostClassifier, Pool, metrics, cv\n",
    "from sklearn.metrics import accuracy_score"
   ]
  },
  {
   "cell_type": "code",
   "execution_count": 2,
   "id": "e8b40efc",
   "metadata": {
    "execution": {
     "iopub.execute_input": "2023-01-26T00:28:17.527830Z",
     "iopub.status.busy": "2023-01-26T00:28:17.527433Z",
     "iopub.status.idle": "2023-01-26T00:28:42.883767Z",
     "shell.execute_reply": "2023-01-26T00:28:42.882314Z"
    },
    "papermill": {
     "duration": 25.365672,
     "end_time": "2023-01-26T00:28:42.886816",
     "exception": false,
     "start_time": "2023-01-26T00:28:17.521144",
     "status": "completed"
    },
    "tags": []
   },
   "outputs": [
    {
     "name": "stdout",
     "output_type": "stream",
     "text": [
      "Requirement already satisfied: catboost in /opt/conda/lib/python3.7/site-packages (1.1.1)\r\n",
      "Requirement already satisfied: scipy in /opt/conda/lib/python3.7/site-packages (from catboost) (1.7.3)\r\n",
      "Requirement already satisfied: graphviz in /opt/conda/lib/python3.7/site-packages (from catboost) (0.8.4)\r\n",
      "Requirement already satisfied: six in /opt/conda/lib/python3.7/site-packages (from catboost) (1.15.0)\r\n",
      "Requirement already satisfied: matplotlib in /opt/conda/lib/python3.7/site-packages (from catboost) (3.5.2)\r\n",
      "Requirement already satisfied: numpy>=1.16.0 in /opt/conda/lib/python3.7/site-packages (from catboost) (1.21.6)\r\n",
      "Requirement already satisfied: plotly in /opt/conda/lib/python3.7/site-packages (from catboost) (5.12.0)\r\n",
      "Requirement already satisfied: pandas>=0.24.0 in /opt/conda/lib/python3.7/site-packages (from catboost) (1.3.5)\r\n",
      "Requirement already satisfied: python-dateutil>=2.7.3 in /opt/conda/lib/python3.7/site-packages (from pandas>=0.24.0->catboost) (2.8.2)\r\n",
      "Requirement already satisfied: pytz>=2017.3 in /opt/conda/lib/python3.7/site-packages (from pandas>=0.24.0->catboost) (2022.1)\r\n",
      "Requirement already satisfied: kiwisolver>=1.0.1 in /opt/conda/lib/python3.7/site-packages (from matplotlib->catboost) (1.4.3)\r\n",
      "Requirement already satisfied: packaging>=20.0 in /opt/conda/lib/python3.7/site-packages (from matplotlib->catboost) (23.0)\r\n",
      "Requirement already satisfied: cycler>=0.10 in /opt/conda/lib/python3.7/site-packages (from matplotlib->catboost) (0.11.0)\r\n",
      "Requirement already satisfied: fonttools>=4.22.0 in /opt/conda/lib/python3.7/site-packages (from matplotlib->catboost) (4.33.3)\r\n",
      "Requirement already satisfied: pillow>=6.2.0 in /opt/conda/lib/python3.7/site-packages (from matplotlib->catboost) (9.1.1)\r\n",
      "Requirement already satisfied: pyparsing>=2.2.1 in /opt/conda/lib/python3.7/site-packages (from matplotlib->catboost) (3.0.9)\r\n",
      "Requirement already satisfied: tenacity>=6.2.0 in /opt/conda/lib/python3.7/site-packages (from plotly->catboost) (8.0.1)\r\n",
      "Requirement already satisfied: typing-extensions in /opt/conda/lib/python3.7/site-packages (from kiwisolver>=1.0.1->matplotlib->catboost) (4.1.1)\r\n",
      "\u001b[33mWARNING: Running pip as the 'root' user can result in broken permissions and conflicting behaviour with the system package manager. It is recommended to use a virtual environment instead: https://pip.pypa.io/warnings/venv\u001b[0m\u001b[33m\r\n",
      "\u001b[0mRequirement already satisfied: ipywidgets in /opt/conda/lib/python3.7/site-packages (7.7.1)\r\n",
      "Requirement already satisfied: ipykernel>=4.5.1 in /opt/conda/lib/python3.7/site-packages (from ipywidgets) (6.15.0)\r\n",
      "Requirement already satisfied: jupyterlab-widgets>=1.0.0 in /opt/conda/lib/python3.7/site-packages (from ipywidgets) (1.1.1)\r\n",
      "Requirement already satisfied: widgetsnbextension~=3.6.0 in /opt/conda/lib/python3.7/site-packages (from ipywidgets) (3.6.1)\r\n",
      "Requirement already satisfied: ipython>=4.0.0 in /opt/conda/lib/python3.7/site-packages (from ipywidgets) (7.33.0)\r\n",
      "Requirement already satisfied: ipython-genutils~=0.2.0 in /opt/conda/lib/python3.7/site-packages (from ipywidgets) (0.2.0)\r\n",
      "Requirement already satisfied: traitlets>=4.3.1 in /opt/conda/lib/python3.7/site-packages (from ipywidgets) (5.3.0)\r\n",
      "Requirement already satisfied: tornado>=6.1 in /opt/conda/lib/python3.7/site-packages (from ipykernel>=4.5.1->ipywidgets) (6.1)\r\n",
      "Requirement already satisfied: nest-asyncio in /opt/conda/lib/python3.7/site-packages (from ipykernel>=4.5.1->ipywidgets) (1.5.5)\r\n",
      "Requirement already satisfied: debugpy>=1.0 in /opt/conda/lib/python3.7/site-packages (from ipykernel>=4.5.1->ipywidgets) (1.6.0)\r\n",
      "Requirement already satisfied: psutil in /opt/conda/lib/python3.7/site-packages (from ipykernel>=4.5.1->ipywidgets) (5.9.1)\r\n",
      "Requirement already satisfied: pyzmq>=17 in /opt/conda/lib/python3.7/site-packages (from ipykernel>=4.5.1->ipywidgets) (23.2.0)\r\n",
      "Requirement already satisfied: packaging in /opt/conda/lib/python3.7/site-packages (from ipykernel>=4.5.1->ipywidgets) (23.0)\r\n",
      "Requirement already satisfied: matplotlib-inline>=0.1 in /opt/conda/lib/python3.7/site-packages (from ipykernel>=4.5.1->ipywidgets) (0.1.3)\r\n",
      "Requirement already satisfied: jupyter-client>=6.1.12 in /opt/conda/lib/python3.7/site-packages (from ipykernel>=4.5.1->ipywidgets) (7.3.4)\r\n",
      "Requirement already satisfied: prompt-toolkit!=3.0.0,!=3.0.1,<3.1.0,>=2.0.0 in /opt/conda/lib/python3.7/site-packages (from ipython>=4.0.0->ipywidgets) (3.0.30)\r\n",
      "Requirement already satisfied: backcall in /opt/conda/lib/python3.7/site-packages (from ipython>=4.0.0->ipywidgets) (0.2.0)\r\n",
      "Requirement already satisfied: jedi>=0.16 in /opt/conda/lib/python3.7/site-packages (from ipython>=4.0.0->ipywidgets) (0.18.1)\r\n",
      "Requirement already satisfied: decorator in /opt/conda/lib/python3.7/site-packages (from ipython>=4.0.0->ipywidgets) (5.1.1)\r\n",
      "Requirement already satisfied: pexpect>4.3 in /opt/conda/lib/python3.7/site-packages (from ipython>=4.0.0->ipywidgets) (4.8.0)\r\n",
      "Requirement already satisfied: pygments in /opt/conda/lib/python3.7/site-packages (from ipython>=4.0.0->ipywidgets) (2.12.0)\r\n",
      "Requirement already satisfied: setuptools>=18.5 in /opt/conda/lib/python3.7/site-packages (from ipython>=4.0.0->ipywidgets) (59.8.0)\r\n",
      "Requirement already satisfied: pickleshare in /opt/conda/lib/python3.7/site-packages (from ipython>=4.0.0->ipywidgets) (0.7.5)\r\n",
      "Requirement already satisfied: notebook>=4.4.1 in /opt/conda/lib/python3.7/site-packages (from widgetsnbextension~=3.6.0->ipywidgets) (6.4.12)\r\n",
      "Requirement already satisfied: parso<0.9.0,>=0.8.0 in /opt/conda/lib/python3.7/site-packages (from jedi>=0.16->ipython>=4.0.0->ipywidgets) (0.8.3)\r\n",
      "Requirement already satisfied: python-dateutil>=2.8.2 in /opt/conda/lib/python3.7/site-packages (from jupyter-client>=6.1.12->ipykernel>=4.5.1->ipywidgets) (2.8.2)\r\n",
      "Requirement already satisfied: entrypoints in /opt/conda/lib/python3.7/site-packages (from jupyter-client>=6.1.12->ipykernel>=4.5.1->ipywidgets) (0.4)\r\n",
      "Requirement already satisfied: jupyter-core>=4.9.2 in /opt/conda/lib/python3.7/site-packages (from jupyter-client>=6.1.12->ipykernel>=4.5.1->ipywidgets) (4.10.0)\r\n",
      "Requirement already satisfied: Send2Trash>=1.8.0 in /opt/conda/lib/python3.7/site-packages (from notebook>=4.4.1->widgetsnbextension~=3.6.0->ipywidgets) (1.8.0)\r\n",
      "Requirement already satisfied: prometheus-client in /opt/conda/lib/python3.7/site-packages (from notebook>=4.4.1->widgetsnbextension~=3.6.0->ipywidgets) (0.14.1)\r\n",
      "Requirement already satisfied: jinja2 in /opt/conda/lib/python3.7/site-packages (from notebook>=4.4.1->widgetsnbextension~=3.6.0->ipywidgets) (3.1.2)\r\n",
      "Requirement already satisfied: nbformat in /opt/conda/lib/python3.7/site-packages (from notebook>=4.4.1->widgetsnbextension~=3.6.0->ipywidgets) (5.4.0)\r\n",
      "Requirement already satisfied: argon2-cffi in /opt/conda/lib/python3.7/site-packages (from notebook>=4.4.1->widgetsnbextension~=3.6.0->ipywidgets) (21.3.0)\r\n",
      "Requirement already satisfied: nbconvert>=5 in /opt/conda/lib/python3.7/site-packages (from notebook>=4.4.1->widgetsnbextension~=3.6.0->ipywidgets) (6.4.5)\r\n",
      "Requirement already satisfied: terminado>=0.8.3 in /opt/conda/lib/python3.7/site-packages (from notebook>=4.4.1->widgetsnbextension~=3.6.0->ipywidgets) (0.15.0)\r\n",
      "Requirement already satisfied: ptyprocess>=0.5 in /opt/conda/lib/python3.7/site-packages (from pexpect>4.3->ipython>=4.0.0->ipywidgets) (0.7.0)\r\n",
      "Requirement already satisfied: wcwidth in /opt/conda/lib/python3.7/site-packages (from prompt-toolkit!=3.0.0,!=3.0.1,<3.1.0,>=2.0.0->ipython>=4.0.0->ipywidgets) (0.2.5)\r\n",
      "Requirement already satisfied: mistune<2,>=0.8.1 in /opt/conda/lib/python3.7/site-packages (from nbconvert>=5->notebook>=4.4.1->widgetsnbextension~=3.6.0->ipywidgets) (0.8.4)\r\n",
      "Requirement already satisfied: testpath in /opt/conda/lib/python3.7/site-packages (from nbconvert>=5->notebook>=4.4.1->widgetsnbextension~=3.6.0->ipywidgets) (0.6.0)\r\n",
      "Requirement already satisfied: MarkupSafe>=2.0 in /opt/conda/lib/python3.7/site-packages (from nbconvert>=5->notebook>=4.4.1->widgetsnbextension~=3.6.0->ipywidgets) (2.1.2)\r\n",
      "Requirement already satisfied: defusedxml in /opt/conda/lib/python3.7/site-packages (from nbconvert>=5->notebook>=4.4.1->widgetsnbextension~=3.6.0->ipywidgets) (0.7.1)\r\n",
      "Requirement already satisfied: beautifulsoup4 in /opt/conda/lib/python3.7/site-packages (from nbconvert>=5->notebook>=4.4.1->widgetsnbextension~=3.6.0->ipywidgets) (4.11.1)\r\n",
      "Requirement already satisfied: bleach in /opt/conda/lib/python3.7/site-packages (from nbconvert>=5->notebook>=4.4.1->widgetsnbextension~=3.6.0->ipywidgets) (5.0.1)\r\n",
      "Requirement already satisfied: jupyterlab-pygments in /opt/conda/lib/python3.7/site-packages (from nbconvert>=5->notebook>=4.4.1->widgetsnbextension~=3.6.0->ipywidgets) (0.2.2)\r\n",
      "Requirement already satisfied: nbclient<0.6.0,>=0.5.0 in /opt/conda/lib/python3.7/site-packages (from nbconvert>=5->notebook>=4.4.1->widgetsnbextension~=3.6.0->ipywidgets) (0.5.13)\r\n",
      "Requirement already satisfied: pandocfilters>=1.4.1 in /opt/conda/lib/python3.7/site-packages (from nbconvert>=5->notebook>=4.4.1->widgetsnbextension~=3.6.0->ipywidgets) (1.5.0)\r\n",
      "Requirement already satisfied: fastjsonschema in /opt/conda/lib/python3.7/site-packages (from nbformat->notebook>=4.4.1->widgetsnbextension~=3.6.0->ipywidgets) (2.15.3)\r\n",
      "Requirement already satisfied: jsonschema>=2.6 in /opt/conda/lib/python3.7/site-packages (from nbformat->notebook>=4.4.1->widgetsnbextension~=3.6.0->ipywidgets) (4.6.1)\r\n",
      "Requirement already satisfied: six>=1.5 in /opt/conda/lib/python3.7/site-packages (from python-dateutil>=2.8.2->jupyter-client>=6.1.12->ipykernel>=4.5.1->ipywidgets) (1.15.0)\r\n",
      "Requirement already satisfied: typing-extensions in /opt/conda/lib/python3.7/site-packages (from argon2-cffi->notebook>=4.4.1->widgetsnbextension~=3.6.0->ipywidgets) (4.1.1)\r\n",
      "Requirement already satisfied: argon2-cffi-bindings in /opt/conda/lib/python3.7/site-packages (from argon2-cffi->notebook>=4.4.1->widgetsnbextension~=3.6.0->ipywidgets) (21.2.0)\r\n",
      "Requirement already satisfied: importlib-resources>=1.4.0 in /opt/conda/lib/python3.7/site-packages (from jsonschema>=2.6->nbformat->notebook>=4.4.1->widgetsnbextension~=3.6.0->ipywidgets) (5.10.2)\r\n",
      "Requirement already satisfied: pyrsistent!=0.17.0,!=0.17.1,!=0.17.2,>=0.14.0 in /opt/conda/lib/python3.7/site-packages (from jsonschema>=2.6->nbformat->notebook>=4.4.1->widgetsnbextension~=3.6.0->ipywidgets) (0.18.1)\r\n",
      "Requirement already satisfied: attrs>=17.4.0 in /opt/conda/lib/python3.7/site-packages (from jsonschema>=2.6->nbformat->notebook>=4.4.1->widgetsnbextension~=3.6.0->ipywidgets) (21.4.0)\r\n",
      "Requirement already satisfied: importlib-metadata in /opt/conda/lib/python3.7/site-packages (from jsonschema>=2.6->nbformat->notebook>=4.4.1->widgetsnbextension~=3.6.0->ipywidgets) (6.0.0)\r\n",
      "Requirement already satisfied: cffi>=1.0.1 in /opt/conda/lib/python3.7/site-packages (from argon2-cffi-bindings->argon2-cffi->notebook>=4.4.1->widgetsnbextension~=3.6.0->ipywidgets) (1.15.0)\r\n",
      "Requirement already satisfied: soupsieve>1.2 in /opt/conda/lib/python3.7/site-packages (from beautifulsoup4->nbconvert>=5->notebook>=4.4.1->widgetsnbextension~=3.6.0->ipywidgets) (2.3.1)\r\n",
      "Requirement already satisfied: webencodings in /opt/conda/lib/python3.7/site-packages (from bleach->nbconvert>=5->notebook>=4.4.1->widgetsnbextension~=3.6.0->ipywidgets) (0.5.1)\r\n",
      "Requirement already satisfied: pycparser in /opt/conda/lib/python3.7/site-packages (from cffi>=1.0.1->argon2-cffi-bindings->argon2-cffi->notebook>=4.4.1->widgetsnbextension~=3.6.0->ipywidgets) (2.21)\r\n",
      "Requirement already satisfied: zipp>=3.1.0 in /opt/conda/lib/python3.7/site-packages (from importlib-resources>=1.4.0->jsonschema>=2.6->nbformat->notebook>=4.4.1->widgetsnbextension~=3.6.0->ipywidgets) (3.8.0)\r\n",
      "\u001b[33mWARNING: Running pip as the 'root' user can result in broken permissions and conflicting behaviour with the system package manager. It is recommended to use a virtual environment instead: https://pip.pypa.io/warnings/venv\u001b[0m\u001b[33m\r\n",
      "\u001b[0mEnabling notebook extension jupyter-js-widgets/extension...\r\n",
      "      - Validating: \u001b[32mOK\u001b[0m\r\n"
     ]
    }
   ],
   "source": [
    "!pip install catboost\n",
    "!pip install ipywidgets\n",
    "!jupyter nbextension enable --py widgetsnbextension"
   ]
  },
  {
   "cell_type": "code",
   "execution_count": 3,
   "id": "b0d584ec",
   "metadata": {
    "execution": {
     "iopub.execute_input": "2023-01-26T00:28:42.902794Z",
     "iopub.status.busy": "2023-01-26T00:28:42.902340Z",
     "iopub.status.idle": "2023-01-26T00:28:42.911069Z",
     "shell.execute_reply": "2023-01-26T00:28:42.909828Z"
    },
    "papermill": {
     "duration": 0.019365,
     "end_time": "2023-01-26T00:28:42.913417",
     "exception": false,
     "start_time": "2023-01-26T00:28:42.894052",
     "status": "completed"
    },
    "tags": []
   },
   "outputs": [],
   "source": [
    "# Числовые признаки\n",
    "num_cols = [\n",
    "    'ClientPeriod',\n",
    "    'MonthlySpending',\n",
    "    'TotalSpent'\n",
    "]\n",
    "\n",
    "# Категориальные признаки\n",
    "cat_cols = [\n",
    "    'Sex',\n",
    "    'IsSeniorCitizen',\n",
    "    'HasPartner',\n",
    "    'HasChild',\n",
    "    'HasPhoneService',\n",
    "    'HasMultiplePhoneNumbers',\n",
    "    'HasInternetService',\n",
    "    'HasOnlineSecurityService',\n",
    "    'HasOnlineBackup',\n",
    "    'HasDeviceProtection',\n",
    "    'HasTechSupportAccess',\n",
    "    'HasOnlineTV',\n",
    "    'HasMovieSubscription',\n",
    "    'HasContractPhone',\n",
    "    'IsBillingPaperless',\n",
    "    'PaymentMethod'\n",
    "]\n",
    "\n",
    "no_cat = [\n",
    "    'ClientPeriod',\n",
    "    'MonthlySpending',\n",
    "    'TotalSpent',\n",
    "    'Churn'\n",
    "]\n",
    "\n",
    "feature_cols = num_cols + cat_cols\n",
    "col_count = len(feature_cols)\n",
    "unique_cat = []\n",
    "target_col = 'Churn'\n",
    "error_col = 'TotalSpent'"
   ]
  },
  {
   "cell_type": "code",
   "execution_count": 4,
   "id": "0bda33cc",
   "metadata": {
    "execution": {
     "iopub.execute_input": "2023-01-26T00:28:42.928515Z",
     "iopub.status.busy": "2023-01-26T00:28:42.928164Z",
     "iopub.status.idle": "2023-01-26T00:28:42.999475Z",
     "shell.execute_reply": "2023-01-26T00:28:42.998024Z"
    },
    "papermill": {
     "duration": 0.082598,
     "end_time": "2023-01-26T00:28:43.002730",
     "exception": false,
     "start_time": "2023-01-26T00:28:42.920132",
     "status": "completed"
    },
    "tags": []
   },
   "outputs": [],
   "source": [
    "# DATA IMPORT\n",
    "\n",
    "data = pd.read_csv('/kaggle/input/advanced-dls-spring-2021/train.csv')\n",
    "# похоже в этом столбце некорректный формат данных\n",
    "data[error_col] =  pd.to_numeric(data[error_col], errors='coerce')\n",
    "data.fillna(-999, inplace=True)"
   ]
  },
  {
   "cell_type": "code",
   "execution_count": 5,
   "id": "089ddd22",
   "metadata": {
    "execution": {
     "iopub.execute_input": "2023-01-26T00:28:43.018519Z",
     "iopub.status.busy": "2023-01-26T00:28:43.018023Z",
     "iopub.status.idle": "2023-01-26T00:28:43.037974Z",
     "shell.execute_reply": "2023-01-26T00:28:43.036833Z"
    },
    "papermill": {
     "duration": 0.031124,
     "end_time": "2023-01-26T00:28:43.041005",
     "exception": false,
     "start_time": "2023-01-26T00:28:43.009881",
     "status": "completed"
    },
    "tags": []
   },
   "outputs": [],
   "source": [
    "# DATASET SPLIT\n",
    "\n",
    "y = data[target_col]\n",
    "\n",
    "features_list = list(data)\n",
    "features_list.remove(target_col)\n",
    "\n",
    "X = data[features_list]\n",
    "X_train, X_validation, y_train, y_validation = train_test_split(X, y, \n",
    "                                                                train_size=0.9, \n",
    "                                                                random_state=42)\n",
    "\n",
    "# X_submis = X_submis.to_numpy()"
   ]
  },
  {
   "cell_type": "code",
   "execution_count": 6,
   "id": "04bdc857",
   "metadata": {
    "execution": {
     "iopub.execute_input": "2023-01-26T00:28:43.057272Z",
     "iopub.status.busy": "2023-01-26T00:28:43.056309Z",
     "iopub.status.idle": "2023-01-26T00:28:43.064457Z",
     "shell.execute_reply": "2023-01-26T00:28:43.063376Z"
    },
    "papermill": {
     "duration": 0.02129,
     "end_time": "2023-01-26T00:28:43.069416",
     "exception": false,
     "start_time": "2023-01-26T00:28:43.048126",
     "status": "completed"
    },
    "tags": []
   },
   "outputs": [
    {
     "name": "stdout",
     "output_type": "stream",
     "text": [
      "ClientPeriod                  int64\n",
      "MonthlySpending             float64\n",
      "TotalSpent                  float64\n",
      "Sex                          object\n",
      "IsSeniorCitizen               int64\n",
      "HasPartner                   object\n",
      "HasChild                     object\n",
      "HasPhoneService              object\n",
      "HasMultiplePhoneNumbers      object\n",
      "HasInternetService           object\n",
      "HasOnlineSecurityService     object\n",
      "HasOnlineBackup              object\n",
      "HasDeviceProtection          object\n",
      "HasTechSupportAccess         object\n",
      "HasOnlineTV                  object\n",
      "HasMovieSubscription         object\n",
      "HasContractPhone             object\n",
      "IsBillingPaperless           object\n",
      "PaymentMethod                object\n",
      "dtype: object\n"
     ]
    }
   ],
   "source": [
    "print(X.dtypes)\n",
    "\n",
    "categorical_features_indices = np.where(X.dtypes != float)[0]"
   ]
  },
  {
   "cell_type": "code",
   "execution_count": 7,
   "id": "3cfe4ff0",
   "metadata": {
    "execution": {
     "iopub.execute_input": "2023-01-26T00:28:43.085675Z",
     "iopub.status.busy": "2023-01-26T00:28:43.085253Z",
     "iopub.status.idle": "2023-01-26T00:28:43.092914Z",
     "shell.execute_reply": "2023-01-26T00:28:43.092046Z"
    },
    "papermill": {
     "duration": 0.017615,
     "end_time": "2023-01-26T00:28:43.094850",
     "exception": false,
     "start_time": "2023-01-26T00:28:43.077235",
     "status": "completed"
    },
    "tags": []
   },
   "outputs": [],
   "source": [
    "model = CatBoostClassifier(\n",
    "    custom_loss=[metrics.Accuracy()],\n",
    "    random_seed=42,\n",
    "    logging_level='Silent'\n",
    ")"
   ]
  },
  {
   "cell_type": "code",
   "execution_count": 8,
   "id": "a6c4b6d4",
   "metadata": {
    "execution": {
     "iopub.execute_input": "2023-01-26T00:28:43.110012Z",
     "iopub.status.busy": "2023-01-26T00:28:43.109601Z",
     "iopub.status.idle": "2023-01-26T00:28:43.158722Z",
     "shell.execute_reply": "2023-01-26T00:28:43.157745Z"
    },
    "papermill": {
     "duration": 0.06007,
     "end_time": "2023-01-26T00:28:43.161631",
     "exception": false,
     "start_time": "2023-01-26T00:28:43.101561",
     "status": "completed"
    },
    "tags": []
   },
   "outputs": [],
   "source": [
    "params = {\n",
    "    'iterations': 500,\n",
    "#     'learning_rate': 0.1,\n",
    "    'eval_metric': metrics.Accuracy(),\n",
    "    'random_seed': 42,\n",
    "    'logging_level': 'Silent',\n",
    "    'use_best_model': False\n",
    "}\n",
    "train_pool = Pool(X_train, y_train, cat_features=cat_cols)\n",
    "validate_pool = Pool(X_validation, y_validation, cat_features=cat_cols)"
   ]
  },
  {
   "cell_type": "code",
   "execution_count": 9,
   "id": "82aa90c4",
   "metadata": {
    "execution": {
     "iopub.execute_input": "2023-01-26T00:28:43.176929Z",
     "iopub.status.busy": "2023-01-26T00:28:43.176473Z",
     "iopub.status.idle": "2023-01-26T00:28:55.559838Z",
     "shell.execute_reply": "2023-01-26T00:28:55.558307Z"
    },
    "papermill": {
     "duration": 12.393811,
     "end_time": "2023-01-26T00:28:55.562338",
     "exception": false,
     "start_time": "2023-01-26T00:28:43.168527",
     "status": "completed"
    },
    "tags": []
   },
   "outputs": [
    {
     "name": "stdout",
     "output_type": "stream",
     "text": [
      "Simple model validation accuracy: 0.7694\n",
      "\n",
      "Best model validation accuracy: 0.7769\n"
     ]
    }
   ],
   "source": [
    "model = CatBoostClassifier(**params)\n",
    "model.fit(train_pool, eval_set=validate_pool)\n",
    "\n",
    "best_model_params = params.copy()\n",
    "best_model_params.update({\n",
    "    'use_best_model': True\n",
    "})\n",
    "best_model = CatBoostClassifier(**best_model_params)\n",
    "best_model.fit(train_pool, eval_set=validate_pool);\n",
    "\n",
    "print('Simple model validation accuracy: {:.4}'.format(\n",
    "    accuracy_score(y_validation, model.predict(X_validation))\n",
    "))\n",
    "print('')\n",
    "\n",
    "print('Best model validation accuracy: {:.4}'.format(\n",
    "    accuracy_score(y_validation, best_model.predict(X_validation))\n",
    "))"
   ]
  },
  {
   "cell_type": "code",
   "execution_count": 10,
   "id": "f79ec7dc",
   "metadata": {
    "collapsed": true,
    "execution": {
     "iopub.execute_input": "2023-01-26T00:28:55.578468Z",
     "iopub.status.busy": "2023-01-26T00:28:55.578063Z",
     "iopub.status.idle": "2023-01-26T00:28:55.582439Z",
     "shell.execute_reply": "2023-01-26T00:28:55.581275Z"
    },
    "jupyter": {
     "outputs_hidden": true
    },
    "papermill": {
     "duration": 0.015489,
     "end_time": "2023-01-26T00:28:55.584963",
     "exception": false,
     "start_time": "2023-01-26T00:28:55.569474",
     "status": "completed"
    },
    "tags": []
   },
   "outputs": [],
   "source": [
    "# model.fit(\n",
    "#     X_train, y_train,\n",
    "#     cat_features=cat_cols,\n",
    "#     eval_set=(X_validation, y_validation),\n",
    "#     logging_level='Verbose',  # you can uncomment this for text output\n",
    "#     plot=True\n",
    "# );"
   ]
  },
  {
   "cell_type": "code",
   "execution_count": 11,
   "id": "78677a0c",
   "metadata": {
    "execution": {
     "iopub.execute_input": "2023-01-26T00:28:55.600518Z",
     "iopub.status.busy": "2023-01-26T00:28:55.600134Z",
     "iopub.status.idle": "2023-01-26T00:28:55.632552Z",
     "shell.execute_reply": "2023-01-26T00:28:55.631609Z"
    },
    "papermill": {
     "duration": 0.043531,
     "end_time": "2023-01-26T00:28:55.635429",
     "exception": false,
     "start_time": "2023-01-26T00:28:55.591898",
     "status": "completed"
    },
    "tags": []
   },
   "outputs": [],
   "source": [
    "X_submis = pd.read_csv('/kaggle/input/advanced-dls-spring-2021/test.csv')\n",
    "X_submis[error_col] =  pd.to_numeric(X_submis[error_col], errors='coerce')\n",
    "median = X_submis[error_col].sum()//len(X_submis[error_col])\n",
    "X_submis = X_submis.fillna(median)"
   ]
  },
  {
   "cell_type": "code",
   "execution_count": 12,
   "id": "afe19b1b",
   "metadata": {
    "execution": {
     "iopub.execute_input": "2023-01-26T00:28:55.650610Z",
     "iopub.status.busy": "2023-01-26T00:28:55.650256Z",
     "iopub.status.idle": "2023-01-26T00:29:14.368968Z",
     "shell.execute_reply": "2023-01-26T00:29:14.367817Z"
    },
    "papermill": {
     "duration": 18.731247,
     "end_time": "2023-01-26T00:29:14.373499",
     "exception": false,
     "start_time": "2023-01-26T00:28:55.642252",
     "status": "completed"
    },
    "tags": []
   },
   "outputs": [
    {
     "data": {
      "application/vnd.jupyter.widget-view+json": {
       "model_id": "017672252ded43bd90ce8e2002e20e6e",
       "version_major": 2,
       "version_minor": 0
      },
      "text/plain": [
       "MetricVisualizer(layout=Layout(align_self='stretch', height='500px'))"
      ]
     },
     "metadata": {},
     "output_type": "display_data"
    }
   ],
   "source": [
    "cv_params = model.get_params()\n",
    "cv_params.update({\n",
    "    'loss_function': metrics.Logloss()\n",
    "})\n",
    "cv_data = cv(\n",
    "    Pool(X, y, cat_features=cat_cols),\n",
    "    cv_params,\n",
    "    plot=True\n",
    ")"
   ]
  },
  {
   "cell_type": "code",
   "execution_count": 13,
   "id": "7d8e2e38",
   "metadata": {
    "execution": {
     "iopub.execute_input": "2023-01-26T00:29:14.389864Z",
     "iopub.status.busy": "2023-01-26T00:29:14.389067Z",
     "iopub.status.idle": "2023-01-26T00:29:14.396888Z",
     "shell.execute_reply": "2023-01-26T00:29:14.395644Z"
    },
    "papermill": {
     "duration": 0.018995,
     "end_time": "2023-01-26T00:29:14.399705",
     "exception": false,
     "start_time": "2023-01-26T00:29:14.380710",
     "status": "completed"
    },
    "tags": []
   },
   "outputs": [
    {
     "name": "stdout",
     "output_type": "stream",
     "text": [
      "Best validation accuracy score: 0.81±0.01 on step 150\n"
     ]
    }
   ],
   "source": [
    "print('Best validation accuracy score: {:.2f}±{:.2f} on step {}'.format(\n",
    "    np.max(cv_data['test-Accuracy-mean']),\n",
    "    cv_data['test-Accuracy-std'][np.argmax(cv_data['test-Accuracy-mean'])],\n",
    "    np.argmax(cv_data['test-Accuracy-mean'])\n",
    "))"
   ]
  },
  {
   "cell_type": "code",
   "execution_count": 14,
   "id": "086412bf",
   "metadata": {
    "execution": {
     "iopub.execute_input": "2023-01-26T00:29:14.415305Z",
     "iopub.status.busy": "2023-01-26T00:29:14.414588Z",
     "iopub.status.idle": "2023-01-26T00:29:14.421740Z",
     "shell.execute_reply": "2023-01-26T00:29:14.420483Z"
    },
    "papermill": {
     "duration": 0.017959,
     "end_time": "2023-01-26T00:29:14.424583",
     "exception": false,
     "start_time": "2023-01-26T00:29:14.406624",
     "status": "completed"
    },
    "tags": []
   },
   "outputs": [
    {
     "name": "stdout",
     "output_type": "stream",
     "text": [
      "Precise validation accuracy score: 0.8068942833556908\n"
     ]
    }
   ],
   "source": [
    "print('Precise validation accuracy score: {}'.format(np.max(cv_data['test-Accuracy-mean'])))"
   ]
  },
  {
   "cell_type": "code",
   "execution_count": 15,
   "id": "a767e482",
   "metadata": {
    "execution": {
     "iopub.execute_input": "2023-01-26T00:29:14.440213Z",
     "iopub.status.busy": "2023-01-26T00:29:14.439808Z",
     "iopub.status.idle": "2023-01-26T00:29:14.467905Z",
     "shell.execute_reply": "2023-01-26T00:29:14.466862Z"
    },
    "papermill": {
     "duration": 0.038862,
     "end_time": "2023-01-26T00:29:14.470504",
     "exception": false,
     "start_time": "2023-01-26T00:29:14.431642",
     "status": "completed"
    },
    "tags": []
   },
   "outputs": [],
   "source": [
    "predictions = model.predict(X_submis)\n",
    "predictions_probs = model.predict_proba(X_submis)"
   ]
  },
  {
   "cell_type": "code",
   "execution_count": 16,
   "id": "45688b49",
   "metadata": {
    "execution": {
     "iopub.execute_input": "2023-01-26T00:29:14.486949Z",
     "iopub.status.busy": "2023-01-26T00:29:14.485718Z",
     "iopub.status.idle": "2023-01-26T00:29:14.492389Z",
     "shell.execute_reply": "2023-01-26T00:29:14.491062Z"
    },
    "papermill": {
     "duration": 0.017803,
     "end_time": "2023-01-26T00:29:14.495371",
     "exception": false,
     "start_time": "2023-01-26T00:29:14.477568",
     "status": "completed"
    },
    "tags": []
   },
   "outputs": [
    {
     "name": "stdout",
     "output_type": "stream",
     "text": [
      "(1761,)\n"
     ]
    }
   ],
   "source": [
    "new_df = pd.DataFrame(predictions)\n",
    "print(predictions.shape)"
   ]
  },
  {
   "cell_type": "code",
   "execution_count": 17,
   "id": "b57319f5",
   "metadata": {
    "execution": {
     "iopub.execute_input": "2023-01-26T00:29:14.512572Z",
     "iopub.status.busy": "2023-01-26T00:29:14.512153Z",
     "iopub.status.idle": "2023-01-26T00:29:14.526334Z",
     "shell.execute_reply": "2023-01-26T00:29:14.525252Z"
    },
    "papermill": {
     "duration": 0.026196,
     "end_time": "2023-01-26T00:29:14.529180",
     "exception": false,
     "start_time": "2023-01-26T00:29:14.502984",
     "status": "completed"
    },
    "tags": []
   },
   "outputs": [],
   "source": [
    "submission = pd.read_csv('/kaggle/input/advanced-dls-spring-2021/submission.csv')"
   ]
  },
  {
   "cell_type": "code",
   "execution_count": 18,
   "id": "f2624414",
   "metadata": {
    "execution": {
     "iopub.execute_input": "2023-01-26T00:29:14.545749Z",
     "iopub.status.busy": "2023-01-26T00:29:14.545285Z",
     "iopub.status.idle": "2023-01-26T00:29:14.559276Z",
     "shell.execute_reply": "2023-01-26T00:29:14.557633Z"
    },
    "papermill": {
     "duration": 0.025611,
     "end_time": "2023-01-26T00:29:14.562212",
     "exception": false,
     "start_time": "2023-01-26T00:29:14.536601",
     "status": "completed"
    },
    "tags": []
   },
   "outputs": [
    {
     "name": "stdout",
     "output_type": "stream",
     "text": [
      "Your submission was successfully saved!\n"
     ]
    }
   ],
   "source": [
    "submission[target_col] = new_df\n",
    "os.chdir('/kaggle/working/')\n",
    "submission.to_csv('submission.csv', index=False)\n",
    "print(\"Your submission was successfully saved!\")"
   ]
  }
 ],
 "metadata": {
  "kernelspec": {
   "display_name": "Python 3",
   "language": "python",
   "name": "python3"
  },
  "language_info": {
   "codemirror_mode": {
    "name": "ipython",
    "version": 3
   },
   "file_extension": ".py",
   "mimetype": "text/x-python",
   "name": "python",
   "nbconvert_exporter": "python",
   "pygments_lexer": "ipython3",
   "version": "3.7.12"
  },
  "papermill": {
   "default_parameters": {},
   "duration": 67.711071,
   "end_time": "2023-01-26T00:29:15.405344",
   "environment_variables": {},
   "exception": null,
   "input_path": "__notebook__.ipynb",
   "output_path": "__notebook__.ipynb",
   "parameters": {},
   "start_time": "2023-01-26T00:28:07.694273",
   "version": "2.3.4"
  },
  "widgets": {
   "application/vnd.jupyter.widget-state+json": {
    "state": {
     "017672252ded43bd90ce8e2002e20e6e": {
      "model_module": "catboost-widget",
      "model_module_version": "^1.0.0",
      "model_name": "CatboostWidgetModel",
      "state": {
       "_dom_classes": [],
       "_model_module": "catboost-widget",
       "_model_module_version": "^1.0.0",
       "_model_name": "CatboostWidgetModel",
       "_view_count": null,
       "_view_module": "catboost-widget",
       "_view_module_version": "^1.0.0",
       "_view_name": "CatboostWidgetView",
       "data": {
        "catboost_info/fold-0": {
         "content": {
          "data": {
           "iterations": [
            {
             "iteration": 0,
             "learn": [
              0.7869318182,
              0.672281936
             ],
             "passed_time": 0.02316467494,
             "remaining_time": 11.55917279,
             "test": [
              0.7820658343,
              0.672769311
             ]
            },
            {
             "iteration": 1,
             "learn": [
              0.796875,
              0.6533066276
             ],
             "passed_time": 0.03672601849,
             "remaining_time": 9.144778605,
             "test": [
              0.7820658343,
              0.6540587444
             ]
            },
            {
             "iteration": 2,
             "learn": [
              0.803125,
              0.6372563145
             ],
             "passed_time": 0.0493578043,
             "remaining_time": 8.176942913,
             "test": [
              0.7849035187,
              0.6384346936
             ]
            },
            {
             "iteration": 3,
             "learn": [
              0.803125,
              0.6213952247
             ],
             "passed_time": 0.06305904492,
             "remaining_time": 7.819321569,
             "test": [
              0.7786606129,
              0.6229122702
             ]
            },
            {
             "iteration": 4,
             "learn": [
              0.8048295455,
              0.6063196799
             ],
             "passed_time": 0.07685695433,
             "remaining_time": 7.608838479,
             "test": [
              0.7843359818,
              0.6083496998
             ]
            },
            {
             "iteration": 5,
             "learn": [
              0.8005681818,
              0.5918642241
             ],
             "passed_time": 0.08882766605,
             "remaining_time": 7.313477838,
             "test": [
              0.7860385925,
              0.594432868
             ]
            },
            {
             "iteration": 6,
             "learn": [
              0.8005681818,
              0.5789411972
             ],
             "passed_time": 0.1048473835,
             "remaining_time": 7.38425144,
             "test": [
              0.7860385925,
              0.5826650522
             ]
            },
            {
             "iteration": 7,
             "learn": [
              0.8,
              0.5688868745
             ],
             "passed_time": 0.1136628532,
             "remaining_time": 6.990265473,
             "test": [
              0.7854710556,
              0.5726784478
             ]
            },
            {
             "iteration": 8,
             "learn": [
              0.8005681818,
              0.5579377972
             ],
             "passed_time": 0.1279712565,
             "remaining_time": 6.981542992,
             "test": [
              0.7854710556,
              0.5620292505
             ]
            },
            {
             "iteration": 9,
             "learn": [
              0.7988636364,
              0.5480389681
             ],
             "passed_time": 0.145127446,
             "remaining_time": 7.111244856,
             "test": [
              0.7849035187,
              0.5527052703
             ]
            },
            {
             "iteration": 10,
             "learn": [
              0.7985795455,
              0.5379890764
             ],
             "passed_time": 0.1567783753,
             "remaining_time": 6.96951141,
             "test": [
              0.7809307605,
              0.5432248124
             ]
            },
            {
             "iteration": 11,
             "learn": [
              0.8045454545,
              0.5284579631
             ],
             "passed_time": 0.1708042027,
             "remaining_time": 6.946037577,
             "test": [
              0.7775255392,
              0.5347664588
             ]
            },
            {
             "iteration": 12,
             "learn": [
              0.8036931818,
              0.5211459914
             ],
             "passed_time": 0.1807542682,
             "remaining_time": 6.771332971,
             "test": [
              0.7797956867,
              0.5279080515
             ]
            },
            {
             "iteration": 13,
             "learn": [
              0.8045454545,
              0.512868075
             ],
             "passed_time": 0.1924259139,
             "remaining_time": 6.679928153,
             "test": [
              0.7809307605,
              0.5206688093
             ]
            },
            {
             "iteration": 14,
             "learn": [
              0.8051136364,
              0.5074529341
             ],
             "passed_time": 0.1998482637,
             "remaining_time": 6.461760527,
             "test": [
              0.7797956867,
              0.5158363092
             ]
            },
            {
             "iteration": 15,
             "learn": [
              0.8042613636,
              0.5015827693
             ],
             "passed_time": 0.2122984133,
             "remaining_time": 6.422027001,
             "test": [
              0.7809307605,
              0.5100902829
             ]
            },
            {
             "iteration": 16,
             "learn": [
              0.8039772727,
              0.4950360513
             ],
             "passed_time": 0.2236217203,
             "remaining_time": 6.353487701,
             "test": [
              0.7826333712,
              0.5042444142
             ]
            },
            {
             "iteration": 17,
             "learn": [
              0.8036931818,
              0.4897878236
             ],
             "passed_time": 0.2319045853,
             "remaining_time": 6.20988945,
             "test": [
              0.7826333712,
              0.4996242785
             ]
            },
            {
             "iteration": 18,
             "learn": [
              0.8048295455,
              0.4844924023
             ],
             "passed_time": 0.2440163931,
             "remaining_time": 6.177467635,
             "test": [
              0.7820658343,
              0.4947835327
             ]
            },
            {
             "iteration": 19,
             "learn": [
              0.8059659091,
              0.4790970046
             ],
             "passed_time": 0.2580625724,
             "remaining_time": 6.193501738,
             "test": [
              0.7877412032,
              0.4900064244
             ]
            },
            {
             "iteration": 20,
             "learn": [
              0.8051136364,
              0.4756393756
             ],
             "passed_time": 0.266416749,
             "remaining_time": 6.07683918,
             "test": [
              0.7837684449,
              0.4871468161
             ]
            },
            {
             "iteration": 21,
             "learn": [
              0.8065340909,
              0.471152484
             ],
             "passed_time": 0.2792688686,
             "remaining_time": 6.067750873,
             "test": [
              0.7832009081,
              0.4833907708
             ]
            },
            {
             "iteration": 22,
             "learn": [
              0.80625,
              0.4675862964
             ],
             "passed_time": 0.2903460693,
             "remaining_time": 6.021525002,
             "test": [
              0.7883087401,
              0.4803926722
             ]
            },
            {
             "iteration": 23,
             "learn": [
              0.8059659091,
              0.4636863309
             ],
             "passed_time": 0.3014351177,
             "remaining_time": 5.978463167,
             "test": [
              0.7894438138,
              0.4772848408
             ]
            },
            {
             "iteration": 24,
             "learn": [
              0.8065340909,
              0.4597328397
             ],
             "passed_time": 0.3132044512,
             "remaining_time": 5.950884573,
             "test": [
              0.7894438138,
              0.4740131914
             ]
            },
            {
             "iteration": 25,
             "learn": [
              0.80625,
              0.4563351044
             ],
             "passed_time": 0.3246294214,
             "remaining_time": 5.918244067,
             "test": [
              0.7894438138,
              0.4711916528
             ]
            },
            {
             "iteration": 26,
             "learn": [
              0.8065340909,
              0.4535465414
             ],
             "passed_time": 0.3376985395,
             "remaining_time": 5.915978118,
             "test": [
              0.788876277,
              0.4688787104
             ]
            },
            {
             "iteration": 27,
             "learn": [
              0.8071022727,
              0.4510444214
             ],
             "passed_time": 0.3454318404,
             "remaining_time": 5.82299388,
             "test": [
              0.7905788876,
              0.4667328419
             ]
            },
            {
             "iteration": 28,
             "learn": [
              0.80625,
              0.4482817899
             ],
             "passed_time": 0.356569974,
             "remaining_time": 5.791188199,
             "test": [
              0.7900113507,
              0.4644178367
             ]
            },
            {
             "iteration": 29,
             "learn": [
              0.80625,
              0.4455432646
             ],
             "passed_time": 0.3716654863,
             "remaining_time": 5.822759285,
             "test": [
              0.7900113507,
              0.4622110792
             ]
            },
            {
             "iteration": 30,
             "learn": [
              0.80625,
              0.4428401132
             ],
             "passed_time": 0.3833300049,
             "remaining_time": 5.79941201,
             "test": [
              0.7900113507,
              0.4602372904
             ]
            },
            {
             "iteration": 31,
             "learn": [
              0.8065340909,
              0.441080866
             ],
             "passed_time": 0.3971052853,
             "remaining_time": 5.807664797,
             "test": [
              0.7900113507,
              0.4588388206
             ]
            },
            {
             "iteration": 32,
             "learn": [
              0.80625,
              0.4385998119
             ],
             "passed_time": 0.4187208703,
             "remaining_time": 5.925534741,
             "test": [
              0.7911464245,
              0.4570779803
             ]
            },
            {
             "iteration": 33,
             "learn": [
              0.8065340909,
              0.4360086124
             ],
             "passed_time": 0.4318294913,
             "remaining_time": 5.918604205,
             "test": [
              0.7917139614,
              0.4553636703
             ]
            },
            {
             "iteration": 34,
             "learn": [
              0.8065340909,
              0.4341056884
             ],
             "passed_time": 0.4426104413,
             "remaining_time": 5.880395863,
             "test": [
              0.7917139614,
              0.4538196094
             ]
            },
            {
             "iteration": 35,
             "learn": [
              0.80625,
              0.4320191486
             ],
             "passed_time": 0.456086472,
             "remaining_time": 5.878447861,
             "test": [
              0.7905788876,
              0.452337602
             ]
            },
            {
             "iteration": 36,
             "learn": [
              0.8073863636,
              0.4304126227
             ],
             "passed_time": 0.463824609,
             "remaining_time": 5.804075513,
             "test": [
              0.7911464245,
              0.4508783394
             ]
            },
            {
             "iteration": 37,
             "learn": [
              0.8068181818,
              0.4294747401
             ],
             "passed_time": 0.4693864788,
             "remaining_time": 5.706751401,
             "test": [
              0.7911464245,
              0.4503031541
             ]
            },
            {
             "iteration": 38,
             "learn": [
              0.8076704545,
              0.4274979294
             ],
             "passed_time": 0.4809402293,
             "remaining_time": 5.684960146,
             "test": [
              0.7911464245,
              0.4490701413
             ]
            },
            {
             "iteration": 39,
             "learn": [
              0.8088068182,
              0.4261137962
             ],
             "passed_time": 0.4914690313,
             "remaining_time": 5.65189386,
             "test": [
              0.7894438138,
              0.4480369426
             ]
            },
            {
             "iteration": 40,
             "learn": [
              0.8076704545,
              0.4243845276
             ],
             "passed_time": 0.5020661306,
             "remaining_time": 5.620691559,
             "test": [
              0.7894438138,
              0.4468352149
             ]
            },
            {
             "iteration": 41,
             "learn": [
              0.8082386364,
              0.4239508065
             ],
             "passed_time": 0.5059306056,
             "remaining_time": 5.517052795,
             "test": [
              0.7894438138,
              0.4464885889
             ]
            },
            {
             "iteration": 42,
             "learn": [
              0.8076704545,
              0.4223651628
             ],
             "passed_time": 0.5171516759,
             "remaining_time": 5.496239905,
             "test": [
              0.7894438138,
              0.4454730174
             ]
            },
            {
             "iteration": 43,
             "learn": [
              0.8085227273,
              0.4209421803
             ],
             "passed_time": 0.5285640667,
             "remaining_time": 5.477845782,
             "test": [
              0.7894438138,
              0.4444461494
             ]
            },
            {
             "iteration": 44,
             "learn": [
              0.8088068182,
              0.4195195483
             ],
             "passed_time": 0.5393463893,
             "remaining_time": 5.45339127,
             "test": [
              0.7905788876,
              0.4434887847
             ]
            },
            {
             "iteration": 45,
             "learn": [
              0.8082386364,
              0.418325867
             ],
             "passed_time": 0.5512032793,
             "remaining_time": 5.440136713,
             "test": [
              0.7905788876,
              0.4427883439
             ]
            },
            {
             "iteration": 46,
             "learn": [
              0.8088068182,
              0.4169421941
             ],
             "passed_time": 0.5616177823,
             "remaining_time": 5.413039476,
             "test": [
              0.788876277,
              0.4417489615
             ]
            },
            {
             "iteration": 47,
             "learn": [
              0.8085227273,
              0.4159510105
             ],
             "passed_time": 0.5726021413,
             "remaining_time": 5.392003497,
             "test": [
              0.7894438138,
              0.4409654943
             ]
            },
            {
             "iteration": 48,
             "learn": [
              0.8090909091,
              0.4146259631
             ],
             "passed_time": 0.5839685384,
             "remaining_time": 5.374894099,
             "test": [
              0.7894438138,
              0.44005991
             ]
            },
            {
             "iteration": 49,
             "learn": [
              0.8099431818,
              0.4132465037
             ],
             "passed_time": 0.5959864328,
             "remaining_time": 5.363877895,
             "test": [
              0.7894438138,
              0.4391608049
             ]
            },
            {
             "iteration": 50,
             "learn": [
              0.809375,
              0.4118147058
             ],
             "passed_time": 0.6061647226,
             "remaining_time": 5.336626676,
             "test": [
              0.7905788876,
              0.4382831783
             ]
            },
            {
             "iteration": 51,
             "learn": [
              0.8096590909,
              0.4113559975
             ],
             "passed_time": 0.6119131513,
             "remaining_time": 5.27186715,
             "test": [
              0.7905788876,
              0.437919093
             ]
            },
            {
             "iteration": 52,
             "learn": [
              0.809375,
              0.4106062648
             ],
             "passed_time": 0.6212353213,
             "remaining_time": 5.239475257,
             "test": [
              0.7911464245,
              0.4373165585
             ]
            },
            {
             "iteration": 53,
             "learn": [
              0.8105113636,
              0.4097537271
             ],
             "passed_time": 0.6313553309,
             "remaining_time": 5.214527362,
             "test": [
              0.7905788876,
              0.4367730035
             ]
            },
            {
             "iteration": 54,
             "learn": [
              0.8105113636,
              0.4089431949
             ],
             "passed_time": 0.6402010584,
             "remaining_time": 5.179808564,
             "test": [
              0.7905788876,
              0.4361375505
             ]
            },
            {
             "iteration": 55,
             "learn": [
              0.8119318182,
              0.4081108992
             ],
             "passed_time": 0.6491268591,
             "remaining_time": 5.146648669,
             "test": [
              0.7911464245,
              0.4357504886
             ]
            },
            {
             "iteration": 56,
             "learn": [
              0.8122159091,
              0.4072464852
             ],
             "passed_time": 0.6590706421,
             "remaining_time": 5.12225078,
             "test": [
              0.7917139614,
              0.4350260694
             ]
            },
            {
             "iteration": 57,
             "learn": [
              0.8122159091,
              0.4067732735
             ],
             "passed_time": 0.6673592205,
             "remaining_time": 5.085737508,
             "test": [
              0.7917139614,
              0.4346274081
             ]
            },
            {
             "iteration": 58,
             "learn": [
              0.8133522727,
              0.4056921733
             ],
             "passed_time": 0.6790739689,
             "remaining_time": 5.075790174,
             "test": [
              0.7922814983,
              0.4341065152
             ]
            },
            {
             "iteration": 59,
             "learn": [
              0.8130681818,
              0.4049855111
             ],
             "passed_time": 0.6907353577,
             "remaining_time": 5.065392623,
             "test": [
              0.7911464245,
              0.4335742536
             ]
            },
            {
             "iteration": 60,
             "learn": [
              0.8130681818,
              0.4039307533
             ],
             "passed_time": 0.702592575,
             "remaining_time": 5.056362957,
             "test": [
              0.7922814983,
              0.4331310799
             ]
            },
            {
             "iteration": 61,
             "learn": [
              0.8136363636,
              0.4033344409
             ],
             "passed_time": 0.7126422519,
             "remaining_time": 5.034472682,
             "test": [
              0.7911464245,
              0.4329014668
             ]
            },
            {
             "iteration": 62,
             "learn": [
              0.8133522727,
              0.402880645
             ],
             "passed_time": 0.7248512857,
             "remaining_time": 5.027936696,
             "test": [
              0.7922814983,
              0.4325035739
             ]
            },
            {
             "iteration": 63,
             "learn": [
              0.8142045455,
              0.4022430297
             ],
             "passed_time": 0.7361987245,
             "remaining_time": 5.015353811,
             "test": [
              0.7934165721,
              0.4320631626
             ]
            },
            {
             "iteration": 64,
             "learn": [
              0.8142045455,
              0.4016647656
             ],
             "passed_time": 0.7466886909,
             "remaining_time": 4.99707047,
             "test": [
              0.7945516459,
              0.4318719783
             ]
            },
            {
             "iteration": 65,
             "learn": [
              0.8136363636,
              0.4014541523
             ],
             "passed_time": 0.7571700212,
             "remaining_time": 4.978966503,
             "test": [
              0.7945516459,
              0.4317571656
             ]
            },
            {
             "iteration": 66,
             "learn": [
              0.8147727273,
              0.4006200759
             ],
             "passed_time": 0.7676283042,
             "remaining_time": 4.96094113,
             "test": [
              0.7956867196,
              0.4313703235
             ]
            },
            {
             "iteration": 67,
             "learn": [
              0.8147727273,
              0.3997476596
             ],
             "passed_time": 0.779563651,
             "remaining_time": 4.952522018,
             "test": [
              0.7962542565,
              0.4310983754
             ]
            },
            {
             "iteration": 68,
             "learn": [
              0.8139204545,
              0.3994927902
             ],
             "passed_time": 0.7899624174,
             "remaining_time": 4.934402926,
             "test": [
              0.7962542565,
              0.4310247463
             ]
            },
            {
             "iteration": 69,
             "learn": [
              0.8150568182,
              0.3986054291
             ],
             "passed_time": 0.8011825823,
             "remaining_time": 4.921550148,
             "test": [
              0.7956867196,
              0.4309402659
             ]
            },
            {
             "iteration": 70,
             "learn": [
              0.8150568182,
              0.3984086734
             ],
             "passed_time": 0.8071819526,
             "remaining_time": 4.877197995,
             "test": [
              0.7962542565,
              0.4307746072
             ]
            },
            {
             "iteration": 71,
             "learn": [
              0.8153409091,
              0.3979052293
             ],
             "passed_time": 0.8185455362,
             "remaining_time": 4.865798465,
             "test": [
              0.7962542565,
              0.4305643299
             ]
            },
            {
             "iteration": 72,
             "learn": [
              0.8173295455,
              0.3971822617
             ],
             "passed_time": 0.8286826896,
             "remaining_time": 4.847226143,
             "test": [
              0.7973893303,
              0.4302177997
             ]
            },
            {
             "iteration": 73,
             "learn": [
              0.8164772727,
              0.3966273
             ],
             "passed_time": 0.8399000846,
             "remaining_time": 4.835100487,
             "test": [
              0.7968217934,
              0.4300533481
             ]
            },
            {
             "iteration": 74,
             "learn": [
              0.8167613636,
              0.3964891993
             ],
             "passed_time": 0.8485571752,
             "remaining_time": 4.80849066,
             "test": [
              0.7968217934,
              0.4300207755
             ]
            },
            {
             "iteration": 75,
             "learn": [
              0.8170454545,
              0.3959402019
             ],
             "passed_time": 0.861614341,
             "remaining_time": 4.806901061,
             "test": [
              0.7979568672,
              0.4297751573
             ]
            },
            {
             "iteration": 76,
             "learn": [
              0.8178977273,
              0.3954591109
             ],
             "passed_time": 0.8736989609,
             "remaining_time": 4.799670915,
             "test": [
              0.7968217934,
              0.4295144321
             ]
            },
            {
             "iteration": 77,
             "learn": [
              0.8178977273,
              0.395031516
             ],
             "passed_time": 0.8847895774,
             "remaining_time": 4.786938483,
             "test": [
              0.7968217934,
              0.4292642955
             ]
            },
            {
             "iteration": 78,
             "learn": [
              0.8193181818,
              0.3948324328
             ],
             "passed_time": 0.893835535,
             "remaining_time": 4.763351395,
             "test": [
              0.7968217934,
              0.4291333618
             ]
            },
            {
             "iteration": 79,
             "learn": [
              0.8198863636,
              0.3945672784
             ],
             "passed_time": 0.9046998943,
             "remaining_time": 4.749674445,
             "test": [
              0.7973893303,
              0.4290322538
             ]
            },
            {
             "iteration": 80,
             "learn": [
              0.8193181818,
              0.394077961
             ],
             "passed_time": 0.915740991,
             "remaining_time": 4.736981176,
             "test": [
              0.7968217934,
              0.428828363
             ]
            },
            {
             "iteration": 81,
             "learn": [
              0.8196022727,
              0.3933096074
             ],
             "passed_time": 0.9274726679,
             "remaining_time": 4.727848478,
             "test": [
              0.7968217934,
              0.4287631325
             ]
            },
            {
             "iteration": 82,
             "learn": [
              0.8193181818,
              0.392952404
             ],
             "passed_time": 0.9399439529,
             "remaining_time": 4.722369016,
             "test": [
              0.7973893303,
              0.4287160188
             ]
            },
            {
             "iteration": 83,
             "learn": [
              0.8196022727,
              0.3925744447
             ],
             "passed_time": 0.9507739536,
             "remaining_time": 4.708594818,
             "test": [
              0.7968217934,
              0.4286374054
             ]
            },
            {
             "iteration": 84,
             "learn": [
              0.8193181818,
              0.3922809543
             ],
             "passed_time": 0.9618571923,
             "remaining_time": 4.696126292,
             "test": [
              0.7968217934,
              0.4284551248
             ]
            },
            {
             "iteration": 85,
             "learn": [
              0.8198863636,
              0.3918600205
             ],
             "passed_time": 0.9731195663,
             "remaining_time": 4.684552331,
             "test": [
              0.7968217934,
              0.4283583521
             ]
            },
            {
             "iteration": 86,
             "learn": [
              0.8196022727,
              0.391191985
             ],
             "passed_time": 0.9901942292,
             "remaining_time": 4.700577203,
             "test": [
              0.7962542565,
              0.4281046911
             ]
            },
            {
             "iteration": 87,
             "learn": [
              0.8196022727,
              0.3906499549
             ],
             "passed_time": 1.002835732,
             "remaining_time": 4.695094563,
             "test": [
              0.7962542565,
              0.4280877857
             ]
            },
            {
             "iteration": 88,
             "learn": [
              0.8198863636,
              0.3902368888
             ],
             "passed_time": 1.016869818,
             "remaining_time": 4.695881969,
             "test": [
              0.7962542565,
              0.4280497465
             ]
            },
            {
             "iteration": 89,
             "learn": [
              0.8196022727,
              0.3897545665
             ],
             "passed_time": 1.029721964,
             "remaining_time": 4.690955614,
             "test": [
              0.7951191827,
              0.427876422
             ]
            },
            {
             "iteration": 90,
             "learn": [
              0.8198863636,
              0.3894346954
             ],
             "passed_time": 1.044481219,
             "remaining_time": 4.694426578,
             "test": [
              0.7951191827,
              0.4275908139
             ]
            },
            {
             "iteration": 91,
             "learn": [
              0.8198863636,
              0.3889633445
             ],
             "passed_time": 1.060161481,
             "remaining_time": 4.701585699,
             "test": [
              0.7951191827,
              0.4272711118
             ]
            },
            {
             "iteration": 92,
             "learn": [
              0.8201704545,
              0.3887273862
             ],
             "passed_time": 1.069151629,
             "remaining_time": 4.67897541,
             "test": [
              0.7951191827,
              0.4272279477
             ]
            },
            {
             "iteration": 93,
             "learn": [
              0.8198863636,
              0.3886448699
             ],
             "passed_time": 1.073736694,
             "remaining_time": 4.6376287,
             "test": [
              0.7956867196,
              0.4271871612
             ]
            },
            {
             "iteration": 94,
             "learn": [
              0.8204545455,
              0.3881062013
             ],
             "passed_time": 1.084844995,
             "remaining_time": 4.624865507,
             "test": [
              0.7945516459,
              0.4273324016
             ]
            },
            {
             "iteration": 95,
             "learn": [
              0.8213068182,
              0.3875352274
             ],
             "passed_time": 1.095959658,
             "remaining_time": 4.612163562,
             "test": [
              0.7956867196,
              0.4274234269
             ]
            },
            {
             "iteration": 96,
             "learn": [
              0.8204545455,
              0.3874604674
             ],
             "passed_time": 1.102246652,
             "remaining_time": 4.579437122,
             "test": [
              0.7956867196,
              0.4273548789
             ]
            },
            {
             "iteration": 97,
             "learn": [
              0.8204545455,
              0.3874584926
             ],
             "passed_time": 1.104649168,
             "remaining_time": 4.531315973,
             "test": [
              0.7956867196,
              0.4273552339
             ]
            },
            {
             "iteration": 98,
             "learn": [
              0.8204545455,
              0.3873938676
             ],
             "passed_time": 1.107970738,
             "remaining_time": 4.487841071,
             "test": [
              0.7956867196,
              0.4273285385
             ]
            },
            {
             "iteration": 99,
             "learn": [
              0.8213068182,
              0.3869923091
             ],
             "passed_time": 1.118760501,
             "remaining_time": 4.475042003,
             "test": [
              0.7956867196,
              0.4272368078
             ]
            },
            {
             "iteration": 100,
             "learn": [
              0.8213068182,
              0.3869053629
             ],
             "passed_time": 1.131133604,
             "remaining_time": 4.468537704,
             "test": [
              0.7968217934,
              0.4272368036
             ]
            },
            {
             "iteration": 101,
             "learn": [
              0.8221590909,
              0.3867361369
             ],
             "passed_time": 1.143160175,
             "remaining_time": 4.460566175,
             "test": [
              0.7968217934,
              0.4271841097
             ]
            },
            {
             "iteration": 102,
             "learn": [
              0.821875,
              0.3866926871
             ],
             "passed_time": 1.151908185,
             "remaining_time": 4.439879122,
             "test": [
              0.7973893303,
              0.4272085479
             ]
            },
            {
             "iteration": 103,
             "learn": [
              0.821875,
              0.3865862008
             ],
             "passed_time": 1.161323198,
             "remaining_time": 4.421961407,
             "test": [
              0.7973893303,
              0.427182446
             ]
            },
            {
             "iteration": 104,
             "learn": [
              0.8215909091,
              0.386348977
             ],
             "passed_time": 1.172450984,
             "remaining_time": 4.410648939,
             "test": [
              0.7968217934,
              0.4270864101
             ]
            },
            {
             "iteration": 105,
             "learn": [
              0.8210227273,
              0.3860433146
             ],
             "passed_time": 1.18452263,
             "remaining_time": 4.402848265,
             "test": [
              0.7973893303,
              0.4269989698
             ]
            },
            {
             "iteration": 106,
             "learn": [
              0.8207386364,
              0.3858730366
             ],
             "passed_time": 1.192111948,
             "remaining_time": 4.378504632,
             "test": [
              0.7973893303,
              0.4269518502
             ]
            },
            {
             "iteration": 107,
             "learn": [
              0.8207386364,
              0.3857452576
             ],
             "passed_time": 1.201112677,
             "remaining_time": 4.35959416,
             "test": [
              0.7973893303,
              0.4269452937
             ]
            },
            {
             "iteration": 108,
             "learn": [
              0.8210227273,
              0.3854135225
             ],
             "passed_time": 1.214185065,
             "remaining_time": 4.355471198,
             "test": [
              0.7968217934,
              0.4268677997
             ]
            },
            {
             "iteration": 109,
             "learn": [
              0.821875,
              0.3850964173
             ],
             "passed_time": 1.225744989,
             "remaining_time": 4.345823144,
             "test": [
              0.7968217934,
              0.4268108452
             ]
            },
            {
             "iteration": 110,
             "learn": [
              0.8221590909,
              0.3850662777
             ],
             "passed_time": 1.233043997,
             "remaining_time": 4.321208241,
             "test": [
              0.7962542565,
              0.4268130622
             ]
            },
            {
             "iteration": 111,
             "learn": [
              0.8224431818,
              0.3846402302
             ],
             "passed_time": 1.243471418,
             "remaining_time": 4.307740271,
             "test": [
              0.7962542565,
              0.4266398999
             ]
            },
            {
             "iteration": 112,
             "learn": [
              0.8215909091,
              0.3843063454
             ],
             "passed_time": 1.255416448,
             "remaining_time": 4.299523589,
             "test": [
              0.7956867196,
              0.4266432084
             ]
            },
            {
             "iteration": 113,
             "learn": [
              0.8213068182,
              0.3839799686
             ],
             "passed_time": 1.267778977,
             "remaining_time": 4.292655133,
             "test": [
              0.7956867196,
              0.4265468738
             ]
            },
            {
             "iteration": 114,
             "learn": [
              0.8215909091,
              0.3839411838
             ],
             "passed_time": 1.271200165,
             "remaining_time": 4.255757073,
             "test": [
              0.7956867196,
              0.426512321
             ]
            },
            {
             "iteration": 115,
             "learn": [
              0.8210227273,
              0.3836442183
             ],
             "passed_time": 1.283363823,
             "remaining_time": 4.248376794,
             "test": [
              0.7956867196,
              0.4264071368
             ]
            },
            {
             "iteration": 116,
             "learn": [
              0.8210227273,
              0.3833922659
             ],
             "passed_time": 1.29390475,
             "remaining_time": 4.235602729,
             "test": [
              0.7956867196,
              0.4263908608
             ]
            },
            {
             "iteration": 117,
             "learn": [
              0.8213068182,
              0.38334532
             ],
             "passed_time": 1.303380721,
             "remaining_time": 4.219418945,
             "test": [
              0.7956867196,
              0.4263849885
             ]
            },
            {
             "iteration": 118,
             "learn": [
              0.8213068182,
              0.3830694568
             ],
             "passed_time": 1.315690266,
             "remaining_time": 4.212420097,
             "test": [
              0.7962542565,
              0.4263027182
             ]
            },
            {
             "iteration": 119,
             "learn": [
              0.821875,
              0.3830326181
             ],
             "passed_time": 1.321891937,
             "remaining_time": 4.185991133,
             "test": [
              0.7968217934,
              0.4263137279
             ]
            },
            {
             "iteration": 120,
             "learn": [
              0.821875,
              0.3828480132
             ],
             "passed_time": 1.331535889,
             "remaining_time": 4.170678529,
             "test": [
              0.7962542565,
              0.4263798956
             ]
            },
            {
             "iteration": 121,
             "learn": [
              0.8215909091,
              0.3827739642
             ],
             "passed_time": 1.337936518,
             "remaining_time": 4.145409866,
             "test": [
              0.7962542565,
              0.4262787543
             ]
            },
            {
             "iteration": 122,
             "learn": [
              0.821875,
              0.3825422746
             ],
             "passed_time": 1.349129979,
             "remaining_time": 4.135138229,
             "test": [
              0.7973893303,
              0.4261879538
             ]
            },
            {
             "iteration": 123,
             "learn": [
              0.8227272727,
              0.3822098803
             ],
             "passed_time": 1.360702943,
             "remaining_time": 4.126002473,
             "test": [
              0.7985244041,
              0.4261016324
             ]
            },
            {
             "iteration": 124,
             "learn": [
              0.8230113636,
              0.3820300714
             ],
             "passed_time": 1.371407151,
             "remaining_time": 4.114221453,
             "test": [
              0.7979568672,
              0.4260158488
             ]
            },
            {
             "iteration": 125,
             "learn": [
              0.8224431818,
              0.3817840201
             ],
             "passed_time": 1.384160153,
             "remaining_time": 4.108538866,
             "test": [
              0.7973893303,
              0.4261852829
             ]
            },
            {
             "iteration": 126,
             "learn": [
              0.8230113636,
              0.3816041873
             ],
             "passed_time": 1.396179601,
             "remaining_time": 4.100590481,
             "test": [
              0.7973893303,
              0.4261115164
             ]
            },
            {
             "iteration": 127,
             "learn": [
              0.8230113636,
              0.3815571763
             ],
             "passed_time": 1.400415753,
             "remaining_time": 4.069958283,
             "test": [
              0.7968217934,
              0.4261139111
             ]
            },
            {
             "iteration": 128,
             "learn": [
              0.8232954545,
              0.381526994
             ],
             "passed_time": 1.404482988,
             "remaining_time": 4.039249525,
             "test": [
              0.7968217934,
              0.4261278243
             ]
            },
            {
             "iteration": 129,
             "learn": [
              0.8232954545,
              0.3814511947
             ],
             "passed_time": 1.416482819,
             "remaining_time": 4.031528023,
             "test": [
              0.7973893303,
              0.4261041783
             ]
            },
            {
             "iteration": 130,
             "learn": [
              0.8232954545,
              0.3812140106
             ],
             "passed_time": 1.426933407,
             "remaining_time": 4.019377306,
             "test": [
              0.7979568672,
              0.4259728402
             ]
            },
            {
             "iteration": 131,
             "learn": [
              0.8230113636,
              0.3811827929
             ],
             "passed_time": 1.431175905,
             "remaining_time": 3.989944947,
             "test": [
              0.7973893303,
              0.4259969693
             ]
            },
            {
             "iteration": 132,
             "learn": [
              0.8232954545,
              0.3809390231
             ],
             "passed_time": 1.442317748,
             "remaining_time": 3.979929426,
             "test": [
              0.7979568672,
              0.4259869873
             ]
            },
            {
             "iteration": 133,
             "learn": [
              0.8235795455,
              0.3807842767
             ],
             "passed_time": 1.452193177,
             "remaining_time": 3.96643808,
             "test": [
              0.7985244041,
              0.4259454912
             ]
            },
            {
             "iteration": 134,
             "learn": [
              0.8235795455,
              0.3806119913
             ],
             "passed_time": 1.463652388,
             "remaining_time": 3.957282383,
             "test": [
              0.7996594779,
              0.4259523625
             ]
            },
            {
             "iteration": 135,
             "learn": [
              0.8238636364,
              0.3803191021
             ],
             "passed_time": 1.475300789,
             "remaining_time": 3.948599169,
             "test": [
              0.799091941,
              0.4258681796
             ]
            },
            {
             "iteration": 136,
             "learn": [
              0.8238636364,
              0.3801294238
             ],
             "passed_time": 1.48362287,
             "remaining_time": 3.931059138,
             "test": [
              0.799091941,
              0.4258504335
             ]
            },
            {
             "iteration": 137,
             "learn": [
              0.8247159091,
              0.3798882126
             ],
             "passed_time": 1.495326365,
             "remaining_time": 3.922522785,
             "test": [
              0.799091941,
              0.4258544814
             ]
            },
            {
             "iteration": 138,
             "learn": [
              0.8241477273,
              0.3797591281
             ],
             "passed_time": 1.503708875,
             "remaining_time": 3.905315856,
             "test": [
              0.7996594779,
              0.4258541254
             ]
            },
            {
             "iteration": 139,
             "learn": [
              0.8252840909,
              0.3793568079
             ],
             "passed_time": 1.514558928,
             "remaining_time": 3.894580101,
             "test": [
              0.799091941,
              0.4257806402
             ]
            },
            {
             "iteration": 140,
             "learn": [
              0.8252840909,
              0.3792057581
             ],
             "passed_time": 1.524686592,
             "remaining_time": 3.88200345,
             "test": [
              0.799091941,
              0.4257746421
             ]
            },
            {
             "iteration": 141,
             "learn": [
              0.825,
              0.3791162614
             ],
             "passed_time": 1.536186164,
             "remaining_time": 3.872920048,
             "test": [
              0.799091941,
              0.4257602834
             ]
            },
            {
             "iteration": 142,
             "learn": [
              0.8244318182,
              0.3787601338
             ],
             "passed_time": 1.546619008,
             "remaining_time": 3.86113976,
             "test": [
              0.799091941,
              0.4257176974
             ]
            },
            {
             "iteration": 143,
             "learn": [
              0.8247159091,
              0.3785851558
             ],
             "passed_time": 1.556952868,
             "remaining_time": 3.84913348,
             "test": [
              0.7996594779,
              0.4255995853
             ]
            },
            {
             "iteration": 144,
             "learn": [
              0.8238636364,
              0.3784986864
             ],
             "passed_time": 1.568295912,
             "remaining_time": 3.839621026,
             "test": [
              0.799091941,
              0.4256102742
             ]
            },
            {
             "iteration": 145,
             "learn": [
              0.8241477273,
              0.3783213895
             ],
             "passed_time": 1.579599136,
             "remaining_time": 3.829986947,
             "test": [
              0.799091941,
              0.4255641586
             ]
            },
            {
             "iteration": 146,
             "learn": [
              0.8244318182,
              0.3781705801
             ],
             "passed_time": 1.590741427,
             "remaining_time": 3.819943699,
             "test": [
              0.7985244041,
              0.4255099437
             ]
            },
            {
             "iteration": 147,
             "learn": [
              0.8255681818,
              0.3777485572
             ],
             "passed_time": 1.602804329,
             "remaining_time": 3.81207516,
             "test": [
              0.7979568672,
              0.4254955549
             ]
            },
            {
             "iteration": 148,
             "learn": [
              0.8255681818,
              0.3777445826
             ],
             "passed_time": 1.60854215,
             "remaining_time": 3.789250301,
             "test": [
              0.7979568672,
              0.4255037128
             ]
            },
            {
             "iteration": 149,
             "learn": [
              0.8255681818,
              0.3777445823
             ],
             "passed_time": 1.610904437,
             "remaining_time": 3.75877702,
             "test": [
              0.7979568672,
              0.4255037274
             ]
            },
            {
             "iteration": 150,
             "learn": [
              0.8264204545,
              0.377430915
             ],
             "passed_time": 1.622833641,
             "remaining_time": 3.750787686,
             "test": [
              0.799091941,
              0.4254343462
             ]
            },
            {
             "iteration": 151,
             "learn": [
              0.8264204545,
              0.3774240013
             ],
             "passed_time": 1.62864534,
             "remaining_time": 3.728740646,
             "test": [
              0.799091941,
              0.4254406722
             ]
            },
            {
             "iteration": 152,
             "learn": [
              0.8264204545,
              0.3772727965
             ],
             "passed_time": 1.63850556,
             "remaining_time": 3.716087774,
             "test": [
              0.799091941,
              0.4254368255
             ]
            },
            {
             "iteration": 153,
             "learn": [
              0.8255681818,
              0.3769127759
             ],
             "passed_time": 1.650328598,
             "remaining_time": 3.707881136,
             "test": [
              0.7996594779,
              0.4254131929
             ]
            },
            {
             "iteration": 154,
             "learn": [
              0.8258522727,
              0.3767554512
             ],
             "passed_time": 1.66150474,
             "remaining_time": 3.69818797,
             "test": [
              0.7996594779,
              0.4254031687
             ]
            },
            {
             "iteration": 155,
             "learn": [
              0.8261363636,
              0.3762311067
             ],
             "passed_time": 1.672757533,
             "remaining_time": 3.688644816,
             "test": [
              0.799091941,
              0.4254875288
             ]
            },
            {
             "iteration": 156,
             "learn": [
              0.8264204545,
              0.3761772032
             ],
             "passed_time": 1.679153942,
             "remaining_time": 3.668470076,
             "test": [
              0.799091941,
              0.4254834174
             ]
            },
            {
             "iteration": 157,
             "learn": [
              0.8258522727,
              0.3757165747
             ],
             "passed_time": 1.691205499,
             "remaining_time": 3.660710638,
             "test": [
              0.7979568672,
              0.4255634864
             ]
            },
            {
             "iteration": 158,
             "learn": [
              0.8258522727,
              0.3757015888
             ],
             "passed_time": 1.6965021,
             "remaining_time": 3.638410164,
             "test": [
              0.7979568672,
              0.4255628787
             ]
            },
            {
             "iteration": 159,
             "learn": [
              0.8258522727,
              0.3756914436
             ],
             "passed_time": 1.700320416,
             "remaining_time": 3.613180884,
             "test": [
              0.7979568672,
              0.4255847582
             ]
            },
            {
             "iteration": 160,
             "learn": [
              0.8258522727,
              0.3756528857
             ],
             "passed_time": 1.709674377,
             "remaining_time": 3.599873378,
             "test": [
              0.7973893303,
              0.4255727664
             ]
            },
            {
             "iteration": 161,
             "learn": [
              0.8258522727,
              0.3755203759
             ],
             "passed_time": 1.720984038,
             "remaining_time": 3.590695091,
             "test": [
              0.7973893303,
              0.425576691
             ]
            },
            {
             "iteration": 162,
             "learn": [
              0.8258522727,
              0.3753210498
             ],
             "passed_time": 1.732711145,
             "remaining_time": 3.582353716,
             "test": [
              0.7968217934,
              0.4255664386
             ]
            },
            {
             "iteration": 163,
             "learn": [
              0.8258522727,
              0.3752897968
             ],
             "passed_time": 1.743575013,
             "remaining_time": 3.572202466,
             "test": [
              0.7968217934,
              0.4255690971
             ]
            },
            {
             "iteration": 164,
             "learn": [
              0.8261363636,
              0.3750628995
             ],
             "passed_time": 1.754732989,
             "remaining_time": 3.562639704,
             "test": [
              0.7979568672,
              0.425556867
             ]
            },
            {
             "iteration": 165,
             "learn": [
              0.8264204545,
              0.3750544216
             ],
             "passed_time": 1.761955434,
             "remaining_time": 3.545139247,
             "test": [
              0.7979568672,
              0.4255653811
             ]
            },
            {
             "iteration": 166,
             "learn": [
              0.8269886364,
              0.3749032438
             ],
             "passed_time": 1.770638741,
             "remaining_time": 3.530674855,
             "test": [
              0.7979568672,
              0.4255900006
             ]
            },
            {
             "iteration": 167,
             "learn": [
              0.8267045455,
              0.37485687
             ],
             "passed_time": 1.774724065,
             "remaining_time": 3.507192795,
             "test": [
              0.7979568672,
              0.425578492
             ]
            },
            {
             "iteration": 168,
             "learn": [
              0.8267045455,
              0.3746887562
             ],
             "passed_time": 1.785166912,
             "remaining_time": 3.496391998,
             "test": [
              0.7985244041,
              0.4254886197
             ]
            },
            {
             "iteration": 169,
             "learn": [
              0.8269886364,
              0.374336578
             ],
             "passed_time": 1.797042138,
             "remaining_time": 3.488375915,
             "test": [
              0.7996594779,
              0.4256463518
             ]
            },
            {
             "iteration": 170,
             "learn": [
              0.8267045455,
              0.3743202764
             ],
             "passed_time": 1.807425344,
             "remaining_time": 3.477444083,
             "test": [
              0.7996594779,
              0.4256563285
             ]
            },
            {
             "iteration": 171,
             "learn": [
              0.8267045455,
              0.3742828167
             ],
             "passed_time": 1.81764691,
             "remaining_time": 3.466210387,
             "test": [
              0.7996594779,
              0.4256541534
             ]
            },
            {
             "iteration": 172,
             "learn": [
              0.8267045455,
              0.3742828135
             ],
             "passed_time": 1.821210186,
             "remaining_time": 3.442403068,
             "test": [
              0.7996594779,
              0.4256540907
             ]
            },
            {
             "iteration": 173,
             "learn": [
              0.8272727273,
              0.373968128
             ],
             "passed_time": 1.833662374,
             "remaining_time": 3.435482378,
             "test": [
              0.7979568672,
              0.4256635282
             ]
            },
            {
             "iteration": 174,
             "learn": [
              0.8269886364,
              0.3737871083
             ],
             "passed_time": 1.845453789,
             "remaining_time": 3.427271322,
             "test": [
              0.7985244041,
              0.4256236231
             ]
            },
            {
             "iteration": 175,
             "learn": [
              0.8269886364,
              0.3737850993
             ],
             "passed_time": 1.851181741,
             "remaining_time": 3.407857296,
             "test": [
              0.7985244041,
              0.4256229746
             ]
            },
            {
             "iteration": 176,
             "learn": [
              0.8269886364,
              0.3737325375
             ],
             "passed_time": 1.863476457,
             "remaining_time": 3.400581331,
             "test": [
              0.7985244041,
              0.4256054873
             ]
            },
            {
             "iteration": 177,
             "learn": [
              0.8269886364,
              0.3737203761
             ],
             "passed_time": 1.867212118,
             "remaining_time": 3.377765742,
             "test": [
              0.799091941,
              0.4255669004
             ]
            },
            {
             "iteration": 178,
             "learn": [
              0.8269886364,
              0.3734995524
             ],
             "passed_time": 1.879849976,
             "remaining_time": 3.371127611,
             "test": [
              0.7985244041,
              0.4255349794
             ]
            },
            {
             "iteration": 179,
             "learn": [
              0.8272727273,
              0.3733549633
             ],
             "passed_time": 1.890928889,
             "remaining_time": 3.361651358,
             "test": [
              0.7985244041,
              0.4254695474
             ]
            },
            {
             "iteration": 180,
             "learn": [
              0.8275568182,
              0.3731715395
             ],
             "passed_time": 1.903249683,
             "remaining_time": 3.354346126,
             "test": [
              0.7985244041,
              0.4254833878
             ]
            },
            {
             "iteration": 181,
             "learn": [
              0.8272727273,
              0.3730233966
             ],
             "passed_time": 1.915625645,
             "remaining_time": 3.347082172,
             "test": [
              0.7985244041,
              0.4254723801
             ]
            },
            {
             "iteration": 182,
             "learn": [
              0.8272727273,
              0.3729250447
             ],
             "passed_time": 1.927008248,
             "remaining_time": 3.33804161,
             "test": [
              0.7985244041,
              0.4254483092
             ]
            },
            {
             "iteration": 183,
             "learn": [
              0.828125,
              0.3727597094
             ],
             "passed_time": 1.939824557,
             "remaining_time": 3.331437827,
             "test": [
              0.7985244041,
              0.4253528038
             ]
            },
            {
             "iteration": 184,
             "learn": [
              0.8278409091,
              0.3727503927
             ],
             "passed_time": 1.951408398,
             "remaining_time": 3.322668354,
             "test": [
              0.7985244041,
              0.4253626095
             ]
            },
            {
             "iteration": 185,
             "learn": [
              0.8289772727,
              0.3725372075
             ],
             "passed_time": 1.963648568,
             "remaining_time": 3.314976615,
             "test": [
              0.7985244041,
              0.4253200842
             ]
            },
            {
             "iteration": 186,
             "learn": [
              0.8284090909,
              0.372511326
             ],
             "passed_time": 1.981991452,
             "remaining_time": 3.317450934,
             "test": [
              0.7985244041,
              0.4253268853
             ]
            },
            {
             "iteration": 187,
             "learn": [
              0.8284090909,
              0.3725102357
             ],
             "passed_time": 1.985823538,
             "remaining_time": 3.295622042,
             "test": [
              0.7985244041,
              0.4253264191
             ]
            },
            {
             "iteration": 188,
             "learn": [
              0.8275568182,
              0.3724913503
             ],
             "passed_time": 1.991688963,
             "remaining_time": 3.277329457,
             "test": [
              0.7985244041,
              0.4253147484
             ]
            },
            {
             "iteration": 189,
             "learn": [
              0.8275568182,
              0.3724835318
             ],
             "passed_time": 2.001085797,
             "remaining_time": 3.264929458,
             "test": [
              0.7985244041,
              0.4253202115
             ]
            },
            {
             "iteration": 190,
             "learn": [
              0.8275568182,
              0.3724375418
             ],
             "passed_time": 2.010715416,
             "remaining_time": 3.252937506,
             "test": [
              0.7985244041,
              0.4253395833
             ]
            },
            {
             "iteration": 191,
             "learn": [
              0.8278409091,
              0.3722571637
             ],
             "passed_time": 2.022209916,
             "remaining_time": 3.24396174,
             "test": [
              0.7968217934,
              0.4253595369
             ]
            },
            {
             "iteration": 192,
             "learn": [
              0.8278409091,
              0.3722567866
             ],
             "passed_time": 2.028606427,
             "remaining_time": 3.226850638,
             "test": [
              0.7968217934,
              0.4253591156
             ]
            },
            {
             "iteration": 193,
             "learn": [
              0.8278409091,
              0.3720795262
             ],
             "passed_time": 2.040290355,
             "remaining_time": 3.218189941,
             "test": [
              0.7973893303,
              0.4253537391
             ]
            },
            {
             "iteration": 194,
             "learn": [
              0.8275568182,
              0.3719884472
             ],
             "passed_time": 2.051782863,
             "remaining_time": 3.209198838,
             "test": [
              0.7968217934,
              0.4253413557
             ]
            },
            {
             "iteration": 195,
             "learn": [
              0.8278409091,
              0.371792492
             ],
             "passed_time": 2.063422728,
             "remaining_time": 3.200410761,
             "test": [
              0.7973893303,
              0.4253672732
             ]
            },
            {
             "iteration": 196,
             "learn": [
              0.828125,
              0.3714912349
             ],
             "passed_time": 2.074232449,
             "remaining_time": 3.190316914,
             "test": [
              0.7979568672,
              0.4254387051
             ]
            },
            {
             "iteration": 197,
             "learn": [
              0.828125,
              0.371491231
             ],
             "passed_time": 2.076730081,
             "remaining_time": 3.167537801,
             "test": [
              0.7979568672,
              0.4254386566
             ]
            },
            {
             "iteration": 198,
             "learn": [
              0.828125,
              0.3714529337
             ],
             "passed_time": 2.087519628,
             "remaining_time": 3.157504564,
             "test": [
              0.7979568672,
              0.4254237372
             ]
            },
            {
             "iteration": 199,
             "learn": [
              0.8284090909,
              0.3714073997
             ],
             "passed_time": 2.099765774,
             "remaining_time": 3.149648662,
             "test": [
              0.7979568672,
              0.4254283151
             ]
            },
            {
             "iteration": 200,
             "learn": [
              0.8286931818,
              0.3713920276
             ],
             "passed_time": 2.112453252,
             "remaining_time": 3.142405585,
             "test": [
              0.7979568672,
              0.4254323541
             ]
            },
            {
             "iteration": 201,
             "learn": [
              0.8286931818,
              0.3710774717
             ],
             "passed_time": 2.124658885,
             "remaining_time": 3.134397761,
             "test": [
              0.7979568672,
              0.4254164391
             ]
            },
            {
             "iteration": 202,
             "learn": [
              0.8286931818,
              0.3710729153
             ],
             "passed_time": 2.130537278,
             "remaining_time": 3.117091486,
             "test": [
              0.7979568672,
              0.425418912
             ]
            },
            {
             "iteration": 203,
             "learn": [
              0.828125,
              0.3709011954
             ],
             "passed_time": 2.142372328,
             "remaining_time": 3.108540241,
             "test": [
              0.7979568672,
              0.4254287188
             ]
            },
            {
             "iteration": 204,
             "learn": [
              0.8289772727,
              0.3706310622
             ],
             "passed_time": 2.152972421,
             "remaining_time": 3.098179825,
             "test": [
              0.7979568672,
              0.4254273684
             ]
            },
            {
             "iteration": 205,
             "learn": [
              0.8292613636,
              0.3703304441
             ],
             "passed_time": 2.163404414,
             "remaining_time": 3.087577173,
             "test": [
              0.7962542565,
              0.4254567505
             ]
            },
            {
             "iteration": 206,
             "learn": [
              0.8292613636,
              0.3701682544
             ],
             "passed_time": 2.175975807,
             "remaining_time": 3.080004403,
             "test": [
              0.7962542565,
              0.4254917888
             ]
            },
            {
             "iteration": 207,
             "learn": [
              0.8295454545,
              0.3700776154
             ],
             "passed_time": 2.188770651,
             "remaining_time": 3.072697259,
             "test": [
              0.7962542565,
              0.4254871178
             ]
            },
            {
             "iteration": 208,
             "learn": [
              0.8295454545,
              0.3699926329
             ],
             "passed_time": 2.199531976,
             "remaining_time": 3.062506244,
             "test": [
              0.7951191827,
              0.4255592261
             ]
            },
            {
             "iteration": 209,
             "learn": [
              0.8289772727,
              0.3695757626
             ],
             "passed_time": 2.211758384,
             "remaining_time": 3.054333006,
             "test": [
              0.7962542565,
              0.4256879227
             ]
            },
            {
             "iteration": 210,
             "learn": [
              0.8292613636,
              0.3691329192
             ],
             "passed_time": 2.222827942,
             "remaining_time": 3.044536849,
             "test": [
              0.7956867196,
              0.4256499243
             ]
            },
            {
             "iteration": 211,
             "learn": [
              0.8286931818,
              0.3688375764
             ],
             "passed_time": 2.234099001,
             "remaining_time": 3.035002416,
             "test": [
              0.7956867196,
              0.425610265
             ]
            },
            {
             "iteration": 212,
             "learn": [
              0.8286931818,
              0.3686948891
             ],
             "passed_time": 2.245102247,
             "remaining_time": 3.025090822,
             "test": [
              0.7962542565,
              0.4256277379
             ]
            },
            {
             "iteration": 213,
             "learn": [
              0.828125,
              0.3683953829
             ],
             "passed_time": 2.256686269,
             "remaining_time": 3.015945201,
             "test": [
              0.7956867196,
              0.4255192868
             ]
            },
            {
             "iteration": 214,
             "learn": [
              0.8284090909,
              0.3683809907
             ],
             "passed_time": 2.260017811,
             "remaining_time": 2.995837563,
             "test": [
              0.7956867196,
              0.4255075116
             ]
            },
            {
             "iteration": 215,
             "learn": [
              0.8284090909,
              0.3683769553
             ],
             "passed_time": 2.267817301,
             "remaining_time": 2.981759785,
             "test": [
              0.7956867196,
              0.4255067711
             ]
            },
            {
             "iteration": 216,
             "learn": [
              0.8278409091,
              0.3682241294
             ],
             "passed_time": 2.282279723,
             "remaining_time": 2.976429316,
             "test": [
              0.7956867196,
              0.4255896465
             ]
            },
            {
             "iteration": 217,
             "learn": [
              0.8275568182,
              0.3680205894
             ],
             "passed_time": 2.299257786,
             "remaining_time": 2.974269246,
             "test": [
              0.7956867196,
              0.4255098711
             ]
            },
            {
             "iteration": 218,
             "learn": [
              0.8275568182,
              0.3679804215
             ],
             "passed_time": 2.312775637,
             "remaining_time": 2.967534036,
             "test": [
              0.7956867196,
              0.4254942566
             ]
            },
            {
             "iteration": 219,
             "learn": [
              0.8275568182,
              0.3679684785
             ],
             "passed_time": 2.327215169,
             "remaining_time": 2.961910215,
             "test": [
              0.7956867196,
              0.4254614058
             ]
            },
            {
             "iteration": 220,
             "learn": [
              0.828125,
              0.3676685766
             ],
             "passed_time": 2.342537589,
             "remaining_time": 2.957321209,
             "test": [
              0.7962542565,
              0.4254937839
             ]
            },
            {
             "iteration": 221,
             "learn": [
              0.828125,
              0.3675576504
             ],
             "passed_time": 2.361505121,
             "remaining_time": 2.957200107,
             "test": [
              0.7962542565,
              0.4254392179
             ]
            },
            {
             "iteration": 222,
             "learn": [
              0.828125,
              0.367557558
             ],
             "passed_time": 2.366504169,
             "remaining_time": 2.93955899,
             "test": [
              0.7962542565,
              0.4254384698
             ]
            },
            {
             "iteration": 223,
             "learn": [
              0.828125,
              0.3675206464
             ],
             "passed_time": 2.380016452,
             "remaining_time": 2.932520272,
             "test": [
              0.7962542565,
              0.4254432388
             ]
            },
            {
             "iteration": 224,
             "learn": [
              0.828125,
              0.3675206336
             ],
             "passed_time": 2.382645429,
             "remaining_time": 2.912122191,
             "test": [
              0.7962542565,
              0.425443131
             ]
            },
            {
             "iteration": 225,
             "learn": [
              0.828125,
              0.367475774
             ],
             "passed_time": 2.396887106,
             "remaining_time": 2.905960474,
             "test": [
              0.7962542565,
              0.4254416683
             ]
            },
            {
             "iteration": 226,
             "learn": [
              0.8284090909,
              0.3673212876
             ],
             "passed_time": 2.409306231,
             "remaining_time": 2.897535687,
             "test": [
              0.7956867196,
              0.425416831
             ]
            },
            {
             "iteration": 227,
             "learn": [
              0.8286931818,
              0.3672893706
             ],
             "passed_time": 2.419801223,
             "remaining_time": 2.886780406,
             "test": [
              0.7951191827,
              0.4254152727
             ]
            },
            {
             "iteration": 228,
             "learn": [
              0.8289772727,
              0.3670438478
             ],
             "passed_time": 2.438782676,
             "remaining_time": 2.886070328,
             "test": [
              0.7956867196,
              0.4255703822
             ]
            },
            {
             "iteration": 229,
             "learn": [
              0.8289772727,
              0.3669547534
             ],
             "passed_time": 2.449546851,
             "remaining_time": 2.875554999,
             "test": [
              0.7956867196,
              0.4255622668
             ]
            },
            {
             "iteration": 230,
             "learn": [
              0.8289772727,
              0.366788959
             ],
             "passed_time": 2.464461264,
             "remaining_time": 2.869870477,
             "test": [
              0.7956867196,
              0.4256360835
             ]
            },
            {
             "iteration": 231,
             "learn": [
              0.8289772727,
              0.3667005532
             ],
             "passed_time": 2.478194704,
             "remaining_time": 2.862742158,
             "test": [
              0.7956867196,
              0.4255733647
             ]
            },
            {
             "iteration": 232,
             "learn": [
              0.8295454545,
              0.3664637384
             ],
             "passed_time": 2.493077355,
             "remaining_time": 2.856874051,
             "test": [
              0.7962542565,
              0.4256348483
             ]
            },
            {
             "iteration": 233,
             "learn": [
              0.8295454545,
              0.3663343009
             ],
             "passed_time": 2.506705433,
             "remaining_time": 2.849502757,
             "test": [
              0.7962542565,
              0.4256694549
             ]
            },
            {
             "iteration": 234,
             "learn": [
              0.8292613636,
              0.366207372
             ],
             "passed_time": 2.521175805,
             "remaining_time": 2.843028035,
             "test": [
              0.7962542565,
              0.4257439264
             ]
            },
            {
             "iteration": 235,
             "learn": [
              0.8292613636,
              0.3662073061
             ],
             "passed_time": 2.525761272,
             "remaining_time": 2.825427864,
             "test": [
              0.7962542565,
              0.4257433165
             ]
            },
            {
             "iteration": 236,
             "learn": [
              0.8292613636,
              0.3661530859
             ],
             "passed_time": 2.537713272,
             "remaining_time": 2.816112196,
             "test": [
              0.7962542565,
              0.4257452878
             ]
            },
            {
             "iteration": 237,
             "learn": [
              0.8292613636,
              0.3661314252
             ],
             "passed_time": 2.541909058,
             "remaining_time": 2.798236022,
             "test": [
              0.7962542565,
              0.4257583858
             ]
            },
            {
             "iteration": 238,
             "learn": [
              0.8292613636,
              0.3658261628
             ],
             "passed_time": 2.553862673,
             "remaining_time": 2.788946267,
             "test": [
              0.7962542565,
              0.4257722297
             ]
            },
            {
             "iteration": 239,
             "learn": [
              0.8295454545,
              0.36565848
             ],
             "passed_time": 2.56601035,
             "remaining_time": 2.779844546,
             "test": [
              0.7962542565,
              0.4257174098
             ]
            },
            {
             "iteration": 240,
             "learn": [
              0.8289772727,
              0.3653568663
             ],
             "passed_time": 2.57749355,
             "remaining_time": 2.770003442,
             "test": [
              0.7956867196,
              0.4256693076
             ]
            },
            {
             "iteration": 241,
             "learn": [
              0.8292613636,
              0.3651731818
             ],
             "passed_time": 2.589393762,
             "remaining_time": 2.76059335,
             "test": [
              0.7962542565,
              0.4256539422
             ]
            },
            {
             "iteration": 242,
             "learn": [
              0.8301136364,
              0.3650399833
             ],
             "passed_time": 2.601127034,
             "remaining_time": 2.750986204,
             "test": [
              0.7962542565,
              0.425693804
             ]
            },
            {
             "iteration": 243,
             "learn": [
              0.8303977273,
              0.3648042578
             ],
             "passed_time": 2.61261364,
             "remaining_time": 2.741102836,
             "test": [
              0.7962542565,
              0.4256912325
             ]
            },
            {
             "iteration": 244,
             "learn": [
              0.8303977273,
              0.364432116
             ],
             "passed_time": 2.625405953,
             "remaining_time": 2.73256538,
             "test": [
              0.7968217934,
              0.4257220519
             ]
            },
            {
             "iteration": 245,
             "learn": [
              0.8303977273,
              0.3642019593
             ],
             "passed_time": 2.638542211,
             "remaining_time": 2.724348462,
             "test": [
              0.7968217934,
              0.425642246
             ]
            },
            {
             "iteration": 246,
             "learn": [
              0.8303977273,
              0.3642015453
             ],
             "passed_time": 2.642613693,
             "remaining_time": 2.706806739,
             "test": [
              0.7968217934,
              0.4256414265
             ]
            },
            {
             "iteration": 247,
             "learn": [
              0.8309659091,
              0.3638477351
             ],
             "passed_time": 2.655144506,
             "remaining_time": 2.697969417,
             "test": [
              0.7968217934,
              0.4257292318
             ]
            },
            {
             "iteration": 248,
             "learn": [
              0.83125,
              0.3635609075
             ],
             "passed_time": 2.666828314,
             "remaining_time": 2.688248622,
             "test": [
              0.7968217934,
              0.4257099728
             ]
            },
            {
             "iteration": 249,
             "learn": [
              0.8315340909,
              0.3634025923
             ],
             "passed_time": 2.678364166,
             "remaining_time": 2.678364166,
             "test": [
              0.7968217934,
              0.4256923269
             ]
            },
            {
             "iteration": 250,
             "learn": [
              0.83125,
              0.3633240105
             ],
             "passed_time": 2.690055123,
             "remaining_time": 2.668620421,
             "test": [
              0.7968217934,
              0.42567362
             ]
            },
            {
             "iteration": 251,
             "learn": [
              0.8315340909,
              0.3633117567
             ],
             "passed_time": 2.701790715,
             "remaining_time": 2.658905148,
             "test": [
              0.7968217934,
              0.425668933
             ]
            },
            {
             "iteration": 252,
             "learn": [
              0.8315340909,
              0.3632326339
             ],
             "passed_time": 2.714352724,
             "remaining_time": 2.649980722,
             "test": [
              0.7962542565,
              0.4256647973
             ]
            },
            {
             "iteration": 253,
             "learn": [
              0.8309659091,
              0.3629800497
             ],
             "passed_time": 2.725066562,
             "remaining_time": 2.639237694,
             "test": [
              0.7968217934,
              0.4256028419
             ]
            },
            {
             "iteration": 254,
             "learn": [
              0.8315340909,
              0.362556809
             ],
             "passed_time": 2.737188255,
             "remaining_time": 2.629847539,
             "test": [
              0.7968217934,
              0.4255141777
             ]
            },
            {
             "iteration": 255,
             "learn": [
              0.8323863636,
              0.3623553231
             ],
             "passed_time": 2.748664716,
             "remaining_time": 2.619821058,
             "test": [
              0.7962542565,
              0.4256294595
             ]
            },
            {
             "iteration": 256,
             "learn": [
              0.8323863636,
              0.3619046704
             ],
             "passed_time": 2.760385744,
             "remaining_time": 2.610014536,
             "test": [
              0.7968217934,
              0.4258910189
             ]
            },
            {
             "iteration": 257,
             "learn": [
              0.8323863636,
              0.3617651612
             ],
             "passed_time": 2.772255406,
             "remaining_time": 2.60033259,
             "test": [
              0.7968217934,
              0.4258871528
             ]
            },
            {
             "iteration": 258,
             "learn": [
              0.8323863636,
              0.3617650704
             ],
             "passed_time": 2.776350411,
             "remaining_time": 2.583399417,
             "test": [
              0.7968217934,
              0.4258863805
             ]
            },
            {
             "iteration": 259,
             "learn": [
              0.8323863636,
              0.3615572661
             ],
             "passed_time": 2.787592038,
             "remaining_time": 2.573161881,
             "test": [
              0.7968217934,
              0.4258627847
             ]
            },
            {
             "iteration": 260,
             "learn": [
              0.8323863636,
              0.3613461551
             ],
             "passed_time": 2.799400778,
             "remaining_time": 2.563435962,
             "test": [
              0.7968217934,
              0.4258860924
             ]
            },
            {
             "iteration": 261,
             "learn": [
              0.8326704545,
              0.3611939225
             ],
             "passed_time": 2.811083211,
             "remaining_time": 2.553579405,
             "test": [
              0.7973893303,
              0.4257484449
             ]
            },
            {
             "iteration": 262,
             "learn": [
              0.8326704545,
              0.3611006785
             ],
             "passed_time": 2.823176753,
             "remaining_time": 2.544079431,
             "test": [
              0.7973893303,
              0.4256942178
             ]
            },
            {
             "iteration": 263,
             "learn": [
              0.8329545455,
              0.3607667166
             ],
             "passed_time": 2.834921952,
             "remaining_time": 2.534248412,
             "test": [
              0.7973893303,
              0.4256355925
             ]
            },
            {
             "iteration": 264,
             "learn": [
              0.8326704545,
              0.3605594618
             ],
             "passed_time": 2.847207136,
             "remaining_time": 2.5248818,
             "test": [
              0.7973893303,
              0.4255373181
             ]
            },
            {
             "iteration": 265,
             "learn": [
              0.8326704545,
              0.3604792715
             ],
             "passed_time": 2.858943165,
             "remaining_time": 2.515010153,
             "test": [
              0.7973893303,
              0.4255423115
             ]
            },
            {
             "iteration": 266,
             "learn": [
              0.8332386364,
              0.3601170239
             ],
             "passed_time": 2.870741042,
             "remaining_time": 2.505178512,
             "test": [
              0.7968217934,
              0.4254640775
             ]
            },
            {
             "iteration": 267,
             "learn": [
              0.8335227273,
              0.3600047711
             ],
             "passed_time": 2.88180786,
             "remaining_time": 2.494699342,
             "test": [
              0.7968217934,
              0.4255343816
             ]
            },
            {
             "iteration": 268,
             "learn": [
              0.8335227273,
              0.3598508371
             ],
             "passed_time": 2.892822613,
             "remaining_time": 2.484171091,
             "test": [
              0.7968217934,
              0.4255300582
             ]
            },
            {
             "iteration": 269,
             "learn": [
              0.834375,
              0.3595045095
             ],
             "passed_time": 2.905390276,
             "remaining_time": 2.474962087,
             "test": [
              0.7968217934,
              0.4257466808
             ]
            },
            {
             "iteration": 270,
             "learn": [
              0.834375,
              0.3592993059
             ],
             "passed_time": 2.917551559,
             "remaining_time": 2.465384896,
             "test": [
              0.7968217934,
              0.425719923
             ]
            },
            {
             "iteration": 271,
             "learn": [
              0.8349431818,
              0.3591057785
             ],
             "passed_time": 2.929824186,
             "remaining_time": 2.455882039,
             "test": [
              0.7979568672,
              0.4258613587
             ]
            },
            {
             "iteration": 272,
             "learn": [
              0.8346590909,
              0.3589382511
             ],
             "passed_time": 2.942329865,
             "remaining_time": 2.446552672,
             "test": [
              0.7973893303,
              0.4259427718
             ]
            },
            {
             "iteration": 273,
             "learn": [
              0.8349431818,
              0.3588717781
             ],
             "passed_time": 2.953822652,
             "remaining_time": 2.436364669,
             "test": [
              0.7973893303,
              0.425926062
             ]
            },
            {
             "iteration": 274,
             "learn": [
              0.8349431818,
              0.3586329414
             ],
             "passed_time": 2.964687276,
             "remaining_time": 2.425653226,
             "test": [
              0.7985244041,
              0.425904262
             ]
            },
            {
             "iteration": 275,
             "learn": [
              0.8349431818,
              0.3582735539
             ],
             "passed_time": 2.986694934,
             "remaining_time": 2.423984294,
             "test": [
              0.7985244041,
              0.4259338326
             ]
            },
            {
             "iteration": 276,
             "learn": [
              0.8352272727,
              0.358016591
             ],
             "passed_time": 2.997803824,
             "remaining_time": 2.413394415,
             "test": [
              0.799091941,
              0.4259688138
             ]
            },
            {
             "iteration": 277,
             "learn": [
              0.8352272727,
              0.3577711251
             ],
             "passed_time": 3.009626588,
             "remaining_time": 2.403370873,
             "test": [
              0.799091941,
              0.4259310733
             ]
            },
            {
             "iteration": 278,
             "learn": [
              0.8352272727,
              0.35777107
             ],
             "passed_time": 3.013735243,
             "remaining_time": 2.387223974,
             "test": [
              0.799091941,
              0.4259306162
             ]
            },
            {
             "iteration": 279,
             "learn": [
              0.8355113636,
              0.3576606854
             ],
             "passed_time": 3.024277805,
             "remaining_time": 2.376218275,
             "test": [
              0.799091941,
              0.4259425288
             ]
            },
            {
             "iteration": 280,
             "learn": [
              0.8352272727,
              0.357525953
             ],
             "passed_time": 3.036196312,
             "remaining_time": 2.366288229,
             "test": [
              0.7996594779,
              0.4259649555
             ]
            },
            {
             "iteration": 281,
             "learn": [
              0.8352272727,
              0.3574426949
             ],
             "passed_time": 3.049363482,
             "remaining_time": 2.357309358,
             "test": [
              0.7996594779,
              0.4259693966
             ]
            },
            {
             "iteration": 282,
             "learn": [
              0.8352272727,
              0.3572800091
             ],
             "passed_time": 3.060526798,
             "remaining_time": 2.346764365,
             "test": [
              0.8007945516,
              0.4258846614
             ]
            },
            {
             "iteration": 283,
             "learn": [
              0.8355113636,
              0.3572331812
             ],
             "passed_time": 3.072808343,
             "remaining_time": 2.3370655,
             "test": [
              0.8007945516,
              0.425899126
             ]
            },
            {
             "iteration": 284,
             "learn": [
              0.8352272727,
              0.3571859419
             ],
             "passed_time": 3.084538573,
             "remaining_time": 2.326932607,
             "test": [
              0.8007945516,
              0.4258555694
             ]
            },
            {
             "iteration": 285,
             "learn": [
              0.8355113636,
              0.3570474615
             ],
             "passed_time": 3.097399286,
             "remaining_time": 2.317634431,
             "test": [
              0.8007945516,
              0.4259225441
             ]
            },
            {
             "iteration": 286,
             "learn": [
              0.8355113636,
              0.3569086312
             ],
             "passed_time": 3.108908998,
             "remaining_time": 2.307308768,
             "test": [
              0.8002270148,
              0.4259266128
             ]
            },
            {
             "iteration": 287,
             "learn": [
              0.8355113636,
              0.3568335351
             ],
             "passed_time": 3.1203351,
             "remaining_time": 2.296913337,
             "test": [
              0.8002270148,
              0.4258768392
             ]
            },
            {
             "iteration": 288,
             "learn": [
              0.8352272727,
              0.3566146985
             ],
             "passed_time": 3.131883662,
             "remaining_time": 2.286600182,
             "test": [
              0.8002270148,
              0.425933879
             ]
            },
            {
             "iteration": 289,
             "learn": [
              0.8352272727,
              0.3565223496
             ],
             "passed_time": 3.144290704,
             "remaining_time": 2.276900165,
             "test": [
              0.8002270148,
              0.4259641209
             ]
            },
            {
             "iteration": 290,
             "learn": [
              0.8355113636,
              0.3562519528
             ],
             "passed_time": 3.157050401,
             "remaining_time": 2.267434824,
             "test": [
              0.7996594779,
              0.4260877213
             ]
            },
            {
             "iteration": 291,
             "learn": [
              0.8357954545,
              0.3559939072
             ],
             "passed_time": 3.168543075,
             "remaining_time": 2.257044382,
             "test": [
              0.7996594779,
              0.4261649311
             ]
            },
            {
             "iteration": 292,
             "learn": [
              0.8357954545,
              0.3558240508
             ],
             "passed_time": 3.18078981,
             "remaining_time": 2.247179149,
             "test": [
              0.7996594779,
              0.4261944559
             ]
            },
            {
             "iteration": 293,
             "learn": [
              0.8360795455,
              0.3554602852
             ],
             "passed_time": 3.192764438,
             "remaining_time": 2.237107055,
             "test": [
              0.7996594779,
              0.4264618987
             ]
            },
            {
             "iteration": 294,
             "learn": [
              0.8357954545,
              0.3552225005
             ],
             "passed_time": 3.205315449,
             "remaining_time": 2.2274226,
             "test": [
              0.799091941,
              0.426440289
             ]
            },
            {
             "iteration": 295,
             "learn": [
              0.8357954545,
              0.3551516638
             ],
             "passed_time": 3.217341209,
             "remaining_time": 2.217356779,
             "test": [
              0.799091941,
              0.426418605
             ]
            },
            {
             "iteration": 296,
             "learn": [
              0.8357954545,
              0.3548248703
             ],
             "passed_time": 3.229471547,
             "remaining_time": 2.207349239,
             "test": [
              0.7985244041,
              0.4263736603
             ]
            },
            {
             "iteration": 297,
             "learn": [
              0.8357954545,
              0.354617623
             ],
             "passed_time": 3.241233314,
             "remaining_time": 2.197077616,
             "test": [
              0.799091941,
              0.426394208
             ]
            },
            {
             "iteration": 298,
             "learn": [
              0.8357954545,
              0.354570609
             ],
             "passed_time": 3.254054123,
             "remaining_time": 2.187507956,
             "test": [
              0.7996594779,
              0.4264100849
             ]
            },
            {
             "iteration": 299,
             "learn": [
              0.8357954545,
              0.3543898031
             ],
             "passed_time": 3.265446025,
             "remaining_time": 2.176964017,
             "test": [
              0.7996594779,
              0.4263614639
             ]
            },
            {
             "iteration": 300,
             "learn": [
              0.8355113636,
              0.3542996825
             ],
             "passed_time": 3.2784802,
             "remaining_time": 2.167500199,
             "test": [
              0.7996594779,
              0.4263600212
             ]
            },
            {
             "iteration": 301,
             "learn": [
              0.8355113636,
              0.3542188897
             ],
             "passed_time": 3.2898449,
             "remaining_time": 2.15691818,
             "test": [
              0.7996594779,
              0.42636299
             ]
            },
            {
             "iteration": 302,
             "learn": [
              0.8360795455,
              0.3539832087
             ],
             "passed_time": 3.301702586,
             "remaining_time": 2.146651516,
             "test": [
              0.799091941,
              0.4264788118
             ]
            },
            {
             "iteration": 303,
             "learn": [
              0.8360795455,
              0.3539831941
             ],
             "passed_time": 3.305293512,
             "remaining_time": 2.131044501,
             "test": [
              0.799091941,
              0.4264786651
             ]
            },
            {
             "iteration": 304,
             "learn": [
              0.8363636364,
              0.3538477703
             ],
             "passed_time": 3.317512288,
             "remaining_time": 2.121032446,
             "test": [
              0.7996594779,
              0.4265136991
             ]
            },
            {
             "iteration": 305,
             "learn": [
              0.8366477273,
              0.3535138039
             ],
             "passed_time": 3.328711111,
             "remaining_time": 2.110359332,
             "test": [
              0.8002270148,
              0.426518219
             ]
            },
            {
             "iteration": 306,
             "learn": [
              0.8363636364,
              0.3533396372
             ],
             "passed_time": 3.34144831,
             "remaining_time": 2.100649915,
             "test": [
              0.7996594779,
              0.4265606926
             ]
            },
            {
             "iteration": 307,
             "learn": [
              0.8357954545,
              0.3531430187
             ],
             "passed_time": 3.353746382,
             "remaining_time": 2.090647095,
             "test": [
              0.7996594779,
              0.4266263608
             ]
            },
            {
             "iteration": 308,
             "learn": [
              0.8363636364,
              0.353090718
             ],
             "passed_time": 3.365363484,
             "remaining_time": 2.080208497,
             "test": [
              0.7996594779,
              0.4266050532
             ]
            },
            {
             "iteration": 309,
             "learn": [
              0.8366477273,
              0.3528777612
             ],
             "passed_time": 3.377476896,
             "remaining_time": 2.070066485,
             "test": [
              0.799091941,
              0.4265784671
             ]
            },
            {
             "iteration": 310,
             "learn": [
              0.8360795455,
              0.3528146492
             ],
             "passed_time": 3.388164213,
             "remaining_time": 2.059045133,
             "test": [
              0.7996594779,
              0.4265751407
             ]
            },
            {
             "iteration": 311,
             "learn": [
              0.8360795455,
              0.3527037366
             ],
             "passed_time": 3.399156568,
             "remaining_time": 2.048209727,
             "test": [
              0.7996594779,
              0.4265854455
             ]
            },
            {
             "iteration": 312,
             "learn": [
              0.8366477273,
              0.3525973569
             ],
             "passed_time": 3.411322056,
             "remaining_time": 2.038074199,
             "test": [
              0.7996594779,
              0.4265993347
             ]
            },
            {
             "iteration": 313,
             "learn": [
              0.8363636364,
              0.3525098583
             ],
             "passed_time": 3.423752412,
             "remaining_time": 2.028082639,
             "test": [
              0.799091941,
              0.4264809476
             ]
            },
            {
             "iteration": 314,
             "learn": [
              0.8366477273,
              0.3522565516
             ],
             "passed_time": 3.435709048,
             "remaining_time": 2.017797378,
             "test": [
              0.799091941,
              0.4265607729
             ]
            },
            {
             "iteration": 315,
             "learn": [
              0.8366477273,
              0.3520299781
             ],
             "passed_time": 3.447370862,
             "remaining_time": 2.007329869,
             "test": [
              0.7985244041,
              0.4266473948
             ]
            },
            {
             "iteration": 316,
             "learn": [
              0.8366477273,
              0.3519575992
             ],
             "passed_time": 3.458725682,
             "remaining_time": 1.996677602,
             "test": [
              0.7985244041,
              0.426663375
             ]
            },
            {
             "iteration": 317,
             "learn": [
              0.8369318182,
              0.3517515191
             ],
             "passed_time": 3.470958659,
             "remaining_time": 1.986523509,
             "test": [
              0.7985244041,
              0.4266983041
             ]
            },
            {
             "iteration": 318,
             "learn": [
              0.8369318182,
              0.3516369772
             ],
             "passed_time": 3.483143914,
             "remaining_time": 1.976329306,
             "test": [
              0.7985244041,
              0.4266692431
             ]
            },
            {
             "iteration": 319,
             "learn": [
              0.8372159091,
              0.3513743313
             ],
             "passed_time": 3.494785029,
             "remaining_time": 1.965816579,
             "test": [
              0.7985244041,
              0.4267006877
             ]
            },
            {
             "iteration": 320,
             "learn": [
              0.8372159091,
              0.351223744
             ],
             "passed_time": 3.507629633,
             "remaining_time": 1.955967926,
             "test": [
              0.7979568672,
              0.4266983956
             ]
            },
            {
             "iteration": 321,
             "learn": [
              0.8369318182,
              0.3509652506
             ],
             "passed_time": 3.519674355,
             "remaining_time": 1.945658495,
             "test": [
              0.7985244041,
              0.4266433645
             ]
            },
            {
             "iteration": 322,
             "learn": [
              0.8369318182,
              0.3509078492
             ],
             "passed_time": 3.532199449,
             "remaining_time": 1.935601556,
             "test": [
              0.7985244041,
              0.4266629911
             ]
            },
            {
             "iteration": 323,
             "learn": [
              0.8369318182,
              0.3508583313
             ],
             "passed_time": 3.544047103,
             "remaining_time": 1.925161389,
             "test": [
              0.7985244041,
              0.4266550686
             ]
            },
            {
             "iteration": 324,
             "learn": [
              0.8375,
              0.3507632204
             ],
             "passed_time": 3.55480132,
             "remaining_time": 1.914123788,
             "test": [
              0.7985244041,
              0.4266284436
             ]
            },
            {
             "iteration": 325,
             "learn": [
              0.8375,
              0.3504047561
             ],
             "passed_time": 3.566849619,
             "remaining_time": 1.903778631,
             "test": [
              0.7985244041,
              0.4265660656
             ]
            },
            {
             "iteration": 326,
             "learn": [
              0.8377840909,
              0.3500902874
             ],
             "passed_time": 3.578719857,
             "remaining_time": 1.893328854,
             "test": [
              0.7985244041,
              0.4264562985
             ]
            },
            {
             "iteration": 327,
             "learn": [
              0.8377840909,
              0.3499423046
             ],
             "passed_time": 3.59147161,
             "remaining_time": 1.883332674,
             "test": [
              0.7985244041,
              0.4264745897
             ]
            },
            {
             "iteration": 328,
             "learn": [
              0.8375,
              0.3499251288
             ],
             "passed_time": 3.602420637,
             "remaining_time": 1.872382763,
             "test": [
              0.7985244041,
              0.4264599438
             ]
            },
            {
             "iteration": 329,
             "learn": [
              0.8377840909,
              0.3498270931
             ],
             "passed_time": 3.612837325,
             "remaining_time": 1.861158622,
             "test": [
              0.799091941,
              0.4264626869
             ]
            },
            {
             "iteration": 330,
             "learn": [
              0.8377840909,
              0.3497080415
             ],
             "passed_time": 3.625041002,
             "remaining_time": 1.85085175,
             "test": [
              0.7985244041,
              0.4264092725
             ]
            },
            {
             "iteration": 331,
             "learn": [
              0.8383522727,
              0.3496519941
             ],
             "passed_time": 3.637763647,
             "remaining_time": 1.840796062,
             "test": [
              0.7996594779,
              0.4264194964
             ]
            },
            {
             "iteration": 332,
             "learn": [
              0.8383522727,
              0.3495614417
             ],
             "passed_time": 3.64806137,
             "remaining_time": 1.829508255,
             "test": [
              0.799091941,
              0.4264632899
             ]
            },
            {
             "iteration": 333,
             "learn": [
              0.8389204545,
              0.3491729779
             ],
             "passed_time": 3.660121291,
             "remaining_time": 1.819102199,
             "test": [
              0.799091941,
              0.4265399056
             ]
            },
            {
             "iteration": 334,
             "learn": [
              0.8386363636,
              0.3489556608
             ],
             "passed_time": 3.672115816,
             "remaining_time": 1.808654059,
             "test": [
              0.7979568672,
              0.4265811554
             ]
            },
            {
             "iteration": 335,
             "learn": [
              0.8392045455,
              0.3488982214
             ],
             "passed_time": 3.684096887,
             "remaining_time": 1.798190147,
             "test": [
              0.7979568672,
              0.4265811071
             ]
            },
            {
             "iteration": 336,
             "learn": [
              0.8389204545,
              0.3485486509
             ],
             "passed_time": 3.696415811,
             "remaining_time": 1.787880644,
             "test": [
              0.7973893303,
              0.4265844617
             ]
            },
            {
             "iteration": 337,
             "learn": [
              0.8383522727,
              0.3483185786
             ],
             "passed_time": 3.708072858,
             "remaining_time": 1.777242021,
             "test": [
              0.7979568672,
              0.4266493075
             ]
            },
            {
             "iteration": 338,
             "learn": [
              0.8389204545,
              0.3481523575
             ],
             "passed_time": 3.719948031,
             "remaining_time": 1.766700982,
             "test": [
              0.7979568672,
              0.4266916521
             ]
            },
            {
             "iteration": 339,
             "learn": [
              0.8397727273,
              0.3479320812
             ],
             "passed_time": 3.732834055,
             "remaining_time": 1.756627791,
             "test": [
              0.7979568672,
              0.4267106599
             ]
            },
            {
             "iteration": 340,
             "learn": [
              0.8400568182,
              0.3477213124
             ],
             "passed_time": 3.745932991,
             "remaining_time": 1.746637377,
             "test": [
              0.7979568672,
              0.4268140776
             ]
            },
            {
             "iteration": 341,
             "learn": [
              0.8400568182,
              0.3474242173
             ],
             "passed_time": 3.757918064,
             "remaining_time": 1.736114193,
             "test": [
              0.7979568672,
              0.4269629204
             ]
            },
            {
             "iteration": 342,
             "learn": [
              0.8400568182,
              0.3473781186
             ],
             "passed_time": 3.770634009,
             "remaining_time": 1.725917025,
             "test": [
              0.7979568672,
              0.4269857424
             ]
            },
            {
             "iteration": 343,
             "learn": [
              0.8400568182,
              0.3471103629
             ],
             "passed_time": 3.78311513,
             "remaining_time": 1.715598722,
             "test": [
              0.7979568672,
              0.4269957016
             ]
            },
            {
             "iteration": 344,
             "learn": [
              0.8400568182,
              0.3468085674
             ],
             "passed_time": 3.796245737,
             "remaining_time": 1.705559679,
             "test": [
              0.7979568672,
              0.4271076638
             ]
            },
            {
             "iteration": 345,
             "learn": [
              0.8397727273,
              0.3467636916
             ],
             "passed_time": 3.806044033,
             "remaining_time": 1.694019599,
             "test": [
              0.7979568672,
              0.4271367796
             ]
            },
            {
             "iteration": 346,
             "learn": [
              0.8397727273,
              0.346649593
             ],
             "passed_time": 3.817390352,
             "remaining_time": 1.683172115,
             "test": [
              0.7979568672,
              0.4271349001
             ]
            },
            {
             "iteration": 347,
             "learn": [
              0.8403409091,
              0.3465568942
             ],
             "passed_time": 3.828236499,
             "remaining_time": 1.672103299,
             "test": [
              0.7973893303,
              0.4271880274
             ]
            },
            {
             "iteration": 348,
             "learn": [
              0.8403409091,
              0.3463023593
             ],
             "passed_time": 3.840260054,
             "remaining_time": 1.661545181,
             "test": [
              0.7985244041,
              0.4271246521
             ]
            },
            {
             "iteration": 349,
             "learn": [
              0.840625,
              0.3460974525
             ],
             "passed_time": 3.85354058,
             "remaining_time": 1.651517392,
             "test": [
              0.7979568672,
              0.4271745378
             ]
            },
            {
             "iteration": 350,
             "learn": [
              0.8403409091,
              0.3459377863
             ],
             "passed_time": 3.865535348,
             "remaining_time": 1.640925262,
             "test": [
              0.7979568672,
              0.4271657678
             ]
            },
            {
             "iteration": 351,
             "learn": [
              0.8411931818,
              0.3454893496
             ],
             "passed_time": 3.877640643,
             "remaining_time": 1.630371634,
             "test": [
              0.7979568672,
              0.4272851358
             ]
            },
            {
             "iteration": 352,
             "learn": [
              0.8409090909,
              0.345212324
             ],
             "passed_time": 3.889694327,
             "remaining_time": 1.619787723,
             "test": [
              0.7968217934,
              0.427320807
             ]
            },
            {
             "iteration": 353,
             "learn": [
              0.8409090909,
              0.3449700556
             ],
             "passed_time": 3.902219274,
             "remaining_time": 1.60938987,
             "test": [
              0.7979568672,
              0.4275531155
             ]
            },
            {
             "iteration": 354,
             "learn": [
              0.840625,
              0.3447536926
             ],
             "passed_time": 3.914596115,
             "remaining_time": 1.59891954,
             "test": [
              0.7962542565,
              0.4276808891
             ]
            },
            {
             "iteration": 355,
             "learn": [
              0.8409090909,
              0.3446666725
             ],
             "passed_time": 3.926567152,
             "remaining_time": 1.588274353,
             "test": [
              0.7962542565,
              0.4276945967
             ]
            },
            {
             "iteration": 356,
             "learn": [
              0.8411931818,
              0.3446257346
             ],
             "passed_time": 3.938737633,
             "remaining_time": 1.577701629,
             "test": [
              0.7962542565,
              0.4277060721
             ]
            },
            {
             "iteration": 357,
             "learn": [
              0.8411931818,
              0.3444386577
             ],
             "passed_time": 3.950021781,
             "remaining_time": 1.566768416,
             "test": [
              0.7962542565,
              0.4277170235
             ]
            },
            {
             "iteration": 358,
             "learn": [
              0.840625,
              0.3442650376
             ],
             "passed_time": 3.962689158,
             "remaining_time": 1.556376522,
             "test": [
              0.7962542565,
              0.4277820069
             ]
            },
            {
             "iteration": 359,
             "learn": [
              0.8409090909,
              0.3440371783
             ],
             "passed_time": 3.987885451,
             "remaining_time": 1.550844342,
             "test": [
              0.7962542565,
              0.4276943825
             ]
            },
            {
             "iteration": 360,
             "learn": [
              0.8409090909,
              0.3440014855
             ],
             "passed_time": 4.000607404,
             "remaining_time": 1.540400081,
             "test": [
              0.7962542565,
              0.4276825085
             ]
            },
            {
             "iteration": 361,
             "learn": [
              0.8411931818,
              0.3436698271
             ],
             "passed_time": 4.014732622,
             "remaining_time": 1.530478182,
             "test": [
              0.7956867196,
              0.4277307025
             ]
            },
            {
             "iteration": 362,
             "learn": [
              0.8417613636,
              0.343616122
             ],
             "passed_time": 4.028106435,
             "remaining_time": 1.520249536,
             "test": [
              0.7956867196,
              0.4277304652
             ]
            },
            {
             "iteration": 363,
             "learn": [
              0.8414772727,
              0.3433251314
             ],
             "passed_time": 4.040646104,
             "remaining_time": 1.509691951,
             "test": [
              0.7956867196,
              0.4277454075
             ]
            },
            {
             "iteration": 364,
             "learn": [
              0.8417613636,
              0.3429337671
             ],
             "passed_time": 4.051803556,
             "remaining_time": 1.498612274,
             "test": [
              0.7985244041,
              0.4276789515
             ]
            },
            {
             "iteration": 365,
             "learn": [
              0.8417613636,
              0.3428079403
             ],
             "passed_time": 4.064110697,
             "remaining_time": 1.487953097,
             "test": [
              0.7985244041,
              0.4276597354
             ]
            },
            {
             "iteration": 366,
             "learn": [
              0.8423295455,
              0.3427428484
             ],
             "passed_time": 4.075800559,
             "remaining_time": 1.477061238,
             "test": [
              0.7985244041,
              0.4276392219
             ]
            },
            {
             "iteration": 367,
             "learn": [
              0.8420454545,
              0.342662714
             ],
             "passed_time": 4.087402773,
             "remaining_time": 1.466133603,
             "test": [
              0.7973893303,
              0.427657229
             ]
            },
            {
             "iteration": 368,
             "learn": [
              0.8420454545,
              0.3424837134
             ],
             "passed_time": 4.099429806,
             "remaining_time": 1.455353129,
             "test": [
              0.7973893303,
              0.4277153515
             ]
            },
            {
             "iteration": 369,
             "learn": [
              0.8420454545,
              0.3423660057
             ],
             "passed_time": 4.11253688,
             "remaining_time": 1.44494539,
             "test": [
              0.7973893303,
              0.427726912
             ]
            },
            {
             "iteration": 370,
             "learn": [
              0.8423295455,
              0.3423204837
             ],
             "passed_time": 4.125088292,
             "remaining_time": 1.434329891,
             "test": [
              0.7973893303,
              0.4277154751
             ]
            },
            {
             "iteration": 371,
             "learn": [
              0.8420454545,
              0.3420983853
             ],
             "passed_time": 4.137160689,
             "remaining_time": 1.423539162,
             "test": [
              0.7973893303,
              0.4278035324
             ]
            },
            {
             "iteration": 372,
             "learn": [
              0.8417613636,
              0.3420726754
             ],
             "passed_time": 4.147872951,
             "remaining_time": 1.412278458,
             "test": [
              0.7973893303,
              0.4278046199
             ]
            },
            {
             "iteration": 373,
             "learn": [
              0.8420454545,
              0.3418990859
             ],
             "passed_time": 4.163084296,
             "remaining_time": 1.402536421,
             "test": [
              0.7973893303,
              0.4278369887
             ]
            },
            {
             "iteration": 374,
             "learn": [
              0.8431818182,
              0.3416498575
             ],
             "passed_time": 4.178952852,
             "remaining_time": 1.392984284,
             "test": [
              0.7985244041,
              0.4278890811
             ]
            },
            {
             "iteration": 375,
             "learn": [
              0.8440340909,
              0.3414434426
             ],
             "passed_time": 4.199127217,
             "remaining_time": 1.38481855,
             "test": [
              0.799091941,
              0.4279268304
             ]
            },
            {
             "iteration": 376,
             "learn": [
              0.8434659091,
              0.341294001
             ],
             "passed_time": 4.214880214,
             "remaining_time": 1.375146595,
             "test": [
              0.799091941,
              0.4279659447
             ]
            },
            {
             "iteration": 377,
             "learn": [
              0.8443181818,
              0.341141855
             ],
             "passed_time": 4.232666007,
             "remaining_time": 1.366098553,
             "test": [
              0.799091941,
              0.4279433319
             ]
            },
            {
             "iteration": 378,
             "learn": [
              0.8443181818,
              0.3410217805
             ],
             "passed_time": 4.246295957,
             "remaining_time": 1.355677601,
             "test": [
              0.799091941,
              0.4278805431
             ]
            },
            {
             "iteration": 379,
             "learn": [
              0.84375,
              0.3409617672
             ],
             "passed_time": 4.269446849,
             "remaining_time": 1.348246373,
             "test": [
              0.8002270148,
              0.4279310007
             ]
            },
            {
             "iteration": 380,
             "learn": [
              0.84375,
              0.3408126434
             ],
             "passed_time": 4.28279539,
             "remaining_time": 1.337671001,
             "test": [
              0.8002270148,
              0.4279526964
             ]
            },
            {
             "iteration": 381,
             "learn": [
              0.84375,
              0.3407681329
             ],
             "passed_time": 4.296580072,
             "remaining_time": 1.327215834,
             "test": [
              0.8002270148,
              0.4279448283
             ]
            },
            {
             "iteration": 382,
             "learn": [
              0.84375,
              0.3407100722
             ],
             "passed_time": 4.312002348,
             "remaining_time": 1.317243537,
             "test": [
              0.7996594779,
              0.4279743863
             ]
            },
            {
             "iteration": 383,
             "learn": [
              0.84375,
              0.3404542
             ],
             "passed_time": 4.327307826,
             "remaining_time": 1.307207572,
             "test": [
              0.8002270148,
              0.4280212803
             ]
            },
            {
             "iteration": 384,
             "learn": [
              0.8446022727,
              0.3402757137
             ],
             "passed_time": 4.341546897,
             "remaining_time": 1.296825697,
             "test": [
              0.8002270148,
              0.4279998894
             ]
            },
            {
             "iteration": 385,
             "learn": [
              0.8446022727,
              0.3400882746
             ],
             "passed_time": 4.355144636,
             "remaining_time": 1.286234426,
             "test": [
              0.8002270148,
              0.4280013782
             ]
            },
            {
             "iteration": 386,
             "learn": [
              0.8451704545,
              0.3397043959
             ],
             "passed_time": 4.367412231,
             "remaining_time": 1.27523923,
             "test": [
              0.8002270148,
              0.4281034835
             ]
            },
            {
             "iteration": 387,
             "learn": [
              0.8451704545,
              0.3394676027
             ],
             "passed_time": 4.382244641,
             "remaining_time": 1.264977835,
             "test": [
              0.7985244041,
              0.4281746755
             ]
            },
            {
             "iteration": 388,
             "learn": [
              0.8454545455,
              0.339289877
             ],
             "passed_time": 4.398561729,
             "remaining_time": 1.255116586,
             "test": [
              0.799091941,
              0.42824855
             ]
            },
            {
             "iteration": 389,
             "learn": [
              0.8451704545,
              0.3390811366
             ],
             "passed_time": 4.413610069,
             "remaining_time": 1.244864378,
             "test": [
              0.7985244041,
              0.4282451981
             ]
            },
            {
             "iteration": 390,
             "learn": [
              0.8454545455,
              0.3389964706
             ],
             "passed_time": 4.42825304,
             "remaining_time": 1.234474632,
             "test": [
              0.799091941,
              0.4282867307
             ]
            },
            {
             "iteration": 391,
             "learn": [
              0.8454545455,
              0.3388887416
             ],
             "passed_time": 4.441655418,
             "remaining_time": 1.223721391,
             "test": [
              0.799091941,
              0.4283081735
             ]
            },
            {
             "iteration": 392,
             "learn": [
              0.8457386364,
              0.3387518535
             ],
             "passed_time": 4.45914105,
             "remaining_time": 1.214066393,
             "test": [
              0.7985244041,
              0.4283939521
             ]
            },
            {
             "iteration": 393,
             "learn": [
              0.8460227273,
              0.338555386
             ],
             "passed_time": 4.47321998,
             "remaining_time": 1.203455122,
             "test": [
              0.799091941,
              0.4283636517
             ]
            },
            {
             "iteration": 394,
             "learn": [
              0.8457386364,
              0.338476789
             ],
             "passed_time": 4.487192722,
             "remaining_time": 1.192798065,
             "test": [
              0.7985244041,
              0.428377122
             ]
            },
            {
             "iteration": 395,
             "learn": [
              0.8463068182,
              0.3383699078
             ],
             "passed_time": 4.501414156,
             "remaining_time": 1.182189576,
             "test": [
              0.7985244041,
              0.4284390599
             ]
            },
            {
             "iteration": 396,
             "learn": [
              0.8474431818,
              0.3380268631
             ],
             "passed_time": 4.516597427,
             "remaining_time": 1.171812431,
             "test": [
              0.7973893303,
              0.4286197499
             ]
            },
            {
             "iteration": 397,
             "learn": [
              0.8477272727,
              0.3378236003
             ],
             "passed_time": 4.535149497,
             "remaining_time": 1.162274494,
             "test": [
              0.7968217934,
              0.4287313857
             ]
            },
            {
             "iteration": 398,
             "learn": [
              0.8485795455,
              0.3375588501
             ],
             "passed_time": 4.54854237,
             "remaining_time": 1.151385412,
             "test": [
              0.7973893303,
              0.4287632688
             ]
            },
            {
             "iteration": 399,
             "learn": [
              0.8488636364,
              0.3373486714
             ],
             "passed_time": 4.561581125,
             "remaining_time": 1.140395281,
             "test": [
              0.7973893303,
              0.4288061079
             ]
            },
            {
             "iteration": 400,
             "learn": [
              0.8488636364,
              0.3372706274
             ],
             "passed_time": 4.575398972,
             "remaining_time": 1.129587277,
             "test": [
              0.7968217934,
              0.4287761124
             ]
            },
            {
             "iteration": 401,
             "learn": [
              0.8488636364,
              0.3370740611
             ],
             "passed_time": 4.590138823,
             "remaining_time": 1.118989066,
             "test": [
              0.7962542565,
              0.428799099
             ]
            },
            {
             "iteration": 402,
             "learn": [
              0.8497159091,
              0.336934495
             ],
             "passed_time": 4.602560844,
             "remaining_time": 1.107812412,
             "test": [
              0.7973893303,
              0.4289159442
             ]
            },
            {
             "iteration": 403,
             "learn": [
              0.8494318182,
              0.3368739339
             ],
             "passed_time": 4.615273103,
             "remaining_time": 1.096698559,
             "test": [
              0.7968217934,
              0.4289134718
             ]
            },
            {
             "iteration": 404,
             "learn": [
              0.8497159091,
              0.3366811689
             ],
             "passed_time": 4.629188059,
             "remaining_time": 1.085858927,
             "test": [
              0.7973893303,
              0.4289206407
             ]
            },
            {
             "iteration": 405,
             "learn": [
              0.8497159091,
              0.3366116966
             ],
             "passed_time": 4.642466348,
             "remaining_time": 1.074856741,
             "test": [
              0.7973893303,
              0.4289161906
             ]
            },
            {
             "iteration": 406,
             "learn": [
              0.8497159091,
              0.3363909279
             ],
             "passed_time": 4.655940243,
             "remaining_time": 1.063888065,
             "test": [
              0.7973893303,
              0.4288831712
             ]
            },
            {
             "iteration": 407,
             "learn": [
              0.8497159091,
              0.3362224658
             ],
             "passed_time": 4.669469184,
             "remaining_time": 1.052919522,
             "test": [
              0.7968217934,
              0.428893641
             ]
            },
            {
             "iteration": 408,
             "learn": [
              0.8502840909,
              0.3360284908
             ],
             "passed_time": 4.683006003,
             "remaining_time": 1.041940211,
             "test": [
              0.7968217934,
              0.428899669
             ]
            },
            {
             "iteration": 409,
             "learn": [
              0.8502840909,
              0.3358153816
             ],
             "passed_time": 4.703130418,
             "remaining_time": 1.032394482,
             "test": [
              0.7962542565,
              0.4289095908
             ]
            },
            {
             "iteration": 410,
             "learn": [
              0.8508522727,
              0.3356074792
             ],
             "passed_time": 4.717443847,
             "remaining_time": 1.021538935,
             "test": [
              0.7962542565,
              0.4289144113
             ]
            },
            {
             "iteration": 411,
             "learn": [
              0.8508522727,
              0.3354104824
             ],
             "passed_time": 4.732421148,
             "remaining_time": 1.010808401,
             "test": [
              0.7962542565,
              0.4290478553
             ]
            },
            {
             "iteration": 412,
             "learn": [
              0.8505681818,
              0.3352467294
             ],
             "passed_time": 4.746210412,
             "remaining_time": 0.9998070358,
             "test": [
              0.7962542565,
              0.4290162671
             ]
            },
            {
             "iteration": 413,
             "learn": [
              0.8514204545,
              0.3349790826
             ],
             "passed_time": 4.767582658,
             "remaining_time": 0.9903674121,
             "test": [
              0.7962542565,
              0.429114031
             ]
            },
            {
             "iteration": 414,
             "learn": [
              0.8514204545,
              0.334742023
             ],
             "passed_time": 4.782173342,
             "remaining_time": 0.9794812869,
             "test": [
              0.7962542565,
              0.4291803864
             ]
            },
            {
             "iteration": 415,
             "learn": [
              0.8522727273,
              0.3345983251
             ],
             "passed_time": 4.79619947,
             "remaining_time": 0.9684633546,
             "test": [
              0.7956867196,
              0.4290943984
             ]
            },
            {
             "iteration": 416,
             "learn": [
              0.8522727273,
              0.3344578227
             ],
             "passed_time": 4.812500957,
             "remaining_time": 0.9578838836,
             "test": [
              0.7945516459,
              0.4291233106
             ]
            },
            {
             "iteration": 417,
             "learn": [
              0.8519886364,
              0.3344497228
             ],
             "passed_time": 4.832925133,
             "remaining_time": 0.9480857917,
             "test": [
              0.7945516459,
              0.4291236981
             ]
            },
            {
             "iteration": 418,
             "learn": [
              0.8519886364,
              0.334253572
             ],
             "passed_time": 4.847527907,
             "remaining_time": 0.9371116002,
             "test": [
              0.7956867196,
              0.4291837267
             ]
            },
            {
             "iteration": 419,
             "learn": [
              0.8522727273,
              0.3341727809
             ],
             "passed_time": 4.860232313,
             "remaining_time": 0.9257585358,
             "test": [
              0.7951191827,
              0.4291474601
             ]
            },
            {
             "iteration": 420,
             "learn": [
              0.8522727273,
              0.3340956095
             ],
             "passed_time": 4.876606458,
             "remaining_time": 0.9150876726,
             "test": [
              0.7956867196,
              0.4291911102
             ]
            },
            {
             "iteration": 421,
             "learn": [
              0.8522727273,
              0.3339840642
             ],
             "passed_time": 4.891436844,
             "remaining_time": 0.9041044405,
             "test": [
              0.7956867196,
              0.4292476011
             ]
            },
            {
             "iteration": 422,
             "learn": [
              0.8522727273,
              0.3337344583
             ],
             "passed_time": 4.905684073,
             "remaining_time": 0.8929968643,
             "test": [
              0.7945516459,
              0.4293107742
             ]
            },
            {
             "iteration": 423,
             "learn": [
              0.8522727273,
              0.3336363652
             ],
             "passed_time": 4.919584315,
             "remaining_time": 0.881812283,
             "test": [
              0.7934165721,
              0.4293381349
             ]
            },
            {
             "iteration": 424,
             "learn": [
              0.8525568182,
              0.3334802696
             ],
             "passed_time": 4.933330455,
             "remaining_time": 0.8705877274,
             "test": [
              0.7951191827,
              0.4293844251
             ]
            },
            {
             "iteration": 425,
             "learn": [
              0.8522727273,
              0.3333452171
             ],
             "passed_time": 4.946756769,
             "remaining_time": 0.8592957767,
             "test": [
              0.7945516459,
              0.4293939091
             ]
            },
            {
             "iteration": 426,
             "learn": [
              0.8522727273,
              0.3331645392
             ],
             "passed_time": 4.961461329,
             "remaining_time": 0.8482123583,
             "test": [
              0.7951191827,
              0.4293701386
             ]
            },
            {
             "iteration": 427,
             "learn": [
              0.8522727273,
              0.3329734238
             ],
             "passed_time": 4.988453457,
             "remaining_time": 0.8391790861,
             "test": [
              0.7951191827,
              0.4293696773
             ]
            },
            {
             "iteration": 428,
             "learn": [
              0.8525568182,
              0.332794512
             ],
             "passed_time": 5.000312436,
             "remaining_time": 0.827557536,
             "test": [
              0.7951191827,
              0.4293769241
             ]
            },
            {
             "iteration": 429,
             "learn": [
              0.8525568182,
              0.3327147513
             ],
             "passed_time": 5.012331151,
             "remaining_time": 0.815960885,
             "test": [
              0.7951191827,
              0.4293331792
             ]
            },
            {
             "iteration": 430,
             "learn": [
              0.8517045455,
              0.3324628535
             ],
             "passed_time": 5.024231806,
             "remaining_time": 0.804343375,
             "test": [
              0.7951191827,
              0.4293872217
             ]
            },
            {
             "iteration": 431,
             "learn": [
              0.8525568182,
              0.3323906823
             ],
             "passed_time": 5.036144095,
             "remaining_time": 0.7927263853,
             "test": [
              0.7951191827,
              0.4294294527
             ]
            },
            {
             "iteration": 432,
             "learn": [
              0.8528409091,
              0.3322459274
             ],
             "passed_time": 5.048436548,
             "remaining_time": 0.7811668562,
             "test": [
              0.7945516459,
              0.4294462235
             ]
            },
            {
             "iteration": 433,
             "learn": [
              0.8525568182,
              0.3321442683
             ],
             "passed_time": 5.058969038,
             "remaining_time": 0.7693363053,
             "test": [
              0.7945516459,
              0.4294288038
             ]
            },
            {
             "iteration": 434,
             "learn": [
              0.8517045455,
              0.3319723661
             ],
             "passed_time": 5.071221681,
             "remaining_time": 0.7577687569,
             "test": [
              0.7951191827,
              0.429410585
             ]
            },
            {
             "iteration": 435,
             "learn": [
              0.8522727273,
              0.3319482031
             ],
             "passed_time": 5.082067801,
             "remaining_time": 0.7459916038,
             "test": [
              0.7945516459,
              0.4294381454
             ]
            },
            {
             "iteration": 436,
             "learn": [
              0.8517045455,
              0.3318147358
             ],
             "passed_time": 5.094370905,
             "remaining_time": 0.7344287575,
             "test": [
              0.7962542565,
              0.4293617492
             ]
            },
            {
             "iteration": 437,
             "learn": [
              0.8522727273,
              0.331641574
             ],
             "passed_time": 5.106257734,
             "remaining_time": 0.7228036061,
             "test": [
              0.7962542565,
              0.4294221784
             ]
            },
            {
             "iteration": 438,
             "learn": [
              0.8525568182,
              0.3314402996
             ],
             "passed_time": 5.118447723,
             "remaining_time": 0.7112193875,
             "test": [
              0.7956867196,
              0.4293822006
             ]
            },
            {
             "iteration": 439,
             "learn": [
              0.8528409091,
              0.3313034671
             ],
             "passed_time": 5.130500946,
             "remaining_time": 0.6996137653,
             "test": [
              0.7962542565,
              0.4293628913
             ]
            },
            {
             "iteration": 440,
             "learn": [
              0.8525568182,
              0.3312759605
             ],
             "passed_time": 5.142371211,
             "remaining_time": 0.687981636,
             "test": [
              0.7962542565,
              0.429406118
             ]
            },
            {
             "iteration": 441,
             "learn": [
              0.8528409091,
              0.3312146942
             ],
             "passed_time": 5.154000971,
             "remaining_time": 0.6763168695,
             "test": [
              0.7968217934,
              0.4294955643
             ]
            },
            {
             "iteration": 442,
             "learn": [
              0.8528409091,
              0.3309936304
             ],
             "passed_time": 5.166444517,
             "remaining_time": 0.6647569694,
             "test": [
              0.7973893303,
              0.4294993126
             ]
            },
            {
             "iteration": 443,
             "learn": [
              0.8528409091,
              0.3309485886
             ],
             "passed_time": 5.177151057,
             "remaining_time": 0.6529740072,
             "test": [
              0.7973893303,
              0.4294793268
             ]
            },
            {
             "iteration": 444,
             "learn": [
              0.8525568182,
              0.3307146008
             ],
             "passed_time": 5.188835832,
             "remaining_time": 0.6413167883,
             "test": [
              0.7973893303,
              0.4295658073
             ]
            },
            {
             "iteration": 445,
             "learn": [
              0.8528409091,
              0.3304687762
             ],
             "passed_time": 5.200662425,
             "remaining_time": 0.6296766165,
             "test": [
              0.7962542565,
              0.4296754703
             ]
            },
            {
             "iteration": 446,
             "learn": [
              0.8528409091,
              0.3301971709
             ],
             "passed_time": 5.212858949,
             "remaining_time": 0.6180794727,
             "test": [
              0.7968217934,
              0.4298372179
             ]
            },
            {
             "iteration": 447,
             "learn": [
              0.8522727273,
              0.3299145873
             ],
             "passed_time": 5.224974655,
             "remaining_time": 0.6064702725,
             "test": [
              0.7951191827,
              0.4298076384
             ]
            },
            {
             "iteration": 448,
             "learn": [
              0.8525568182,
              0.3297662263
             ],
             "passed_time": 5.238070212,
             "remaining_time": 0.5949701131,
             "test": [
              0.7951191827,
              0.4298500282
             ]
            },
            {
             "iteration": 449,
             "learn": [
              0.8528409091,
              0.3295983422
             ],
             "passed_time": 5.250343558,
             "remaining_time": 0.5833715065,
             "test": [
              0.7951191827,
              0.4298146419
             ]
            },
            {
             "iteration": 450,
             "learn": [
              0.8534090909,
              0.3294097622
             ],
             "passed_time": 5.262336973,
             "remaining_time": 0.5717394937,
             "test": [
              0.7951191827,
              0.4296929069
             ]
            },
            {
             "iteration": 451,
             "learn": [
              0.853125,
              0.3292103075
             ],
             "passed_time": 5.274784486,
             "remaining_time": 0.5601541047,
             "test": [
              0.7956867196,
              0.4296748644
             ]
            },
            {
             "iteration": 452,
             "learn": [
              0.8534090909,
              0.3291677053
             ],
             "passed_time": 5.286563053,
             "remaining_time": 0.5484955044,
             "test": [
              0.7956867196,
              0.4296829946
             ]
            },
            {
             "iteration": 453,
             "learn": [
              0.8528409091,
              0.3290424942
             ],
             "passed_time": 5.298623015,
             "remaining_time": 0.536864887,
             "test": [
              0.7951191827,
              0.4297083545
             ]
            },
            {
             "iteration": 454,
             "learn": [
              0.8534090909,
              0.3289510857
             ],
             "passed_time": 5.309710558,
             "remaining_time": 0.5251362091,
             "test": [
              0.7951191827,
              0.4296794558
             ]
            },
            {
             "iteration": 455,
             "learn": [
              0.8534090909,
              0.3287900567
             ],
             "passed_time": 5.322910558,
             "remaining_time": 0.5136141766,
             "test": [
              0.7951191827,
              0.4297550596
             ]
            },
            {
             "iteration": 456,
             "learn": [
              0.8536931818,
              0.3285636153
             ],
             "passed_time": 5.334398676,
             "remaining_time": 0.5019237266,
             "test": [
              0.7962542565,
              0.4298299005
             ]
            },
            {
             "iteration": 457,
             "learn": [
              0.8542613636,
              0.3283866268
             ],
             "passed_time": 5.346374748,
             "remaining_time": 0.490278907,
             "test": [
              0.7956867196,
              0.4297164791
             ]
            },
            {
             "iteration": 458,
             "learn": [
              0.8539772727,
              0.3282119236
             ],
             "passed_time": 5.357971191,
             "remaining_time": 0.4785987338,
             "test": [
              0.7951191827,
              0.4297127718
             ]
            },
            {
             "iteration": 459,
             "learn": [
              0.8539772727,
              0.3280607492
             ],
             "passed_time": 5.369561502,
             "remaining_time": 0.4669183914,
             "test": [
              0.7951191827,
              0.4296809625
             ]
            },
            {
             "iteration": 460,
             "learn": [
              0.8536931818,
              0.3279520847
             ],
             "passed_time": 5.38100497,
             "remaining_time": 0.455226017,
             "test": [
              0.7951191827,
              0.4296661808
             ]
            },
            {
             "iteration": 461,
             "learn": [
              0.8536931818,
              0.3277138508
             ],
             "passed_time": 5.392643417,
             "remaining_time": 0.4435507573,
             "test": [
              0.7956867196,
              0.4296379186
             ]
            },
            {
             "iteration": 462,
             "learn": [
              0.8539772727,
              0.3276278373
             ],
             "passed_time": 5.404000057,
             "remaining_time": 0.4318531363,
             "test": [
              0.7956867196,
              0.429640843
             ]
            },
            {
             "iteration": 463,
             "learn": [
              0.8539772727,
              0.3274999355
             ],
             "passed_time": 5.416346287,
             "remaining_time": 0.4202337636,
             "test": [
              0.7956867196,
              0.4296296033
             ]
            },
            {
             "iteration": 464,
             "learn": [
              0.8548295455,
              0.3272456278
             ],
             "passed_time": 5.428430594,
             "remaining_time": 0.4085915501,
             "test": [
              0.7951191827,
              0.4297955143
             ]
            },
            {
             "iteration": 465,
             "learn": [
              0.8551136364,
              0.3270371788
             ],
             "passed_time": 5.4406992,
             "remaining_time": 0.3969608858,
             "test": [
              0.7951191827,
              0.4299119386
             ]
            },
            {
             "iteration": 466,
             "learn": [
              0.8556818182,
              0.3267518154
             ],
             "passed_time": 5.452908635,
             "remaining_time": 0.3853233083,
             "test": [
              0.7973893303,
              0.4299579712
             ]
            },
            {
             "iteration": 467,
             "learn": [
              0.8559659091,
              0.3265546431
             ],
             "passed_time": 5.465828381,
             "remaining_time": 0.3737318551,
             "test": [
              0.7951191827,
              0.4301322886
             ]
            },
            {
             "iteration": 468,
             "learn": [
              0.8556818182,
              0.3263516454
             ],
             "passed_time": 5.478251757,
             "remaining_time": 0.3621019285,
             "test": [
              0.7951191827,
              0.4301297353
             ]
            },
            {
             "iteration": 469,
             "learn": [
              0.8556818182,
              0.326333562
             ],
             "passed_time": 5.491528233,
             "remaining_time": 0.3505230787,
             "test": [
              0.7956867196,
              0.4301324376
             ]
            },
            {
             "iteration": 470,
             "learn": [
              0.8559659091,
              0.326114393
             ],
             "passed_time": 5.50452435,
             "remaining_time": 0.3389197583,
             "test": [
              0.7956867196,
              0.4302010353
             ]
            },
            {
             "iteration": 471,
             "learn": [
              0.8559659091,
              0.3258927441
             ],
             "passed_time": 5.516799257,
             "remaining_time": 0.3272677525,
             "test": [
              0.7956867196,
              0.4302169501
             ]
            },
            {
             "iteration": 472,
             "learn": [
              0.8568181818,
              0.3257492646
             ],
             "passed_time": 5.528707849,
             "remaining_time": 0.3155922028,
             "test": [
              0.7951191827,
              0.4301900164
             ]
            },
            {
             "iteration": 473,
             "learn": [
              0.8568181818,
              0.325655989
             ],
             "passed_time": 5.54006747,
             "remaining_time": 0.3038855574,
             "test": [
              0.7951191827,
              0.4301650294
             ]
            },
            {
             "iteration": 474,
             "learn": [
              0.8573863636,
              0.3255112635
             ],
             "passed_time": 5.551960458,
             "remaining_time": 0.2922084451,
             "test": [
              0.7962542565,
              0.4301389163
             ]
            },
            {
             "iteration": 475,
             "learn": [
              0.8576704545,
              0.3253007725
             ],
             "passed_time": 5.56562496,
             "remaining_time": 0.2806197459,
             "test": [
              0.7956867196,
              0.4302020621
             ]
            },
            {
             "iteration": 476,
             "learn": [
              0.8576704545,
              0.3252193879
             ],
             "passed_time": 5.578394278,
             "remaining_time": 0.268979179,
             "test": [
              0.7956867196,
              0.4301519711
             ]
            },
            {
             "iteration": 477,
             "learn": [
              0.8573863636,
              0.3250887408
             ],
             "passed_time": 5.59106051,
             "remaining_time": 0.2573291448,
             "test": [
              0.7956867196,
              0.4301709973
             ]
            },
            {
             "iteration": 478,
             "learn": [
              0.8573863636,
              0.3248816199
             ],
             "passed_time": 5.603302926,
             "remaining_time": 0.2456562869,
             "test": [
              0.7968217934,
              0.4302533392
             ]
            },
            {
             "iteration": 479,
             "learn": [
              0.8576704545,
              0.3248480452
             ],
             "passed_time": 5.615091904,
             "remaining_time": 0.2339621627,
             "test": [
              0.7973893303,
              0.4302605767
             ]
            },
            {
             "iteration": 480,
             "learn": [
              0.8576704545,
              0.3247614333
             ],
             "passed_time": 5.627910979,
             "remaining_time": 0.2223083339,
             "test": [
              0.7968217934,
              0.4302462988
             ]
            },
            {
             "iteration": 481,
             "learn": [
              0.8568181818,
              0.3246421359
             ],
             "passed_time": 5.639675951,
             "remaining_time": 0.2106103052,
             "test": [
              0.7968217934,
              0.4302396672
             ]
            },
            {
             "iteration": 482,
             "learn": [
              0.8571022727,
              0.3245989666
             ],
             "passed_time": 5.652144372,
             "remaining_time": 0.1989367584,
             "test": [
              0.7968217934,
              0.4302182024
             ]
            },
            {
             "iteration": 483,
             "learn": [
              0.8571022727,
              0.3243997843
             ],
             "passed_time": 5.664996207,
             "remaining_time": 0.1872726019,
             "test": [
              0.7968217934,
              0.4303719593
             ]
            },
            {
             "iteration": 484,
             "learn": [
              0.8573863636,
              0.324309327
             ],
             "passed_time": 5.677237748,
             "remaining_time": 0.1755846726,
             "test": [
              0.7962542565,
              0.4303994014
             ]
            },
            {
             "iteration": 485,
             "learn": [
              0.8579545455,
              0.3242020617
             ],
             "passed_time": 5.688991195,
             "remaining_time": 0.1638804048,
             "test": [
              0.7962542565,
              0.430393833
             ]
            },
            {
             "iteration": 486,
             "learn": [
              0.8582386364,
              0.3239717409
             ],
             "passed_time": 5.70122523,
             "remaining_time": 0.1521887639,
             "test": [
              0.7945516459,
              0.4304253748
             ]
            },
            {
             "iteration": 487,
             "learn": [
              0.8582386364,
              0.3238758396
             ],
             "passed_time": 5.713383417,
             "remaining_time": 0.1404930349,
             "test": [
              0.7945516459,
              0.4303611658
             ]
            },
            {
             "iteration": 488,
             "learn": [
              0.8585227273,
              0.3235491045
             ],
             "passed_time": 5.724714293,
             "remaining_time": 0.1287768041,
             "test": [
              0.7956867196,
              0.4302635732
             ]
            },
            {
             "iteration": 489,
             "learn": [
              0.8585227273,
              0.3234586198
             ],
             "passed_time": 5.736019808,
             "remaining_time": 0.1170616287,
             "test": [
              0.7962542565,
              0.4302994449
             ]
            },
            {
             "iteration": 490,
             "learn": [
              0.8590909091,
              0.3232957435
             ],
             "passed_time": 5.747588057,
             "remaining_time": 0.1053529379,
             "test": [
              0.7962542565,
              0.4303108653
             ]
            },
            {
             "iteration": 491,
             "learn": [
              0.8590909091,
              0.3231364572
             ],
             "passed_time": 5.759903223,
             "remaining_time": 0.09365696298,
             "test": [
              0.7956867196,
              0.4303384165
             ]
            },
            {
             "iteration": 492,
             "learn": [
              0.8596590909,
              0.3230072865
             ],
             "passed_time": 5.77221627,
             "remaining_time": 0.08195844602,
             "test": [
              0.7945516459,
              0.4303905879
             ]
            },
            {
             "iteration": 493,
             "learn": [
              0.8596590909,
              0.3228208371
             ],
             "passed_time": 5.784129606,
             "remaining_time": 0.07025258631,
             "test": [
              0.7968217934,
              0.4305045183
             ]
            },
            {
             "iteration": 494,
             "learn": [
              0.8596590909,
              0.3226204872
             ],
             "passed_time": 5.796707961,
             "remaining_time": 0.05855260567,
             "test": [
              0.7962542565,
              0.4305941086
             ]
            },
            {
             "iteration": 495,
             "learn": [
              0.8596590909,
              0.32253766
             ],
             "passed_time": 5.808508632,
             "remaining_time": 0.04684281154,
             "test": [
              0.7962542565,
              0.4305674438
             ]
            },
            {
             "iteration": 496,
             "learn": [
              0.8596590909,
              0.3223171872
             ],
             "passed_time": 5.820494222,
             "remaining_time": 0.03513376794,
             "test": [
              0.7956867196,
              0.4307047802
             ]
            },
            {
             "iteration": 497,
             "learn": [
              0.8590909091,
              0.3221370797
             ],
             "passed_time": 5.83318628,
             "remaining_time": 0.02342645092,
             "test": [
              0.7956867196,
              0.4307524553
             ]
            },
            {
             "iteration": 498,
             "learn": [
              0.8590909091,
              0.3220900768
             ],
             "passed_time": 5.845023095,
             "remaining_time": 0.01171347314,
             "test": [
              0.7956867196,
              0.4307622277
             ]
            },
            {
             "iteration": 499,
             "learn": [
              0.8599431818,
              0.32176066
             ],
             "passed_time": 5.857607608,
             "remaining_time": 0,
             "test": [
              0.7962542565,
              0.4308937905
             ]
            }
           ],
           "meta": {
            "iteration_count": 500,
            "launch_mode": "Train",
            "learn_metrics": [
             {
              "best_value": "Max",
              "name": "Accuracy"
             },
             {
              "best_value": "Min",
              "name": "Logloss"
             }
            ],
            "learn_sets": [
             "learn"
            ],
            "name": "experiment",
            "parameters": "",
            "test_metrics": [
             {
              "best_value": "Max",
              "name": "Accuracy"
             },
             {
              "best_value": "Min",
              "name": "Logloss"
             }
            ],
            "test_sets": [
             "test"
            ]
           }
          },
          "passed_iterations": 499,
          "total_iterations": 500
         },
         "name": "fold-0",
         "path": "catboost_info/fold-0"
        },
        "catboost_info/fold-1": {
         "content": {
          "data": {
           "iterations": [
            {
             "iteration": 0,
             "learn": [
              0.7893242476,
              0.6744076867
             ],
             "passed_time": 0.0195334695,
             "remaining_time": 9.74720128,
             "test": [
              0.7926136364,
              0.674799018
             ]
            },
            {
             "iteration": 1,
             "learn": [
              0.7910278251,
              0.659167476
             ],
             "passed_time": 0.03259669872,
             "remaining_time": 8.11657798,
             "test": [
              0.7892045455,
              0.6596521179
             ]
            },
            {
             "iteration": 2,
             "learn": [
              0.793867121,
              0.6452002653
             ],
             "passed_time": 0.0487138577,
             "remaining_time": 8.070262425,
             "test": [
              0.79375,
              0.6455437248
             ]
            },
            {
             "iteration": 3,
             "learn": [
              0.7930153322,
              0.6324515091
             ],
             "passed_time": 0.06177338797,
             "remaining_time": 7.659900109,
             "test": [
              0.7914772727,
              0.6327775495
             ]
            },
            {
             "iteration": 4,
             "learn": [
              0.7935831914,
              0.6200781436
             ],
             "passed_time": 0.07514556284,
             "remaining_time": 7.439410721,
             "test": [
              0.7914772727,
              0.620381747
             ]
            },
            {
             "iteration": 5,
             "learn": [
              0.7932992618,
              0.6075021743
             ],
             "passed_time": 0.1109180664,
             "remaining_time": 9.132254132,
             "test": [
              0.7920454545,
              0.6081849181
             ]
            },
            {
             "iteration": 6,
             "learn": [
              0.7927314026,
              0.596165223
             ],
             "passed_time": 0.1217226645,
             "remaining_time": 8.57275337,
             "test": [
              0.7897727273,
              0.5972401515
             ]
            },
            {
             "iteration": 7,
             "learn": [
              0.7941510505,
              0.5834215764
             ],
             "passed_time": 0.1357950755,
             "remaining_time": 8.351397143,
             "test": [
              0.7926136364,
              0.5846831978
             ]
            },
            {
             "iteration": 8,
             "learn": [
              0.7947189097,
              0.5719334499
             ],
             "passed_time": 0.1487123461,
             "remaining_time": 8.113084659,
             "test": [
              0.7892045455,
              0.5736667254
             ]
            },
            {
             "iteration": 9,
             "learn": [
              0.7952867689,
              0.560621074
             ],
             "passed_time": 0.1613234682,
             "remaining_time": 7.904849941,
             "test": [
              0.7897727273,
              0.5628831421
             ]
            },
            {
             "iteration": 10,
             "learn": [
              0.7952867689,
              0.550816894
             ],
             "passed_time": 0.17429958,
             "remaining_time": 7.748408603,
             "test": [
              0.7903409091,
              0.5533861437
             ]
            },
            {
             "iteration": 11,
             "learn": [
              0.7952867689,
              0.5428305595
             ],
             "passed_time": 0.1840883175,
             "remaining_time": 7.486258246,
             "test": [
              0.7897727273,
              0.5457650585
             ]
            },
            {
             "iteration": 12,
             "learn": [
              0.7950028393,
              0.5341917708
             ],
             "passed_time": 0.195223345,
             "remaining_time": 7.313366846,
             "test": [
              0.7909090909,
              0.5374649608
             ]
            },
            {
             "iteration": 13,
             "learn": [
              0.7955706985,
              0.526103552
             ],
             "passed_time": 0.209854926,
             "remaining_time": 7.28496386,
             "test": [
              0.7897727273,
              0.5298377294
             ]
            },
            {
             "iteration": 14,
             "learn": [
              0.7947189097,
              0.5187305266
             ],
             "passed_time": 0.2228651692,
             "remaining_time": 7.205973804,
             "test": [
              0.7903409091,
              0.5225187899
             ]
            },
            {
             "iteration": 15,
             "learn": [
              0.7952867689,
              0.5124275461
             ],
             "passed_time": 0.2317413382,
             "remaining_time": 7.010175482,
             "test": [
              0.7903409091,
              0.5162918216
             ]
            },
            {
             "iteration": 16,
             "learn": [
              0.7947189097,
              0.5062988449
             ],
             "passed_time": 0.2438326423,
             "remaining_time": 6.927715662,
             "test": [
              0.7903409091,
              0.5104371441
             ]
            },
            {
             "iteration": 17,
             "learn": [
              0.7958546281,
              0.5005439902
             ],
             "passed_time": 0.2566318032,
             "remaining_time": 6.872029396,
             "test": [
              0.7903409091,
              0.5047312427
             ]
            },
            {
             "iteration": 18,
             "learn": [
              0.7955706985,
              0.4959635511
             ],
             "passed_time": 0.2648317233,
             "remaining_time": 6.704424153,
             "test": [
              0.7897727273,
              0.500626058
             ]
            },
            {
             "iteration": 19,
             "learn": [
              0.7952867689,
              0.4918838975
             ],
             "passed_time": 0.2703661297,
             "remaining_time": 6.488787113,
             "test": [
              0.7903409091,
              0.4966871069
             ]
            },
            {
             "iteration": 20,
             "learn": [
              0.7952867689,
              0.4863721281
             ],
             "passed_time": 0.2802172056,
             "remaining_time": 6.391621023,
             "test": [
              0.7903409091,
              0.49124744
             ]
            },
            {
             "iteration": 21,
             "learn": [
              0.7950028393,
              0.4836055319
             ],
             "passed_time": 0.283819095,
             "remaining_time": 6.166614881,
             "test": [
              0.7909090909,
              0.4885189681
             ]
            },
            {
             "iteration": 22,
             "learn": [
              0.7944349801,
              0.4803193208
             ],
             "passed_time": 0.2903997644,
             "remaining_time": 6.022638592,
             "test": [
              0.7920454545,
              0.4852077542
             ]
            },
            {
             "iteration": 23,
             "learn": [
              0.7935831914,
              0.4762312929
             ],
             "passed_time": 0.304142946,
             "remaining_time": 6.03216843,
             "test": [
              0.7914772727,
              0.4813492825
             ]
            },
            {
             "iteration": 24,
             "learn": [
              0.7941510505,
              0.4717721561
             ],
             "passed_time": 0.3173628789,
             "remaining_time": 6.029894699,
             "test": [
              0.7931818182,
              0.4771320105
             ]
            },
            {
             "iteration": 25,
             "learn": [
              0.7921635434,
              0.4676694344
             ],
             "passed_time": 0.3294438889,
             "remaining_time": 6.006015512,
             "test": [
              0.7926136364,
              0.4735056946
             ]
            },
            {
             "iteration": 26,
             "learn": [
              0.7941510505,
              0.4641127442
             ],
             "passed_time": 0.3429766108,
             "remaining_time": 6.008442109,
             "test": [
              0.7943181818,
              0.4705608895
             ]
            },
            {
             "iteration": 27,
             "learn": [
              0.7955706985,
              0.4605170122
             ],
             "passed_time": 0.3558921679,
             "remaining_time": 5.999325116,
             "test": [
              0.7954545455,
              0.467420846
             ]
            },
            {
             "iteration": 28,
             "learn": [
              0.7944349801,
              0.4574040427
             ],
             "passed_time": 0.3703079004,
             "remaining_time": 6.014311072,
             "test": [
              0.7965909091,
              0.4644833775
             ]
            },
            {
             "iteration": 29,
             "learn": [
              0.7952867689,
              0.4555905268
             ],
             "passed_time": 0.3757694571,
             "remaining_time": 5.887054827,
             "test": [
              0.7971590909,
              0.4626557299
             ]
            },
            {
             "iteration": 30,
             "learn": [
              0.7950028393,
              0.4527141415
             ],
             "passed_time": 0.389136543,
             "remaining_time": 5.887259313,
             "test": [
              0.7982954545,
              0.4600436887
             ]
            },
            {
             "iteration": 31,
             "learn": [
              0.7955706985,
              0.4500816126
             ],
             "passed_time": 0.3996714439,
             "remaining_time": 5.845194867,
             "test": [
              0.7977272727,
              0.457676172
             ]
            },
            {
             "iteration": 32,
             "learn": [
              0.7969903464,
              0.4472645339
             ],
             "passed_time": 0.4126283856,
             "remaining_time": 5.839316851,
             "test": [
              0.7971590909,
              0.4551223558
             ]
            },
            {
             "iteration": 33,
             "learn": [
              0.797274276,
              0.4450229229
             ],
             "passed_time": 0.4238428298,
             "remaining_time": 5.809139962,
             "test": [
              0.7982954545,
              0.4529674288
             ]
            },
            {
             "iteration": 34,
             "learn": [
              0.7961385576,
              0.4426028391
             ],
             "passed_time": 0.4384766917,
             "remaining_time": 5.825476047,
             "test": [
              0.7977272727,
              0.4510888589
             ]
            },
            {
             "iteration": 35,
             "learn": [
              0.797274276,
              0.4409907391
             ],
             "passed_time": 0.4492970428,
             "remaining_time": 5.790939663,
             "test": [
              0.7977272727,
              0.4495191499
             ]
            },
            {
             "iteration": 36,
             "learn": [
              0.797274276,
              0.4395215094
             ],
             "passed_time": 0.4584551741,
             "remaining_time": 5.736885016,
             "test": [
              0.7977272727,
              0.4480391706
             ]
            },
            {
             "iteration": 37,
             "learn": [
              0.7986939239,
              0.4377264778
             ],
             "passed_time": 0.4692428792,
             "remaining_time": 5.705005532,
             "test": [
              0.8,
              0.4463875502
             ]
            },
            {
             "iteration": 38,
             "learn": [
              0.800681431,
              0.4357486102
             ],
             "passed_time": 0.4825629526,
             "remaining_time": 5.704141567,
             "test": [
              0.8034090909,
              0.4446157589
             ]
            },
            {
             "iteration": 39,
             "learn": [
              0.8021010789,
              0.433940004
             ],
             "passed_time": 0.4996873561,
             "remaining_time": 5.746404596,
             "test": [
              0.8090909091,
              0.4430525508
             ]
            },
            {
             "iteration": 40,
             "learn": [
              0.8023850085,
              0.4322626255
             ],
             "passed_time": 0.5169317385,
             "remaining_time": 5.787113853,
             "test": [
              0.8096590909,
              0.441886762
             ]
            },
            {
             "iteration": 41,
             "learn": [
              0.804088586,
              0.4304733571
             ],
             "passed_time": 0.5311724536,
             "remaining_time": 5.792309137,
             "test": [
              0.8090909091,
              0.4403540068
             ]
            },
            {
             "iteration": 42,
             "learn": [
              0.8029528677,
              0.4292128819
             ],
             "passed_time": 0.5412741766,
             "remaining_time": 5.752611597,
             "test": [
              0.8096590909,
              0.4391603391
             ]
            },
            {
             "iteration": 43,
             "learn": [
              0.8032367973,
              0.42790559
             ],
             "passed_time": 0.5546686042,
             "remaining_time": 5.748383716,
             "test": [
              0.8085227273,
              0.4380437437
             ]
            },
            {
             "iteration": 44,
             "learn": [
              0.8035207269,
              0.4264622091
             ],
             "passed_time": 0.5713749838,
             "remaining_time": 5.777235947,
             "test": [
              0.8090909091,
              0.4368655478
             ]
            },
            {
             "iteration": 45,
             "learn": [
              0.8049403748,
              0.4253743222
             ],
             "passed_time": 0.5839405641,
             "remaining_time": 5.76323948,
             "test": [
              0.8079545455,
              0.4359607714
             ]
            },
            {
             "iteration": 46,
             "learn": [
              0.8046564452,
              0.4245256332
             ],
             "passed_time": 0.5935030771,
             "remaining_time": 5.720359446,
             "test": [
              0.8090909091,
              0.4351352916
             ]
            },
            {
             "iteration": 47,
             "learn": [
              0.8043725156,
              0.4232593227
             ],
             "passed_time": 0.6056216783,
             "remaining_time": 5.702937471,
             "test": [
              0.8085227273,
              0.4342719411
             ]
            },
            {
             "iteration": 48,
             "learn": [
              0.804088586,
              0.4222977271
             ],
             "passed_time": 0.6212814004,
             "remaining_time": 5.718324726,
             "test": [
              0.8079545455,
              0.43333253
             ]
            },
            {
             "iteration": 49,
             "learn": [
              0.8038046564,
              0.4216544836
             ],
             "passed_time": 0.6317171407,
             "remaining_time": 5.685454267,
             "test": [
              0.8068181818,
              0.4326469549
             ]
            },
            {
             "iteration": 50,
             "learn": [
              0.8035207269,
              0.4211765612
             ],
             "passed_time": 0.6361853313,
             "remaining_time": 5.60092576,
             "test": [
              0.80625,
              0.432176902
             ]
            },
            {
             "iteration": 51,
             "learn": [
              0.8046564452,
              0.4206686132
             ],
             "passed_time": 0.6459843847,
             "remaining_time": 5.56540393,
             "test": [
              0.8073863636,
              0.4316570946
             ]
            },
            {
             "iteration": 52,
             "learn": [
              0.8057921635,
              0.4197761408
             ],
             "passed_time": 0.6595733935,
             "remaining_time": 5.562817112,
             "test": [
              0.8051136364,
              0.4308690186
             ]
            },
            {
             "iteration": 53,
             "learn": [
              0.8066439523,
              0.4187559479
             ],
             "passed_time": 0.6758582175,
             "remaining_time": 5.582088241,
             "test": [
              0.8068181818,
              0.4301851155
             ]
            },
            {
             "iteration": 54,
             "learn": [
              0.8063600227,
              0.418216524
             ],
             "passed_time": 0.6829846621,
             "remaining_time": 5.525966812,
             "test": [
              0.8068181818,
              0.4297173936
             ]
            },
            {
             "iteration": 55,
             "learn": [
              0.8060760931,
              0.4168780591
             ],
             "passed_time": 0.696034691,
             "remaining_time": 5.518560764,
             "test": [
              0.8079545455,
              0.4285923873
             ]
            },
            {
             "iteration": 56,
             "learn": [
              0.8074957411,
              0.4158845189
             ],
             "passed_time": 0.7095129133,
             "remaining_time": 5.514284572,
             "test": [
              0.8107954545,
              0.4279178977
             ]
            },
            {
             "iteration": 57,
             "learn": [
              0.8074957411,
              0.4155024257
             ],
             "passed_time": 0.7178890445,
             "remaining_time": 5.470809615,
             "test": [
              0.8096590909,
              0.4274641521
             ]
            },
            {
             "iteration": 58,
             "learn": [
              0.8072118115,
              0.4152051433
             ],
             "passed_time": 0.7238944609,
             "remaining_time": 5.41080436,
             "test": [
              0.8085227273,
              0.427154306
             ]
            },
            {
             "iteration": 59,
             "learn": [
              0.8074957411,
              0.4141347848
             ],
             "passed_time": 0.7385745,
             "remaining_time": 5.416213,
             "test": [
              0.8096590909,
              0.426497495
             ]
            },
            {
             "iteration": 60,
             "learn": [
              0.808915389,
              0.4137732983
             ],
             "passed_time": 0.7467862769,
             "remaining_time": 5.374412714,
             "test": [
              0.8085227273,
              0.4261857439
             ]
            },
            {
             "iteration": 61,
             "learn": [
              0.8094832482,
              0.4131244114
             ],
             "passed_time": 0.7572894609,
             "remaining_time": 5.349883611,
             "test": [
              0.8073863636,
              0.4256246247
             ]
            },
            {
             "iteration": 62,
             "learn": [
              0.8094832482,
              0.4125058765
             ],
             "passed_time": 0.7689280324,
             "remaining_time": 5.3336754,
             "test": [
              0.8045454545,
              0.4251529202
             ]
            },
            {
             "iteration": 63,
             "learn": [
              0.8086314594,
              0.4115239334
             ],
             "passed_time": 0.7828151237,
             "remaining_time": 5.33292803,
             "test": [
              0.8073863636,
              0.4246677224
             ]
            },
            {
             "iteration": 64,
             "learn": [
              0.8106189665,
              0.4104928059
             ],
             "passed_time": 0.7956405307,
             "remaining_time": 5.324671244,
             "test": [
              0.80625,
              0.4241393257
             ]
            },
            {
             "iteration": 65,
             "learn": [
              0.8109028961,
              0.4099320865
             ],
             "passed_time": 0.8084426405,
             "remaining_time": 5.316122818,
             "test": [
              0.8068181818,
              0.4236190061
             ]
            },
            {
             "iteration": 66,
             "learn": [
              0.8111868257,
              0.4093180814
             ],
             "passed_time": 0.8231190689,
             "remaining_time": 5.31956055,
             "test": [
              0.8073863636,
              0.4232137921
             ]
            },
            {
             "iteration": 67,
             "learn": [
              0.8103350369,
              0.408603943
             ],
             "passed_time": 0.8403354214,
             "remaining_time": 5.338601501,
             "test": [
              0.8068181818,
              0.4228714224
             ]
            },
            {
             "iteration": 68,
             "learn": [
              0.8114707553,
              0.4080705894
             ],
             "passed_time": 0.8556953939,
             "remaining_time": 5.344995866,
             "test": [
              0.8085227273,
              0.4225304282
             ]
            },
            {
             "iteration": 69,
             "learn": [
              0.8111868257,
              0.4076959287
             ],
             "passed_time": 0.8636658169,
             "remaining_time": 5.305375733,
             "test": [
              0.8085227273,
              0.4220367856
             ]
            },
            {
             "iteration": 70,
             "learn": [
              0.8117546848,
              0.40701445
             ],
             "passed_time": 0.879991602,
             "remaining_time": 5.317132356,
             "test": [
              0.8096590909,
              0.4217023907
             ]
            },
            {
             "iteration": 71,
             "learn": [
              0.8111868257,
              0.4061999491
             ],
             "passed_time": 0.8947036616,
             "remaining_time": 5.318516211,
             "test": [
              0.8090909091,
              0.4212205344
             ]
            },
            {
             "iteration": 72,
             "learn": [
              0.8120386144,
              0.405449166
             ],
             "passed_time": 0.9089296391,
             "remaining_time": 5.316615834,
             "test": [
              0.8102272727,
              0.4209590429
             ]
            },
            {
             "iteration": 73,
             "learn": [
              0.812322544,
              0.4045701497
             ],
             "passed_time": 0.9245024138,
             "remaining_time": 5.322135517,
             "test": [
              0.8073863636,
              0.4206854701
             ]
            },
            {
             "iteration": 74,
             "learn": [
              0.8126064736,
              0.4041405215
             ],
             "passed_time": 0.9360451238,
             "remaining_time": 5.304255701,
             "test": [
              0.8079545455,
              0.4203628317
             ]
            },
            {
             "iteration": 75,
             "learn": [
              0.8128904032,
              0.4035257528
             ],
             "passed_time": 0.9491443352,
             "remaining_time": 5.295226291,
             "test": [
              0.8079545455,
              0.4200990655
             ]
            },
            {
             "iteration": 76,
             "learn": [
              0.8131743328,
              0.4026447298
             ],
             "passed_time": 0.9639339489,
             "remaining_time": 5.295377408,
             "test": [
              0.8079545455,
              0.4198244562
             ]
            },
            {
             "iteration": 77,
             "learn": [
              0.8134582624,
              0.4019838718
             ],
             "passed_time": 0.9789017118,
             "remaining_time": 5.296109261,
             "test": [
              0.8079545455,
              0.4195877351
             ]
            },
            {
             "iteration": 78,
             "learn": [
              0.8128904032,
              0.4017725275
             ],
             "passed_time": 0.9854867447,
             "remaining_time": 5.251771133,
             "test": [
              0.8090909091,
              0.4194079747
             ]
            },
            {
             "iteration": 79,
             "learn": [
              0.8128904032,
              0.4016728549
             ],
             "passed_time": 0.9968199941,
             "remaining_time": 5.233304969,
             "test": [
              0.8079545455,
              0.4193104181
             ]
            },
            {
             "iteration": 80,
             "learn": [
              0.8137421919,
              0.4012121025
             ],
             "passed_time": 1.015558418,
             "remaining_time": 5.253320704,
             "test": [
              0.8079545455,
              0.4189972287
             ]
            },
            {
             "iteration": 81,
             "learn": [
              0.8131743328,
              0.4004233545
             ],
             "passed_time": 1.031182287,
             "remaining_time": 5.256514583,
             "test": [
              0.8090909091,
              0.4186240406
             ]
            },
            {
             "iteration": 82,
             "learn": [
              0.8126064736,
              0.3999975476
             ],
             "passed_time": 1.045219585,
             "remaining_time": 5.251283941,
             "test": [
              0.8090909091,
              0.4183142258
             ]
            },
            {
             "iteration": 83,
             "learn": [
              0.8128904032,
              0.3997201223
             ],
             "passed_time": 1.058564562,
             "remaining_time": 5.242414975,
             "test": [
              0.8085227273,
              0.4182349494
             ]
            },
            {
             "iteration": 84,
             "learn": [
              0.8143100511,
              0.3993019489
             ],
             "passed_time": 1.07238755,
             "remaining_time": 5.235774508,
             "test": [
              0.8073863636,
              0.4180480525
             ]
            },
            {
             "iteration": 85,
             "learn": [
              0.8137421919,
              0.3992053533
             ],
             "passed_time": 1.076943344,
             "remaining_time": 5.184355168,
             "test": [
              0.8079545455,
              0.4179562802
             ]
            },
            {
             "iteration": 86,
             "learn": [
              0.8145939807,
              0.3987943815
             ],
             "passed_time": 1.117727083,
             "remaining_time": 5.305991787,
             "test": [
              0.8079545455,
              0.4178255613
             ]
            },
            {
             "iteration": 87,
             "learn": [
              0.8148779103,
              0.3984351568
             ],
             "passed_time": 1.133618616,
             "remaining_time": 5.307396248,
             "test": [
              0.8079545455,
              0.4177405804
             ]
            },
            {
             "iteration": 88,
             "learn": [
              0.8151618399,
              0.3979217858
             ],
             "passed_time": 1.163324213,
             "remaining_time": 5.372205074,
             "test": [
              0.8085227273,
              0.4176219864
             ]
            },
            {
             "iteration": 89,
             "learn": [
              0.8140261215,
              0.3978623
             ],
             "passed_time": 1.169145831,
             "remaining_time": 5.326108788,
             "test": [
              0.8079545455,
              0.4175365088
             ]
            },
            {
             "iteration": 90,
             "learn": [
              0.8148779103,
              0.3976215141
             ],
             "passed_time": 1.184261977,
             "remaining_time": 5.322671964,
             "test": [
              0.8079545455,
              0.4174096993
             ]
            },
            {
             "iteration": 91,
             "learn": [
              0.8148779103,
              0.3973052107
             ],
             "passed_time": 1.208207465,
             "remaining_time": 5.358137454,
             "test": [
              0.8085227273,
              0.4171956107
             ]
            },
            {
             "iteration": 92,
             "learn": [
              0.8154457694,
              0.3971747778
             ],
             "passed_time": 1.224628237,
             "remaining_time": 5.359394544,
             "test": [
              0.8085227273,
              0.4171522714
             ]
            },
            {
             "iteration": 93,
             "learn": [
              0.8151618399,
              0.3968050537
             ],
             "passed_time": 1.239528825,
             "remaining_time": 5.353709605,
             "test": [
              0.8085227273,
              0.4170196448
             ]
            },
            {
             "iteration": 94,
             "learn": [
              0.8151618399,
              0.3967794684
             ],
             "passed_time": 1.248307592,
             "remaining_time": 5.321732367,
             "test": [
              0.8085227273,
              0.416990065
             ]
            },
            {
             "iteration": 95,
             "learn": [
              0.8143100511,
              0.3964608186
             ],
             "passed_time": 1.262429565,
             "remaining_time": 5.312724419,
             "test": [
              0.8085227273,
              0.4168692683
             ]
            },
            {
             "iteration": 96,
             "learn": [
              0.8145939807,
              0.3959522879
             ],
             "passed_time": 1.275517321,
             "remaining_time": 5.299314232,
             "test": [
              0.80625,
              0.4166665235
             ]
            },
            {
             "iteration": 97,
             "learn": [
              0.8151618399,
              0.3957179926
             ],
             "passed_time": 1.287085219,
             "remaining_time": 5.279676104,
             "test": [
              0.8079545455,
              0.4166569352
             ]
            },
            {
             "iteration": 98,
             "learn": [
              0.8154457694,
              0.3955947019
             ],
             "passed_time": 1.300086435,
             "remaining_time": 5.26600667,
             "test": [
              0.8073863636,
              0.4166157083
             ]
            },
            {
             "iteration": 99,
             "learn": [
              0.8162975582,
              0.3952747266
             ],
             "passed_time": 1.321422699,
             "remaining_time": 5.285690797,
             "test": [
              0.8073863636,
              0.4163981962
             ]
            },
            {
             "iteration": 100,
             "learn": [
              0.8160136286,
              0.3952361305
             ],
             "passed_time": 1.328465532,
             "remaining_time": 5.248096507,
             "test": [
              0.8090909091,
              0.4163393891
             ]
            },
            {
             "iteration": 101,
             "learn": [
              0.8165814878,
              0.3945794791
             ],
             "passed_time": 1.34279852,
             "remaining_time": 5.239547168,
             "test": [
              0.8102272727,
              0.4160947203
             ]
            },
            {
             "iteration": 102,
             "learn": [
              0.8168654174,
              0.3943294342
             ],
             "passed_time": 1.359729438,
             "remaining_time": 5.240898903,
             "test": [
              0.8096590909,
              0.4159149795
             ]
            },
            {
             "iteration": 103,
             "learn": [
              0.815729699,
              0.393880437
             ],
             "passed_time": 1.375119575,
             "remaining_time": 5.236032227,
             "test": [
              0.8090909091,
              0.415793085
             ]
            },
            {
             "iteration": 104,
             "learn": [
              0.8162975582,
              0.3934040833
             ],
             "passed_time": 1.38969018,
             "remaining_time": 5.227882107,
             "test": [
              0.8090909091,
              0.4156258204
             ]
            },
            {
             "iteration": 105,
             "learn": [
              0.8160136286,
              0.3932775259
             ],
             "passed_time": 1.403399909,
             "remaining_time": 5.216410981,
             "test": [
              0.8096590909,
              0.415484692
             ]
            },
            {
             "iteration": 106,
             "learn": [
              0.8160136286,
              0.3932766252
             ],
             "passed_time": 1.405935449,
             "remaining_time": 5.16385637,
             "test": [
              0.8096590909,
              0.4154778722
             ]
            },
            {
             "iteration": 107,
             "learn": [
              0.8160136286,
              0.3929555375
             ],
             "passed_time": 1.41809263,
             "remaining_time": 5.147151027,
             "test": [
              0.8096590909,
              0.4154123043
             ]
            },
            {
             "iteration": 108,
             "learn": [
              0.8160136286,
              0.3929136354
             ],
             "passed_time": 1.425274079,
             "remaining_time": 5.112680411,
             "test": [
              0.8096590909,
              0.4153902995
             ]
            },
            {
             "iteration": 109,
             "learn": [
              0.8168654174,
              0.3926604288
             ],
             "passed_time": 1.438612629,
             "remaining_time": 5.100535686,
             "test": [
              0.8102272727,
              0.4152531083
             ]
            },
            {
             "iteration": 110,
             "learn": [
              0.8177172061,
              0.392075784
             ],
             "passed_time": 1.451939433,
             "remaining_time": 5.088328285,
             "test": [
              0.8102272727,
              0.4150853704
             ]
            },
            {
             "iteration": 111,
             "learn": [
              0.8177172061,
              0.3918448906
             ],
             "passed_time": 1.466197535,
             "remaining_time": 5.079327175,
             "test": [
              0.8102272727,
              0.414865798
             ]
            },
            {
             "iteration": 112,
             "learn": [
              0.8180011357,
              0.3916381124
             ],
             "passed_time": 1.477477971,
             "remaining_time": 5.060035176,
             "test": [
              0.8096590909,
              0.4146787604
             ]
            },
            {
             "iteration": 113,
             "learn": [
              0.8177172061,
              0.3915316405
             ],
             "passed_time": 1.488246107,
             "remaining_time": 5.0391491,
             "test": [
              0.8096590909,
              0.4146274882
             ]
            },
            {
             "iteration": 114,
             "learn": [
              0.817149347,
              0.3913000784
             ],
             "passed_time": 1.502930501,
             "remaining_time": 5.031549937,
             "test": [
              0.8090909091,
              0.414577603
             ]
            },
            {
             "iteration": 115,
             "learn": [
              0.817149347,
              0.3909000381
             ],
             "passed_time": 1.514590926,
             "remaining_time": 5.013818237,
             "test": [
              0.8096590909,
              0.4145484934
             ]
            },
            {
             "iteration": 116,
             "learn": [
              0.817149347,
              0.390622321
             ],
             "passed_time": 1.524906034,
             "remaining_time": 4.991786418,
             "test": [
              0.8096590909,
              0.4144297454
             ]
            },
            {
             "iteration": 117,
             "learn": [
              0.817149347,
              0.3906216939
             ],
             "passed_time": 1.528576764,
             "remaining_time": 4.948443422,
             "test": [
              0.8096590909,
              0.4144271389
             ]
            },
            {
             "iteration": 118,
             "learn": [
              0.817149347,
              0.390396261
             ],
             "passed_time": 1.540460497,
             "remaining_time": 4.932062601,
             "test": [
              0.8096590909,
              0.4143346822
             ]
            },
            {
             "iteration": 119,
             "learn": [
              0.8180011357,
              0.389777197
             ],
             "passed_time": 1.552466231,
             "remaining_time": 4.916143066,
             "test": [
              0.8096590909,
              0.4141153185
             ]
            },
            {
             "iteration": 120,
             "learn": [
              0.8191368541,
              0.3893228036
             ],
             "passed_time": 1.563402312,
             "remaining_time": 4.896937821,
             "test": [
              0.8090909091,
              0.4141352827
             ]
            },
            {
             "iteration": 121,
             "learn": [
              0.8188529245,
              0.3891050479
             ],
             "passed_time": 1.574843901,
             "remaining_time": 4.879434381,
             "test": [
              0.8096590909,
              0.4140854856
             ]
            },
            {
             "iteration": 122,
             "learn": [
              0.8188529245,
              0.388978842
             ],
             "passed_time": 1.587486163,
             "remaining_time": 4.86570962,
             "test": [
              0.8085227273,
              0.4140389028
             ]
            },
            {
             "iteration": 123,
             "learn": [
              0.8182850653,
              0.3887684957
             ],
             "passed_time": 1.599760555,
             "remaining_time": 4.850886844,
             "test": [
              0.8079545455,
              0.4139882645
             ]
            },
            {
             "iteration": 124,
             "learn": [
              0.8185689949,
              0.3885380412
             ],
             "passed_time": 1.611335918,
             "remaining_time": 4.834007754,
             "test": [
              0.8090909091,
              0.4139683531
             ]
            },
            {
             "iteration": 125,
             "learn": [
              0.8191368541,
              0.3884006691
             ],
             "passed_time": 1.623118663,
             "remaining_time": 4.817828412,
             "test": [
              0.8090909091,
              0.4139959775
             ]
            },
            {
             "iteration": 126,
             "learn": [
              0.8194207836,
              0.3881505578
             ],
             "passed_time": 1.633270243,
             "remaining_time": 4.796927564,
             "test": [
              0.8090909091,
              0.4139837774
             ]
            },
            {
             "iteration": 127,
             "learn": [
              0.8188529245,
              0.3879794681
             ],
             "passed_time": 1.645149903,
             "remaining_time": 4.781216905,
             "test": [
              0.8079545455,
              0.4139541358
             ]
            },
            {
             "iteration": 128,
             "learn": [
              0.8194207836,
              0.3876719594
             ],
             "passed_time": 1.656395558,
             "remaining_time": 4.763742265,
             "test": [
              0.8107954545,
              0.4138240317
             ]
            },
            {
             "iteration": 129,
             "learn": [
              0.8191368541,
              0.3875800258
             ],
             "passed_time": 1.666626696,
             "remaining_time": 4.743475981,
             "test": [
              0.8107954545,
              0.4137816127
             ]
            },
            {
             "iteration": 130,
             "learn": [
              0.8194207836,
              0.3874821649
             ],
             "passed_time": 1.672502698,
             "remaining_time": 4.711095385,
             "test": [
              0.8113636364,
              0.4136548627
             ]
            },
            {
             "iteration": 131,
             "learn": [
              0.8194207836,
              0.3872288785
             ],
             "passed_time": 1.683836116,
             "remaining_time": 4.694330991,
             "test": [
              0.8119318182,
              0.41363831
             ]
            },
            {
             "iteration": 132,
             "learn": [
              0.8194207836,
              0.3871704166
             ],
             "passed_time": 1.691948215,
             "remaining_time": 4.668759361,
             "test": [
              0.8113636364,
              0.4136457248
             ]
            },
            {
             "iteration": 133,
             "learn": [
              0.8194207836,
              0.3871349242
             ],
             "passed_time": 1.697778084,
             "remaining_time": 4.637214768,
             "test": [
              0.8107954545,
              0.4135975681
             ]
            },
            {
             "iteration": 134,
             "learn": [
              0.8197047132,
              0.3870234954
             ],
             "passed_time": 1.705702864,
             "remaining_time": 4.611715151,
             "test": [
              0.8107954545,
              0.4135033999
             ]
            },
            {
             "iteration": 135,
             "learn": [
              0.8194207836,
              0.3869247341
             ],
             "passed_time": 1.717081225,
             "remaining_time": 4.595717397,
             "test": [
              0.8107954545,
              0.4135107551
             ]
            },
            {
             "iteration": 136,
             "learn": [
              0.8185689949,
              0.3867799149
             ],
             "passed_time": 1.729400431,
             "remaining_time": 4.582279974,
             "test": [
              0.8107954545,
              0.4134959116
             ]
            },
            {
             "iteration": 137,
             "learn": [
              0.8199886428,
              0.3864443891
             ],
             "passed_time": 1.742245637,
             "remaining_time": 4.570238555,
             "test": [
              0.8102272727,
              0.4134867126
             ]
            },
            {
             "iteration": 138,
             "learn": [
              0.8197047132,
              0.3863975804
             ],
             "passed_time": 1.750071601,
             "remaining_time": 4.545149984,
             "test": [
              0.8102272727,
              0.4134744393
             ]
            },
            {
             "iteration": 139,
             "learn": [
              0.8199886428,
              0.3863035453
             ],
             "passed_time": 1.755644059,
             "remaining_time": 4.514513295,
             "test": [
              0.8090909091,
              0.4133797086
             ]
            },
            {
             "iteration": 140,
             "learn": [
              0.8194207836,
              0.3860602744
             ],
             "passed_time": 1.767406978,
             "remaining_time": 4.499993654,
             "test": [
              0.8079545455,
              0.413336683
             ]
            },
            {
             "iteration": 141,
             "learn": [
              0.820556502,
              0.3857838687
             ],
             "passed_time": 1.779170989,
             "remaining_time": 4.485515593,
             "test": [
              0.8090909091,
              0.4132822737
             ]
            },
            {
             "iteration": 142,
             "learn": [
              0.8202725724,
              0.3856750943
             ],
             "passed_time": 1.790083105,
             "remaining_time": 4.46894873,
             "test": [
              0.8090909091,
              0.4132839127
             ]
            },
            {
             "iteration": 143,
             "learn": [
              0.8202725724,
              0.385578318
             ],
             "passed_time": 1.802126762,
             "remaining_time": 4.455257828,
             "test": [
              0.8085227273,
              0.4132332551
             ]
            },
            {
             "iteration": 144,
             "learn": [
              0.820556502,
              0.3852763461
             ],
             "passed_time": 1.813759285,
             "remaining_time": 4.440583078,
             "test": [
              0.8085227273,
              0.4130649051
             ]
            },
            {
             "iteration": 145,
             "learn": [
              0.8211243612,
              0.3848447451
             ],
             "passed_time": 1.825718267,
             "remaining_time": 4.426741551,
             "test": [
              0.8090909091,
              0.4130034853
             ]
            },
            {
             "iteration": 146,
             "learn": [
              0.8216922203,
              0.384505865
             ],
             "passed_time": 1.837611361,
             "remaining_time": 4.412767417,
             "test": [
              0.8090909091,
              0.4130116978
             ]
            },
            {
             "iteration": 147,
             "learn": [
              0.8208404316,
              0.3842271613
             ],
             "passed_time": 1.849794839,
             "remaining_time": 4.39951205,
             "test": [
              0.8090909091,
              0.4129195506
             ]
            },
            {
             "iteration": 148,
             "learn": [
              0.820556502,
              0.3839375863
             ],
             "passed_time": 1.860596686,
             "remaining_time": 4.383016353,
             "test": [
              0.8090909091,
              0.4129169727
             ]
            },
            {
             "iteration": 149,
             "learn": [
              0.8208404316,
              0.3839316245
             ],
             "passed_time": 1.865311343,
             "remaining_time": 4.352393135,
             "test": [
              0.8090909091,
              0.412921412
             ]
            },
            {
             "iteration": 150,
             "learn": [
              0.8211243612,
              0.383931622
             ],
             "passed_time": 1.86912842,
             "remaining_time": 4.320038535,
             "test": [
              0.8090909091,
              0.412921676
             ]
            },
            {
             "iteration": 151,
             "learn": [
              0.8208404316,
              0.38366444
             ],
             "passed_time": 1.880461709,
             "remaining_time": 4.305267597,
             "test": [
              0.8085227273,
              0.4129255242
             ]
            },
            {
             "iteration": 152,
             "learn": [
              0.820556502,
              0.3836084641
             ],
             "passed_time": 1.892002925,
             "remaining_time": 4.291013171,
             "test": [
              0.8096590909,
              0.4128573135
             ]
            },
            {
             "iteration": 153,
             "learn": [
              0.8208404316,
              0.3834188658
             ],
             "passed_time": 1.903954161,
             "remaining_time": 4.277715192,
             "test": [
              0.8085227273,
              0.4127189047
             ]
            },
            {
             "iteration": 154,
             "learn": [
              0.8216922203,
              0.3831149716
             ],
             "passed_time": 1.916134427,
             "remaining_time": 4.264944371,
             "test": [
              0.8085227273,
              0.412717883
             ]
            },
            {
             "iteration": 155,
             "learn": [
              0.8216922203,
              0.3830871998
             ],
             "passed_time": 1.92829558,
             "remaining_time": 4.25213897,
             "test": [
              0.8085227273,
              0.4127134871
             ]
            },
            {
             "iteration": 156,
             "learn": [
              0.8219761499,
              0.3830483833
             ],
             "passed_time": 1.935589031,
             "remaining_time": 4.228707246,
             "test": [
              0.8090909091,
              0.4126804546
             ]
            },
            {
             "iteration": 157,
             "learn": [
              0.8222600795,
              0.3829944518
             ],
             "passed_time": 1.945849987,
             "remaining_time": 4.211903136,
             "test": [
              0.8090909091,
              0.4126725559
             ]
            },
            {
             "iteration": 158,
             "learn": [
              0.8222600795,
              0.3827753432
             ],
             "passed_time": 1.957535831,
             "remaining_time": 4.198237222,
             "test": [
              0.8090909091,
              0.4126929534
             ]
            },
            {
             "iteration": 159,
             "learn": [
              0.8222600795,
              0.3826521048
             ],
             "passed_time": 1.969554951,
             "remaining_time": 4.18530427,
             "test": [
              0.8085227273,
              0.4125903665
             ]
            },
            {
             "iteration": 160,
             "learn": [
              0.8222600795,
              0.3825429465
             ],
             "passed_time": 1.980066561,
             "remaining_time": 4.169208472,
             "test": [
              0.8090909091,
              0.4125720682
             ]
            },
            {
             "iteration": 161,
             "learn": [
              0.8214082907,
              0.3822726933
             ],
             "passed_time": 1.992999568,
             "remaining_time": 4.158233666,
             "test": [
              0.8079545455,
              0.4125546542
             ]
            },
            {
             "iteration": 162,
             "learn": [
              0.8216922203,
              0.3821629219
             ],
             "passed_time": 2.00515774,
             "remaining_time": 4.145632874,
             "test": [
              0.8079545455,
              0.4126062225
             ]
            },
            {
             "iteration": 163,
             "learn": [
              0.8214082907,
              0.3820788749
             ],
             "passed_time": 2.01441912,
             "remaining_time": 4.127102587,
             "test": [
              0.8079545455,
              0.4125170875
             ]
            },
            {
             "iteration": 164,
             "learn": [
              0.8214082907,
              0.3819408202
             ],
             "passed_time": 2.026299843,
             "remaining_time": 4.114002711,
             "test": [
              0.8079545455,
              0.4124988374
             ]
            },
            {
             "iteration": 165,
             "learn": [
              0.8211243612,
              0.3818656313
             ],
             "passed_time": 2.037430029,
             "remaining_time": 4.099407408,
             "test": [
              0.8073863636,
              0.4124881407
             ]
            },
            {
             "iteration": 166,
             "learn": [
              0.8214082907,
              0.3814594255
             ],
             "passed_time": 2.048515459,
             "remaining_time": 4.084764358,
             "test": [
              0.8085227273,
              0.4123971616
             ]
            },
            {
             "iteration": 167,
             "learn": [
              0.8211243612,
              0.381414345
             ],
             "passed_time": 2.058453754,
             "remaining_time": 4.067896704,
             "test": [
              0.8085227273,
              0.4123882063
             ]
            },
            {
             "iteration": 168,
             "learn": [
              0.8211243612,
              0.3814057541
             ],
             "passed_time": 2.062665474,
             "remaining_time": 4.0398951,
             "test": [
              0.8085227273,
              0.4123607659
             ]
            },
            {
             "iteration": 169,
             "learn": [
              0.8216922203,
              0.3813723625
             ],
             "passed_time": 2.066691749,
             "remaining_time": 4.011813394,
             "test": [
              0.8085227273,
              0.4123370719
             ]
            },
            {
             "iteration": 170,
             "learn": [
              0.8216922203,
              0.3813643511
             ],
             "passed_time": 2.072653569,
             "remaining_time": 3.987736983,
             "test": [
              0.8085227273,
              0.4123375235
             ]
            },
            {
             "iteration": 171,
             "learn": [
              0.8211243612,
              0.381234363
             ],
             "passed_time": 2.085006333,
             "remaining_time": 3.976058589,
             "test": [
              0.8079545455,
              0.4123016902
             ]
            },
            {
             "iteration": 172,
             "learn": [
              0.8216922203,
              0.3811952061
             ],
             "passed_time": 2.094239541,
             "remaining_time": 3.958475896,
             "test": [
              0.8079545455,
              0.4122979935
             ]
            },
            {
             "iteration": 173,
             "learn": [
              0.8211243612,
              0.3811517018
             ],
             "passed_time": 2.126605797,
             "remaining_time": 3.984330401,
             "test": [
              0.8073863636,
              0.4122672453
             ]
            },
            {
             "iteration": 174,
             "learn": [
              0.8211243612,
              0.3811405449
             ],
             "passed_time": 2.135143518,
             "remaining_time": 3.965266534,
             "test": [
              0.8079545455,
              0.4122695765
             ]
            },
            {
             "iteration": 175,
             "learn": [
              0.8211243612,
              0.3811405388
             ],
             "passed_time": 2.13770174,
             "remaining_time": 3.935314567,
             "test": [
              0.8079545455,
              0.4122699547
             ]
            },
            {
             "iteration": 176,
             "learn": [
              0.8211243612,
              0.3811398889
             ],
             "passed_time": 2.142982231,
             "remaining_time": 3.91063989,
             "test": [
              0.8079545455,
              0.4122709744
             ]
            },
            {
             "iteration": 177,
             "learn": [
              0.8208404316,
              0.3811031523
             ],
             "passed_time": 2.147076102,
             "remaining_time": 3.884036544,
             "test": [
              0.8079545455,
              0.4122009703
             ]
            },
            {
             "iteration": 178,
             "learn": [
              0.8216922203,
              0.3809034873
             ],
             "passed_time": 2.162208275,
             "remaining_time": 3.877479644,
             "test": [
              0.8085227273,
              0.4122125695
             ]
            },
            {
             "iteration": 179,
             "learn": [
              0.8225440091,
              0.3807076797
             ],
             "passed_time": 2.178514632,
             "remaining_time": 3.872914901,
             "test": [
              0.8079545455,
              0.4121361344
             ]
            },
            {
             "iteration": 180,
             "learn": [
              0.8225440091,
              0.3805031789
             ],
             "passed_time": 2.192817001,
             "remaining_time": 3.864688527,
             "test": [
              0.8079545455,
              0.4122011823
             ]
            },
            {
             "iteration": 181,
             "learn": [
              0.8231118683,
              0.3803230806
             ],
             "passed_time": 2.205723523,
             "remaining_time": 3.853956485,
             "test": [
              0.8085227273,
              0.4121938274
             ]
            },
            {
             "iteration": 182,
             "learn": [
              0.8231118683,
              0.3801971356
             ],
             "passed_time": 2.218550222,
             "remaining_time": 3.843062406,
             "test": [
              0.8085227273,
              0.4121119048
             ]
            },
            {
             "iteration": 183,
             "learn": [
              0.8222600795,
              0.3800771814
             ],
             "passed_time": 2.232799828,
             "remaining_time": 3.834591009,
             "test": [
              0.8079545455,
              0.412179726
             ]
            },
            {
             "iteration": 184,
             "learn": [
              0.8225440091,
              0.3799250036
             ],
             "passed_time": 2.245604557,
             "remaining_time": 3.823596948,
             "test": [
              0.8085227273,
              0.4121184118
             ]
            },
            {
             "iteration": 185,
             "learn": [
              0.8225440091,
              0.3799221002
             ],
             "passed_time": 2.251979042,
             "remaining_time": 3.80172806,
             "test": [
              0.8085227273,
              0.4121202798
             ]
            },
            {
             "iteration": 186,
             "learn": [
              0.8225440091,
              0.3798560734
             ],
             "passed_time": 2.266000888,
             "remaining_time": 3.792825016,
             "test": [
              0.8085227273,
              0.4121288655
             ]
            },
            {
             "iteration": 187,
             "learn": [
              0.8228279387,
              0.379834096
             ],
             "passed_time": 2.281644511,
             "remaining_time": 3.786558975,
             "test": [
              0.8085227273,
              0.4121321466
             ]
            },
            {
             "iteration": 188,
             "learn": [
              0.8228279387,
              0.3798340932
             ],
             "passed_time": 2.284372825,
             "remaining_time": 3.758941526,
             "test": [
              0.8085227273,
              0.412132301
             ]
            },
            {
             "iteration": 189,
             "learn": [
              0.8219761499,
              0.3797640962
             ],
             "passed_time": 2.297938307,
             "remaining_time": 3.749267764,
             "test": [
              0.8079545455,
              0.4121222113
             ]
            },
            {
             "iteration": 190,
             "learn": [
              0.8219761499,
              0.3797640941
             ],
             "passed_time": 2.301864312,
             "remaining_time": 3.723958495,
             "test": [
              0.8079545455,
              0.4121223282
             ]
            },
            {
             "iteration": 191,
             "learn": [
              0.8219761499,
              0.3794758621
             ],
             "passed_time": 2.314772685,
             "remaining_time": 3.713281182,
             "test": [
              0.8079545455,
              0.412110601
             ]
            },
            {
             "iteration": 192,
             "learn": [
              0.8222600795,
              0.3793018718
             ],
             "passed_time": 2.327271223,
             "remaining_time": 3.701928836,
             "test": [
              0.8079545455,
              0.4120981531
             ]
            },
            {
             "iteration": 193,
             "learn": [
              0.8225440091,
              0.379127524
             ],
             "passed_time": 2.34552265,
             "remaining_time": 3.69963882,
             "test": [
              0.8073863636,
              0.4121593281
             ]
            },
            {
             "iteration": 194,
             "learn": [
              0.8228279387,
              0.3790127782
             ],
             "passed_time": 2.359225438,
             "remaining_time": 3.690070557,
             "test": [
              0.8073863636,
              0.4121457077
             ]
            },
            {
             "iteration": 195,
             "learn": [
              0.8233957978,
              0.3787917123
             ],
             "passed_time": 2.37151181,
             "remaining_time": 3.678263215,
             "test": [
              0.8079545455,
              0.4121809141
             ]
            },
            {
             "iteration": 196,
             "learn": [
              0.823963657,
              0.3785844418
             ],
             "passed_time": 2.384251134,
             "remaining_time": 3.667147683,
             "test": [
              0.8085227273,
              0.4121959517
             ]
            },
            {
             "iteration": 197,
             "learn": [
              0.8231118683,
              0.3784699361
             ],
             "passed_time": 2.397771318,
             "remaining_time": 3.657206758,
             "test": [
              0.8085227273,
              0.4122082326
             ]
            },
            {
             "iteration": 198,
             "learn": [
              0.8225440091,
              0.3783162247
             ],
             "passed_time": 2.411271009,
             "remaining_time": 3.647198863,
             "test": [
              0.8085227273,
              0.4121328155
             ]
            },
            {
             "iteration": 199,
             "learn": [
              0.8236797274,
              0.377990452
             ],
             "passed_time": 2.425329804,
             "remaining_time": 3.637994706,
             "test": [
              0.8073863636,
              0.4118842326
             ]
            },
            {
             "iteration": 200,
             "learn": [
              0.823963657,
              0.3778488125
             ],
             "passed_time": 2.437894014,
             "remaining_time": 3.626518956,
             "test": [
              0.8073863636,
              0.4118442748
             ]
            },
            {
             "iteration": 201,
             "learn": [
              0.823963657,
              0.3778438126
             ],
             "passed_time": 2.44251387,
             "remaining_time": 3.603312541,
             "test": [
              0.8073863636,
              0.4118466107
             ]
            },
            {
             "iteration": 202,
             "learn": [
              0.823963657,
              0.3776796909
             ],
             "passed_time": 2.456858227,
             "remaining_time": 3.594516717,
             "test": [
              0.8068181818,
              0.4117289789
             ]
            },
            {
             "iteration": 203,
             "learn": [
              0.8236797274,
              0.3776132725
             ],
             "passed_time": 2.469931432,
             "remaining_time": 3.583822078,
             "test": [
              0.8068181818,
              0.411684818
             ]
            },
            {
             "iteration": 204,
             "learn": [
              0.8236797274,
              0.377577576
             ],
             "passed_time": 2.478529165,
             "remaining_time": 3.56666392,
             "test": [
              0.8068181818,
              0.4116944028
             ]
            },
            {
             "iteration": 205,
             "learn": [
              0.8236797274,
              0.3774908817
             ],
             "passed_time": 2.490134373,
             "remaining_time": 3.553881095,
             "test": [
              0.8068181818,
              0.4116845135
             ]
            },
            {
             "iteration": 206,
             "learn": [
              0.8236797274,
              0.3772212654
             ],
             "passed_time": 2.503753937,
             "remaining_time": 3.543960886,
             "test": [
              0.80625,
              0.4116777193
             ]
            },
            {
             "iteration": 207,
             "learn": [
              0.8242475866,
              0.3770404721
             ],
             "passed_time": 2.516639823,
             "remaining_time": 3.532975136,
             "test": [
              0.80625,
              0.4116721906
             ]
            },
            {
             "iteration": 208,
             "learn": [
              0.8245315162,
              0.3767553344
             ],
             "passed_time": 2.529510967,
             "remaining_time": 3.521950676,
             "test": [
              0.8068181818,
              0.4115810924
             ]
            },
            {
             "iteration": 209,
             "learn": [
              0.8245315162,
              0.376717437
             ],
             "passed_time": 2.542924467,
             "remaining_time": 3.511657597,
             "test": [
              0.8068181818,
              0.411577096
             ]
            },
            {
             "iteration": 210,
             "learn": [
              0.8248154458,
              0.3763590234
             ],
             "passed_time": 2.556030143,
             "remaining_time": 3.500913323,
             "test": [
              0.80625,
              0.4114990483
             ]
            },
            {
             "iteration": 211,
             "learn": [
              0.8242475866,
              0.3760890061
             ],
             "passed_time": 2.569234904,
             "remaining_time": 3.490281378,
             "test": [
              0.8073863636,
              0.411511227
             ]
            },
            {
             "iteration": 212,
             "learn": [
              0.8242475866,
              0.3760756169
             ],
             "passed_time": 2.573766061,
             "remaining_time": 3.467938307,
             "test": [
              0.8073863636,
              0.4114884411
             ]
            },
            {
             "iteration": 213,
             "learn": [
              0.8248154458,
              0.3757705122
             ],
             "passed_time": 2.584571539,
             "remaining_time": 3.45414701,
             "test": [
              0.8073863636,
              0.4114875927
             ]
            },
            {
             "iteration": 214,
             "learn": [
              0.8256672345,
              0.375625963
             ],
             "passed_time": 2.59638801,
             "remaining_time": 3.441723642,
             "test": [
              0.8073863636,
              0.4114623626
             ]
            },
            {
             "iteration": 215,
             "learn": [
              0.8256672345,
              0.3756185817
             ],
             "passed_time": 2.600364663,
             "remaining_time": 3.418997982,
             "test": [
              0.8073863636,
              0.4114725153
             ]
            },
            {
             "iteration": 216,
             "learn": [
              0.8256672345,
              0.3755999083
             ],
             "passed_time": 2.609441335,
             "remaining_time": 3.403096304,
             "test": [
              0.8073863636,
              0.4114757086
             ]
            },
            {
             "iteration": 217,
             "learn": [
              0.8253833049,
              0.3754572959
             ],
             "passed_time": 2.620962503,
             "remaining_time": 3.390419384,
             "test": [
              0.8073863636,
              0.4114006246
             ]
            },
            {
             "iteration": 218,
             "learn": [
              0.8250993754,
              0.3751904947
             ],
             "passed_time": 2.631629277,
             "remaining_time": 3.376656744,
             "test": [
              0.8073863636,
              0.4114650361
             ]
            },
            {
             "iteration": 219,
             "learn": [
              0.8248154458,
              0.3751801474
             ],
             "passed_time": 2.635294379,
             "remaining_time": 3.354011027,
             "test": [
              0.8073863636,
              0.4114765442
             ]
            },
            {
             "iteration": 220,
             "learn": [
              0.8248154458,
              0.3751302181
             ],
             "passed_time": 2.646283416,
             "remaining_time": 3.340783135,
             "test": [
              0.8073863636,
              0.4114866067
             ]
            },
            {
             "iteration": 221,
             "learn": [
              0.8250993754,
              0.3748877244
             ],
             "passed_time": 2.656492653,
             "remaining_time": 3.326598908,
             "test": [
              0.8068181818,
              0.4115106903
             ]
            },
            {
             "iteration": 222,
             "learn": [
              0.8253833049,
              0.3748142319
             ],
             "passed_time": 2.668524755,
             "remaining_time": 3.314714606,
             "test": [
              0.8068181818,
              0.4115398507
             ]
            },
            {
             "iteration": 223,
             "learn": [
              0.8253833049,
              0.3746535976
             ],
             "passed_time": 2.679339628,
             "remaining_time": 3.301329185,
             "test": [
              0.8068181818,
              0.4115215193
             ]
            },
            {
             "iteration": 224,
             "learn": [
              0.8248154458,
              0.3745416145
             ],
             "passed_time": 2.691424813,
             "remaining_time": 3.289519215,
             "test": [
              0.8068181818,
              0.4114856596
             ]
            },
            {
             "iteration": 225,
             "learn": [
              0.8253833049,
              0.3744610308
             ],
             "passed_time": 2.703170519,
             "remaining_time": 3.277295231,
             "test": [
              0.8068181818,
              0.4114679558
             ]
            },
            {
             "iteration": 226,
             "learn": [
              0.8253833049,
              0.3743555173
             ],
             "passed_time": 2.713927973,
             "remaining_time": 3.263886945,
             "test": [
              0.8068181818,
              0.4114595329
             ]
            },
            {
             "iteration": 227,
             "learn": [
              0.8256672345,
              0.374223601
             ],
             "passed_time": 2.72525958,
             "remaining_time": 3.251186868,
             "test": [
              0.8068181818,
              0.4114690334
             ]
            },
            {
             "iteration": 228,
             "learn": [
              0.8256672345,
              0.3742228885
             ],
             "passed_time": 2.729307951,
             "remaining_time": 3.229879714,
             "test": [
              0.8068181818,
              0.411469838
             ]
            },
            {
             "iteration": 229,
             "learn": [
              0.8256672345,
              0.3742176629
             ],
             "passed_time": 2.734184857,
             "remaining_time": 3.209695267,
             "test": [
              0.8068181818,
              0.411472456
             ]
            },
            {
             "iteration": 230,
             "learn": [
              0.8259511641,
              0.3740739108
             ],
             "passed_time": 2.745653437,
             "remaining_time": 3.19731937,
             "test": [
              0.8073863636,
              0.4114592092
             ]
            },
            {
             "iteration": 231,
             "learn": [
              0.8265190233,
              0.3739091522
             ],
             "passed_time": 2.756679315,
             "remaining_time": 3.184439898,
             "test": [
              0.8073863636,
              0.4114728704
             ]
            },
            {
             "iteration": 232,
             "learn": [
              0.8262350937,
              0.3737203364
             ],
             "passed_time": 2.768577613,
             "remaining_time": 3.172576063,
             "test": [
              0.8068181818,
              0.4114244496
             ]
            },
            {
             "iteration": 233,
             "learn": [
              0.8270868825,
              0.3735045511
             ],
             "passed_time": 2.780337985,
             "remaining_time": 3.160555146,
             "test": [
              0.8073863636,
              0.411476505
             ]
            },
            {
             "iteration": 234,
             "learn": [
              0.827370812,
              0.3733454371
             ],
             "passed_time": 2.791376682,
             "remaining_time": 3.147722641,
             "test": [
              0.80625,
              0.411552129
             ]
            },
            {
             "iteration": 235,
             "learn": [
              0.8265190233,
              0.3731439052
             ],
             "passed_time": 2.803488392,
             "remaining_time": 3.136105658,
             "test": [
              0.8068181818,
              0.4114746423
             ]
            },
            {
             "iteration": 236,
             "learn": [
              0.827370812,
              0.3727590644
             ],
             "passed_time": 2.815781099,
             "remaining_time": 3.124685355,
             "test": [
              0.80625,
              0.4112874859
             ]
            },
            {
             "iteration": 237,
             "learn": [
              0.8270868825,
              0.3727472329
             ],
             "passed_time": 2.822102702,
             "remaining_time": 3.106684487,
             "test": [
              0.80625,
              0.4112909395
             ]
            },
            {
             "iteration": 238,
             "learn": [
              0.8270868825,
              0.3727472102
             ],
             "passed_time": 2.824431033,
             "remaining_time": 3.084420501,
             "test": [
              0.80625,
              0.4112915834
             ]
            },
            {
             "iteration": 239,
             "learn": [
              0.8270868825,
              0.3725122374
             ],
             "passed_time": 2.835717854,
             "remaining_time": 3.072027676,
             "test": [
              0.80625,
              0.4113249456
             ]
            },
            {
             "iteration": 240,
             "learn": [
              0.8265190233,
              0.3724234345
             ],
             "passed_time": 2.848225034,
             "remaining_time": 3.060955535,
             "test": [
              0.80625,
              0.4113495521
             ]
            },
            {
             "iteration": 241,
             "learn": [
              0.8265190233,
              0.3723204835
             ],
             "passed_time": 2.85911364,
             "remaining_time": 3.048145947,
             "test": [
              0.8068181818,
              0.411360178
             ]
            },
            {
             "iteration": 242,
             "learn": [
              0.8268029529,
              0.3719694849
             ],
             "passed_time": 2.871100359,
             "remaining_time": 3.036513549,
             "test": [
              0.8073863636,
              0.4113959612
             ]
            },
            {
             "iteration": 243,
             "learn": [
              0.8276547416,
              0.3718795566
             ],
             "passed_time": 2.882000174,
             "remaining_time": 3.023737888,
             "test": [
              0.8056818182,
              0.4113104712
             ]
            },
            {
             "iteration": 244,
             "learn": [
              0.8276547416,
              0.3718100801
             ],
             "passed_time": 2.892033957,
             "remaining_time": 3.01007616,
             "test": [
              0.8056818182,
              0.4113149747
             ]
            },
            {
             "iteration": 245,
             "learn": [
              0.8276547416,
              0.3717732561
             ],
             "passed_time": 2.902708598,
             "remaining_time": 2.997105626,
             "test": [
              0.8056818182,
              0.4113296958
             ]
            },
            {
             "iteration": 246,
             "learn": [
              0.8265190233,
              0.3716343811
             ],
             "passed_time": 2.913548094,
             "remaining_time": 2.984322541,
             "test": [
              0.8051136364,
              0.4112410718
             ]
            },
            {
             "iteration": 247,
             "learn": [
              0.8285065304,
              0.3713604465
             ],
             "passed_time": 2.925431881,
             "remaining_time": 2.972616266,
             "test": [
              0.8056818182,
              0.4112671447
             ]
            },
            {
             "iteration": 248,
             "learn": [
              0.8276547416,
              0.3711974773
             ],
             "passed_time": 2.937368519,
             "remaining_time": 2.960961841,
             "test": [
              0.8051136364,
              0.4111995982
             ]
            },
            {
             "iteration": 249,
             "learn": [
              0.8276547416,
              0.3711829628
             ],
             "passed_time": 2.945817032,
             "remaining_time": 2.945817032,
             "test": [
              0.8051136364,
              0.4112022296
             ]
            },
            {
             "iteration": 250,
             "learn": [
              0.8276547416,
              0.3710883169
             ],
             "passed_time": 2.9578489,
             "remaining_time": 2.934280382,
             "test": [
              0.8051136364,
              0.411169222
             ]
            },
            {
             "iteration": 251,
             "learn": [
              0.8285065304,
              0.3708807076
             ],
             "passed_time": 2.969297718,
             "remaining_time": 2.922166008,
             "test": [
              0.8051136364,
              0.4111851261
             ]
            },
            {
             "iteration": 252,
             "learn": [
              0.8285065304,
              0.3706270723
             ],
             "passed_time": 2.982429768,
             "remaining_time": 2.911700208,
             "test": [
              0.8056818182,
              0.4112046263
             ]
            },
            {
             "iteration": 253,
             "learn": [
              0.8290743896,
              0.3705764401
             ],
             "passed_time": 2.99397511,
             "remaining_time": 2.899676681,
             "test": [
              0.8056818182,
              0.411198898
             ]
            },
            {
             "iteration": 254,
             "learn": [
              0.82879046,
              0.370477485
             ],
             "passed_time": 3.005991744,
             "remaining_time": 2.888109715,
             "test": [
              0.8051136364,
              0.4111894934
             ]
            },
            {
             "iteration": 255,
             "learn": [
              0.8296422487,
              0.3704107363
             ],
             "passed_time": 3.018154564,
             "remaining_time": 2.876678569,
             "test": [
              0.8045454545,
              0.4111524333
             ]
            },
            {
             "iteration": 256,
             "learn": [
              0.8285065304,
              0.3702781007
             ],
             "passed_time": 3.030746527,
             "remaining_time": 2.865647495,
             "test": [
              0.8051136364,
              0.4110735876
             ]
            },
            {
             "iteration": 257,
             "learn": [
              0.8285065304,
              0.3702465431
             ],
             "passed_time": 3.041864389,
             "remaining_time": 2.853221636,
             "test": [
              0.8051136364,
              0.4110758603
             ]
            },
            {
             "iteration": 258,
             "learn": [
              0.8282226008,
              0.3701133255
             ],
             "passed_time": 3.0533555,
             "remaining_time": 2.841153187,
             "test": [
              0.8051136364,
              0.4110855872
             ]
            },
            {
             "iteration": 259,
             "learn": [
              0.8285065304,
              0.3699929924
             ],
             "passed_time": 3.06532707,
             "remaining_time": 2.82953268,
             "test": [
              0.8051136364,
              0.4111239823
             ]
            },
            {
             "iteration": 260,
             "learn": [
              0.8290743896,
              0.3699692205
             ],
             "passed_time": 3.077006793,
             "remaining_time": 2.817642235,
             "test": [
              0.8045454545,
              0.4111067716
             ]
            },
            {
             "iteration": 261,
             "learn": [
              0.8285065304,
              0.3698004201
             ],
             "passed_time": 3.088251987,
             "remaining_time": 2.805358675,
             "test": [
              0.8039772727,
              0.4111330525
             ]
            },
            {
             "iteration": 262,
             "learn": [
              0.8285065304,
              0.3697337147
             ],
             "passed_time": 3.094241075,
             "remaining_time": 2.78834652,
             "test": [
              0.8045454545,
              0.4111259336
             ]
            },
            {
             "iteration": 263,
             "learn": [
              0.8296422487,
              0.3695115326
             ],
             "passed_time": 3.126442417,
             "remaining_time": 2.794850039,
             "test": [
              0.8045454545,
              0.411101469
             ]
            },
            {
             "iteration": 264,
             "learn": [
              0.8296422487,
              0.3694509493
             ],
             "passed_time": 3.147030026,
             "remaining_time": 2.790762476,
             "test": [
              0.8045454545,
              0.4111411403
             ]
            },
            {
             "iteration": 265,
             "learn": [
              0.82879046,
              0.3692969049
             ],
             "passed_time": 3.166291587,
             "remaining_time": 2.785384328,
             "test": [
              0.8039772727,
              0.4111263776
             ]
            },
            {
             "iteration": 266,
             "learn": [
              0.8296422487,
              0.368982015
             ],
             "passed_time": 3.186988673,
             "remaining_time": 2.78115491,
             "test": [
              0.8056818182,
              0.4111515345
             ]
            },
            {
             "iteration": 267,
             "learn": [
              0.8290743896,
              0.3688859371
             ],
             "passed_time": 3.200782837,
             "remaining_time": 2.770826934,
             "test": [
              0.8051136364,
              0.4111337561
             ]
            },
            {
             "iteration": 268,
             "learn": [
              0.8290743896,
              0.3687591882
             ],
             "passed_time": 3.214819878,
             "remaining_time": 2.760681754,
             "test": [
              0.8051136364,
              0.4111609704
             ]
            },
            {
             "iteration": 269,
             "learn": [
              0.8290743896,
              0.3686167507
             ],
             "passed_time": 3.228256264,
             "remaining_time": 2.749996077,
             "test": [
              0.8056818182,
              0.4111733671
             ]
            },
            {
             "iteration": 270,
             "learn": [
              0.8296422487,
              0.3684859198
             ],
             "passed_time": 3.241232142,
             "remaining_time": 2.738900961,
             "test": [
              0.80625,
              0.4112093583
             ]
            },
            {
             "iteration": 271,
             "learn": [
              0.8293583191,
              0.3682127975
             ],
             "passed_time": 3.255862327,
             "remaining_time": 2.729178715,
             "test": [
              0.8056818182,
              0.4113295249
             ]
            },
            {
             "iteration": 272,
             "learn": [
              0.8296422487,
              0.3681882915
             ],
             "passed_time": 3.260174713,
             "remaining_time": 2.710841245,
             "test": [
              0.8056818182,
              0.4112836829
             ]
            },
            {
             "iteration": 273,
             "learn": [
              0.8299261783,
              0.3681435495
             ],
             "passed_time": 3.274870181,
             "remaining_time": 2.701170296,
             "test": [
              0.80625,
              0.4113018322
             ]
            },
            {
             "iteration": 274,
             "learn": [
              0.8290743896,
              0.3678954055
             ],
             "passed_time": 3.291233755,
             "remaining_time": 2.692827618,
             "test": [
              0.8051136364,
              0.4112226418
             ]
            },
            {
             "iteration": 275,
             "learn": [
              0.8290743896,
              0.367782084
             ],
             "passed_time": 3.309442926,
             "remaining_time": 2.685924694,
             "test": [
              0.8051136364,
              0.411181394
             ]
            },
            {
             "iteration": 276,
             "learn": [
              0.8290743896,
              0.367761113
             ],
             "passed_time": 3.320973878,
             "remaining_time": 2.673563808,
             "test": [
              0.8051136364,
              0.4111955149
             ]
            },
            {
             "iteration": 277,
             "learn": [
              0.8290743896,
              0.3674633306
             ],
             "passed_time": 3.333769792,
             "remaining_time": 2.662219043,
             "test": [
              0.8056818182,
              0.411217817
             ]
            },
            {
             "iteration": 278,
             "learn": [
              0.8302101079,
              0.3670494513
             ],
             "passed_time": 3.346685409,
             "remaining_time": 2.650958693,
             "test": [
              0.8051136364,
              0.4111997021
             ]
            },
            {
             "iteration": 279,
             "learn": [
              0.8302101079,
              0.3668560858
             ],
             "passed_time": 3.360237435,
             "remaining_time": 2.640186556,
             "test": [
              0.8051136364,
              0.4112366493
             ]
            },
            {
             "iteration": 280,
             "learn": [
              0.8302101079,
              0.366780605
             ],
             "passed_time": 3.373996774,
             "remaining_time": 2.629556205,
             "test": [
              0.8051136364,
              0.4111858229
             ]
            },
            {
             "iteration": 281,
             "learn": [
              0.8304940375,
              0.3667343545
             ],
             "passed_time": 3.387386071,
             "remaining_time": 2.618617601,
             "test": [
              0.8051136364,
              0.4111523013
             ]
            },
            {
             "iteration": 282,
             "learn": [
              0.8304940375,
              0.3665606348
             ],
             "passed_time": 3.40113309,
             "remaining_time": 2.607935974,
             "test": [
              0.8051136364,
              0.4111482518
             ]
            },
            {
             "iteration": 283,
             "learn": [
              0.8302101079,
              0.3663401038
             ],
             "passed_time": 3.415230708,
             "remaining_time": 2.597499412,
             "test": [
              0.8045454545,
              0.4111918208
             ]
            },
            {
             "iteration": 284,
             "learn": [
              0.8302101079,
              0.3662418388
             ],
             "passed_time": 3.429522256,
             "remaining_time": 2.587183456,
             "test": [
              0.8045454545,
              0.4111908968
             ]
            },
            {
             "iteration": 285,
             "learn": [
              0.8310618966,
              0.3658549594
             ],
             "passed_time": 3.444296406,
             "remaining_time": 2.577200808,
             "test": [
              0.8034090909,
              0.4111191814
             ]
            },
            {
             "iteration": 286,
             "learn": [
              0.8310618966,
              0.3656728671
             ],
             "passed_time": 3.458522548,
             "remaining_time": 2.566778058,
             "test": [
              0.8028409091,
              0.4110959396
             ]
            },
            {
             "iteration": 287,
             "learn": [
              0.8307779671,
              0.3654734283
             ],
             "passed_time": 3.469693483,
             "remaining_time": 2.554079925,
             "test": [
              0.8017045455,
              0.4111867563
             ]
            },
            {
             "iteration": 288,
             "learn": [
              0.8316297558,
              0.3653125182
             ],
             "passed_time": 3.481298863,
             "remaining_time": 2.54170955,
             "test": [
              0.8011363636,
              0.4112140724
             ]
            },
            {
             "iteration": 289,
             "learn": [
              0.8319136854,
              0.3649668454
             ],
             "passed_time": 3.492990338,
             "remaining_time": 2.529406796,
             "test": [
              0.8005681818,
              0.4112180143
             ]
            },
            {
             "iteration": 290,
             "learn": [
              0.832197615,
              0.3649100873
             ],
             "passed_time": 3.505646322,
             "remaining_time": 2.517800967,
             "test": [
              0.8011363636,
              0.4112195574
             ]
            },
            {
             "iteration": 291,
             "learn": [
              0.832197615,
              0.3648159602
             ],
             "passed_time": 3.517684674,
             "remaining_time": 2.505747987,
             "test": [
              0.8011363636,
              0.4112075649
             ]
            },
            {
             "iteration": 292,
             "learn": [
              0.832197615,
              0.3646772283
             ],
             "passed_time": 3.528842126,
             "remaining_time": 2.493072765,
             "test": [
              0.8011363636,
              0.4112153147
             ]
            },
            {
             "iteration": 293,
             "learn": [
              0.8316297558,
              0.364538637
             ],
             "passed_time": 3.541059463,
             "remaining_time": 2.481150508,
             "test": [
              0.8011363636,
              0.4112225166
             ]
            },
            {
             "iteration": 294,
             "learn": [
              0.8319136854,
              0.3643140156
             ],
             "passed_time": 3.55255033,
             "remaining_time": 2.468721416,
             "test": [
              0.8011363636,
              0.4112046388
             ]
            },
            {
             "iteration": 295,
             "learn": [
              0.8330494037,
              0.3640211903
             ],
             "passed_time": 3.564373943,
             "remaining_time": 2.456527988,
             "test": [
              0.8017045455,
              0.4109934157
             ]
            },
            {
             "iteration": 296,
             "learn": [
              0.8330494037,
              0.3639123393
             ],
             "passed_time": 3.575133448,
             "remaining_time": 2.443609731,
             "test": [
              0.8022727273,
              0.4108810442
             ]
            },
            {
             "iteration": 297,
             "learn": [
              0.8330494037,
              0.363868571
             ],
             "passed_time": 3.586889512,
             "remaining_time": 2.431381481,
             "test": [
              0.8017045455,
              0.4108865771
             ]
            },
            {
             "iteration": 298,
             "learn": [
              0.8330494037,
              0.3637004763
             ],
             "passed_time": 3.598665238,
             "remaining_time": 2.419169608,
             "test": [
              0.8017045455,
              0.4108899858
             ]
            },
            {
             "iteration": 299,
             "learn": [
              0.8330494037,
              0.3636021882
             ],
             "passed_time": 3.611212317,
             "remaining_time": 2.407474878,
             "test": [
              0.8022727273,
              0.410887493
             ]
            },
            {
             "iteration": 300,
             "learn": [
              0.8330494037,
              0.3635194486
             ],
             "passed_time": 3.623022451,
             "remaining_time": 2.395287269,
             "test": [
              0.8022727273,
              0.4109431991
             ]
            },
            {
             "iteration": 301,
             "learn": [
              0.8330494037,
              0.3634257616
             ],
             "passed_time": 3.633484272,
             "remaining_time": 2.382218165,
             "test": [
              0.8017045455,
              0.4109415677
             ]
            },
            {
             "iteration": 302,
             "learn": [
              0.8333333333,
              0.3632929459
             ],
             "passed_time": 3.644417364,
             "remaining_time": 2.369472676,
             "test": [
              0.8022727273,
              0.4109961679
             ]
            },
            {
             "iteration": 303,
             "learn": [
              0.8333333333,
              0.3631842482
             ],
             "passed_time": 3.657482795,
             "remaining_time": 2.358113908,
             "test": [
              0.8022727273,
              0.4110393071
             ]
            },
            {
             "iteration": 304,
             "learn": [
              0.8327654742,
              0.3630148141
             ],
             "passed_time": 3.669980128,
             "remaining_time": 2.346380737,
             "test": [
              0.8022727273,
              0.410961313
             ]
            },
            {
             "iteration": 305,
             "learn": [
              0.8324815446,
              0.3627433644
             ],
             "passed_time": 3.682097446,
             "remaining_time": 2.334401649,
             "test": [
              0.8022727273,
              0.4108903292
             ]
            },
            {
             "iteration": 306,
             "learn": [
              0.8324815446,
              0.3625312701
             ],
             "passed_time": 3.693677262,
             "remaining_time": 2.322083751,
             "test": [
              0.8022727273,
              0.4108765608
             ]
            },
            {
             "iteration": 307,
             "learn": [
              0.832197615,
              0.3623201172
             ],
             "passed_time": 3.705723706,
             "remaining_time": 2.310061531,
             "test": [
              0.8011363636,
              0.4109662429
             ]
            },
            {
             "iteration": 308,
             "learn": [
              0.8327654742,
              0.3622117496
             ],
             "passed_time": 3.718939097,
             "remaining_time": 2.298761707,
             "test": [
              0.8017045455,
              0.4109796365
             ]
            },
            {
             "iteration": 309,
             "learn": [
              0.8327654742,
              0.3621483111
             ],
             "passed_time": 3.730895813,
             "remaining_time": 2.286678079,
             "test": [
              0.8011363636,
              0.4110008786
             ]
            },
            {
             "iteration": 310,
             "learn": [
              0.8327654742,
              0.361917938
             ],
             "passed_time": 3.743218314,
             "remaining_time": 2.274817561,
             "test": [
              0.8011363636,
              0.4110065255
             ]
            },
            {
             "iteration": 311,
             "learn": [
              0.8327654742,
              0.3617928694
             ],
             "passed_time": 3.756346108,
             "remaining_time": 2.263439322,
             "test": [
              0.8017045455,
              0.4110762563
             ]
            },
            {
             "iteration": 312,
             "learn": [
              0.8327654742,
              0.3616982385
             ],
             "passed_time": 3.768550197,
             "remaining_time": 2.251498041,
             "test": [
              0.8017045455,
              0.4111114307
             ]
            },
            {
             "iteration": 313,
             "learn": [
              0.8330494037,
              0.3616453688
             ],
             "passed_time": 3.780647801,
             "remaining_time": 2.23949201,
             "test": [
              0.8011363636,
              0.4111178023
             ]
            },
            {
             "iteration": 314,
             "learn": [
              0.8336172629,
              0.361322374
             ],
             "passed_time": 3.79309927,
             "remaining_time": 2.227693222,
             "test": [
              0.8005681818,
              0.4110882734
             ]
            },
            {
             "iteration": 315,
             "learn": [
              0.8339011925,
              0.3612083987
             ],
             "passed_time": 3.805146872,
             "remaining_time": 2.215655141,
             "test": [
              0.8011363636,
              0.4110801495
             ]
            },
            {
             "iteration": 316,
             "learn": [
              0.8336172629,
              0.3611241602
             ],
             "passed_time": 3.816858545,
             "remaining_time": 2.203423072,
             "test": [
              0.8005681818,
              0.4111040212
             ]
            },
            {
             "iteration": 317,
             "learn": [
              0.8336172629,
              0.3610198655
             ],
             "passed_time": 3.828329816,
             "remaining_time": 2.191056687,
             "test": [
              0.8005681818,
              0.4111052862
             ]
            },
            {
             "iteration": 318,
             "learn": [
              0.8333333333,
              0.3609617029
             ],
             "passed_time": 3.841014516,
             "remaining_time": 2.179384412,
             "test": [
              0.8017045455,
              0.4111198782
             ]
            },
            {
             "iteration": 319,
             "learn": [
              0.8333333333,
              0.360794732
             ],
             "passed_time": 3.853328252,
             "remaining_time": 2.167497141,
             "test": [
              0.8017045455,
              0.4110675379
             ]
            },
            {
             "iteration": 320,
             "learn": [
              0.8330494037,
              0.3605833355
             ],
             "passed_time": 3.865879592,
             "remaining_time": 2.15573971,
             "test": [
              0.8011363636,
              0.4110558255
             ]
            },
            {
             "iteration": 321,
             "learn": [
              0.8336172629,
              0.3602776018
             ],
             "passed_time": 3.877396728,
             "remaining_time": 2.143405645,
             "test": [
              0.8,
              0.4110569975
             ]
            },
            {
             "iteration": 322,
             "learn": [
              0.8344690517,
              0.3601349678
             ],
             "passed_time": 3.888586975,
             "remaining_time": 2.130897506,
             "test": [
              0.8005681818,
              0.4110480635
             ]
            },
            {
             "iteration": 323,
             "learn": [
              0.8341851221,
              0.3599248949
             ],
             "passed_time": 3.900298304,
             "remaining_time": 2.11868056,
             "test": [
              0.8,
              0.4111427743
             ]
            },
            {
             "iteration": 324,
             "learn": [
              0.8344690517,
              0.3597738803
             ],
             "passed_time": 3.91216239,
             "remaining_time": 2.106548979,
             "test": [
              0.7994318182,
              0.4112209717
             ]
            },
            {
             "iteration": 325,
             "learn": [
              0.8339011925,
              0.3596460674
             ],
             "passed_time": 3.924906752,
             "remaining_time": 2.09488888,
             "test": [
              0.7994318182,
              0.4113308518
             ]
            },
            {
             "iteration": 326,
             "learn": [
              0.8339011925,
              0.3594844641
             ],
             "passed_time": 3.936393999,
             "remaining_time": 2.08255707,
             "test": [
              0.7988636364,
              0.4112589054
             ]
            },
            {
             "iteration": 327,
             "learn": [
              0.8347529813,
              0.3592658427
             ],
             "passed_time": 3.949271823,
             "remaining_time": 2.070959614,
             "test": [
              0.8005681818,
              0.4112593031
             ]
            },
            {
             "iteration": 328,
             "learn": [
              0.8350369108,
              0.3591335695
             ],
             "passed_time": 3.961509023,
             "remaining_time": 2.059021407,
             "test": [
              0.8,
              0.4113103807
             ]
            },
            {
             "iteration": 329,
             "learn": [
              0.8344690517,
              0.3590141094
             ],
             "passed_time": 3.974097567,
             "remaining_time": 2.047262383,
             "test": [
              0.8,
              0.411255206
             ]
            },
            {
             "iteration": 330,
             "learn": [
              0.8347529813,
              0.3588173041
             ],
             "passed_time": 3.986521046,
             "remaining_time": 2.035414069,
             "test": [
              0.7994318182,
              0.4113539061
             ]
            },
            {
             "iteration": 331,
             "learn": [
              0.83560477,
              0.3587088974
             ],
             "passed_time": 3.998369806,
             "remaining_time": 2.023271468,
             "test": [
              0.8,
              0.4113453619
             ]
            },
            {
             "iteration": 332,
             "learn": [
              0.8358886996,
              0.3585852846
             ],
             "passed_time": 4.010780062,
             "remaining_time": 2.011412223,
             "test": [
              0.8,
              0.4113433793
             ]
            },
            {
             "iteration": 333,
             "learn": [
              0.83560477,
              0.3584707494
             ],
             "passed_time": 4.022932194,
             "remaining_time": 1.99942139,
             "test": [
              0.7994318182,
              0.4113860735
             ]
            },
            {
             "iteration": 334,
             "learn": [
              0.8361726292,
              0.3582987179
             ],
             "passed_time": 4.035351476,
             "remaining_time": 1.987561175,
             "test": [
              0.7988636364,
              0.411424774
             ]
            },
            {
             "iteration": 335,
             "learn": [
              0.8367404884,
              0.3581874528
             ],
             "passed_time": 4.046936505,
             "remaining_time": 1.975290437,
             "test": [
              0.7994318182,
              0.4114739414
             ]
            },
            {
             "iteration": 336,
             "learn": [
              0.8364565588,
              0.3579111217
             ],
             "passed_time": 4.058330507,
             "remaining_time": 1.962931373,
             "test": [
              0.7994318182,
              0.4114918063
             ]
            },
            {
             "iteration": 337,
             "learn": [
              0.8364565588,
              0.3579031772
             ],
             "passed_time": 4.07022256,
             "remaining_time": 1.95081673,
             "test": [
              0.7994318182,
              0.4114867519
             ]
            },
            {
             "iteration": 338,
             "learn": [
              0.8361726292,
              0.357834325
             ],
             "passed_time": 4.081788553,
             "remaining_time": 1.938548546,
             "test": [
              0.7994318182,
              0.4114876975
             ]
            },
            {
             "iteration": 339,
             "learn": [
              0.8361726292,
              0.3578111075
             ],
             "passed_time": 4.091709621,
             "remaining_time": 1.92551041,
             "test": [
              0.7994318182,
              0.4114848943
             ]
            },
            {
             "iteration": 340,
             "learn": [
              0.8361726292,
              0.3577652139
             ],
             "passed_time": 4.103005782,
             "remaining_time": 1.913131728,
             "test": [
              0.7994318182,
              0.4115154604
             ]
            },
            {
             "iteration": 341,
             "learn": [
              0.83560477,
              0.3576581212
             ],
             "passed_time": 4.114850846,
             "remaining_time": 1.901012964,
             "test": [
              0.7994318182,
              0.4115369643
             ]
            },
            {
             "iteration": 342,
             "learn": [
              0.83560477,
              0.3575410702
             ],
             "passed_time": 4.150755869,
             "remaining_time": 1.899908663,
             "test": [
              0.7994318182,
              0.4114660799
             ]
            },
            {
             "iteration": 343,
             "learn": [
              0.83560477,
              0.3575308164
             ],
             "passed_time": 4.164660341,
             "remaining_time": 1.888625039,
             "test": [
              0.7994318182,
              0.4114685787
             ]
            },
            {
             "iteration": 344,
             "learn": [
              0.8361726292,
              0.3574174633
             ],
             "passed_time": 4.176357282,
             "remaining_time": 1.876334431,
             "test": [
              0.7988636364,
              0.4115246717
             ]
            },
            {
             "iteration": 345,
             "learn": [
              0.8364565588,
              0.3572515125
             ],
             "passed_time": 4.188171336,
             "remaining_time": 1.864099381,
             "test": [
              0.7988636364,
              0.4115528908
             ]
            },
            {
             "iteration": 346,
             "learn": [
              0.8370244179,
              0.357162549
             ],
             "passed_time": 4.200458228,
             "remaining_time": 1.852075242,
             "test": [
              0.7994318182,
              0.4115283478
             ]
            },
            {
             "iteration": 347,
             "learn": [
              0.8370244179,
              0.3570999409
             ],
             "passed_time": 4.212364513,
             "remaining_time": 1.83988335,
             "test": [
              0.7994318182,
              0.4115109734
             ]
            },
            {
             "iteration": 348,
             "learn": [
              0.8375922771,
              0.3570133989
             ],
             "passed_time": 4.225339586,
             "remaining_time": 1.828155523,
             "test": [
              0.7994318182,
              0.4115624258
             ]
            },
            {
             "iteration": 349,
             "learn": [
              0.8381601363,
              0.356820723
             ],
             "passed_time": 4.236892595,
             "remaining_time": 1.815811112,
             "test": [
              0.7988636364,
              0.4115901325
             ]
            },
            {
             "iteration": 350,
             "learn": [
              0.8381601363,
              0.3567649277
             ],
             "passed_time": 4.248185143,
             "remaining_time": 1.803360645,
             "test": [
              0.8,
              0.4115798832
             ]
            },
            {
             "iteration": 351,
             "learn": [
              0.8378762067,
              0.3567151744
             ],
             "passed_time": 4.259591313,
             "remaining_time": 1.790964529,
             "test": [
              0.8,
              0.4115195333
             ]
            },
            {
             "iteration": 352,
             "learn": [
              0.8384440659,
              0.3565221774
             ],
             "passed_time": 4.27215554,
             "remaining_time": 1.779056273,
             "test": [
              0.8017045455,
              0.4115085089
             ]
            },
            {
             "iteration": 353,
             "learn": [
              0.8387279955,
              0.3562693255
             ],
             "passed_time": 4.284285213,
             "remaining_time": 1.766965088,
             "test": [
              0.8005681818,
              0.4113545708
             ]
            },
            {
             "iteration": 354,
             "learn": [
              0.8384440659,
              0.3560378847
             ],
             "passed_time": 4.296593883,
             "remaining_time": 1.754946797,
             "test": [
              0.8005681818,
              0.411328369
             ]
            },
            {
             "iteration": 355,
             "learn": [
              0.8384440659,
              0.3560107321
             ],
             "passed_time": 4.308140772,
             "remaining_time": 1.742618739,
             "test": [
              0.8005681818,
              0.4113292024
             ]
            },
            {
             "iteration": 356,
             "learn": [
              0.8387279955,
              0.3558835604
             ],
             "passed_time": 4.320551259,
             "remaining_time": 1.730640981,
             "test": [
              0.8011363636,
              0.4112990474
             ]
            },
            {
             "iteration": 357,
             "learn": [
              0.8378762067,
              0.3556969595
             ],
             "passed_time": 4.33349687,
             "remaining_time": 1.71887306,
             "test": [
              0.8017045455,
              0.4112618247
             ]
            },
            {
             "iteration": 358,
             "learn": [
              0.8384440659,
              0.3555162869
             ],
             "passed_time": 4.34623857,
             "remaining_time": 1.707018491,
             "test": [
              0.8022727273,
              0.4112576252
             ]
            },
            {
             "iteration": 359,
             "learn": [
              0.8387279955,
              0.3553965277
             ],
             "passed_time": 4.358000811,
             "remaining_time": 1.694778093,
             "test": [
              0.8034090909,
              0.4112590748
             ]
            },
            {
             "iteration": 360,
             "learn": [
              0.8392958546,
              0.3551715626
             ],
             "passed_time": 4.370192698,
             "remaining_time": 1.682705776,
             "test": [
              0.8034090909,
              0.4112449314
             ]
            },
            {
             "iteration": 361,
             "learn": [
              0.839011925,
              0.3549908484
             ],
             "passed_time": 4.382492977,
             "remaining_time": 1.670674118,
             "test": [
              0.8028409091,
              0.4113490842
             ]
            },
            {
             "iteration": 362,
             "learn": [
              0.8387279955,
              0.3549027449
             ],
             "passed_time": 4.393907023,
             "remaining_time": 1.658306507,
             "test": [
              0.8022727273,
              0.411368058
             ]
            },
            {
             "iteration": 363,
             "learn": [
              0.839011925,
              0.3548630933
             ],
             "passed_time": 4.406168737,
             "remaining_time": 1.646260847,
             "test": [
              0.8022727273,
              0.4113704173
             ]
            },
            {
             "iteration": 364,
             "learn": [
              0.839011925,
              0.354850412
             ],
             "passed_time": 4.417987069,
             "remaining_time": 1.634050012,
             "test": [
              0.8028409091,
              0.4113758014
             ]
            },
            {
             "iteration": 365,
             "learn": [
              0.839011925,
              0.3548097614
             ],
             "passed_time": 4.429407687,
             "remaining_time": 1.621695711,
             "test": [
              0.8022727273,
              0.4113658606
             ]
            },
            {
             "iteration": 366,
             "learn": [
              0.8392958546,
              0.3546621377
             ],
             "passed_time": 4.44103913,
             "remaining_time": 1.6094229,
             "test": [
              0.8028409091,
              0.4114259142
             ]
            },
            {
             "iteration": 367,
             "learn": [
              0.8392958546,
              0.3545241761
             ],
             "passed_time": 4.454006713,
             "remaining_time": 1.597632843,
             "test": [
              0.8028409091,
              0.4114444726
             ]
            },
            {
             "iteration": 368,
             "learn": [
              0.839011925,
              0.3543510585
             ],
             "passed_time": 4.465384012,
             "remaining_time": 1.585271831,
             "test": [
              0.8028409091,
              0.4113497222
             ]
            },
            {
             "iteration": 369,
             "learn": [
              0.8392958546,
              0.3540906031
             ],
             "passed_time": 4.476897217,
             "remaining_time": 1.572963887,
             "test": [
              0.8022727273,
              0.411387708
             ]
            },
            {
             "iteration": 370,
             "learn": [
              0.839011925,
              0.3538823614
             ],
             "passed_time": 4.487995312,
             "remaining_time": 1.56051589,
             "test": [
              0.8028409091,
              0.4114213677
             ]
            },
            {
             "iteration": 371,
             "learn": [
              0.839011925,
              0.3537840035
             ],
             "passed_time": 4.499681111,
             "remaining_time": 1.548277372,
             "test": [
              0.8028409091,
              0.4114094216
             ]
            },
            {
             "iteration": 372,
             "learn": [
              0.8392958546,
              0.3537457777
             ],
             "passed_time": 4.509832575,
             "remaining_time": 1.535519402,
             "test": [
              0.8022727273,
              0.4114045425
             ]
            },
            {
             "iteration": 373,
             "learn": [
              0.8398637138,
              0.3535839412
             ],
             "passed_time": 4.521457893,
             "remaining_time": 1.523271911,
             "test": [
              0.8034090909,
              0.4113662353
             ]
            },
            {
             "iteration": 374,
             "learn": [
              0.8398637138,
              0.3534424849
             ],
             "passed_time": 4.533997086,
             "remaining_time": 1.511332362,
             "test": [
              0.8028409091,
              0.4114170169
             ]
            },
            {
             "iteration": 375,
             "learn": [
              0.839011925,
              0.3533299179
             ],
             "passed_time": 4.546710948,
             "remaining_time": 1.499447228,
             "test": [
              0.8022727273,
              0.4114787198
             ]
            },
            {
             "iteration": 376,
             "learn": [
              0.8392958546,
              0.353238234
             ],
             "passed_time": 4.560176502,
             "remaining_time": 1.487802944,
             "test": [
              0.8022727273,
              0.4115324441
             ]
            },
            {
             "iteration": 377,
             "learn": [
              0.8392958546,
              0.3531127091
             ],
             "passed_time": 4.572422799,
             "remaining_time": 1.475755507,
             "test": [
              0.8022727273,
              0.4115738385
             ]
            },
            {
             "iteration": 378,
             "learn": [
              0.8392958546,
              0.3530775188
             ],
             "passed_time": 4.584414974,
             "remaining_time": 1.463625889,
             "test": [
              0.8022727273,
              0.4115922154
             ]
            },
            {
             "iteration": 379,
             "learn": [
              0.8392958546,
              0.3530411846
             ],
             "passed_time": 4.594908955,
             "remaining_time": 1.451023881,
             "test": [
              0.8022727273,
              0.4115877805
             ]
            },
            {
             "iteration": 380,
             "learn": [
              0.8395797842,
              0.3529632829
             ],
             "passed_time": 4.606741336,
             "remaining_time": 1.438850968,
             "test": [
              0.8017045455,
              0.4116110444
             ]
            },
            {
             "iteration": 381,
             "learn": [
              0.8395797842,
              0.3527608239
             ],
             "passed_time": 4.618714029,
             "remaining_time": 1.426723182,
             "test": [
              0.8022727273,
              0.4116554491
             ]
            },
            {
             "iteration": 382,
             "learn": [
              0.8395797842,
              0.3525473753
             ],
             "passed_time": 4.630445241,
             "remaining_time": 1.414522437,
             "test": [
              0.8022727273,
              0.4116789428
             ]
            },
            {
             "iteration": 383,
             "learn": [
              0.8395797842,
              0.3524456554
             ],
             "passed_time": 4.640511764,
             "remaining_time": 1.401821262,
             "test": [
              0.8039772727,
              0.4116205566
             ]
            },
            {
             "iteration": 384,
             "learn": [
              0.8395797842,
              0.3523979593
             ],
             "passed_time": 4.651503263,
             "remaining_time": 1.389410066,
             "test": [
              0.8028409091,
              0.4116146319
             ]
            },
            {
             "iteration": 385,
             "learn": [
              0.8401476434,
              0.3523331388
             ],
             "passed_time": 4.66339134,
             "remaining_time": 1.377271018,
             "test": [
              0.8028409091,
              0.4116196861
             ]
            },
            {
             "iteration": 386,
             "learn": [
              0.8409994321,
              0.3521842777
             ],
             "passed_time": 4.674744259,
             "remaining_time": 1.364977006,
             "test": [
              0.8034090909,
              0.4116455207
             ]
            },
            {
             "iteration": 387,
             "learn": [
              0.8409994321,
              0.3519048229
             ],
             "passed_time": 4.686497429,
             "remaining_time": 1.352803382,
             "test": [
              0.8028409091,
              0.4116781302
             ]
            },
            {
             "iteration": 388,
             "learn": [
              0.8412833617,
              0.3518090506
             ],
             "passed_time": 4.699362212,
             "remaining_time": 1.340949114,
             "test": [
              0.8022727273,
              0.4117143958
             ]
            },
            {
             "iteration": 389,
             "learn": [
              0.8412833617,
              0.3517548617
             ],
             "passed_time": 4.710199543,
             "remaining_time": 1.32851782,
             "test": [
              0.8022727273,
              0.4116982234
             ]
            },
            {
             "iteration": 390,
             "learn": [
              0.8412833617,
              0.3515975648
             ],
             "passed_time": 4.720993575,
             "remaining_time": 1.316082608,
             "test": [
              0.8022727273,
              0.4116906309
             ]
            },
            {
             "iteration": 391,
             "learn": [
              0.8412833617,
              0.351567282
             ],
             "passed_time": 4.732911476,
             "remaining_time": 1.303965407,
             "test": [
              0.8022727273,
              0.411691812
             ]
            },
            {
             "iteration": 392,
             "learn": [
              0.8415672913,
              0.351133994
             ],
             "passed_time": 4.744966545,
             "remaining_time": 1.291886566,
             "test": [
              0.8,
              0.4117686277
             ]
            },
            {
             "iteration": 393,
             "learn": [
              0.8412833617,
              0.3510334478
             ],
             "passed_time": 4.756291541,
             "remaining_time": 1.27961143,
             "test": [
              0.8005681818,
              0.4118058197
             ]
            },
            {
             "iteration": 394,
             "learn": [
              0.8412833617,
              0.3509833884
             ],
             "passed_time": 4.768846192,
             "remaining_time": 1.267667975,
             "test": [
              0.8005681818,
              0.4118296256
             ]
            },
            {
             "iteration": 395,
             "learn": [
              0.8412833617,
              0.3509199438
             ],
             "passed_time": 4.78145251,
             "remaining_time": 1.255735003,
             "test": [
              0.8011363636,
              0.4118334696
             ]
            },
            {
             "iteration": 396,
             "learn": [
              0.8412833617,
              0.3508693037
             ],
             "passed_time": 4.792335794,
             "remaining_time": 1.243351604,
             "test": [
              0.8005681818,
              0.4118101006
             ]
            },
            {
             "iteration": 397,
             "learn": [
              0.8415672913,
              0.3507544359
             ],
             "passed_time": 4.804870143,
             "remaining_time": 1.231398881,
             "test": [
              0.8005681818,
              0.4117848785
             ]
            },
            {
             "iteration": 398,
             "learn": [
              0.8418512209,
              0.3502919999
             ],
             "passed_time": 4.816599511,
             "remaining_time": 1.219239475,
             "test": [
              0.8005681818,
              0.4119147812
             ]
            },
            {
             "iteration": 399,
             "learn": [
              0.8418512209,
              0.3501414429
             ],
             "passed_time": 4.828003449,
             "remaining_time": 1.207000862,
             "test": [
              0.8011363636,
              0.4119060051
             ]
            },
            {
             "iteration": 400,
             "learn": [
              0.8415672913,
              0.3500271783
             ],
             "passed_time": 4.840935956,
             "remaining_time": 1.19514379,
             "test": [
              0.8005681818,
              0.411879457
             ]
            },
            {
             "iteration": 401,
             "learn": [
              0.8418512209,
              0.3499035149
             ],
             "passed_time": 4.853821054,
             "remaining_time": 1.183269809,
             "test": [
              0.8011363636,
              0.4118772268
             ]
            },
            {
             "iteration": 402,
             "learn": [
              0.8421351505,
              0.3497499339
             ],
             "passed_time": 4.866110651,
             "remaining_time": 1.171247477,
             "test": [
              0.8,
              0.4118687027
             ]
            },
            {
             "iteration": 403,
             "learn": [
              0.8421351505,
              0.3495354446
             ],
             "passed_time": 4.878430936,
             "remaining_time": 1.159231113,
             "test": [
              0.8,
              0.4119401844
             ]
            },
            {
             "iteration": 404,
             "learn": [
              0.8424190801,
              0.34941947
             ],
             "passed_time": 4.891224729,
             "remaining_time": 1.147324319,
             "test": [
              0.8,
              0.4118979476
             ]
            },
            {
             "iteration": 405,
             "learn": [
              0.8418512209,
              0.3493077648
             ],
             "passed_time": 4.904224553,
             "remaining_time": 1.135460857,
             "test": [
              0.8,
              0.4119531069
             ]
            },
            {
             "iteration": 406,
             "learn": [
              0.8429869392,
              0.3492018382
             ],
             "passed_time": 4.914852138,
             "remaining_time": 1.123049752,
             "test": [
              0.8005681818,
              0.4119440595
             ]
            },
            {
             "iteration": 407,
             "learn": [
              0.8429869392,
              0.3490005029
             ],
             "passed_time": 4.927300235,
             "remaining_time": 1.111057896,
             "test": [
              0.8005681818,
              0.4120174101
             ]
            },
            {
             "iteration": 408,
             "learn": [
              0.8429869392,
              0.3488283279
             ],
             "passed_time": 4.939561018,
             "remaining_time": 1.099022134,
             "test": [
              0.8005681818,
              0.4120456137
             ]
            },
            {
             "iteration": 409,
             "learn": [
              0.8429869392,
              0.3487371137
             ],
             "passed_time": 4.949935664,
             "remaining_time": 1.086571243,
             "test": [
              0.8005681818,
              0.412059328
             ]
            },
            {
             "iteration": 410,
             "learn": [
              0.843838728,
              0.3486492318
             ],
             "passed_time": 4.960606612,
             "remaining_time": 1.074194619,
             "test": [
              0.8,
              0.4121051941
             ]
            },
            {
             "iteration": 411,
             "learn": [
              0.8441226576,
              0.3484501249
             ],
             "passed_time": 4.972980137,
             "remaining_time": 1.062189932,
             "test": [
              0.8011363636,
              0.4120810398
             ]
            },
            {
             "iteration": 412,
             "learn": [
              0.8444065872,
              0.3483050999
             ],
             "passed_time": 4.986090366,
             "remaining_time": 1.050338649,
             "test": [
              0.8017045455,
              0.4120583023
             ]
            },
            {
             "iteration": 413,
             "learn": [
              0.8444065872,
              0.3482442195
             ],
             "passed_time": 4.997958761,
             "remaining_time": 1.038223318,
             "test": [
              0.8017045455,
              0.4120576896
             ]
            },
            {
             "iteration": 414,
             "learn": [
              0.8446905168,
              0.3479496876
             ],
             "passed_time": 5.009365693,
             "remaining_time": 1.02601466,
             "test": [
              0.8011363636,
              0.411932585
             ]
            },
            {
             "iteration": 415,
             "learn": [
              0.8446905168,
              0.3475366413
             ],
             "passed_time": 5.021729325,
             "remaining_time": 1.014003037,
             "test": [
              0.8011363636,
              0.4116966412
             ]
            },
            {
             "iteration": 416,
             "learn": [
              0.8446905168,
              0.3473226927
             ],
             "passed_time": 5.036592162,
             "remaining_time": 1.002487169,
             "test": [
              0.8017045455,
              0.4117650618
             ]
            },
            {
             "iteration": 417,
             "learn": [
              0.8452583759,
              0.3471040114
             ],
             "passed_time": 5.055532124,
             "remaining_time": 0.9917551056,
             "test": [
              0.8017045455,
              0.4118037834
             ]
            },
            {
             "iteration": 418,
             "learn": [
              0.8446905168,
              0.3468929232
             ],
             "passed_time": 5.07041184,
             "remaining_time": 0.9801989477,
             "test": [
              0.7994318182,
              0.411880919
             ]
            },
            {
             "iteration": 419,
             "learn": [
              0.8444065872,
              0.3468554234
             ],
             "passed_time": 5.082908703,
             "remaining_time": 0.9681730862,
             "test": [
              0.7994318182,
              0.4118893816
             ]
            },
            {
             "iteration": 420,
             "learn": [
              0.8446905168,
              0.3466327162
             ],
             "passed_time": 5.097791838,
             "remaining_time": 0.9565927677,
             "test": [
              0.7994318182,
              0.4119347559
             ]
            },
            {
             "iteration": 421,
             "learn": [
              0.8449744463,
              0.3465769447
             ],
             "passed_time": 5.110640949,
             "remaining_time": 0.944620839,
             "test": [
              0.7988636364,
              0.4119468854
             ]
            },
            {
             "iteration": 422,
             "learn": [
              0.8458262351,
              0.3464044825
             ],
             "passed_time": 5.123989088,
             "remaining_time": 0.9327356023,
             "test": [
              0.7988636364,
              0.4119672166
             ]
            },
            {
             "iteration": 423,
             "learn": [
              0.8455423055,
              0.3462417789
             ],
             "passed_time": 5.159590473,
             "remaining_time": 0.9248322546,
             "test": [
              0.7988636364,
              0.4119904712
             ]
            },
            {
             "iteration": 424,
             "learn": [
              0.8458262351,
              0.3461967002
             ],
             "passed_time": 5.174007458,
             "remaining_time": 0.9130601397,
             "test": [
              0.7988636364,
              0.4120037394
             ]
            },
            {
             "iteration": 425,
             "learn": [
              0.8463940943,
              0.3460253912
             ],
             "passed_time": 5.188683577,
             "remaining_time": 0.9013206213,
             "test": [
              0.7977272727,
              0.4120298065
             ]
            },
            {
             "iteration": 426,
             "learn": [
              0.8463940943,
              0.3458992474
             ],
             "passed_time": 5.203202624,
             "remaining_time": 0.8895404954,
             "test": [
              0.7971590909,
              0.4120351248
             ]
            },
            {
             "iteration": 427,
             "learn": [
              0.8466780239,
              0.3458624814
             ],
             "passed_time": 5.215858003,
             "remaining_time": 0.8774340567,
             "test": [
              0.7971590909,
              0.4120274016
             ]
            },
            {
             "iteration": 428,
             "learn": [
              0.8475298126,
              0.3455853528
             ],
             "passed_time": 5.2299446,
             "remaining_time": 0.8655619268,
             "test": [
              0.7988636364,
              0.4119960164
             ]
            },
            {
             "iteration": 429,
             "learn": [
              0.847245883,
              0.3455514816
             ],
             "passed_time": 5.242121527,
             "remaining_time": 0.8533686207,
             "test": [
              0.7988636364,
              0.4119915673
             ]
            },
            {
             "iteration": 430,
             "learn": [
              0.8478137422,
              0.3452818345
             ],
             "passed_time": 5.255761981,
             "remaining_time": 0.8414096907,
             "test": [
              0.8005681818,
              0.4119631577
             ]
            },
            {
             "iteration": 431,
             "learn": [
              0.847245883,
              0.3452142897
             ],
             "passed_time": 5.269249968,
             "remaining_time": 0.8294189764,
             "test": [
              0.8,
              0.4119752186
             ]
            },
            {
             "iteration": 432,
             "learn": [
              0.8478137422,
              0.3450451588
             ],
             "passed_time": 5.284998045,
             "remaining_time": 0.8177710601,
             "test": [
              0.8,
              0.4119440238
             ]
            },
            {
             "iteration": 433,
             "learn": [
              0.8480976718,
              0.3449168665
             ],
             "passed_time": 5.300472596,
             "remaining_time": 0.8060626528,
             "test": [
              0.7994318182,
              0.4119222687
             ]
            },
            {
             "iteration": 434,
             "learn": [
              0.8480976718,
              0.3448298248
             ],
             "passed_time": 5.315240331,
             "remaining_time": 0.7942313139,
             "test": [
              0.7988636364,
              0.4119681782
             ]
            },
            {
             "iteration": 435,
             "learn": [
              0.8480976718,
              0.3446884284
             ],
             "passed_time": 5.327526224,
             "remaining_time": 0.782022198,
             "test": [
              0.8,
              0.412011558
             ]
            },
            {
             "iteration": 436,
             "learn": [
              0.8478137422,
              0.3445090342
             ],
             "passed_time": 5.350025225,
             "remaining_time": 0.7712851011,
             "test": [
              0.7994318182,
              0.4120637426
             ]
            },
            {
             "iteration": 437,
             "learn": [
              0.8475298126,
              0.3443982169
             ],
             "passed_time": 5.372930823,
             "remaining_time": 0.7605518517,
             "test": [
              0.7994318182,
              0.4120911564
             ]
            },
            {
             "iteration": 438,
             "learn": [
              0.8475298126,
              0.344276706
             ],
             "passed_time": 5.397549255,
             "remaining_time": 0.7500011493,
             "test": [
              0.7994318182,
              0.4121145661
             ]
            },
            {
             "iteration": 439,
             "learn": [
              0.847245883,
              0.3440261255
             ],
             "passed_time": 5.414595397,
             "remaining_time": 0.7383539177,
             "test": [
              0.8005681818,
              0.4122309921
             ]
            },
            {
             "iteration": 440,
             "learn": [
              0.847245883,
              0.3438757463
             ],
             "passed_time": 5.435055635,
             "remaining_time": 0.7271389625,
             "test": [
              0.8005681818,
              0.4122232015
             ]
            },
            {
             "iteration": 441,
             "learn": [
              0.847245883,
              0.3438115819
             ],
             "passed_time": 5.452949097,
             "remaining_time": 0.7155453566,
             "test": [
              0.8005681818,
              0.4122425495
             ]
            },
            {
             "iteration": 442,
             "learn": [
              0.847245883,
              0.343700114
             ],
             "passed_time": 5.468173404,
             "remaining_time": 0.7035798736,
             "test": [
              0.8005681818,
              0.412268079
             ]
            },
            {
             "iteration": 443,
             "learn": [
              0.847245883,
              0.3436144742
             ],
             "passed_time": 5.48334268,
             "remaining_time": 0.6915927705,
             "test": [
              0.8005681818,
              0.4123124933
             ]
            },
            {
             "iteration": 444,
             "learn": [
              0.8475298126,
              0.3435272949
             ],
             "passed_time": 5.497688727,
             "remaining_time": 0.679489618,
             "test": [
              0.7994318182,
              0.4122865573
             ]
            },
            {
             "iteration": 445,
             "learn": [
              0.8480976718,
              0.3434810993
             ],
             "passed_time": 5.510979011,
             "remaining_time": 0.6672485798,
             "test": [
              0.7994318182,
              0.4122933347
             ]
            },
            {
             "iteration": 446,
             "learn": [
              0.8478137422,
              0.3433270758
             ],
             "passed_time": 5.525337216,
             "remaining_time": 0.6551294685,
             "test": [
              0.7994318182,
              0.4122938436
             ]
            },
            {
             "iteration": 447,
             "learn": [
              0.8480976718,
              0.3431850283
             ],
             "passed_time": 5.538290623,
             "remaining_time": 0.6428373045,
             "test": [
              0.7988636364,
              0.4123612426
             ]
            },
            {
             "iteration": 448,
             "learn": [
              0.8486655309,
              0.3429023482
             ],
             "passed_time": 5.559273676,
             "remaining_time": 0.6314542483,
             "test": [
              0.7988636364,
              0.412344661
             ]
            },
            {
             "iteration": 449,
             "learn": [
              0.8489494605,
              0.3428786405
             ],
             "passed_time": 5.578640416,
             "remaining_time": 0.6198489352,
             "test": [
              0.7988636364,
              0.4123476901
             ]
            },
            {
             "iteration": 450,
             "learn": [
              0.8489494605,
              0.3428165802
             ],
             "passed_time": 5.590258565,
             "remaining_time": 0.6073673386,
             "test": [
              0.7988636364,
              0.4123492029
             ]
            },
            {
             "iteration": 451,
             "learn": [
              0.8489494605,
              0.3427265343
             ],
             "passed_time": 5.604094124,
             "remaining_time": 0.5951250397,
             "test": [
              0.7982954545,
              0.4124137467
             ]
            },
            {
             "iteration": 452,
             "learn": [
              0.8486655309,
              0.3425260745
             ],
             "passed_time": 5.618499243,
             "remaining_time": 0.5829348001,
             "test": [
              0.7982954545,
              0.4124699774
             ]
            },
            {
             "iteration": 453,
             "learn": [
              0.8483816014,
              0.3422884008
             ],
             "passed_time": 5.63269085,
             "remaining_time": 0.5707131699,
             "test": [
              0.7977272727,
              0.4124741675
             ]
            },
            {
             "iteration": 454,
             "learn": [
              0.8489494605,
              0.3422131353
             ],
             "passed_time": 5.646401083,
             "remaining_time": 0.558435272,
             "test": [
              0.7977272727,
              0.4124869303
             ]
            },
            {
             "iteration": 455,
             "learn": [
              0.8486655309,
              0.3421376599
             ],
             "passed_time": 5.659232587,
             "remaining_time": 0.5460663023,
             "test": [
              0.7977272727,
              0.4124650992
             ]
            },
            {
             "iteration": 456,
             "learn": [
              0.8486655309,
              0.3419984606
             ],
             "passed_time": 5.670512899,
             "remaining_time": 0.5335493537,
             "test": [
              0.7971590909,
              0.4125390676
             ]
            },
            {
             "iteration": 457,
             "learn": [
              0.8486655309,
              0.3418468409
             ],
             "passed_time": 5.682655303,
             "remaining_time": 0.5211168618,
             "test": [
              0.7971590909,
              0.4126199755
             ]
            },
            {
             "iteration": 458,
             "learn": [
              0.8486655309,
              0.3418195816
             ],
             "passed_time": 5.694505476,
             "remaining_time": 0.5086595305,
             "test": [
              0.7971590909,
              0.4126247771
             ]
            },
            {
             "iteration": 459,
             "learn": [
              0.8489494605,
              0.3417041818
             ],
             "passed_time": 5.707026371,
             "remaining_time": 0.4962631627,
             "test": [
              0.7982954545,
              0.4125673295
             ]
            },
            {
             "iteration": 460,
             "learn": [
              0.8483816014,
              0.3416097961
             ],
             "passed_time": 5.719817976,
             "remaining_time": 0.4838891563,
             "test": [
              0.7982954545,
              0.4125395235
             ]
            },
            {
             "iteration": 461,
             "learn": [
              0.8492333901,
              0.341392551
             ],
             "passed_time": 5.732362732,
             "remaining_time": 0.4714930386,
             "test": [
              0.7977272727,
              0.4125237251
             ]
            },
            {
             "iteration": 462,
             "learn": [
              0.8492333901,
              0.3412673421
             ],
             "passed_time": 5.745344482,
             "remaining_time": 0.4591312005,
             "test": [
              0.7982954545,
              0.4125179461
             ]
            },
            {
             "iteration": 463,
             "learn": [
              0.8492333901,
              0.3411953179
             ],
             "passed_time": 5.757802408,
             "remaining_time": 0.4467260489,
             "test": [
              0.7977272727,
              0.4124976533
             ]
            },
            {
             "iteration": 464,
             "learn": [
              0.8492333901,
              0.3409879934
             ],
             "passed_time": 5.769002934,
             "remaining_time": 0.4342260273,
             "test": [
              0.7982954545,
              0.4123960226
             ]
            },
            {
             "iteration": 465,
             "learn": [
              0.8489494605,
              0.3408134391
             ],
             "passed_time": 5.781270046,
             "remaining_time": 0.4218094025,
             "test": [
              0.7982954545,
              0.412364854
             ]
            },
            {
             "iteration": 466,
             "learn": [
              0.8489494605,
              0.3407076958
             ],
             "passed_time": 5.792335527,
             "remaining_time": 0.4093085062,
             "test": [
              0.7982954545,
              0.4123425846
             ]
            },
            {
             "iteration": 467,
             "learn": [
              0.8492333901,
              0.3403848058
             ],
             "passed_time": 5.804010632,
             "remaining_time": 0.3968554278,
             "test": [
              0.7965909091,
              0.4123949911
             ]
            },
            {
             "iteration": 468,
             "learn": [
              0.8495173197,
              0.3403163616
             ],
             "passed_time": 5.816126796,
             "remaining_time": 0.3844348202,
             "test": [
              0.7971590909,
              0.4123767551
             ]
            },
            {
             "iteration": 469,
             "learn": [
              0.8498012493,
              0.3401558001
             ],
             "passed_time": 5.827686789,
             "remaining_time": 0.3719800078,
             "test": [
              0.7954545455,
              0.4124151404
             ]
            },
            {
             "iteration": 470,
             "learn": [
              0.8498012493,
              0.3400992116
             ],
             "passed_time": 5.839578649,
             "remaining_time": 0.3595494285,
             "test": [
              0.7960227273,
              0.4123884866
             ]
            },
            {
             "iteration": 471,
             "learn": [
              0.8498012493,
              0.3400085432
             ],
             "passed_time": 5.851570308,
             "remaining_time": 0.3471270521,
             "test": [
              0.7965909091,
              0.4123893029
             ]
            },
            {
             "iteration": 472,
             "learn": [
              0.8498012493,
              0.3399348987
             ],
             "passed_time": 5.86234718,
             "remaining_time": 0.3346371541,
             "test": [
              0.7965909091,
              0.4123998496
             ]
            },
            {
             "iteration": 473,
             "learn": [
              0.8498012493,
              0.3398955652
             ],
             "passed_time": 5.873440322,
             "remaining_time": 0.322171832,
             "test": [
              0.7960227273,
              0.4124122652
             ]
            },
            {
             "iteration": 474,
             "learn": [
              0.8498012493,
              0.3398546611
             ],
             "passed_time": 5.885403233,
             "remaining_time": 0.3097580649,
             "test": [
              0.7960227273,
              0.4123813611
             ]
            },
            {
             "iteration": 475,
             "learn": [
              0.8498012493,
              0.3397582924
             ],
             "passed_time": 5.898196569,
             "remaining_time": 0.2973880623,
             "test": [
              0.7960227273,
              0.4124080109
             ]
            },
            {
             "iteration": 476,
             "learn": [
              0.8498012493,
              0.3396751201
             ],
             "passed_time": 5.910283631,
             "remaining_time": 0.2849822296,
             "test": [
              0.7954545455,
              0.4123913257
             ]
            },
            {
             "iteration": 477,
             "learn": [
              0.8498012493,
              0.3395995997
             ],
             "passed_time": 5.923286999,
             "remaining_time": 0.2726199037,
             "test": [
              0.7954545455,
              0.4124517264
             ]
            },
            {
             "iteration": 478,
             "learn": [
              0.8498012493,
              0.3394933697
             ],
             "passed_time": 5.936803928,
             "remaining_time": 0.2602774165,
             "test": [
              0.7960227273,
              0.4125012416
             ]
            },
            {
             "iteration": 479,
             "learn": [
              0.8492333901,
              0.3392879002
             ],
             "passed_time": 5.949479032,
             "remaining_time": 0.2478949597,
             "test": [
              0.7954545455,
              0.4125088939
             ]
            },
            {
             "iteration": 480,
             "learn": [
              0.8489494605,
              0.3390904099
             ],
             "passed_time": 5.962907831,
             "remaining_time": 0.2355410578,
             "test": [
              0.7954545455,
              0.4125439179
             ]
            },
            {
             "iteration": 481,
             "learn": [
              0.8489494605,
              0.3388916518
             ],
             "passed_time": 5.975015265,
             "remaining_time": 0.2231333501,
             "test": [
              0.7954545455,
              0.4124846116
             ]
            },
            {
             "iteration": 482,
             "learn": [
              0.8492333901,
              0.3387819901
             ],
             "passed_time": 5.987330058,
             "remaining_time": 0.2107341842,
             "test": [
              0.7954545455,
              0.412495617
             ]
            },
            {
             "iteration": 483,
             "learn": [
              0.8492333901,
              0.3385944794
             ],
             "passed_time": 5.998632144,
             "remaining_time": 0.1983018891,
             "test": [
              0.7954545455,
              0.4125044756
             ]
            },
            {
             "iteration": 484,
             "learn": [
              0.8498012493,
              0.3382710376
             ],
             "passed_time": 6.01028949,
             "remaining_time": 0.185885242,
             "test": [
              0.7965909091,
              0.4123824399
             ]
            },
            {
             "iteration": 485,
             "learn": [
              0.8498012493,
              0.3382373684
             ],
             "passed_time": 6.022002592,
             "remaining_time": 0.1734733257,
             "test": [
              0.7965909091,
              0.4123664596
             ]
            },
            {
             "iteration": 486,
             "learn": [
              0.8492333901,
              0.338012317
             ],
             "passed_time": 6.033777293,
             "remaining_time": 0.1610659236,
             "test": [
              0.7977272727,
              0.4124026244
             ]
            },
            {
             "iteration": 487,
             "learn": [
              0.8495173197,
              0.3379365157
             ],
             "passed_time": 6.046229315,
             "remaining_time": 0.14867777,
             "test": [
              0.7977272727,
              0.4123850972
             ]
            },
            {
             "iteration": 488,
             "learn": [
              0.8498012493,
              0.3378240844
             ],
             "passed_time": 6.057706168,
             "remaining_time": 0.1362674189,
             "test": [
              0.7977272727,
              0.4123948466
             ]
            },
            {
             "iteration": 489,
             "learn": [
              0.8500851789,
              0.3376408714
             ],
             "passed_time": 6.069982326,
             "remaining_time": 0.1238771903,
             "test": [
              0.7977272727,
              0.4124615506
             ]
            },
            {
             "iteration": 490,
             "learn": [
              0.8500851789,
              0.3373729218
             ],
             "passed_time": 6.081189222,
             "remaining_time": 0.1114678269,
             "test": [
              0.7988636364,
              0.4124379844
             ]
            },
            {
             "iteration": 491,
             "learn": [
              0.8500851789,
              0.3373170187
             ],
             "passed_time": 6.091068649,
             "remaining_time": 0.09904176666,
             "test": [
              0.7982954545,
              0.4124497117
             ]
            },
            {
             "iteration": 492,
             "learn": [
              0.8503691085,
              0.3370675837
             ],
             "passed_time": 6.103068874,
             "remaining_time": 0.08665615033,
             "test": [
              0.7982954545,
              0.412402154
             ]
            },
            {
             "iteration": 493,
             "learn": [
              0.8503691085,
              0.3369560082
             ],
             "passed_time": 6.11594544,
             "remaining_time": 0.07428273814,
             "test": [
              0.7988636364,
              0.4124360267
             ]
            },
            {
             "iteration": 494,
             "learn": [
              0.8503691085,
              0.3368144802
             ],
             "passed_time": 6.128812046,
             "remaining_time": 0.06190719238,
             "test": [
              0.7988636364,
              0.4124477142
             ]
            },
            {
             "iteration": 495,
             "learn": [
              0.8512208972,
              0.3364833941
             ],
             "passed_time": 6.140903726,
             "remaining_time": 0.04952341715,
             "test": [
              0.7988636364,
              0.4124673518
             ]
            },
            {
             "iteration": 496,
             "learn": [
              0.8512208972,
              0.3363780433
             ],
             "passed_time": 6.178371755,
             "remaining_time": 0.03729399449,
             "test": [
              0.7982954545,
              0.4124583254
             ]
            },
            {
             "iteration": 497,
             "learn": [
              0.8512208972,
              0.3363156549
             ],
             "passed_time": 6.192674322,
             "remaining_time": 0.024870178,
             "test": [
              0.7982954545,
              0.4124598418
             ]
            },
            {
             "iteration": 498,
             "learn": [
              0.8509369676,
              0.3362653308
             ],
             "passed_time": 6.204298258,
             "remaining_time": 0.01243346344,
             "test": [
              0.7982954545,
              0.4124631546
             ]
            },
            {
             "iteration": 499,
             "learn": [
              0.8517887564,
              0.3360314181
             ],
             "passed_time": 6.217529412,
             "remaining_time": 0,
             "test": [
              0.7982954545,
              0.4125883532
             ]
            }
           ],
           "meta": {
            "iteration_count": 500,
            "launch_mode": "Train",
            "learn_metrics": [
             {
              "best_value": "Max",
              "name": "Accuracy"
             },
             {
              "best_value": "Min",
              "name": "Logloss"
             }
            ],
            "learn_sets": [
             "learn"
            ],
            "name": "experiment",
            "parameters": "",
            "test_metrics": [
             {
              "best_value": "Max",
              "name": "Accuracy"
             },
             {
              "best_value": "Min",
              "name": "Logloss"
             }
            ],
            "test_sets": [
             "test"
            ]
           }
          },
          "passed_iterations": 499,
          "total_iterations": 500
         },
         "name": "fold-1",
         "path": "catboost_info/fold-1"
        },
        "catboost_info/fold-2": {
         "content": {
          "data": {
           "iterations": [
            {
             "iteration": 0,
             "learn": [
              0.77399205,
              0.6736475019
             ],
             "passed_time": 0.014780795,
             "remaining_time": 7.375616707,
             "test": [
              0.7829545455,
              0.6725789422
             ]
            },
            {
             "iteration": 1,
             "learn": [
              0.7663259512,
              0.6598599705
             ],
             "passed_time": 0.01982862753,
             "remaining_time": 4.937328254,
             "test": [
              0.7625,
              0.6580103354
             ]
            },
            {
             "iteration": 2,
             "learn": [
              0.7859170926,
              0.6425861657
             ],
             "passed_time": 0.03299128817,
             "remaining_time": 5.465556739,
             "test": [
              0.7806818182,
              0.640073079
             ]
            },
            {
             "iteration": 3,
             "learn": [
              0.7862010221,
              0.628424136
             ],
             "passed_time": 0.04062341041,
             "remaining_time": 5.037302891,
             "test": [
              0.7806818182,
              0.6250493975
             ]
            },
            {
             "iteration": 4,
             "learn": [
              0.7915956843,
              0.6131363017
             ],
             "passed_time": 0.05554058261,
             "remaining_time": 5.498517678,
             "test": [
              0.7897727273,
              0.6090319227
             ]
            },
            {
             "iteration": 5,
             "learn": [
              0.7969903464,
              0.5997758708
             ],
             "passed_time": 0.06812463217,
             "remaining_time": 5.608928049,
             "test": [
              0.7954545455,
              0.5950767018
             ]
            },
            {
             "iteration": 6,
             "learn": [
              0.7986939239,
              0.5880864552
             ],
             "passed_time": 0.08079323921,
             "remaining_time": 5.690152419,
             "test": [
              0.7960227273,
              0.5825118471
             ]
            },
            {
             "iteration": 7,
             "learn": [
              0.7978421352,
              0.5777907784
             ],
             "passed_time": 0.09386417721,
             "remaining_time": 5.772646898,
             "test": [
              0.7971590909,
              0.571811407
             ]
            },
            {
             "iteration": 8,
             "learn": [
              0.7975582056,
              0.5686502053
             ],
             "passed_time": 0.1069831005,
             "remaining_time": 5.836522485,
             "test": [
              0.7977272727,
              0.5622525069
             ]
            },
            {
             "iteration": 9,
             "learn": [
              0.7969903464,
              0.5582529949
             ],
             "passed_time": 0.1200021288,
             "remaining_time": 5.880104312,
             "test": [
              0.7977272727,
              0.5513809395
             ]
            },
            {
             "iteration": 10,
             "learn": [
              0.7978421352,
              0.5485558649
             ],
             "passed_time": 0.1326100565,
             "remaining_time": 5.895119784,
             "test": [
              0.7988636364,
              0.5412329149
             ]
            },
            {
             "iteration": 11,
             "learn": [
              0.7989778535,
              0.5402700729
             ],
             "passed_time": 0.1442723771,
             "remaining_time": 5.867076668,
             "test": [
              0.7965909091,
              0.5325818891
             ]
            },
            {
             "iteration": 12,
             "learn": [
              0.8003975014,
              0.5320958894
             ],
             "passed_time": 0.1567767744,
             "remaining_time": 5.873099165,
             "test": [
              0.7994318182,
              0.5243886969
             ]
            },
            {
             "iteration": 13,
             "learn": [
              0.800681431,
              0.5250839994
             ],
             "passed_time": 0.1706743425,
             "remaining_time": 5.924837891,
             "test": [
              0.7982954545,
              0.5171118413
             ]
            },
            {
             "iteration": 14,
             "learn": [
              0.8012492902,
              0.5176375013
             ],
             "passed_time": 0.1817903762,
             "remaining_time": 5.87788883,
             "test": [
              0.8,
              0.5099770341
             ]
            },
            {
             "iteration": 15,
             "learn": [
              0.8021010789,
              0.510751535
             ],
             "passed_time": 0.1954707395,
             "remaining_time": 5.912989869,
             "test": [
              0.7982954545,
              0.5034448359
             ]
            },
            {
             "iteration": 16,
             "learn": [
              0.8021010789,
              0.5037459926
             ],
             "passed_time": 0.2086139073,
             "remaining_time": 5.927089247,
             "test": [
              0.7988636364,
              0.4964816322
             ]
            },
            {
             "iteration": 17,
             "learn": [
              0.8052243044,
              0.4984315848
             ],
             "passed_time": 0.2219110424,
             "remaining_time": 5.942284581,
             "test": [
              0.7977272727,
              0.4913998496
             ]
            },
            {
             "iteration": 18,
             "learn": [
              0.804088586,
              0.4936236249
             ],
             "passed_time": 0.2322847517,
             "remaining_time": 5.880471871,
             "test": [
              0.7994318182,
              0.486875112
             ]
            },
            {
             "iteration": 19,
             "learn": [
              0.8060760931,
              0.4899074406
             ],
             "passed_time": 0.2438079333,
             "remaining_time": 5.8513904,
             "test": [
              0.8,
              0.4833288862
             ]
            },
            {
             "iteration": 20,
             "learn": [
              0.8052243044,
              0.4849783385
             ],
             "passed_time": 0.2552040629,
             "remaining_time": 5.821083149,
             "test": [
              0.8017045455,
              0.4783157753
             ]
            },
            {
             "iteration": 21,
             "learn": [
              0.8038046564,
              0.4827966428
             ],
             "passed_time": 0.2614153001,
             "remaining_time": 5.67984152,
             "test": [
              0.8005681818,
              0.4763152638
             ]
            },
            {
             "iteration": 22,
             "learn": [
              0.8052243044,
              0.47849964
             ],
             "passed_time": 0.2767158476,
             "remaining_time": 5.738846057,
             "test": [
              0.7994318182,
              0.4720673904
             ]
            },
            {
             "iteration": 23,
             "learn": [
              0.8066439523,
              0.4745757668
             ],
             "passed_time": 0.2909621325,
             "remaining_time": 5.770748961,
             "test": [
              0.8,
              0.4682587851
             ]
            },
            {
             "iteration": 24,
             "learn": [
              0.805508234,
              0.4704998344
             ],
             "passed_time": 0.3030092047,
             "remaining_time": 5.75717489,
             "test": [
              0.8,
              0.4645540504
             ]
            },
            {
             "iteration": 25,
             "learn": [
              0.8043725156,
              0.4680891597
             ],
             "passed_time": 0.3112975195,
             "remaining_time": 5.675193239,
             "test": [
              0.7994318182,
              0.4622537768
             ]
            },
            {
             "iteration": 26,
             "learn": [
              0.805508234,
              0.4645860018
             ],
             "passed_time": 0.3261141212,
             "remaining_time": 5.713036271,
             "test": [
              0.8,
              0.458752036
             ]
            },
            {
             "iteration": 27,
             "learn": [
              0.8052243044,
              0.4615760563
             ],
             "passed_time": 0.3397905192,
             "remaining_time": 5.727897323,
             "test": [
              0.8005681818,
              0.4559430763
             ]
            },
            {
             "iteration": 28,
             "learn": [
              0.8052243044,
              0.4588266477
             ],
             "passed_time": 0.352300759,
             "remaining_time": 5.721850258,
             "test": [
              0.8017045455,
              0.4532367272
             ]
            },
            {
             "iteration": 29,
             "learn": [
              0.8046564452,
              0.4559282137
             ],
             "passed_time": 0.3673068176,
             "remaining_time": 5.754473476,
             "test": [
              0.8011363636,
              0.4504453218
             ]
            },
            {
             "iteration": 30,
             "learn": [
              0.8057921635,
              0.4532817285
             ],
             "passed_time": 0.3805169754,
             "remaining_time": 5.756853596,
             "test": [
              0.8017045455,
              0.4479336982
             ]
            },
            {
             "iteration": 31,
             "learn": [
              0.8057921635,
              0.4505097359
             ],
             "passed_time": 0.3948405308,
             "remaining_time": 5.774542763,
             "test": [
              0.8028409091,
              0.4455631725
             ]
            },
            {
             "iteration": 32,
             "learn": [
              0.8046564452,
              0.4484426533
             ],
             "passed_time": 0.4046163142,
             "remaining_time": 5.725933902,
             "test": [
              0.8045454545,
              0.4433535408
             ]
            },
            {
             "iteration": 33,
             "learn": [
              0.8032367973,
              0.4464515089
             ],
             "passed_time": 0.4154121972,
             "remaining_time": 5.693590703,
             "test": [
              0.8045454545,
              0.4414699452
             ]
            },
            {
             "iteration": 34,
             "learn": [
              0.804088586,
              0.4444859492
             ],
             "passed_time": 0.4268004308,
             "remaining_time": 5.67034858,
             "test": [
              0.8051136364,
              0.4395519221
             ]
            },
            {
             "iteration": 35,
             "learn": [
              0.8038046564,
              0.442280064
             ],
             "passed_time": 0.4392158781,
             "remaining_time": 5.661004651,
             "test": [
              0.8034090909,
              0.4373914366
             ]
            },
            {
             "iteration": 36,
             "learn": [
              0.8038046564,
              0.4405709428
             ],
             "passed_time": 0.4538470846,
             "remaining_time": 5.679221626,
             "test": [
              0.8045454545,
              0.4356830402
             ]
            },
            {
             "iteration": 37,
             "learn": [
              0.8032367973,
              0.4392307051
             ],
             "passed_time": 0.4654036713,
             "remaining_time": 5.658328846,
             "test": [
              0.8051136364,
              0.4342320548
             ]
            },
            {
             "iteration": 38,
             "learn": [
              0.8049403748,
              0.437370701
             ],
             "passed_time": 0.4788763085,
             "remaining_time": 5.660563544,
             "test": [
              0.8056818182,
              0.432935277
             ]
            },
            {
             "iteration": 39,
             "learn": [
              0.8060760931,
              0.4356739497
             ],
             "passed_time": 0.4927943312,
             "remaining_time": 5.667134809,
             "test": [
              0.8051136364,
              0.4315230994
             ]
            },
            {
             "iteration": 40,
             "learn": [
              0.8066439523,
              0.4342929393
             ],
             "passed_time": 0.5040572143,
             "remaining_time": 5.642981985,
             "test": [
              0.8045454545,
              0.4302454367
             ]
            },
            {
             "iteration": 41,
             "learn": [
              0.8077796706,
              0.4333263762
             ],
             "passed_time": 0.5141448788,
             "remaining_time": 5.606627488,
             "test": [
              0.8045454545,
              0.4290589124
             ]
            },
            {
             "iteration": 42,
             "learn": [
              0.8069278819,
              0.4323722495
             ],
             "passed_time": 0.5205557997,
             "remaining_time": 5.532418615,
             "test": [
              0.8051136364,
              0.4281404527
             ]
            },
            {
             "iteration": 43,
             "learn": [
              0.8069278819,
              0.4316306878
             ],
             "passed_time": 0.5264938134,
             "remaining_time": 5.456390429,
             "test": [
              0.8051136364,
              0.4273206047
             ]
            },
            {
             "iteration": 44,
             "learn": [
              0.8083475298,
              0.4306146896
             ],
             "passed_time": 0.5381104485,
             "remaining_time": 5.440894535,
             "test": [
              0.8051136364,
              0.4263397736
             ]
            },
            {
             "iteration": 45,
             "learn": [
              0.808915389,
              0.4291960888
             ],
             "passed_time": 0.5521993998,
             "remaining_time": 5.449967989,
             "test": [
              0.80625,
              0.4252054423
             ]
            },
            {
             "iteration": 46,
             "learn": [
              0.8077796706,
              0.4281643222
             ],
             "passed_time": 0.5640601087,
             "remaining_time": 5.436579345,
             "test": [
              0.80625,
              0.424280287
             ]
            },
            {
             "iteration": 47,
             "learn": [
              0.8072118115,
              0.4273276529
             ],
             "passed_time": 0.5750092609,
             "remaining_time": 5.41467054,
             "test": [
              0.80625,
              0.4234880207
             ]
            },
            {
             "iteration": 48,
             "learn": [
              0.8077796706,
              0.4268982748
             ],
             "passed_time": 0.5808852371,
             "remaining_time": 5.346515142,
             "test": [
              0.80625,
              0.4230696944
             ]
            },
            {
             "iteration": 49,
             "learn": [
              0.8074957411,
              0.4258330243
             ],
             "passed_time": 0.5944571312,
             "remaining_time": 5.35011418,
             "test": [
              0.8056818182,
              0.4221016632
             ]
            },
            {
             "iteration": 50,
             "learn": [
              0.8080636002,
              0.4246225571
             ],
             "passed_time": 0.606015686,
             "remaining_time": 5.335314569,
             "test": [
              0.80625,
              0.4211217011
             ]
            },
            {
             "iteration": 51,
             "learn": [
              0.808915389,
              0.4235847123
             ],
             "passed_time": 0.620574889,
             "remaining_time": 5.346491352,
             "test": [
              0.80625,
              0.4201544777
             ]
            },
            {
             "iteration": 52,
             "learn": [
              0.8100511073,
              0.4226502449
             ],
             "passed_time": 0.6338866573,
             "remaining_time": 5.346176147,
             "test": [
              0.8045454545,
              0.4194182086
             ]
            },
            {
             "iteration": 53,
             "learn": [
              0.8103350369,
              0.4219245083
             ],
             "passed_time": 0.6480067373,
             "remaining_time": 5.352055645,
             "test": [
              0.8045454545,
              0.4186731011
             ]
            },
            {
             "iteration": 54,
             "learn": [
              0.8106189665,
              0.4210879664
             ],
             "passed_time": 0.660433545,
             "remaining_time": 5.343507773,
             "test": [
              0.8034090909,
              0.418035314
             ]
            },
            {
             "iteration": 55,
             "learn": [
              0.8103350369,
              0.4201424759
             ],
             "passed_time": 0.675026174,
             "remaining_time": 5.351993237,
             "test": [
              0.8045454545,
              0.4171899015
             ]
            },
            {
             "iteration": 56,
             "learn": [
              0.8117546848,
              0.4195915865
             ],
             "passed_time": 0.687345707,
             "remaining_time": 5.3420026,
             "test": [
              0.8045454545,
              0.4167983278
             ]
            },
            {
             "iteration": 57,
             "learn": [
              0.8117546848,
              0.4189260585
             ],
             "passed_time": 0.7019338971,
             "remaining_time": 5.349220388,
             "test": [
              0.8045454545,
              0.416517192
             ]
            },
            {
             "iteration": 58,
             "learn": [
              0.8114707553,
              0.4183758548
             ],
             "passed_time": 0.7149166878,
             "remaining_time": 5.34369931,
             "test": [
              0.8039772727,
              0.4158942937
             ]
            },
            {
             "iteration": 59,
             "learn": [
              0.8120386144,
              0.4174654292
             ],
             "passed_time": 0.7279622032,
             "remaining_time": 5.33838949,
             "test": [
              0.8034090909,
              0.4152738293
             ]
            },
            {
             "iteration": 60,
             "learn": [
              0.8128904032,
              0.416630687
             ],
             "passed_time": 0.7405623803,
             "remaining_time": 5.329621065,
             "test": [
              0.8039772727,
              0.4146633166
             ]
            },
            {
             "iteration": 61,
             "learn": [
              0.8137421919,
              0.4157872919
             ],
             "passed_time": 0.7550551388,
             "remaining_time": 5.334099206,
             "test": [
              0.8045454545,
              0.4141285146
             ]
            },
            {
             "iteration": 62,
             "learn": [
              0.8131743328,
              0.4154636294
             ],
             "passed_time": 0.7603119446,
             "remaining_time": 5.273909838,
             "test": [
              0.8039772727,
              0.4138014629
             ]
            },
            {
             "iteration": 63,
             "learn": [
              0.8137421919,
              0.4147630693
             ],
             "passed_time": 0.7725418977,
             "remaining_time": 5.262941678,
             "test": [
              0.8056818182,
              0.4132014067
             ]
            },
            {
             "iteration": 64,
             "learn": [
              0.8137421919,
              0.4136668344
             ],
             "passed_time": 0.7838300325,
             "remaining_time": 5.245631756,
             "test": [
              0.80625,
              0.4124469953
             ]
            },
            {
             "iteration": 65,
             "learn": [
              0.8143100511,
              0.4131840791
             ],
             "passed_time": 0.7952393706,
             "remaining_time": 5.229301316,
             "test": [
              0.8056818182,
              0.4121132201
             ]
            },
            {
             "iteration": 66,
             "learn": [
              0.8151618399,
              0.4131523013
             ],
             "passed_time": 0.7976536527,
             "remaining_time": 5.154985547,
             "test": [
              0.8056818182,
              0.4120877096
             ]
            },
            {
             "iteration": 67,
             "learn": [
              0.8154457694,
              0.4124344147
             ],
             "passed_time": 0.809115286,
             "remaining_time": 5.140261817,
             "test": [
              0.8085227273,
              0.4115580083
             ]
            },
            {
             "iteration": 68,
             "learn": [
              0.8145939807,
              0.411771436
             ],
             "passed_time": 0.8158683502,
             "remaining_time": 5.096221144,
             "test": [
              0.8079545455,
              0.4111492084
             ]
            },
            {
             "iteration": 69,
             "learn": [
              0.815729699,
              0.4112561368
             ],
             "passed_time": 0.825515458,
             "remaining_time": 5.071023528,
             "test": [
              0.8079545455,
              0.4106514069
             ]
            },
            {
             "iteration": 70,
             "learn": [
              0.815729699,
              0.4108435044
             ],
             "passed_time": 0.8368607597,
             "remaining_time": 5.056524872,
             "test": [
              0.8073863636,
              0.4102868489
             ]
            },
            {
             "iteration": 71,
             "learn": [
              0.8151618399,
              0.4103926247
             ],
             "passed_time": 0.8477380166,
             "remaining_time": 5.039331543,
             "test": [
              0.8079545455,
              0.409913066
             ]
            },
            {
             "iteration": 72,
             "learn": [
              0.8154457694,
              0.4099207899
             ],
             "passed_time": 0.8576981844,
             "remaining_time": 5.016946914,
             "test": [
              0.8079545455,
              0.4096346563
             ]
            },
            {
             "iteration": 73,
             "learn": [
              0.8151618399,
              0.4090673714
             ],
             "passed_time": 0.8690175353,
             "remaining_time": 5.002722568,
             "test": [
              0.8079545455,
              0.4090666739
             ]
            },
            {
             "iteration": 74,
             "learn": [
              0.8154457694,
              0.4084853073
             ],
             "passed_time": 0.8802178455,
             "remaining_time": 4.987901125,
             "test": [
              0.8102272727,
              0.408685299
             ]
            },
            {
             "iteration": 75,
             "learn": [
              0.8154457694,
              0.4081908713
             ],
             "passed_time": 0.8891485015,
             "remaining_time": 4.960512692,
             "test": [
              0.8102272727,
              0.4084597924
             ]
            },
            {
             "iteration": 76,
             "learn": [
              0.8165814878,
              0.407169913
             ],
             "passed_time": 0.8995099976,
             "remaining_time": 4.941464013,
             "test": [
              0.8107954545,
              0.4081852693
             ]
            },
            {
             "iteration": 77,
             "learn": [
              0.8162975582,
              0.4067625242
             ],
             "passed_time": 0.9101528086,
             "remaining_time": 4.924160067,
             "test": [
              0.8085227273,
              0.4076668547
             ]
            },
            {
             "iteration": 78,
             "learn": [
              0.817149347,
              0.4061341141
             ],
             "passed_time": 0.9462833049,
             "remaining_time": 5.042851536,
             "test": [
              0.8090909091,
              0.4075109938
             ]
            },
            {
             "iteration": 79,
             "learn": [
              0.817149347,
              0.4057348321
             ],
             "passed_time": 0.9547647781,
             "remaining_time": 5.012515085,
             "test": [
              0.8102272727,
              0.4071936413
             ]
            },
            {
             "iteration": 80,
             "learn": [
              0.8165814878,
              0.4051791541
             ],
             "passed_time": 0.9649457897,
             "remaining_time": 4.991509702,
             "test": [
              0.8085227273,
              0.406956624
             ]
            },
            {
             "iteration": 81,
             "learn": [
              0.8168654174,
              0.4045955193
             ],
             "passed_time": 0.9770504742,
             "remaining_time": 4.980574368,
             "test": [
              0.8090909091,
              0.4066944961
             ]
            },
            {
             "iteration": 82,
             "learn": [
              0.8174332765,
              0.4040233532
             ],
             "passed_time": 0.9880772033,
             "remaining_time": 4.964195106,
             "test": [
              0.8090909091,
              0.406302116
             ]
            },
            {
             "iteration": 83,
             "learn": [
              0.8165814878,
              0.4039310638
             ],
             "passed_time": 0.992739605,
             "remaining_time": 4.916424711,
             "test": [
              0.8085227273,
              0.4061986316
             ]
            },
            {
             "iteration": 84,
             "learn": [
              0.8182850653,
              0.403307066
             ],
             "passed_time": 1.004203468,
             "remaining_time": 4.902875757,
             "test": [
              0.8090909091,
              0.4058801159
             ]
            },
            {
             "iteration": 85,
             "learn": [
              0.8182850653,
              0.4028644005
             ],
             "passed_time": 1.016728905,
             "remaining_time": 4.894485658,
             "test": [
              0.8090909091,
              0.4056381607
             ]
            },
            {
             "iteration": 86,
             "learn": [
              0.8185689949,
              0.402199584
             ],
             "passed_time": 1.02708993,
             "remaining_time": 4.875725759,
             "test": [
              0.8090909091,
              0.405577365
             ]
            },
            {
             "iteration": 87,
             "learn": [
              0.8182850653,
              0.4019364573
             ],
             "passed_time": 1.037818875,
             "remaining_time": 4.858879277,
             "test": [
              0.8090909091,
              0.4054722869
             ]
            },
            {
             "iteration": 88,
             "learn": [
              0.8194207836,
              0.4012857145
             ],
             "passed_time": 1.049411083,
             "remaining_time": 4.846156798,
             "test": [
              0.8090909091,
              0.4053178093
             ]
            },
            {
             "iteration": 89,
             "learn": [
              0.8191368541,
              0.401203958
             ],
             "passed_time": 1.053420511,
             "remaining_time": 4.798915661,
             "test": [
              0.8096590909,
              0.4052250373
             ]
            },
            {
             "iteration": 90,
             "learn": [
              0.8182850653,
              0.4007826917
             ],
             "passed_time": 1.062748814,
             "remaining_time": 4.776530386,
             "test": [
              0.8090909091,
              0.4050206504
             ]
            },
            {
             "iteration": 91,
             "learn": [
              0.8188529245,
              0.4004733672
             ],
             "passed_time": 1.074469763,
             "remaining_time": 4.765039817,
             "test": [
              0.8090909091,
              0.4048611608
             ]
            },
            {
             "iteration": 92,
             "learn": [
              0.8197047132,
              0.4002014316
             ],
             "passed_time": 1.082846906,
             "remaining_time": 4.738910651,
             "test": [
              0.8073863636,
              0.4047064071
             ]
            },
            {
             "iteration": 93,
             "learn": [
              0.8197047132,
              0.3996640365
             ],
             "passed_time": 1.09319313,
             "remaining_time": 4.721663942,
             "test": [
              0.8068181818,
              0.4045764796
             ]
            },
            {
             "iteration": 94,
             "learn": [
              0.8194207836,
              0.3996161592
             ],
             "passed_time": 1.097202127,
             "remaining_time": 4.677545909,
             "test": [
              0.80625,
              0.4045176514
             ]
            },
            {
             "iteration": 95,
             "learn": [
              0.8199886428,
              0.3989877552
             ],
             "passed_time": 1.108511224,
             "remaining_time": 4.664984733,
             "test": [
              0.80625,
              0.4043343254
             ]
            },
            {
             "iteration": 96,
             "learn": [
              0.8202725724,
              0.3986568344
             ],
             "passed_time": 1.119487887,
             "remaining_time": 4.65106823,
             "test": [
              0.8079545455,
              0.4041314445
             ]
            },
            {
             "iteration": 97,
             "learn": [
              0.8199886428,
              0.3983716652
             ],
             "passed_time": 1.131081324,
             "remaining_time": 4.639741756,
             "test": [
              0.8079545455,
              0.4040363523
             ]
            },
            {
             "iteration": 98,
             "learn": [
              0.8202725724,
              0.3979091192
             ],
             "passed_time": 1.142136686,
             "remaining_time": 4.626230415,
             "test": [
              0.8079545455,
              0.4038410823
             ]
            },
            {
             "iteration": 99,
             "learn": [
              0.8202725724,
              0.3977949232
             ],
             "passed_time": 1.150918603,
             "remaining_time": 4.60367441,
             "test": [
              0.8079545455,
              0.4038154639
             ]
            },
            {
             "iteration": 100,
             "learn": [
              0.8202725724,
              0.3975425142
             ],
             "passed_time": 1.161922622,
             "remaining_time": 4.590169565,
             "test": [
              0.8085227273,
              0.4036269999
             ]
            },
            {
             "iteration": 101,
             "learn": [
              0.8202725724,
              0.3971565468
             ],
             "passed_time": 1.172249906,
             "remaining_time": 4.574073164,
             "test": [
              0.8090909091,
              0.403434331
             ]
            },
            {
             "iteration": 102,
             "learn": [
              0.8202725724,
              0.3970273688
             ],
             "passed_time": 1.181865121,
             "remaining_time": 4.555344204,
             "test": [
              0.8090909091,
              0.403310211
             ]
            },
            {
             "iteration": 103,
             "learn": [
              0.8211243612,
              0.3968396719
             ],
             "passed_time": 1.192708481,
             "remaining_time": 4.541466909,
             "test": [
              0.8090909091,
              0.4033138507
             ]
            },
            {
             "iteration": 104,
             "learn": [
              0.8208404316,
              0.3967644411
             ],
             "passed_time": 1.203138261,
             "remaining_time": 4.526091553,
             "test": [
              0.8085227273,
              0.4032554931
             ]
            },
            {
             "iteration": 105,
             "learn": [
              0.8208404316,
              0.3964305095
             ],
             "passed_time": 1.214403643,
             "remaining_time": 4.513915428,
             "test": [
              0.8085227273,
              0.403171248
             ]
            },
            {
             "iteration": 106,
             "learn": [
              0.8211243612,
              0.3961360996
             ],
             "passed_time": 1.22664785,
             "remaining_time": 4.505351449,
             "test": [
              0.8085227273,
              0.4030168525
             ]
            },
            {
             "iteration": 107,
             "learn": [
              0.8199886428,
              0.3956416572
             ],
             "passed_time": 1.238868628,
             "remaining_time": 4.496634279,
             "test": [
              0.8090909091,
              0.4028349868
             ]
            },
            {
             "iteration": 108,
             "learn": [
              0.8202725724,
              0.3953227921
             ],
             "passed_time": 1.249783567,
             "remaining_time": 4.483168575,
             "test": [
              0.8090909091,
              0.4027648877
             ]
            },
            {
             "iteration": 109,
             "learn": [
              0.8202725724,
              0.3950775982
             ],
             "passed_time": 1.26141321,
             "remaining_time": 4.472283198,
             "test": [
              0.8090909091,
              0.40263188
             ]
            },
            {
             "iteration": 110,
             "learn": [
              0.820556502,
              0.395015992
             ],
             "passed_time": 1.272605786,
             "remaining_time": 4.459852709,
             "test": [
              0.8102272727,
              0.4025485805
             ]
            },
            {
             "iteration": 111,
             "learn": [
              0.8202725724,
              0.3945320856
             ],
             "passed_time": 1.283593378,
             "remaining_time": 4.446734203,
             "test": [
              0.8096590909,
              0.402540962
             ]
            },
            {
             "iteration": 112,
             "learn": [
              0.820556502,
              0.3943233481
             ],
             "passed_time": 1.295107769,
             "remaining_time": 4.435457582,
             "test": [
              0.8096590909,
              0.4024780463
             ]
            },
            {
             "iteration": 113,
             "learn": [
              0.820556502,
              0.3942015055
             ],
             "passed_time": 1.303938787,
             "remaining_time": 4.415090979,
             "test": [
              0.8102272727,
              0.4024166237
             ]
            },
            {
             "iteration": 114,
             "learn": [
              0.8211243612,
              0.393952376
             ],
             "passed_time": 1.31431136,
             "remaining_time": 4.400085856,
             "test": [
              0.8107954545,
              0.4023394522
             ]
            },
            {
             "iteration": 115,
             "learn": [
              0.820556502,
              0.393625122
             ],
             "passed_time": 1.325303847,
             "remaining_time": 4.387212736,
             "test": [
              0.8113636364,
              0.4021293329
             ]
            },
            {
             "iteration": 116,
             "learn": [
              0.8214082907,
              0.3932378489
             ],
             "passed_time": 1.33555622,
             "remaining_time": 4.371948993,
             "test": [
              0.8113636364,
              0.4020030393
             ]
            },
            {
             "iteration": 117,
             "learn": [
              0.8214082907,
              0.3931462515
             ],
             "passed_time": 1.346116503,
             "remaining_time": 4.357766985,
             "test": [
              0.8113636364,
              0.4019431043
             ]
            },
            {
             "iteration": 118,
             "learn": [
              0.8216922203,
              0.3930033147
             ],
             "passed_time": 1.35611787,
             "remaining_time": 4.341856374,
             "test": [
              0.8107954545,
              0.4017915381
             ]
            },
            {
             "iteration": 119,
             "learn": [
              0.8222600795,
              0.3926378642
             ],
             "passed_time": 1.367436719,
             "remaining_time": 4.330216278,
             "test": [
              0.8107954545,
              0.4017750011
             ]
            },
            {
             "iteration": 120,
             "learn": [
              0.8225440091,
              0.392279318
             ],
             "passed_time": 1.379484839,
             "remaining_time": 4.320865735,
             "test": [
              0.8113636364,
              0.4016814928
             ]
            },
            {
             "iteration": 121,
             "learn": [
              0.8222600795,
              0.3919814084
             ],
             "passed_time": 1.391086153,
             "remaining_time": 4.310086604,
             "test": [
              0.8119318182,
              0.4015754729
             ]
            },
            {
             "iteration": 122,
             "learn": [
              0.8219761499,
              0.3919170233
             ],
             "passed_time": 1.401507518,
             "remaining_time": 4.295677515,
             "test": [
              0.8107954545,
              0.4015498975
             ]
            },
            {
             "iteration": 123,
             "learn": [
              0.8214082907,
              0.3917133355
             ],
             "passed_time": 1.412709602,
             "remaining_time": 4.283700083,
             "test": [
              0.8096590909,
              0.4014977248
             ]
            },
            {
             "iteration": 124,
             "learn": [
              0.8219761499,
              0.391614246
             ],
             "passed_time": 1.423463174,
             "remaining_time": 4.270389522,
             "test": [
              0.8096590909,
              0.4015240467
             ]
            },
            {
             "iteration": 125,
             "learn": [
              0.8219761499,
              0.3916140362
             ],
             "passed_time": 1.427545834,
             "remaining_time": 4.237318586,
             "test": [
              0.8096590909,
              0.4015241668
             ]
            },
            {
             "iteration": 126,
             "learn": [
              0.8233957978,
              0.3913514584
             ],
             "passed_time": 1.440007668,
             "remaining_time": 4.229313861,
             "test": [
              0.8096590909,
              0.4014205778
             ]
            },
            {
             "iteration": 127,
             "learn": [
              0.8233957978,
              0.3913513372
             ],
             "passed_time": 1.444216227,
             "remaining_time": 4.197253409,
             "test": [
              0.8096590909,
              0.4014206684
             ]
            },
            {
             "iteration": 128,
             "learn": [
              0.8225440091,
              0.3912045693
             ],
             "passed_time": 1.454467444,
             "remaining_time": 4.183003268,
             "test": [
              0.8096590909,
              0.4013943644
             ]
            },
            {
             "iteration": 129,
             "learn": [
              0.8216922203,
              0.3910490632
             ],
             "passed_time": 1.466366826,
             "remaining_time": 4.17350558,
             "test": [
              0.8102272727,
              0.40137092
             ]
            },
            {
             "iteration": 130,
             "learn": [
              0.8219761499,
              0.3909033799
             ],
             "passed_time": 1.478649593,
             "remaining_time": 4.165051143,
             "test": [
              0.8085227273,
              0.4012962179
             ]
            },
            {
             "iteration": 131,
             "learn": [
              0.8219761499,
              0.3908007067
             ],
             "passed_time": 1.488238731,
             "remaining_time": 4.14902919,
             "test": [
              0.8085227273,
              0.4012441881
             ]
            },
            {
             "iteration": 132,
             "learn": [
              0.8214082907,
              0.3903138298
             ],
             "passed_time": 1.499510648,
             "remaining_time": 4.137747428,
             "test": [
              0.8090909091,
              0.4013023876
             ]
            },
            {
             "iteration": 133,
             "learn": [
              0.8219761499,
              0.3900631063
             ],
             "passed_time": 1.511466912,
             "remaining_time": 4.128334997,
             "test": [
              0.8090909091,
              0.401256391
             ]
            },
            {
             "iteration": 134,
             "learn": [
              0.8222600795,
              0.3898845973
             ],
             "passed_time": 1.522659949,
             "remaining_time": 4.116821342,
             "test": [
              0.8090909091,
              0.4011779443
             ]
            },
            {
             "iteration": 135,
             "learn": [
              0.8225440091,
              0.389775606
             ],
             "passed_time": 1.533185446,
             "remaining_time": 4.103525753,
             "test": [
              0.8090909091,
              0.4010872818
             ]
            },
            {
             "iteration": 136,
             "learn": [
              0.8228279387,
              0.389540613
             ],
             "passed_time": 1.543809492,
             "remaining_time": 4.090531718,
             "test": [
              0.8090909091,
              0.400982222
             ]
            },
            {
             "iteration": 137,
             "learn": [
              0.8233957978,
              0.3892226691
             ],
             "passed_time": 1.556008049,
             "remaining_time": 4.081702275,
             "test": [
              0.8090909091,
              0.4008465723
             ]
            },
            {
             "iteration": 138,
             "learn": [
              0.823963657,
              0.3889741493
             ],
             "passed_time": 1.566594397,
             "remaining_time": 4.068637248,
             "test": [
              0.8096590909,
              0.4007180665
             ]
            },
            {
             "iteration": 139,
             "learn": [
              0.823963657,
              0.3889500643
             ],
             "passed_time": 1.570603676,
             "remaining_time": 4.038695166,
             "test": [
              0.8096590909,
              0.4006945872
             ]
            },
            {
             "iteration": 140,
             "learn": [
              0.8231118683,
              0.3888872972
             ],
             "passed_time": 1.576170765,
             "remaining_time": 4.013087268,
             "test": [
              0.8096590909,
              0.4006621662
             ]
            },
            {
             "iteration": 141,
             "learn": [
              0.8236797274,
              0.3883222107
             ],
             "passed_time": 1.58755471,
             "remaining_time": 4.002426663,
             "test": [
              0.8102272727,
              0.4005905189
             ]
            },
            {
             "iteration": 142,
             "learn": [
              0.8248154458,
              0.3881237004
             ],
             "passed_time": 1.598942541,
             "remaining_time": 3.991765644,
             "test": [
              0.8113636364,
              0.4004898909
             ]
            },
            {
             "iteration": 143,
             "learn": [
              0.8248154458,
              0.3878236618
             ],
             "passed_time": 1.611464245,
             "remaining_time": 3.983897716,
             "test": [
              0.8113636364,
              0.400415026
             ]
            },
            {
             "iteration": 144,
             "learn": [
              0.8248154458,
              0.3873326266
             ],
             "passed_time": 1.622623784,
             "remaining_time": 3.972630643,
             "test": [
              0.8119318182,
              0.4004203481
             ]
            },
            {
             "iteration": 145,
             "learn": [
              0.8245315162,
              0.3872208408
             ],
             "passed_time": 1.632395747,
             "remaining_time": 3.958000648,
             "test": [
              0.8113636364,
              0.4004107254
             ]
            },
            {
             "iteration": 146,
             "learn": [
              0.8245315162,
              0.3868183701
             ],
             "passed_time": 1.644550138,
             "remaining_time": 3.949157814,
             "test": [
              0.8119318182,
              0.4004063084
             ]
            },
            {
             "iteration": 147,
             "learn": [
              0.8236797274,
              0.38665547
             ],
             "passed_time": 1.656174295,
             "remaining_time": 3.939009133,
             "test": [
              0.8125,
              0.4002748086
             ]
            },
            {
             "iteration": 148,
             "learn": [
              0.8236797274,
              0.3864912316
             ],
             "passed_time": 1.667913491,
             "remaining_time": 3.929111647,
             "test": [
              0.8125,
              0.400259729
             ]
            },
            {
             "iteration": 149,
             "learn": [
              0.823963657,
              0.3862175488
             ],
             "passed_time": 1.679918687,
             "remaining_time": 3.91981027,
             "test": [
              0.8119318182,
              0.4002035871
             ]
            },
            {
             "iteration": 150,
             "learn": [
              0.8233957978,
              0.3861192896
             ],
             "passed_time": 1.689837057,
             "remaining_time": 3.905649886,
             "test": [
              0.8125,
              0.4001765149
             ]
            },
            {
             "iteration": 151,
             "learn": [
              0.8228279387,
              0.3860301767
             ],
             "passed_time": 1.701228285,
             "remaining_time": 3.89491739,
             "test": [
              0.8125,
              0.4001446433
             ]
            },
            {
             "iteration": 152,
             "learn": [
              0.8228279387,
              0.3859153866
             ],
             "passed_time": 1.712531809,
             "remaining_time": 3.88397737,
             "test": [
              0.8119318182,
              0.400129627
             ]
            },
            {
             "iteration": 153,
             "learn": [
              0.8228279387,
              0.3858836566
             ],
             "passed_time": 1.719639063,
             "remaining_time": 3.863604648,
             "test": [
              0.8125,
              0.4000927215
             ]
            },
            {
             "iteration": 154,
             "learn": [
              0.8228279387,
              0.3858633643
             ],
             "passed_time": 1.729703686,
             "remaining_time": 3.849985623,
             "test": [
              0.8125,
              0.4000925292
             ]
            },
            {
             "iteration": 155,
             "learn": [
              0.823963657,
              0.3853918058
             ],
             "passed_time": 1.741568601,
             "remaining_time": 3.840382043,
             "test": [
              0.8113636364,
              0.4000716236
             ]
            },
            {
             "iteration": 156,
             "learn": [
              0.8242475866,
              0.3853710442
             ],
             "passed_time": 1.749728056,
             "remaining_time": 3.822654289,
             "test": [
              0.8119318182,
              0.4000754312
             ]
            },
            {
             "iteration": 157,
             "learn": [
              0.8236797274,
              0.3852233355
             ],
             "passed_time": 1.760513266,
             "remaining_time": 3.810731247,
             "test": [
              0.8119318182,
              0.4000404403
             ]
            },
            {
             "iteration": 158,
             "learn": [
              0.8236797274,
              0.3851841265
             ],
             "passed_time": 1.766095319,
             "remaining_time": 3.787663545,
             "test": [
              0.8119318182,
              0.4000407465
             ]
            },
            {
             "iteration": 159,
             "learn": [
              0.8233957978,
              0.3850628027
             ],
             "passed_time": 1.77680181,
             "remaining_time": 3.775703846,
             "test": [
              0.8119318182,
              0.4000137941
             ]
            },
            {
             "iteration": 160,
             "learn": [
              0.8242475866,
              0.3848355717
             ],
             "passed_time": 1.788200457,
             "remaining_time": 3.765217111,
             "test": [
              0.8119318182,
              0.3999706663
             ]
            },
            {
             "iteration": 161,
             "learn": [
              0.8245315162,
              0.3844334046
             ],
             "passed_time": 1.799167082,
             "remaining_time": 3.753817739,
             "test": [
              0.8119318182,
              0.3999027996
             ]
            },
            {
             "iteration": 162,
             "learn": [
              0.8245315162,
              0.3844143925
             ],
             "passed_time": 1.803167681,
             "remaining_time": 3.728021525,
             "test": [
              0.8125,
              0.3998707186
             ]
            },
            {
             "iteration": 163,
             "learn": [
              0.8242475866,
              0.3843073731
             ],
             "passed_time": 1.814206114,
             "remaining_time": 3.716910087,
             "test": [
              0.8125,
              0.3997996141
             ]
            },
            {
             "iteration": 164,
             "learn": [
              0.8242475866,
              0.3841266528
             ],
             "passed_time": 1.826942191,
             "remaining_time": 3.709246266,
             "test": [
              0.8125,
              0.3998481808
             ]
            },
            {
             "iteration": 165,
             "learn": [
              0.823963657,
              0.3836227568
             ],
             "passed_time": 1.839493578,
             "remaining_time": 3.701149729,
             "test": [
              0.8125,
              0.39982038
             ]
            },
            {
             "iteration": 166,
             "learn": [
              0.823963657,
              0.3834443726
             ],
             "passed_time": 1.851306908,
             "remaining_time": 3.691528146,
             "test": [
              0.8125,
              0.3997702461
             ]
            },
            {
             "iteration": 167,
             "learn": [
              0.8242475866,
              0.3830212057
             ],
             "passed_time": 1.862930175,
             "remaining_time": 3.681504871,
             "test": [
              0.8125,
              0.3998166179
             ]
            },
            {
             "iteration": 168,
             "learn": [
              0.8245315162,
              0.3828987076
             ],
             "passed_time": 1.874020545,
             "remaining_time": 3.670418937,
             "test": [
              0.8125,
              0.399856313
             ]
            },
            {
             "iteration": 169,
             "learn": [
              0.8245315162,
              0.3827677408
             ],
             "passed_time": 1.885276824,
             "remaining_time": 3.659655011,
             "test": [
              0.8125,
              0.3998680689
             ]
            },
            {
             "iteration": 170,
             "learn": [
              0.8248154458,
              0.3825835347
             ],
             "passed_time": 1.896079857,
             "remaining_time": 3.648013293,
             "test": [
              0.8125,
              0.399880612
             ]
            },
            {
             "iteration": 171,
             "learn": [
              0.8248154458,
              0.3822280513
             ],
             "passed_time": 1.908692627,
             "remaining_time": 3.639832452,
             "test": [
              0.8130681818,
              0.3997863832
             ]
            },
            {
             "iteration": 172,
             "learn": [
              0.8245315162,
              0.3817944333
             ],
             "passed_time": 1.920377767,
             "remaining_time": 3.629846993,
             "test": [
              0.8119318182,
              0.3997953951
             ]
            },
            {
             "iteration": 173,
             "learn": [
              0.8248154458,
              0.3815895985
             ],
             "passed_time": 1.931566665,
             "remaining_time": 3.618912258,
             "test": [
              0.8125,
              0.3998941497
             ]
            },
            {
             "iteration": 174,
             "learn": [
              0.8248154458,
              0.3815894912
             ],
             "passed_time": 1.933941781,
             "remaining_time": 3.591606166,
             "test": [
              0.8125,
              0.3998938262
             ]
            },
            {
             "iteration": 175,
             "learn": [
              0.8245315162,
              0.3815784156
             ],
             "passed_time": 1.968083862,
             "remaining_time": 3.623063473,
             "test": [
              0.8125,
              0.3998702081
             ]
            },
            {
             "iteration": 176,
             "learn": [
              0.8248154458,
              0.381507412
             ],
             "passed_time": 1.984562459,
             "remaining_time": 3.621546182,
             "test": [
              0.8130681818,
              0.3998674525
             ]
            },
            {
             "iteration": 177,
             "learn": [
              0.8248154458,
              0.3815074062
             ],
             "passed_time": 1.987443797,
             "remaining_time": 3.595263498,
             "test": [
              0.8130681818,
              0.3998674342
             ]
            },
            {
             "iteration": 178,
             "learn": [
              0.8248154458,
              0.3813182888
             ],
             "passed_time": 2.002688478,
             "remaining_time": 3.591413417,
             "test": [
              0.8130681818,
              0.3998658262
             ]
            },
            {
             "iteration": 179,
             "learn": [
              0.8248154458,
              0.3809438036
             ],
             "passed_time": 2.01666614,
             "remaining_time": 3.585184248,
             "test": [
              0.8125,
              0.3998737557
             ]
            },
            {
             "iteration": 180,
             "learn": [
              0.8256672345,
              0.3808253154
             ],
             "passed_time": 2.02931434,
             "remaining_time": 3.576526379,
             "test": [
              0.8119318182,
              0.3998590774
             ]
            },
            {
             "iteration": 181,
             "learn": [
              0.8259511641,
              0.3805636705
             ],
             "passed_time": 2.041988116,
             "remaining_time": 3.567869346,
             "test": [
              0.8125,
              0.3998622056
             ]
            },
            {
             "iteration": 182,
             "learn": [
              0.8259511641,
              0.3805636647
             ],
             "passed_time": 2.044338067,
             "remaining_time": 3.541285067,
             "test": [
              0.8125,
              0.3998621903
             ]
            },
            {
             "iteration": 183,
             "learn": [
              0.8256672345,
              0.3805635736
             ],
             "passed_time": 2.046610112,
             "remaining_time": 3.51483041,
             "test": [
              0.8125,
              0.3998619446
             ]
            },
            {
             "iteration": 184,
             "learn": [
              0.8256672345,
              0.3804282996
             ],
             "passed_time": 2.059999855,
             "remaining_time": 3.50756732,
             "test": [
              0.8130681818,
              0.3997949161
             ]
            },
            {
             "iteration": 185,
             "learn": [
              0.8259511641,
              0.380130899
             ],
             "passed_time": 2.073402929,
             "remaining_time": 3.500260859,
             "test": [
              0.8125,
              0.3998663526
             ]
            },
            {
             "iteration": 186,
             "learn": [
              0.8256672345,
              0.3800910184
             ],
             "passed_time": 2.087086876,
             "remaining_time": 3.493359316,
             "test": [
              0.8125,
              0.3998755096
             ]
            },
            {
             "iteration": 187,
             "learn": [
              0.8253833049,
              0.3799364269
             ],
             "passed_time": 2.100042499,
             "remaining_time": 3.485176913,
             "test": [
              0.8119318182,
              0.3998904074
             ]
            },
            {
             "iteration": 188,
             "learn": [
              0.8259511641,
              0.3797109992
             ],
             "passed_time": 2.114161058,
             "remaining_time": 3.478857614,
             "test": [
              0.8119318182,
              0.3997998478
             ]
            },
            {
             "iteration": 189,
             "learn": [
              0.8256672345,
              0.3793876893
             ],
             "passed_time": 2.1279646,
             "remaining_time": 3.471942242,
             "test": [
              0.8130681818,
              0.3997292144
             ]
            },
            {
             "iteration": 190,
             "learn": [
              0.8265190233,
              0.3791606382
             ],
             "passed_time": 2.1426753,
             "remaining_time": 3.466422344,
             "test": [
              0.8130681818,
              0.3996549364
             ]
            },
            {
             "iteration": 191,
             "learn": [
              0.8253833049,
              0.3788428584
             ],
             "passed_time": 2.156400194,
             "remaining_time": 3.459225312,
             "test": [
              0.8130681818,
              0.3995969109
             ]
            },
            {
             "iteration": 192,
             "learn": [
              0.8262350937,
              0.3786174259
             ],
             "passed_time": 2.169599515,
             "remaining_time": 3.451124616,
             "test": [
              0.8130681818,
              0.399616668
             ]
            },
            {
             "iteration": 193,
             "learn": [
              0.8256672345,
              0.3784465384
             ],
             "passed_time": 2.18229584,
             "remaining_time": 3.442177974,
             "test": [
              0.8130681818,
              0.3996081458
             ]
            },
            {
             "iteration": 194,
             "learn": [
              0.8250993754,
              0.3782906234
             ],
             "passed_time": 2.194608633,
             "remaining_time": 3.43259299,
             "test": [
              0.8130681818,
              0.3996260368
             ]
            },
            {
             "iteration": 195,
             "learn": [
              0.8250993754,
              0.3782455288
             ],
             "passed_time": 2.204323533,
             "remaining_time": 3.418950786,
             "test": [
              0.8130681818,
              0.3996215384
             ]
            },
            {
             "iteration": 196,
             "learn": [
              0.8262350937,
              0.3780260478
             ],
             "passed_time": 2.219731307,
             "remaining_time": 3.414104497,
             "test": [
              0.8136363636,
              0.399629793
             ]
            },
            {
             "iteration": 197,
             "learn": [
              0.8262350937,
              0.3778207446
             ],
             "passed_time": 2.233186158,
             "remaining_time": 3.406172827,
             "test": [
              0.8136363636,
              0.3996224384
             ]
            },
            {
             "iteration": 198,
             "learn": [
              0.8248154458,
              0.3775147146
             ],
             "passed_time": 2.247826144,
             "remaining_time": 3.399978238,
             "test": [
              0.8130681818,
              0.3997646478
             ]
            },
            {
             "iteration": 199,
             "learn": [
              0.8253833049,
              0.3773889044
             ],
             "passed_time": 2.260366728,
             "remaining_time": 3.390550092,
             "test": [
              0.8130681818,
              0.3999100957
             ]
            },
            {
             "iteration": 200,
             "learn": [
              0.8250993754,
              0.3769634491
             ],
             "passed_time": 2.273437933,
             "remaining_time": 3.381880308,
             "test": [
              0.8130681818,
              0.4000480165
             ]
            },
            {
             "iteration": 201,
             "learn": [
              0.8250993754,
              0.3769441042
             ],
             "passed_time": 2.286564966,
             "remaining_time": 3.373249306,
             "test": [
              0.8130681818,
              0.4000375772
             ]
            },
            {
             "iteration": 202,
             "learn": [
              0.8250993754,
              0.3769100522
             ],
             "passed_time": 2.297652046,
             "remaining_time": 3.361589446,
             "test": [
              0.8130681818,
              0.4000374112
             ]
            },
            {
             "iteration": 203,
             "learn": [
              0.8250993754,
              0.376909664
             ],
             "passed_time": 2.301926124,
             "remaining_time": 3.340049671,
             "test": [
              0.8130681818,
              0.4000368684
             ]
            },
            {
             "iteration": 204,
             "learn": [
              0.8250993754,
              0.3768516851
             ],
             "passed_time": 2.313167218,
             "remaining_time": 3.328704046,
             "test": [
              0.8130681818,
              0.4000425079
             ]
            },
            {
             "iteration": 205,
             "learn": [
              0.8259511641,
              0.3765625473
             ],
             "passed_time": 2.32369415,
             "remaining_time": 3.316340195,
             "test": [
              0.8130681818,
              0.3999297813
             ]
            },
            {
             "iteration": 206,
             "learn": [
              0.8256672345,
              0.3765007054
             ],
             "passed_time": 2.334683342,
             "remaining_time": 3.304648402,
             "test": [
              0.8130681818,
              0.399909651
             ]
            },
            {
             "iteration": 207,
             "learn": [
              0.8256672345,
              0.37645468
             ],
             "passed_time": 2.341786299,
             "remaining_time": 3.287507689,
             "test": [
              0.8130681818,
              0.3999102324
             ]
            },
            {
             "iteration": 208,
             "learn": [
              0.8256672345,
              0.3761884004
             ],
             "passed_time": 2.354443204,
             "remaining_time": 3.27819604,
             "test": [
              0.8130681818,
              0.3999406279
             ]
            },
            {
             "iteration": 209,
             "learn": [
              0.8256672345,
              0.3761395867
             ],
             "passed_time": 2.366299075,
             "remaining_time": 3.267746342,
             "test": [
              0.8130681818,
              0.3999406517
             ]
            },
            {
             "iteration": 210,
             "learn": [
              0.8259511641,
              0.3761276763
             ],
             "passed_time": 2.370674288,
             "remaining_time": 3.247037294,
             "test": [
              0.8130681818,
              0.3999347979
             ]
            },
            {
             "iteration": 211,
             "learn": [
              0.8256672345,
              0.3760965656
             ],
             "passed_time": 2.374964259,
             "remaining_time": 3.226366541,
             "test": [
              0.8130681818,
              0.3999345433
             ]
            },
            {
             "iteration": 212,
             "learn": [
              0.8265190233,
              0.3759648801
             ],
             "passed_time": 2.387245408,
             "remaining_time": 3.216617052,
             "test": [
              0.8130681818,
              0.3999502329
             ]
            },
            {
             "iteration": 213,
             "learn": [
              0.827370812,
              0.3759027775
             ],
             "passed_time": 2.400133501,
             "remaining_time": 3.207655052,
             "test": [
              0.8130681818,
              0.3999636505
             ]
            },
            {
             "iteration": 214,
             "learn": [
              0.8270868825,
              0.3758555747
             ],
             "passed_time": 2.411822522,
             "remaining_time": 3.197067064,
             "test": [
              0.8130681818,
              0.3999323507
             ]
            },
            {
             "iteration": 215,
             "learn": [
              0.8270868825,
              0.3756008887
             ],
             "passed_time": 2.423753064,
             "remaining_time": 3.186786436,
             "test": [
              0.8130681818,
              0.3999044316
             ]
            },
            {
             "iteration": 216,
             "learn": [
              0.827370812,
              0.3754954469
             ],
             "passed_time": 2.43439401,
             "remaining_time": 3.174808778,
             "test": [
              0.8125,
              0.3999355235
             ]
            },
            {
             "iteration": 217,
             "learn": [
              0.8276547416,
              0.3752461682
             ],
             "passed_time": 2.446796298,
             "remaining_time": 3.165121817,
             "test": [
              0.8125,
              0.3999225592
             ]
            },
            {
             "iteration": 218,
             "learn": [
              0.8276547416,
              0.3752282604
             ],
             "passed_time": 2.451040606,
             "remaining_time": 3.144942513,
             "test": [
              0.8125,
              0.399897941
             ]
            },
            {
             "iteration": 219,
             "learn": [
              0.827370812,
              0.375112242
             ],
             "passed_time": 2.463217767,
             "remaining_time": 3.135004431,
             "test": [
              0.8125,
              0.3998902667
             ]
            },
            {
             "iteration": 220,
             "learn": [
              0.8265190233,
              0.3749828531
             ],
             "passed_time": 2.475468561,
             "remaining_time": 3.125139042,
             "test": [
              0.8125,
              0.3998801365
             ]
            },
            {
             "iteration": 221,
             "learn": [
              0.8268029529,
              0.3747081373
             ],
             "passed_time": 2.487839144,
             "remaining_time": 3.115402172,
             "test": [
              0.8125,
              0.3998423747
             ]
            },
            {
             "iteration": 222,
             "learn": [
              0.8279386712,
              0.374391994
             ],
             "passed_time": 2.499255429,
             "remaining_time": 3.104456296,
             "test": [
              0.8125,
              0.3999132601
             ]
            },
            {
             "iteration": 223,
             "learn": [
              0.827370812,
              0.3741568869
             ],
             "passed_time": 2.511776602,
             "remaining_time": 3.094867599,
             "test": [
              0.8125,
              0.3997730976
             ]
            },
            {
             "iteration": 224,
             "learn": [
              0.8282226008,
              0.3738249443
             ],
             "passed_time": 2.523338255,
             "remaining_time": 3.08408009,
             "test": [
              0.8125,
              0.3997924213
             ]
            },
            {
             "iteration": 225,
             "learn": [
              0.82879046,
              0.3736500759
             ],
             "passed_time": 2.535587955,
             "remaining_time": 3.07411991,
             "test": [
              0.8119318182,
              0.3997552106
             ]
            },
            {
             "iteration": 226,
             "learn": [
              0.82879046,
              0.3733799943
             ],
             "passed_time": 2.547904534,
             "remaining_time": 3.06421999,
             "test": [
              0.8125,
              0.3998622436
             ]
            },
            {
             "iteration": 227,
             "learn": [
              0.8296422487,
              0.37303381
             ],
             "passed_time": 2.559815776,
             "remaining_time": 3.053815311,
             "test": [
              0.8136363636,
              0.3998770094
             ]
            },
            {
             "iteration": 228,
             "learn": [
              0.8290743896,
              0.3726867151
             ],
             "passed_time": 2.571681967,
             "remaining_time": 3.043344162,
             "test": [
              0.8130681818,
              0.3998959209
             ]
            },
            {
             "iteration": 229,
             "learn": [
              0.8290743896,
              0.372518364
             ],
             "passed_time": 2.583747027,
             "remaining_time": 3.033094336,
             "test": [
              0.8136363636,
              0.3998408039
             ]
            },
            {
             "iteration": 230,
             "learn": [
              0.8296422487,
              0.3724495177
             ],
             "passed_time": 2.589680219,
             "remaining_time": 3.01568822,
             "test": [
              0.8130681818,
              0.3998218609
             ]
            },
            {
             "iteration": 231,
             "learn": [
              0.8293583191,
              0.3723705409
             ],
             "passed_time": 2.601939332,
             "remaining_time": 3.005688539,
             "test": [
              0.8125,
              0.3998164231
             ]
            },
            {
             "iteration": 232,
             "learn": [
              0.8296422487,
              0.3721987571
             ],
             "passed_time": 2.613650872,
             "remaining_time": 2.995041986,
             "test": [
              0.8125,
              0.3997902637
             ]
            },
            {
             "iteration": 233,
             "learn": [
              0.8296422487,
              0.3718671781
             ],
             "passed_time": 2.625209541,
             "remaining_time": 2.984212555,
             "test": [
              0.8136363636,
              0.3997729884
             ]
            },
            {
             "iteration": 234,
             "learn": [
              0.8299261783,
              0.3717406923
             ],
             "passed_time": 2.636529163,
             "remaining_time": 2.973107354,
             "test": [
              0.8136363636,
              0.3997575852
             ]
            },
            {
             "iteration": 235,
             "learn": [
              0.8296422487,
              0.3715686208
             ],
             "passed_time": 2.648664261,
             "remaining_time": 2.962912563,
             "test": [
              0.8130681818,
              0.3997673847
             ]
            },
            {
             "iteration": 236,
             "learn": [
              0.8293583191,
              0.3712915936
             ],
             "passed_time": 2.661190822,
             "remaining_time": 2.953135806,
             "test": [
              0.8130681818,
              0.3997567737
             ]
            },
            {
             "iteration": 237,
             "learn": [
              0.8293583191,
              0.3711306737
             ],
             "passed_time": 2.671929413,
             "remaining_time": 2.941367673,
             "test": [
              0.8130681818,
              0.3998254291
             ]
            },
            {
             "iteration": 238,
             "learn": [
              0.8293583191,
              0.3709833697
             ],
             "passed_time": 2.683793845,
             "remaining_time": 2.93083763,
             "test": [
              0.8130681818,
              0.3998250905
             ]
            },
            {
             "iteration": 239,
             "learn": [
              0.8293583191,
              0.3708559394
             ],
             "passed_time": 2.695184472,
             "remaining_time": 2.919783178,
             "test": [
              0.8130681818,
              0.3998079605
             ]
            },
            {
             "iteration": 240,
             "learn": [
              0.8299261783,
              0.3707107026
             ],
             "passed_time": 2.706368764,
             "remaining_time": 2.90850419,
             "test": [
              0.8130681818,
              0.3998122782
             ]
            },
            {
             "iteration": 241,
             "learn": [
              0.8302101079,
              0.3705300624
             ],
             "passed_time": 2.718438261,
             "remaining_time": 2.898169716,
             "test": [
              0.8130681818,
              0.3998257278
             ]
            },
            {
             "iteration": 242,
             "learn": [
              0.8304940375,
              0.3702556581
             ],
             "passed_time": 2.730926289,
             "remaining_time": 2.888263606,
             "test": [
              0.8130681818,
              0.3998220796
             ]
            },
            {
             "iteration": 243,
             "learn": [
              0.8307779671,
              0.3701699263
             ],
             "passed_time": 2.742447663,
             "remaining_time": 2.877322138,
             "test": [
              0.8136363636,
              0.3998255097
             ]
            },
            {
             "iteration": 244,
             "learn": [
              0.8307779671,
              0.3701124726
             ],
             "passed_time": 2.753862476,
             "remaining_time": 2.866265026,
             "test": [
              0.8130681818,
              0.3997898392
             ]
            },
            {
             "iteration": 245,
             "learn": [
              0.8307779671,
              0.3699617956
             ],
             "passed_time": 2.7653202,
             "remaining_time": 2.855249312,
             "test": [
              0.8130681818,
              0.3997925147
             ]
            },
            {
             "iteration": 246,
             "learn": [
              0.8310618966,
              0.3697836912
             ],
             "passed_time": 2.777179679,
             "remaining_time": 2.844641533,
             "test": [
              0.8136363636,
              0.3997809774
             ]
            },
            {
             "iteration": 247,
             "learn": [
              0.8304940375,
              0.3696447832
             ],
             "passed_time": 2.789890141,
             "remaining_time": 2.834888369,
             "test": [
              0.8136363636,
              0.399824184
             ]
            },
            {
             "iteration": 248,
             "learn": [
              0.8304940375,
              0.369599713
             ],
             "passed_time": 2.802472072,
             "remaining_time": 2.824981888,
             "test": [
              0.8136363636,
              0.3998480764
             ]
            },
            {
             "iteration": 249,
             "learn": [
              0.8304940375,
              0.3692056624
             ],
             "passed_time": 2.815153158,
             "remaining_time": 2.815153158,
             "test": [
              0.8125,
              0.3999089759
             ]
            },
            {
             "iteration": 250,
             "learn": [
              0.8307779671,
              0.3688817021
             ],
             "passed_time": 2.827010598,
             "remaining_time": 2.804484618,
             "test": [
              0.8125,
              0.3998857085
             ]
            },
            {
             "iteration": 251,
             "learn": [
              0.8307779671,
              0.3687956792
             ],
             "passed_time": 2.837993388,
             "remaining_time": 2.792945874,
             "test": [
              0.8125,
              0.3998188417
             ]
            },
            {
             "iteration": 252,
             "learn": [
              0.8310618966,
              0.3686981804
             ],
             "passed_time": 2.850495889,
             "remaining_time": 2.782895196,
             "test": [
              0.8130681818,
              0.3998096598
             ]
            },
            {
             "iteration": 253,
             "learn": [
              0.8313458262,
              0.368612909
             ],
             "passed_time": 2.86308967,
             "remaining_time": 2.772913617,
             "test": [
              0.8130681818,
              0.3998566511
             ]
            },
            {
             "iteration": 254,
             "learn": [
              0.8304940375,
              0.3684295533
             ],
             "passed_time": 2.874963069,
             "remaining_time": 2.762219419,
             "test": [
              0.8119318182,
              0.3999409621
             ]
            },
            {
             "iteration": 255,
             "learn": [
              0.8307779671,
              0.3682469849
             ],
             "passed_time": 2.887006631,
             "remaining_time": 2.751678195,
             "test": [
              0.8119318182,
              0.39989812
             ]
            },
            {
             "iteration": 256,
             "learn": [
              0.8313458262,
              0.3681014286
             ],
             "passed_time": 2.897967285,
             "remaining_time": 2.740101363,
             "test": [
              0.8113636364,
              0.3999325519
             ]
            },
            {
             "iteration": 257,
             "learn": [
              0.8313458262,
              0.3681012969
             ],
             "passed_time": 2.900476029,
             "remaining_time": 2.720601547,
             "test": [
              0.8113636364,
              0.3999318362
             ]
            },
            {
             "iteration": 258,
             "learn": [
              0.8313458262,
              0.3679296084
             ],
             "passed_time": 2.912764524,
             "remaining_time": 2.710333012,
             "test": [
              0.8125,
              0.3999622852
             ]
            },
            {
             "iteration": 259,
             "learn": [
              0.8324815446,
              0.3677127222
             ],
             "passed_time": 2.923212112,
             "remaining_time": 2.698349642,
             "test": [
              0.8130681818,
              0.3999727556
             ]
            },
            {
             "iteration": 260,
             "learn": [
              0.8327654742,
              0.3675297323
             ],
             "passed_time": 2.935231224,
             "remaining_time": 2.687817098,
             "test": [
              0.8130681818,
              0.4000209673
             ]
            },
            {
             "iteration": 261,
             "learn": [
              0.8330494037,
              0.3675257901
             ],
             "passed_time": 2.942527957,
             "remaining_time": 2.672983412,
             "test": [
              0.8130681818,
              0.4000200487
             ]
            },
            {
             "iteration": 262,
             "learn": [
              0.8330494037,
              0.3674907281
             ],
             "passed_time": 2.951394139,
             "remaining_time": 2.659621334,
             "test": [
              0.8130681818,
              0.400019877
             ]
            },
            {
             "iteration": 263,
             "learn": [
              0.8333333333,
              0.3673753778
             ],
             "passed_time": 2.994498672,
             "remaining_time": 2.676900328,
             "test": [
              0.8130681818,
              0.4000129396
             ]
            },
            {
             "iteration": 264,
             "learn": [
              0.8333333333,
              0.3672446658
             ],
             "passed_time": 3.008708685,
             "remaining_time": 2.668100154,
             "test": [
              0.8130681818,
              0.4000283131
             ]
            },
            {
             "iteration": 265,
             "learn": [
              0.8333333333,
              0.3671278068
             ],
             "passed_time": 3.022906757,
             "remaining_time": 2.659248801,
             "test": [
              0.8125,
              0.4000145573
             ]
            },
            {
             "iteration": 266,
             "learn": [
              0.8333333333,
              0.3670529142
             ],
             "passed_time": 3.036167284,
             "remaining_time": 2.64953924,
             "test": [
              0.8125,
              0.4000336518
             ]
            },
            {
             "iteration": 267,
             "learn": [
              0.8330494037,
              0.3668491975
             ],
             "passed_time": 3.050979575,
             "remaining_time": 2.641146498,
             "test": [
              0.8130681818,
              0.3999830198
             ]
            },
            {
             "iteration": 268,
             "learn": [
              0.8336172629,
              0.3667059444
             ],
             "passed_time": 3.066129593,
             "remaining_time": 2.632996044,
             "test": [
              0.8130681818,
              0.4000051702
             ]
            },
            {
             "iteration": 269,
             "learn": [
              0.8333333333,
              0.3664641814
             ],
             "passed_time": 3.080093821,
             "remaining_time": 2.623783625,
             "test": [
              0.8130681818,
              0.3999163317
             ]
            },
            {
             "iteration": 270,
             "learn": [
              0.8333333333,
              0.3662935224
             ],
             "passed_time": 3.096696599,
             "remaining_time": 2.61676576,
             "test": [
              0.8119318182,
              0.3999140346
             ]
            },
            {
             "iteration": 271,
             "learn": [
              0.8333333333,
              0.3659967623
             ],
             "passed_time": 3.112993753,
             "remaining_time": 2.609421234,
             "test": [
              0.8113636364,
              0.3999583446
             ]
            },
            {
             "iteration": 272,
             "learn": [
              0.8344690517,
              0.3657121485
             ],
             "passed_time": 3.127180486,
             "remaining_time": 2.600256301,
             "test": [
              0.8119318182,
              0.4000562689
             ]
            },
            {
             "iteration": 273,
             "learn": [
              0.8344690517,
              0.3657120748
             ],
             "passed_time": 3.131342498,
             "remaining_time": 2.582786148,
             "test": [
              0.8119318182,
              0.4000557924
             ]
            },
            {
             "iteration": 274,
             "learn": [
              0.8341851221,
              0.3656905994
             ],
             "passed_time": 3.140299774,
             "remaining_time": 2.569336178,
             "test": [
              0.8107954545,
              0.4000555782
             ]
            },
            {
             "iteration": 275,
             "learn": [
              0.8339011925,
              0.3656405686
             ],
             "passed_time": 3.150499972,
             "remaining_time": 2.556927514,
             "test": [
              0.8107954545,
              0.4000613031
             ]
            },
            {
             "iteration": 276,
             "learn": [
              0.8339011925,
              0.3656396729
             ],
             "passed_time": 3.156276082,
             "remaining_time": 2.540973163,
             "test": [
              0.8107954545,
              0.4000608592
             ]
            },
            {
             "iteration": 277,
             "learn": [
              0.8339011925,
              0.3656181285
             ],
             "passed_time": 3.169812382,
             "remaining_time": 2.531289024,
             "test": [
              0.8107954545,
              0.4000599064
             ]
            },
            {
             "iteration": 278,
             "learn": [
              0.8341851221,
              0.3653253161
             ],
             "passed_time": 3.185442151,
             "remaining_time": 2.523235539,
             "test": [
              0.8113636364,
              0.4001092856
             ]
            },
            {
             "iteration": 279,
             "learn": [
              0.8341851221,
              0.3651710134
             ],
             "passed_time": 3.198287345,
             "remaining_time": 2.512940057,
             "test": [
              0.8107954545,
              0.4001342374
             ]
            },
            {
             "iteration": 280,
             "learn": [
              0.8341851221,
              0.3648522846
             ],
             "passed_time": 3.214535701,
             "remaining_time": 2.505278714,
             "test": [
              0.8107954545,
              0.40013482
             ]
            },
            {
             "iteration": 281,
             "learn": [
              0.8341851221,
              0.3646081538
             ],
             "passed_time": 3.229899284,
             "remaining_time": 2.496872496,
             "test": [
              0.8113636364,
              0.4001902217
             ]
            },
            {
             "iteration": 282,
             "learn": [
              0.8341851221,
              0.3643922056
             ],
             "passed_time": 3.243980707,
             "remaining_time": 2.48743397,
             "test": [
              0.8113636364,
              0.4001670448
             ]
            },
            {
             "iteration": 283,
             "learn": [
              0.8339011925,
              0.3642027472
             ],
             "passed_time": 3.257308022,
             "remaining_time": 2.4773892,
             "test": [
              0.8107954545,
              0.4002139351
             ]
            },
            {
             "iteration": 284,
             "learn": [
              0.8339011925,
              0.3641982635
             ],
             "passed_time": 3.265091521,
             "remaining_time": 2.463139217,
             "test": [
              0.8107954545,
              0.4002133915
             ]
            },
            {
             "iteration": 285,
             "learn": [
              0.8341851221,
              0.3639793308
             ],
             "passed_time": 3.280478597,
             "remaining_time": 2.454623845,
             "test": [
              0.8102272727,
              0.4001587493
             ]
            },
            {
             "iteration": 286,
             "learn": [
              0.8341851221,
              0.3638081041
             ],
             "passed_time": 3.294388017,
             "remaining_time": 2.444963929,
             "test": [
              0.8107954545,
              0.4001903631
             ]
            },
            {
             "iteration": 287,
             "learn": [
              0.8344690517,
              0.3636546057
             ],
             "passed_time": 3.308973785,
             "remaining_time": 2.43577237,
             "test": [
              0.8107954545,
              0.4002356741
             ]
            },
            {
             "iteration": 288,
             "learn": [
              0.8344690517,
              0.3631849419
             ],
             "passed_time": 3.323586133,
             "remaining_time": 2.426562886,
             "test": [
              0.8107954545,
              0.4002827595
             ]
            },
            {
             "iteration": 289,
             "learn": [
              0.8347529813,
              0.3629865002
             ],
             "passed_time": 3.341645423,
             "remaining_time": 2.419812203,
             "test": [
              0.8107954545,
              0.4002848069
             ]
            },
            {
             "iteration": 290,
             "learn": [
              0.8353208404,
              0.3624754993
             ],
             "passed_time": 3.355722853,
             "remaining_time": 2.410123973,
             "test": [
              0.8113636364,
              0.400244997
             ]
            },
            {
             "iteration": 291,
             "learn": [
              0.83560477,
              0.3622428853
             ],
             "passed_time": 3.37372851,
             "remaining_time": 2.40320387,
             "test": [
              0.8102272727,
              0.4003695988
             ]
            },
            {
             "iteration": 292,
             "learn": [
              0.83560477,
              0.362209905
             ],
             "passed_time": 3.386272543,
             "remaining_time": 2.392349544,
             "test": [
              0.8102272727,
              0.4003753016
             ]
            },
            {
             "iteration": 293,
             "learn": [
              0.83560477,
              0.3620580326
             ],
             "passed_time": 3.39849107,
             "remaining_time": 2.381255648,
             "test": [
              0.8107954545,
              0.4003688059
             ]
            },
            {
             "iteration": 294,
             "learn": [
              0.8358886996,
              0.362011715
             ],
             "passed_time": 3.411015526,
             "remaining_time": 2.370366722,
             "test": [
              0.8119318182,
              0.4003567943
             ]
            },
            {
             "iteration": 295,
             "learn": [
              0.8358886996,
              0.3619837228
             ],
             "passed_time": 3.422783203,
             "remaining_time": 2.35894518,
             "test": [
              0.8119318182,
              0.4003562545
             ]
            },
            {
             "iteration": 296,
             "learn": [
              0.8358886996,
              0.3619705911
             ],
             "passed_time": 3.43674871,
             "remaining_time": 2.349023529,
             "test": [
              0.8119318182,
              0.4003472423
             ]
            },
            {
             "iteration": 297,
             "learn": [
              0.8361726292,
              0.361888236
             ],
             "passed_time": 3.451992122,
             "remaining_time": 2.339940968,
             "test": [
              0.8119318182,
              0.4003593091
             ]
            },
            {
             "iteration": 298,
             "learn": [
              0.8358886996,
              0.3617822761
             ],
             "passed_time": 3.466392428,
             "remaining_time": 2.330250428,
             "test": [
              0.8119318182,
              0.400385057
             ]
            },
            {
             "iteration": 299,
             "learn": [
              0.8361726292,
              0.3616424561
             ],
             "passed_time": 3.481359094,
             "remaining_time": 2.320906063,
             "test": [
              0.8119318182,
              0.4004054084
             ]
            },
            {
             "iteration": 300,
             "learn": [
              0.83560477,
              0.3614461832
             ],
             "passed_time": 3.494988089,
             "remaining_time": 2.310639966,
             "test": [
              0.8119318182,
              0.4004286984
             ]
            },
            {
             "iteration": 301,
             "learn": [
              0.83560477,
              0.3612296032
             ],
             "passed_time": 3.508292659,
             "remaining_time": 2.300138895,
             "test": [
              0.8119318182,
              0.4005990309
             ]
            },
            {
             "iteration": 302,
             "learn": [
              0.8353208404,
              0.3611425416
             ],
             "passed_time": 3.522849416,
             "remaining_time": 2.290433449,
             "test": [
              0.8125,
              0.4006013437
             ]
            },
            {
             "iteration": 303,
             "learn": [
              0.8353208404,
              0.3610963639
             ],
             "passed_time": 3.537037811,
             "remaining_time": 2.280458589,
             "test": [
              0.8125,
              0.4006116488
             ]
            },
            {
             "iteration": 304,
             "learn": [
              0.83560477,
              0.3610690481
             ],
             "passed_time": 3.551767252,
             "remaining_time": 2.270802013,
             "test": [
              0.8125,
              0.4006087316
             ]
            },
            {
             "iteration": 305,
             "learn": [
              0.8361726292,
              0.3609329239
             ],
             "passed_time": 3.566324158,
             "remaining_time": 2.261002898,
             "test": [
              0.8125,
              0.4006114337
             ]
            },
            {
             "iteration": 306,
             "learn": [
              0.8367404884,
              0.3605329057
             ],
             "passed_time": 3.579711451,
             "remaining_time": 2.250437492,
             "test": [
              0.8119318182,
              0.4007121174
             ]
            },
            {
             "iteration": 307,
             "learn": [
              0.8367404884,
              0.3605127578
             ],
             "passed_time": 3.592775845,
             "remaining_time": 2.239652475,
             "test": [
              0.8119318182,
              0.400707114
             ]
            },
            {
             "iteration": 308,
             "learn": [
              0.8373083475,
              0.3602020396
             ],
             "passed_time": 3.605364739,
             "remaining_time": 2.228558787,
             "test": [
              0.8107954545,
              0.4008091124
             ]
            },
            {
             "iteration": 309,
             "learn": [
              0.8384440659,
              0.3597930356
             ],
             "passed_time": 3.619562224,
             "remaining_time": 2.218441363,
             "test": [
              0.8113636364,
              0.4008248969
             ]
            },
            {
             "iteration": 310,
             "learn": [
              0.8378762067,
              0.3595236922
             ],
             "passed_time": 3.633842121,
             "remaining_time": 2.208347784,
             "test": [
              0.8102272727,
              0.4008693434
             ]
            },
            {
             "iteration": 311,
             "learn": [
              0.8375922771,
              0.3594383691
             ],
             "passed_time": 3.650776749,
             "remaining_time": 2.199827016,
             "test": [
              0.8102272727,
              0.4008575108
             ]
            },
            {
             "iteration": 312,
             "learn": [
              0.8375922771,
              0.3590214533
             ],
             "passed_time": 3.66391941,
             "remaining_time": 2.188986996,
             "test": [
              0.8102272727,
              0.4009781199
             ]
            },
            {
             "iteration": 313,
             "learn": [
              0.8375922771,
              0.3589856725
             ],
             "passed_time": 3.67706955,
             "remaining_time": 2.17813674,
             "test": [
              0.8102272727,
              0.4009856012
             ]
            },
            {
             "iteration": 314,
             "learn": [
              0.8375922771,
              0.3588687317
             ],
             "passed_time": 3.689789287,
             "remaining_time": 2.167019105,
             "test": [
              0.8102272727,
              0.4009988511
             ]
            },
            {
             "iteration": 315,
             "learn": [
              0.8373083475,
              0.358764373
             ],
             "passed_time": 3.703559979,
             "remaining_time": 2.156503279,
             "test": [
              0.8102272727,
              0.4010159207
             ]
            },
            {
             "iteration": 316,
             "learn": [
              0.8375922771,
              0.3586610684
             ],
             "passed_time": 3.717162608,
             "remaining_time": 2.145869897,
             "test": [
              0.8102272727,
              0.4009953606
             ]
            },
            {
             "iteration": 317,
             "learn": [
              0.8367404884,
              0.3585931583
             ],
             "passed_time": 3.733484138,
             "remaining_time": 2.136773941,
             "test": [
              0.8102272727,
              0.4009867325
             ]
            },
            {
             "iteration": 318,
             "learn": [
              0.8367404884,
              0.3583968857
             ],
             "passed_time": 3.747333414,
             "remaining_time": 2.126229931,
             "test": [
              0.8102272727,
              0.4010755389
             ]
            },
            {
             "iteration": 319,
             "learn": [
              0.8367404884,
              0.358072188
             ],
             "passed_time": 3.761064489,
             "remaining_time": 2.115598775,
             "test": [
              0.8102272727,
              0.4010663103
             ]
            },
            {
             "iteration": 320,
             "learn": [
              0.8378762067,
              0.357876473
             ],
             "passed_time": 3.775390783,
             "remaining_time": 2.105280218,
             "test": [
              0.8102272727,
              0.4010520683
             ]
            },
            {
             "iteration": 321,
             "learn": [
              0.8375922771,
              0.3576495496
             ],
             "passed_time": 3.789871587,
             "remaining_time": 2.095022182,
             "test": [
              0.8107954545,
              0.4010206755
             ]
            },
            {
             "iteration": 322,
             "learn": [
              0.8381601363,
              0.3573763553
             ],
             "passed_time": 3.803387645,
             "remaining_time": 2.084209329,
             "test": [
              0.8107954545,
              0.4011091767
             ]
            },
            {
             "iteration": 323,
             "learn": [
              0.8387279955,
              0.3571670713
             ],
             "passed_time": 3.817393434,
             "remaining_time": 2.073645816,
             "test": [
              0.8113636364,
              0.4011284306
             ]
            },
            {
             "iteration": 324,
             "learn": [
              0.8384440659,
              0.3570945366
             ],
             "passed_time": 3.831213274,
             "remaining_time": 2.062960994,
             "test": [
              0.8113636364,
              0.4011314817
             ]
            },
            {
             "iteration": 325,
             "learn": [
              0.8387279955,
              0.3569516346
             ],
             "passed_time": 3.844289269,
             "remaining_time": 2.051859917,
             "test": [
              0.8113636364,
              0.4011354679
             ]
            },
            {
             "iteration": 326,
             "learn": [
              0.8387279955,
              0.3568828659
             ],
             "passed_time": 3.857854851,
             "remaining_time": 2.041005777,
             "test": [
              0.8113636364,
              0.4011240722
             ]
            },
            {
             "iteration": 327,
             "learn": [
              0.8395797842,
              0.356710505
             ],
             "passed_time": 3.871165247,
             "remaining_time": 2.030001288,
             "test": [
              0.8113636364,
              0.4010973228
             ]
            },
            {
             "iteration": 328,
             "learn": [
              0.8392958546,
              0.3565831534
             ],
             "passed_time": 3.885701216,
             "remaining_time": 2.019619781,
             "test": [
              0.8113636364,
              0.4010814525
             ]
            },
            {
             "iteration": 329,
             "learn": [
              0.8401476434,
              0.3563346785
             ],
             "passed_time": 3.898169644,
             "remaining_time": 2.008147998,
             "test": [
              0.8113636364,
              0.4010352988
             ]
            },
            {
             "iteration": 330,
             "learn": [
              0.8401476434,
              0.3561155386
             ],
             "passed_time": 3.911950226,
             "remaining_time": 1.997340145,
             "test": [
              0.8113636364,
              0.4010793587
             ]
            },
            {
             "iteration": 331,
             "learn": [
              0.8395797842,
              0.3558738226
             ],
             "passed_time": 3.926210946,
             "remaining_time": 1.986757346,
             "test": [
              0.8113636364,
              0.4011026712
             ]
            },
            {
             "iteration": 332,
             "learn": [
              0.8395797842,
              0.3556766225
             ],
             "passed_time": 3.939775372,
             "remaining_time": 1.975803265,
             "test": [
              0.8107954545,
              0.4011430671
             ]
            },
            {
             "iteration": 333,
             "learn": [
              0.8395797842,
              0.3555551724
             ],
             "passed_time": 3.953207298,
             "remaining_time": 1.964767699,
             "test": [
              0.8107954545,
              0.4011483437
             ]
            },
            {
             "iteration": 334,
             "learn": [
              0.8395797842,
              0.3555273149
             ],
             "passed_time": 3.965347491,
             "remaining_time": 1.9530816,
             "test": [
              0.8107954545,
              0.4011189635
             ]
            },
            {
             "iteration": 335,
             "learn": [
              0.8395797842,
              0.3554167744
             ],
             "passed_time": 3.980996272,
             "remaining_time": 1.943105323,
             "test": [
              0.8107954545,
              0.4011130142
             ]
            },
            {
             "iteration": 336,
             "learn": [
              0.8395797842,
              0.3554134447
             ],
             "passed_time": 4.008475662,
             "remaining_time": 1.938817605,
             "test": [
              0.8107954545,
              0.4011125038
             ]
            },
            {
             "iteration": 337,
             "learn": [
              0.8398637138,
              0.3551854499
             ],
             "passed_time": 4.041934362,
             "remaining_time": 1.937258481,
             "test": [
              0.8107954545,
              0.4012097244
             ]
            },
            {
             "iteration": 338,
             "learn": [
              0.8398637138,
              0.3549689238
             ],
             "passed_time": 4.060040302,
             "remaining_time": 1.928219731,
             "test": [
              0.8113636364,
              0.4011853908
             ]
            },
            {
             "iteration": 339,
             "learn": [
              0.8401476434,
              0.3546432852
             ],
             "passed_time": 4.073226757,
             "remaining_time": 1.916812592,
             "test": [
              0.8113636364,
              0.4011720229
             ]
            },
            {
             "iteration": 340,
             "learn": [
              0.840431573,
              0.3543999691
             ],
             "passed_time": 4.0853023,
             "remaining_time": 1.904877026,
             "test": [
              0.8113636364,
              0.4012518914
             ]
            },
            {
             "iteration": 341,
             "learn": [
              0.8409994321,
              0.3540911027
             ],
             "passed_time": 4.099356556,
             "remaining_time": 1.893854783,
             "test": [
              0.8113636364,
              0.4014091901
             ]
            },
            {
             "iteration": 342,
             "learn": [
              0.8407155026,
              0.3539168928
             ],
             "passed_time": 4.111769007,
             "remaining_time": 1.882063365,
             "test": [
              0.8113636364,
              0.4013779904
             ]
            },
            {
             "iteration": 343,
             "learn": [
              0.8407155026,
              0.3538484958
             ],
             "passed_time": 4.126610053,
             "remaining_time": 1.871369675,
             "test": [
              0.8113636364,
              0.4013627714
             ]
            },
            {
             "iteration": 344,
             "learn": [
              0.840431573,
              0.3537903194
             ],
             "passed_time": 4.139187594,
             "remaining_time": 1.859635006,
             "test": [
              0.8113636364,
              0.4013568217
             ]
            },
            {
             "iteration": 345,
             "learn": [
              0.8409994321,
              0.3534547692
             ],
             "passed_time": 4.15250487,
             "remaining_time": 1.848224711,
             "test": [
              0.8107954545,
              0.4013834762
             ]
            },
            {
             "iteration": 346,
             "learn": [
              0.8409994321,
              0.3532815757
             ],
             "passed_time": 4.166461719,
             "remaining_time": 1.837085427,
             "test": [
              0.8107954545,
              0.4013455407
             ]
            },
            {
             "iteration": 347,
             "learn": [
              0.8409994321,
              0.3532317578
             ],
             "passed_time": 4.178716319,
             "remaining_time": 1.825186438,
             "test": [
              0.8107954545,
              0.4013448591
             ]
            },
            {
             "iteration": 348,
             "learn": [
              0.8407155026,
              0.3529749239
             ],
             "passed_time": 4.192885226,
             "remaining_time": 1.814113665,
             "test": [
              0.8113636364,
              0.4014926258
             ]
            },
            {
             "iteration": 349,
             "learn": [
              0.840431573,
              0.3528169643
             ],
             "passed_time": 4.205433487,
             "remaining_time": 1.802328637,
             "test": [
              0.8113636364,
              0.4015227845
             ]
            },
            {
             "iteration": 350,
             "learn": [
              0.8401476434,
              0.3527899592
             ],
             "passed_time": 4.21711951,
             "remaining_time": 1.790173239,
             "test": [
              0.8113636364,
              0.4015322603
             ]
            },
            {
             "iteration": 351,
             "learn": [
              0.8407155026,
              0.3525803174
             ],
             "passed_time": 4.228556386,
             "remaining_time": 1.777915753,
             "test": [
              0.8113636364,
              0.4014882744
             ]
            },
            {
             "iteration": 352,
             "learn": [
              0.8401476434,
              0.352331139
             ],
             "passed_time": 4.239811958,
             "remaining_time": 1.765587416,
             "test": [
              0.8107954545,
              0.4015536633
             ]
            },
            {
             "iteration": 353,
             "learn": [
              0.840431573,
              0.3519787383
             ],
             "passed_time": 4.250596456,
             "remaining_time": 1.753070855,
             "test": [
              0.8107954545,
              0.401642273
             ]
            },
            {
             "iteration": 354,
             "learn": [
              0.840431573,
              0.3519110731
             ],
             "passed_time": 4.262130795,
             "remaining_time": 1.740870325,
             "test": [
              0.8113636364,
              0.4016501646
             ]
            },
            {
             "iteration": 355,
             "learn": [
              0.8401476434,
              0.351716966
             ],
             "passed_time": 4.273506455,
             "remaining_time": 1.728609352,
             "test": [
              0.8107954545,
              0.401688957
             ]
            },
            {
             "iteration": 356,
             "learn": [
              0.8401476434,
              0.3516561525
             ],
             "passed_time": 4.285137836,
             "remaining_time": 1.716455772,
             "test": [
              0.8107954545,
              0.4016922464
             ]
            },
            {
             "iteration": 357,
             "learn": [
              0.8412833617,
              0.3513246541
             ],
             "passed_time": 4.297148207,
             "remaining_time": 1.704455434,
             "test": [
              0.8107954545,
              0.4017128597
             ]
            },
            {
             "iteration": 358,
             "learn": [
              0.8412833617,
              0.3511850277
             ],
             "passed_time": 4.30915515,
             "remaining_time": 1.692453694,
             "test": [
              0.8107954545,
              0.4017205781
             ]
            },
            {
             "iteration": 359,
             "learn": [
              0.8412833617,
              0.3507602684
             ],
             "passed_time": 4.321007637,
             "remaining_time": 1.680391859,
             "test": [
              0.8107954545,
              0.401765936
             ]
            },
            {
             "iteration": 360,
             "learn": [
              0.8415672913,
              0.3506985377
             ],
             "passed_time": 4.332927882,
             "remaining_time": 1.668357273,
             "test": [
              0.8113636364,
              0.401774009
             ]
            },
            {
             "iteration": 361,
             "learn": [
              0.8415672913,
              0.3505948315
             ],
             "passed_time": 4.345064327,
             "remaining_time": 1.656405738,
             "test": [
              0.8113636364,
              0.4018132436
             ]
            },
            {
             "iteration": 362,
             "learn": [
              0.8418512209,
              0.3502946187
             ],
             "passed_time": 4.356874829,
             "remaining_time": 1.64433017,
             "test": [
              0.8107954545,
              0.4018501777
             ]
            },
            {
             "iteration": 363,
             "learn": [
              0.8415672913,
              0.3498832083
             ],
             "passed_time": 4.369678336,
             "remaining_time": 1.632627071,
             "test": [
              0.8107954545,
              0.4019918012
             ]
            },
            {
             "iteration": 364,
             "learn": [
              0.8412833617,
              0.3496759395
             ],
             "passed_time": 4.382300782,
             "remaining_time": 1.620850974,
             "test": [
              0.8107954545,
              0.4019688008
             ]
            },
            {
             "iteration": 365,
             "learn": [
              0.8418512209,
              0.3494965947
             ],
             "passed_time": 4.393580436,
             "remaining_time": 1.60857863,
             "test": [
              0.8107954545,
              0.4020350887
             ]
            },
            {
             "iteration": 366,
             "learn": [
              0.8418512209,
              0.3494064314
             ],
             "passed_time": 4.405711364,
             "remaining_time": 1.596620195,
             "test": [
              0.8113636364,
              0.4019946807
             ]
            },
            {
             "iteration": 367,
             "learn": [
              0.8415672913,
              0.3493805116
             ],
             "passed_time": 4.417771568,
             "remaining_time": 1.584635454,
             "test": [
              0.8113636364,
              0.4020056554
             ]
            },
            {
             "iteration": 368,
             "learn": [
              0.8421351505,
              0.3491156275
             ],
             "passed_time": 4.429570982,
             "remaining_time": 1.57255772,
             "test": [
              0.8113636364,
              0.4019917101
             ]
            },
            {
             "iteration": 369,
             "learn": [
              0.8429869392,
              0.348826975
             ],
             "passed_time": 4.441602446,
             "remaining_time": 1.560563022,
             "test": [
              0.8113636364,
              0.401995771
             ]
            },
            {
             "iteration": 370,
             "learn": [
              0.8424190801,
              0.3487050764
             ],
             "passed_time": 4.454249781,
             "remaining_time": 1.548782269,
             "test": [
              0.8113636364,
              0.4020520194
             ]
            },
            {
             "iteration": 371,
             "learn": [
              0.8421351505,
              0.3485193556
             ],
             "passed_time": 4.465520224,
             "remaining_time": 1.536523088,
             "test": [
              0.8113636364,
              0.4020794788
             ]
            },
            {
             "iteration": 372,
             "learn": [
              0.8429869392,
              0.3483222309
             ],
             "passed_time": 4.476772462,
             "remaining_time": 1.52426301,
             "test": [
              0.8113636364,
              0.4021052605
             ]
            },
            {
             "iteration": 373,
             "learn": [
              0.8435547984,
              0.3480645248
             ],
             "passed_time": 4.488464346,
             "remaining_time": 1.512156438,
             "test": [
              0.8119318182,
              0.4021013897
             ]
            },
            {
             "iteration": 374,
             "learn": [
              0.843838728,
              0.3479414247
             ],
             "passed_time": 4.500044849,
             "remaining_time": 1.50001495,
             "test": [
              0.8119318182,
              0.4021433248
             ]
            },
            {
             "iteration": 375,
             "learn": [
              0.8444065872,
              0.3477648168
             ],
             "passed_time": 4.511545423,
             "remaining_time": 1.487850086,
             "test": [
              0.8119318182,
              0.4021718696
             ]
            },
            {
             "iteration": 376,
             "learn": [
              0.8441226576,
              0.3474914385
             ],
             "passed_time": 4.523049103,
             "remaining_time": 1.475689761,
             "test": [
              0.8113636364,
              0.4023258795
             ]
            },
            {
             "iteration": 377,
             "learn": [
              0.8449744463,
              0.3474012526
             ],
             "passed_time": 4.533576703,
             "remaining_time": 1.463217878,
             "test": [
              0.8119318182,
              0.4023017433
             ]
            },
            {
             "iteration": 378,
             "learn": [
              0.8449744463,
              0.3472895281
             ],
             "passed_time": 4.545509907,
             "remaining_time": 1.45120501,
             "test": [
              0.8113636364,
              0.4022383822
             ]
            },
            {
             "iteration": 379,
             "learn": [
              0.8449744463,
              0.3470098811
             ],
             "passed_time": 4.557911304,
             "remaining_time": 1.439340412,
             "test": [
              0.8113636364,
              0.4023013133
             ]
            },
            {
             "iteration": 380,
             "learn": [
              0.8449744463,
              0.3468942534
             ],
             "passed_time": 4.569558246,
             "remaining_time": 1.427237352,
             "test": [
              0.8113636364,
              0.4022643787
             ]
            },
            {
             "iteration": 381,
             "learn": [
              0.8449744463,
              0.3468035507
             ],
             "passed_time": 4.581536314,
             "remaining_time": 1.415238966,
             "test": [
              0.8113636364,
              0.4022935824
             ]
            },
            {
             "iteration": 382,
             "learn": [
              0.8449744463,
              0.3467120598
             ],
             "passed_time": 4.592646204,
             "remaining_time": 1.402975472,
             "test": [
              0.8107954545,
              0.4023393688
             ]
            },
            {
             "iteration": 383,
             "learn": [
              0.8449744463,
              0.3466861343
             ],
             "passed_time": 4.604195867,
             "remaining_time": 1.390850835,
             "test": [
              0.8107954545,
              0.4023432078
             ]
            },
            {
             "iteration": 384,
             "learn": [
              0.8449744463,
              0.3466129538
             ],
             "passed_time": 4.614906874,
             "remaining_time": 1.378478677,
             "test": [
              0.8107954545,
              0.4023704971
             ]
            },
            {
             "iteration": 385,
             "learn": [
              0.8455423055,
              0.34647134
             ],
             "passed_time": 4.626621866,
             "remaining_time": 1.366411639,
             "test": [
              0.8113636364,
              0.4022912276
             ]
            },
            {
             "iteration": 386,
             "learn": [
              0.8455423055,
              0.3463454897
             ],
             "passed_time": 4.638891415,
             "remaining_time": 1.354508346,
             "test": [
              0.8113636364,
              0.40230006
             ]
            },
            {
             "iteration": 387,
             "learn": [
              0.8455423055,
              0.3462368342
             ],
             "passed_time": 4.650741442,
             "remaining_time": 1.342482066,
             "test": [
              0.8107954545,
              0.4023666228
             ]
            },
            {
             "iteration": 388,
             "learn": [
              0.8455423055,
              0.3461474336
             ],
             "passed_time": 4.662531878,
             "remaining_time": 1.330439687,
             "test": [
              0.8107954545,
              0.402355337
             ]
            },
            {
             "iteration": 389,
             "learn": [
              0.8449744463,
              0.34591775
             ],
             "passed_time": 4.675114752,
             "remaining_time": 1.318622109,
             "test": [
              0.8107954545,
              0.4024050507
             ]
            },
            {
             "iteration": 390,
             "learn": [
              0.8449744463,
              0.345774489
             ],
             "passed_time": 4.687434958,
             "remaining_time": 1.306727392,
             "test": [
              0.8107954545,
              0.4025010235
             ]
            },
            {
             "iteration": 391,
             "learn": [
              0.8449744463,
              0.3456805299
             ],
             "passed_time": 4.697820145,
             "remaining_time": 1.294297387,
             "test": [
              0.8107954545,
              0.4024747071
             ]
            },
            {
             "iteration": 392,
             "learn": [
              0.8452583759,
              0.345591085
             ],
             "passed_time": 4.709175818,
             "remaining_time": 1.282142017,
             "test": [
              0.8107954545,
              0.4025525862
             ]
            },
            {
             "iteration": 393,
             "learn": [
              0.8449744463,
              0.3454975596
             ],
             "passed_time": 4.720043367,
             "remaining_time": 1.269859383,
             "test": [
              0.8107954545,
              0.4025584768
             ]
            },
            {
             "iteration": 394,
             "learn": [
              0.8461101647,
              0.3451626779
             ],
             "passed_time": 4.73423009,
             "remaining_time": 1.258466227,
             "test": [
              0.8107954545,
              0.402575684
             ]
            },
            {
             "iteration": 395,
             "learn": [
              0.8458262351,
              0.3448929102
             ],
             "passed_time": 4.745571537,
             "remaining_time": 1.246311717,
             "test": [
              0.8113636364,
              0.4025174053
             ]
            },
            {
             "iteration": 396,
             "learn": [
              0.8458262351,
              0.3448552132
             ],
             "passed_time": 4.757702589,
             "remaining_time": 1.234366163,
             "test": [
              0.8113636364,
              0.4025017806
             ]
            },
            {
             "iteration": 397,
             "learn": [
              0.8461101647,
              0.3446123204
             ],
             "passed_time": 4.769191505,
             "remaining_time": 1.222255109,
             "test": [
              0.8113636364,
              0.402529325
             ]
            },
            {
             "iteration": 398,
             "learn": [
              0.8466780239,
              0.3441974787
             ],
             "passed_time": 4.780551238,
             "remaining_time": 1.210114474,
             "test": [
              0.8119318182,
              0.4026267247
             ]
            },
            {
             "iteration": 399,
             "learn": [
              0.8466780239,
              0.344104439
             ],
             "passed_time": 4.790905001,
             "remaining_time": 1.19772625,
             "test": [
              0.8125,
              0.4026949034
             ]
            },
            {
             "iteration": 400,
             "learn": [
              0.8466780239,
              0.3438921369
             ],
             "passed_time": 4.803186963,
             "remaining_time": 1.185824213,
             "test": [
              0.8125,
              0.402740292
             ]
            },
            {
             "iteration": 401,
             "learn": [
              0.8466780239,
              0.3435918553
             ],
             "passed_time": 4.815664935,
             "remaining_time": 1.173968069,
             "test": [
              0.8119318182,
              0.4027757085
             ]
            },
            {
             "iteration": 402,
             "learn": [
              0.8466780239,
              0.3434512812
             ],
             "passed_time": 4.828118637,
             "remaining_time": 1.162102997,
             "test": [
              0.8119318182,
              0.4027415792
             ]
            },
            {
             "iteration": 403,
             "learn": [
              0.8466780239,
              0.3432776936
             ],
             "passed_time": 4.839574867,
             "remaining_time": 1.149997988,
             "test": [
              0.8119318182,
              0.4027217136
             ]
            },
            {
             "iteration": 404,
             "learn": [
              0.8466780239,
              0.3431167347
             ],
             "passed_time": 4.851581156,
             "remaining_time": 1.138025209,
             "test": [
              0.8119318182,
              0.4027238438
             ]
            },
            {
             "iteration": 405,
             "learn": [
              0.8463940943,
              0.3431038928
             ],
             "passed_time": 4.863550926,
             "remaining_time": 1.12604381,
             "test": [
              0.8119318182,
              0.4027222695
             ]
            },
            {
             "iteration": 406,
             "learn": [
              0.8463940943,
              0.3427507023
             ],
             "passed_time": 4.875194202,
             "remaining_time": 1.113987864,
             "test": [
              0.8119318182,
              0.4027401282
             ]
            },
            {
             "iteration": 407,
             "learn": [
              0.8463940943,
              0.3424368893
             ],
             "passed_time": 4.887552613,
             "remaining_time": 1.102095197,
             "test": [
              0.8125,
              0.4028003109
             ]
            },
            {
             "iteration": 408,
             "learn": [
              0.8461101647,
              0.3421208442
             ],
             "passed_time": 4.899077415,
             "remaining_time": 1.090014779,
             "test": [
              0.8130681818,
              0.4029090963
             ]
            },
            {
             "iteration": 409,
             "learn": [
              0.8466780239,
              0.3419797554
             ],
             "passed_time": 4.910754267,
             "remaining_time": 1.077970449,
             "test": [
              0.8130681818,
              0.4028586038
             ]
            },
            {
             "iteration": 410,
             "learn": [
              0.8466780239,
              0.3417544681
             ],
             "passed_time": 4.921901601,
             "remaining_time": 1.065813242,
             "test": [
              0.8130681818,
              0.4028816859
             ]
            },
            {
             "iteration": 411,
             "learn": [
              0.8463940943,
              0.3415302574
             ],
             "passed_time": 4.934271661,
             "remaining_time": 1.053922102,
             "test": [
              0.8125,
              0.4029101605
             ]
            },
            {
             "iteration": 412,
             "learn": [
              0.8463940943,
              0.3413954053
             ],
             "passed_time": 4.946550902,
             "remaining_time": 1.042009512,
             "test": [
              0.8125,
              0.4028819933
             ]
            },
            {
             "iteration": 413,
             "learn": [
              0.8463940943,
              0.3413632859
             ],
             "passed_time": 4.958803323,
             "remaining_time": 1.030089579,
             "test": [
              0.8125,
              0.4029211088
             ]
            },
            {
             "iteration": 414,
             "learn": [
              0.8466780239,
              0.3410865822
             ],
             "passed_time": 4.971249809,
             "remaining_time": 1.018207792,
             "test": [
              0.8125,
              0.4027988049
             ]
            },
            {
             "iteration": 415,
             "learn": [
              0.8466780239,
              0.3410419865
             ],
             "passed_time": 4.983767803,
             "remaining_time": 1.006337729,
             "test": [
              0.8125,
              0.4028728095
             ]
            },
            {
             "iteration": 416,
             "learn": [
              0.847245883,
              0.3409107429
             ],
             "passed_time": 4.996573989,
             "remaining_time": 0.9945219211,
             "test": [
              0.8125,
              0.402851854
             ]
            },
            {
             "iteration": 417,
             "learn": [
              0.847245883,
              0.3407090066
             ],
             "passed_time": 5.006480104,
             "remaining_time": 0.9821324607,
             "test": [
              0.8125,
              0.4027979472
             ]
            },
            {
             "iteration": 418,
             "learn": [
              0.8480976718,
              0.3404794339
             ],
             "passed_time": 5.030788875,
             "remaining_time": 0.9725391381,
             "test": [
              0.8125,
              0.4028236836
             ]
            },
            {
             "iteration": 419,
             "learn": [
              0.8483816014,
              0.3404702846
             ],
             "passed_time": 5.066501533,
             "remaining_time": 0.9650479111,
             "test": [
              0.8125,
              0.4028212073
             ]
            },
            {
             "iteration": 420,
             "learn": [
              0.8483816014,
              0.3403408287
             ],
             "passed_time": 5.079648567,
             "remaining_time": 0.953188211,
             "test": [
              0.8125,
              0.4027833891
             ]
            },
            {
             "iteration": 421,
             "learn": [
              0.8483816014,
              0.3402611346
             ],
             "passed_time": 5.093786146,
             "remaining_time": 0.9415054962,
             "test": [
              0.8125,
              0.4027901101
             ]
            },
            {
             "iteration": 422,
             "learn": [
              0.8486655309,
              0.3401105252
             ],
             "passed_time": 5.107076779,
             "remaining_time": 0.9296570024,
             "test": [
              0.8125,
              0.4027983418
             ]
            },
            {
             "iteration": 423,
             "learn": [
              0.8498012493,
              0.3397977324
             ],
             "passed_time": 5.120364975,
             "remaining_time": 0.9178012691,
             "test": [
              0.8125,
              0.4028945182
             ]
            },
            {
             "iteration": 424,
             "learn": [
              0.8498012493,
              0.3397836271
             ],
             "passed_time": 5.135793005,
             "remaining_time": 0.9063164126,
             "test": [
              0.8125,
              0.4028830427
             ]
            },
            {
             "iteration": 425,
             "learn": [
              0.8498012493,
              0.339775026
             ],
             "passed_time": 5.148908933,
             "remaining_time": 0.8944114108,
             "test": [
              0.8125,
              0.4028768589
             ]
            },
            {
             "iteration": 426,
             "learn": [
              0.8503691085,
              0.3395531523
             ],
             "passed_time": 5.162863463,
             "remaining_time": 0.8826441049,
             "test": [
              0.8125,
              0.4028673668
             ]
            },
            {
             "iteration": 427,
             "learn": [
              0.8500851789,
              0.3395368796
             ],
             "passed_time": 5.174819654,
             "remaining_time": 0.8705304092,
             "test": [
              0.8125,
              0.4028803842
             ]
            },
            {
             "iteration": 428,
             "learn": [
              0.8500851789,
              0.339283364
             ],
             "passed_time": 5.189725297,
             "remaining_time": 0.8589055853,
             "test": [
              0.8125,
              0.4028238867
             ]
            },
            {
             "iteration": 429,
             "learn": [
              0.8500851789,
              0.339147825
             ],
             "passed_time": 5.203505866,
             "remaining_time": 0.8470823503,
             "test": [
              0.8125,
              0.4028352466
             ]
            },
            {
             "iteration": 430,
             "learn": [
              0.8500851789,
              0.3390381059
             ],
             "passed_time": 5.217515278,
             "remaining_time": 0.8352866686,
             "test": [
              0.8125,
              0.4027853514
             ]
            },
            {
             "iteration": 431,
             "learn": [
              0.8500851789,
              0.3388864439
             ],
             "passed_time": 5.232550559,
             "remaining_time": 0.8236422176,
             "test": [
              0.8130681818,
              0.4028628385
             ]
            },
            {
             "iteration": 432,
             "learn": [
              0.8495173197,
              0.3388784141
             ],
             "passed_time": 5.24570076,
             "remaining_time": 0.8116904179,
             "test": [
              0.8130681818,
              0.4028569132
             ]
            },
            {
             "iteration": 433,
             "learn": [
              0.8498012493,
              0.3386234187
             ],
             "passed_time": 5.259717413,
             "remaining_time": 0.79986486,
             "test": [
              0.8130681818,
              0.4029235578
             ]
            },
            {
             "iteration": 434,
             "learn": [
              0.8498012493,
              0.3385337322
             ],
             "passed_time": 5.272070721,
             "remaining_time": 0.7877806824,
             "test": [
              0.8130681818,
              0.4029279385
             ]
            },
            {
             "iteration": 435,
             "learn": [
              0.8500851789,
              0.3383604944
             ],
             "passed_time": 5.284650672,
             "remaining_time": 0.775728539,
             "test": [
              0.8130681818,
              0.4030328988
             ]
            },
            {
             "iteration": 436,
             "learn": [
              0.8498012493,
              0.3382081605
             ],
             "passed_time": 5.297220744,
             "remaining_time": 0.7636725558,
             "test": [
              0.8125,
              0.4031151416
             ]
            },
            {
             "iteration": 437,
             "learn": [
              0.8498012493,
              0.3381832891
             ],
             "passed_time": 5.309421555,
             "remaining_time": 0.7515619552,
             "test": [
              0.8125,
              0.4031129376
             ]
            },
            {
             "iteration": 438,
             "learn": [
              0.8495173197,
              0.3379002962
             ],
             "passed_time": 5.322398723,
             "remaining_time": 0.7395588203,
             "test": [
              0.8130681818,
              0.4032155056
             ]
            },
            {
             "iteration": 439,
             "learn": [
              0.8492333901,
              0.337855788
             ],
             "passed_time": 5.336220146,
             "remaining_time": 0.7276663835,
             "test": [
              0.8125,
              0.4031952951
             ]
            },
            {
             "iteration": 440,
             "learn": [
              0.8498012493,
              0.3377109309
             ],
             "passed_time": 5.349749945,
             "remaining_time": 0.7157261831,
             "test": [
              0.8136363636,
              0.4031865447
             ]
            },
            {
             "iteration": 441,
             "learn": [
              0.8500851789,
              0.3374782636
             ],
             "passed_time": 5.362729236,
             "remaining_time": 0.7037065513,
             "test": [
              0.8136363636,
              0.4031922443
             ]
            },
            {
             "iteration": 442,
             "learn": [
              0.8509369676,
              0.3373649715
             ],
             "passed_time": 5.375516544,
             "remaining_time": 0.6916578849,
             "test": [
              0.8136363636,
              0.4031177768
             ]
            },
            {
             "iteration": 443,
             "learn": [
              0.850653038,
              0.337290159
             ],
             "passed_time": 5.38877369,
             "remaining_time": 0.67966515,
             "test": [
              0.8136363636,
              0.4030914322
             ]
            },
            {
             "iteration": 444,
             "learn": [
              0.8509369676,
              0.3371800222
             ],
             "passed_time": 5.404709701,
             "remaining_time": 0.6679978283,
             "test": [
              0.8136363636,
              0.4031394579
             ]
            },
            {
             "iteration": 445,
             "learn": [
              0.850653038,
              0.3369705696
             ],
             "passed_time": 5.420499966,
             "remaining_time": 0.6562937179,
             "test": [
              0.8136363636,
              0.403125249
             ]
            },
            {
             "iteration": 446,
             "learn": [
              0.850653038,
              0.3367830879
             ],
             "passed_time": 5.444150472,
             "remaining_time": 0.6455032999,
             "test": [
              0.8136363636,
              0.4031124872
             ]
            },
            {
             "iteration": 447,
             "learn": [
              0.8512208972,
              0.3366649439
             ],
             "passed_time": 5.460210609,
             "remaining_time": 0.6337744457,
             "test": [
              0.8136363636,
              0.4030876592
             ]
            },
            {
             "iteration": 448,
             "learn": [
              0.8515048268,
              0.3364912824
             ],
             "passed_time": 5.473347365,
             "remaining_time": 0.6216942441,
             "test": [
              0.8136363636,
              0.4032235327
             ]
            },
            {
             "iteration": 449,
             "learn": [
              0.8515048268,
              0.3364790418
             ],
             "passed_time": 5.487140345,
             "remaining_time": 0.6096822606,
             "test": [
              0.8136363636,
              0.4032143338
             ]
            },
            {
             "iteration": 450,
             "learn": [
              0.8515048268,
              0.3362151813
             ],
             "passed_time": 5.501157846,
             "remaining_time": 0.5976867726,
             "test": [
              0.8136363636,
              0.4032107384
             ]
            },
            {
             "iteration": 451,
             "learn": [
              0.8515048268,
              0.3361053225
             ],
             "passed_time": 5.514487898,
             "remaining_time": 0.5856093343,
             "test": [
              0.8136363636,
              0.4031922528
             ]
            },
            {
             "iteration": 452,
             "learn": [
              0.8517887564,
              0.335839713
             ],
             "passed_time": 5.528244138,
             "remaining_time": 0.5735705838,
             "test": [
              0.8136363636,
              0.4032688578
             ]
            },
            {
             "iteration": 453,
             "learn": [
              0.8517887564,
              0.3355861249
             ],
             "passed_time": 5.541152273,
             "remaining_time": 0.5614383361,
             "test": [
              0.8136363636,
              0.4031600285
             ]
            },
            {
             "iteration": 454,
             "learn": [
              0.8517887564,
              0.3354168879
             ],
             "passed_time": 5.555182352,
             "remaining_time": 0.5494136393,
             "test": [
              0.8130681818,
              0.4031747152
             ]
            },
            {
             "iteration": 455,
             "learn": [
              0.8515048268,
              0.3351984117
             ],
             "passed_time": 5.572144271,
             "remaining_time": 0.5376630437,
             "test": [
              0.8130681818,
              0.4031850822
             ]
            },
            {
             "iteration": 456,
             "learn": [
              0.8517887564,
              0.3349826589
             ],
             "passed_time": 5.585778163,
             "remaining_time": 0.5255765011,
             "test": [
              0.8136363636,
              0.4032254268
             ]
            },
            {
             "iteration": 457,
             "learn": [
              0.8526405451,
              0.334861201
             ],
             "passed_time": 5.601798015,
             "remaining_time": 0.5137020014,
             "test": [
              0.8136363636,
              0.4032247997
             ]
            },
            {
             "iteration": 458,
             "learn": [
              0.8529244747,
              0.3347393765
             ],
             "passed_time": 5.622229934,
             "remaining_time": 0.5022035453,
             "test": [
              0.8142045455,
              0.4032090771
             ]
            },
            {
             "iteration": 459,
             "learn": [
              0.8532084043,
              0.3345369056
             ],
             "passed_time": 5.637504338,
             "remaining_time": 0.4902177685,
             "test": [
              0.8136363636,
              0.403207661
             ]
            },
            {
             "iteration": 460,
             "learn": [
              0.8532084043,
              0.3344732108
             ],
             "passed_time": 5.651113193,
             "remaining_time": 0.4780768211,
             "test": [
              0.8136363636,
              0.4033423514
             ]
            },
            {
             "iteration": 461,
             "learn": [
              0.8532084043,
              0.3343714273
             ],
             "passed_time": 5.663662149,
             "remaining_time": 0.4658423412,
             "test": [
              0.8136363636,
              0.4033503002
             ]
            },
            {
             "iteration": 462,
             "learn": [
              0.8532084043,
              0.3341970596
             ],
             "passed_time": 5.677617017,
             "remaining_time": 0.4537188545,
             "test": [
              0.8136363636,
              0.4033725021
             ]
            },
            {
             "iteration": 463,
             "learn": [
              0.8534923339,
              0.3339922628
             ],
             "passed_time": 5.692319112,
             "remaining_time": 0.4416454483,
             "test": [
              0.8136363636,
              0.4033562781
             ]
            },
            {
             "iteration": 464,
             "learn": [
              0.8534923339,
              0.3337276594
             ],
             "passed_time": 5.708195301,
             "remaining_time": 0.4296491087,
             "test": [
              0.8130681818,
              0.4034513961
             ]
            },
            {
             "iteration": 465,
             "learn": [
              0.8529244747,
              0.3336086462
             ],
             "passed_time": 5.723965142,
             "remaining_time": 0.417628358,
             "test": [
              0.8130681818,
              0.403479177
             ]
            },
            {
             "iteration": 466,
             "learn": [
              0.8532084043,
              0.3335937154
             ],
             "passed_time": 5.751505604,
             "remaining_time": 0.4064233082,
             "test": [
              0.8130681818,
              0.4034949815
             ]
            },
            {
             "iteration": 467,
             "learn": [
              0.8534923339,
              0.3333670741
             ],
             "passed_time": 5.76925547,
             "remaining_time": 0.3944790065,
             "test": [
              0.8136363636,
              0.4036204935
             ]
            },
            {
             "iteration": 468,
             "learn": [
              0.8532084043,
              0.3330459095
             ],
             "passed_time": 5.791061376,
             "remaining_time": 0.3827780441,
             "test": [
              0.8130681818,
              0.403707124
             ]
            },
            {
             "iteration": 469,
             "learn": [
              0.8532084043,
              0.3329962569
             ],
             "passed_time": 5.812288161,
             "remaining_time": 0.3709971167,
             "test": [
              0.8136363636,
              0.4037519465
             ]
            },
            {
             "iteration": 470,
             "learn": [
              0.8532084043,
              0.3326991311
             ],
             "passed_time": 5.831636021,
             "remaining_time": 0.3590603919,
             "test": [
              0.8130681818,
              0.4037221986
             ]
            },
            {
             "iteration": 471,
             "learn": [
              0.8534923339,
              0.3324729898
             ],
             "passed_time": 5.84846827,
             "remaining_time": 0.346943033,
             "test": [
              0.8130681818,
              0.4037776543
             ]
            },
            {
             "iteration": 472,
             "learn": [
              0.8534923339,
              0.3323741369
             ],
             "passed_time": 5.861987515,
             "remaining_time": 0.3346166235,
             "test": [
              0.8136363636,
              0.4037639961
             ]
            },
            {
             "iteration": 473,
             "learn": [
              0.8537762635,
              0.3321968349
             ],
             "passed_time": 5.875292857,
             "remaining_time": 0.3222734479,
             "test": [
              0.8125,
              0.4037882936
             ]
            },
            {
             "iteration": 474,
             "learn": [
              0.8537762635,
              0.3321381493
             ],
             "passed_time": 5.889657039,
             "remaining_time": 0.3099819494,
             "test": [
              0.8125,
              0.4037634237
             ]
            },
            {
             "iteration": 475,
             "learn": [
              0.8537762635,
              0.3320067311
             ],
             "passed_time": 5.905166445,
             "remaining_time": 0.2977394846,
             "test": [
              0.8113636364,
              0.4038057055
             ]
            },
            {
             "iteration": 476,
             "learn": [
              0.8534923339,
              0.3319514248
             ],
             "passed_time": 5.920198392,
             "remaining_time": 0.2854602998,
             "test": [
              0.8113636364,
              0.4037822217
             ]
            },
            {
             "iteration": 477,
             "learn": [
              0.8534923339,
              0.3318266043
             ],
             "passed_time": 5.936270213,
             "remaining_time": 0.2732174575,
             "test": [
              0.8113636364,
              0.4038054862
             ]
            },
            {
             "iteration": 478,
             "learn": [
              0.8534923339,
              0.3316133719
             ],
             "passed_time": 5.950270182,
             "remaining_time": 0.260867795,
             "test": [
              0.8113636364,
              0.4038331618
             ]
            },
            {
             "iteration": 479,
             "learn": [
              0.8534923339,
              0.3314418496
             ],
             "passed_time": 5.964673699,
             "remaining_time": 0.2485280708,
             "test": [
              0.8119318182,
              0.4038043486
             ]
            },
            {
             "iteration": 480,
             "learn": [
              0.8534923339,
              0.3313427777
             ],
             "passed_time": 5.977145479,
             "remaining_time": 0.2361034597,
             "test": [
              0.8125,
              0.4038018335
             ]
            },
            {
             "iteration": 481,
             "learn": [
              0.8534923339,
              0.331250422
             ],
             "passed_time": 5.98859757,
             "remaining_time": 0.2236405732,
             "test": [
              0.8136363636,
              0.4037745157
             ]
            },
            {
             "iteration": 482,
             "learn": [
              0.8532084043,
              0.3311420946
             ],
             "passed_time": 6.000998216,
             "remaining_time": 0.2112152581,
             "test": [
              0.8136363636,
              0.4037481987
             ]
            },
            {
             "iteration": 483,
             "learn": [
              0.8529244747,
              0.3311011002
             ],
             "passed_time": 6.011910159,
             "remaining_time": 0.1987408317,
             "test": [
              0.8136363636,
              0.4037360419
             ]
            },
            {
             "iteration": 484,
             "learn": [
              0.8532084043,
              0.331026556
             ],
             "passed_time": 6.024877021,
             "remaining_time": 0.1863364027,
             "test": [
              0.8136363636,
              0.403713975
             ]
            },
            {
             "iteration": 485,
             "learn": [
              0.8540601931,
              0.3307448079
             ],
             "passed_time": 6.03713406,
             "remaining_time": 0.1739092116,
             "test": [
              0.8142045455,
              0.403634886
             ]
            },
            {
             "iteration": 486,
             "learn": [
              0.8537762635,
              0.330361429
             ],
             "passed_time": 6.073255728,
             "remaining_time": 0.1621197628,
             "test": [
              0.8136363636,
              0.403681827
             ]
            },
            {
             "iteration": 487,
             "learn": [
              0.8540601931,
              0.3302886867
             ],
             "passed_time": 6.10215893,
             "remaining_time": 0.1500530885,
             "test": [
              0.8136363636,
              0.4037171154
             ]
            },
            {
             "iteration": 488,
             "learn": [
              0.8549119818,
              0.3301527915
             ],
             "passed_time": 6.117211184,
             "remaining_time": 0.1376059775,
             "test": [
              0.8136363636,
              0.4037318211
             ]
            },
            {
             "iteration": 489,
             "learn": [
              0.855479841,
              0.3300238761
             ],
             "passed_time": 6.130925377,
             "remaining_time": 0.1251209261,
             "test": [
              0.8119318182,
              0.4037473897
             ]
            },
            {
             "iteration": 490,
             "learn": [
              0.8551959114,
              0.3299233616
             ],
             "passed_time": 6.145199091,
             "remaining_time": 0.1126411239,
             "test": [
              0.8136363636,
              0.4037219422
             ]
            },
            {
             "iteration": 491,
             "learn": [
              0.8543441227,
              0.3295848958
             ],
             "passed_time": 6.158721391,
             "remaining_time": 0.1001418112,
             "test": [
              0.8130681818,
              0.4037423047
             ]
            },
            {
             "iteration": 492,
             "learn": [
              0.8546280522,
              0.3293978001
             ],
             "passed_time": 6.172214743,
             "remaining_time": 0.08763793753,
             "test": [
              0.8136363636,
              0.4037168344
             ]
            },
            {
             "iteration": 493,
             "learn": [
              0.8540601931,
              0.3293194977
             ],
             "passed_time": 6.183606009,
             "remaining_time": 0.07510452642,
             "test": [
              0.8136363636,
              0.4038185688
             ]
            },
            {
             "iteration": 494,
             "learn": [
              0.8537762635,
              0.3292172986
             ],
             "passed_time": 6.198772856,
             "remaining_time": 0.06261386723,
             "test": [
              0.8119318182,
              0.4038279296
             ]
            },
            {
             "iteration": 495,
             "learn": [
              0.8540601931,
              0.3289029747
             ],
             "passed_time": 6.21431832,
             "remaining_time": 0.05011547032,
             "test": [
              0.8130681818,
              0.4038285134
             ]
            },
            {
             "iteration": 496,
             "learn": [
              0.8540601931,
              0.3286522696
             ],
             "passed_time": 6.228295608,
             "remaining_time": 0.03759534572,
             "test": [
              0.8130681818,
              0.4039980656
             ]
            },
            {
             "iteration": 497,
             "learn": [
              0.8543441227,
              0.3285611904
             ],
             "passed_time": 6.242741744,
             "remaining_time": 0.02507125198,
             "test": [
              0.8119318182,
              0.4039876216
             ]
            },
            {
             "iteration": 498,
             "learn": [
              0.8551959114,
              0.3283247555
             ],
             "passed_time": 6.261536679,
             "remaining_time": 0.0125481697,
             "test": [
              0.8113636364,
              0.4039092761
             ]
            },
            {
             "iteration": 499,
             "learn": [
              0.855479841,
              0.3282635526
             ],
             "passed_time": 6.276457842,
             "remaining_time": 0,
             "test": [
              0.8113636364,
              0.4038868444
             ]
            }
           ],
           "meta": {
            "iteration_count": 500,
            "launch_mode": "Train",
            "learn_metrics": [
             {
              "best_value": "Max",
              "name": "Accuracy"
             },
             {
              "best_value": "Min",
              "name": "Logloss"
             }
            ],
            "learn_sets": [
             "learn"
            ],
            "name": "experiment",
            "parameters": "",
            "test_metrics": [
             {
              "best_value": "Max",
              "name": "Accuracy"
             },
             {
              "best_value": "Min",
              "name": "Logloss"
             }
            ],
            "test_sets": [
             "test"
            ]
           }
          },
          "passed_iterations": 499,
          "total_iterations": 500
         },
         "name": "fold-2",
         "path": "catboost_info/fold-2"
        }
       },
       "layout": "IPY_MODEL_71f540f329634b6d91db709c52addd99"
      }
     },
     "71f540f329634b6d91db709c52addd99": {
      "model_module": "@jupyter-widgets/base",
      "model_module_version": "1.2.0",
      "model_name": "LayoutModel",
      "state": {
       "_model_module": "@jupyter-widgets/base",
       "_model_module_version": "1.2.0",
       "_model_name": "LayoutModel",
       "_view_count": null,
       "_view_module": "@jupyter-widgets/base",
       "_view_module_version": "1.2.0",
       "_view_name": "LayoutView",
       "align_content": null,
       "align_items": null,
       "align_self": "stretch",
       "border": null,
       "bottom": null,
       "display": null,
       "flex": null,
       "flex_flow": null,
       "grid_area": null,
       "grid_auto_columns": null,
       "grid_auto_flow": null,
       "grid_auto_rows": null,
       "grid_column": null,
       "grid_gap": null,
       "grid_row": null,
       "grid_template_areas": null,
       "grid_template_columns": null,
       "grid_template_rows": null,
       "height": "500px",
       "justify_content": null,
       "justify_items": null,
       "left": null,
       "margin": null,
       "max_height": null,
       "max_width": null,
       "min_height": null,
       "min_width": null,
       "object_fit": null,
       "object_position": null,
       "order": null,
       "overflow": null,
       "overflow_x": null,
       "overflow_y": null,
       "padding": null,
       "right": null,
       "top": null,
       "visibility": null,
       "width": null
      }
     }
    },
    "version_major": 2,
    "version_minor": 0
   }
  }
 },
 "nbformat": 4,
 "nbformat_minor": 5
}
