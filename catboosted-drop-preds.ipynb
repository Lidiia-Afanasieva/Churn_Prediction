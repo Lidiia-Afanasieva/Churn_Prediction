{
 "cells": [
  {
   "cell_type": "code",
   "execution_count": 1,
   "id": "38b8152d",
   "metadata": {
    "_cell_guid": "b1076dfc-b9ad-4769-8c92-a6c4dae69d19",
    "_uuid": "8f2839f25d086af736a60e9eeb907d3b93b6e0e5",
    "execution": {
     "iopub.execute_input": "2023-01-26T18:33:30.265676Z",
     "iopub.status.busy": "2023-01-26T18:33:30.264721Z",
     "iopub.status.idle": "2023-01-26T18:33:31.825416Z",
     "shell.execute_reply": "2023-01-26T18:33:31.824450Z"
    },
    "papermill": {
     "duration": 1.573226,
     "end_time": "2023-01-26T18:33:31.828328",
     "exception": false,
     "start_time": "2023-01-26T18:33:30.255102",
     "status": "completed"
    },
    "tags": []
   },
   "outputs": [],
   "source": [
    "import os\n",
    "from sklearn.metrics import roc_auc_score\n",
    "import pandas as pd\n",
    "import numpy as np\n",
    "from matplotlib import pyplot as plt\n",
    "\n",
    "from sklearn.linear_model import LogisticRegression, LogisticRegressionCV\n",
    "from sklearn.model_selection import train_test_split, GridSearchCV\n",
    "from sklearn.preprocessing import StandardScaler, RobustScaler, LabelEncoder, OneHotEncoder\n",
    "from sklearn.pipeline import make_pipeline\n",
    "\n",
    "from sklearn.compose import ColumnTransformer\n",
    "from sklearn.pipeline import Pipeline\n",
    "from sklearn.impute import SimpleImputer\n",
    "\n",
    "from sklearn.metrics import confusion_matrix\n",
    "from sklearn.metrics import classification_report\n",
    "\n",
    "#for classification_report\n",
    "from sklearn.utils.multiclass import unique_labels\n",
    "from sklearn.metrics import precision_recall_fscore_support\n",
    "from tabulate import tabulate\n",
    "\n",
    "from catboost import CatBoostClassifier, Pool, metrics, cv\n",
    "from sklearn.metrics import accuracy_score"
   ]
  },
  {
   "cell_type": "code",
   "execution_count": 2,
   "id": "8b0ec736",
   "metadata": {
    "execution": {
     "iopub.execute_input": "2023-01-26T18:33:31.843567Z",
     "iopub.status.busy": "2023-01-26T18:33:31.843161Z",
     "iopub.status.idle": "2023-01-26T18:33:44.372809Z",
     "shell.execute_reply": "2023-01-26T18:33:44.371380Z"
    },
    "papermill": {
     "duration": 12.540457,
     "end_time": "2023-01-26T18:33:44.375455",
     "exception": false,
     "start_time": "2023-01-26T18:33:31.834998",
     "status": "completed"
    },
    "tags": []
   },
   "outputs": [
    {
     "name": "stdout",
     "output_type": "stream",
     "text": [
      "Requirement already satisfied: catboost in /opt/conda/lib/python3.7/site-packages (1.1.1)\r\n",
      "Requirement already satisfied: scipy in /opt/conda/lib/python3.7/site-packages (from catboost) (1.7.3)\r\n",
      "Requirement already satisfied: six in /opt/conda/lib/python3.7/site-packages (from catboost) (1.15.0)\r\n",
      "Requirement already satisfied: numpy>=1.16.0 in /opt/conda/lib/python3.7/site-packages (from catboost) (1.21.6)\r\n",
      "Requirement already satisfied: graphviz in /opt/conda/lib/python3.7/site-packages (from catboost) (0.8.4)\r\n",
      "Requirement already satisfied: plotly in /opt/conda/lib/python3.7/site-packages (from catboost) (5.12.0)\r\n",
      "Requirement already satisfied: matplotlib in /opt/conda/lib/python3.7/site-packages (from catboost) (3.5.2)\r\n",
      "Requirement already satisfied: pandas>=0.24.0 in /opt/conda/lib/python3.7/site-packages (from catboost) (1.3.5)\r\n",
      "Requirement already satisfied: python-dateutil>=2.7.3 in /opt/conda/lib/python3.7/site-packages (from pandas>=0.24.0->catboost) (2.8.2)\r\n",
      "Requirement already satisfied: pytz>=2017.3 in /opt/conda/lib/python3.7/site-packages (from pandas>=0.24.0->catboost) (2022.1)\r\n",
      "Requirement already satisfied: pyparsing>=2.2.1 in /opt/conda/lib/python3.7/site-packages (from matplotlib->catboost) (3.0.9)\r\n",
      "Requirement already satisfied: fonttools>=4.22.0 in /opt/conda/lib/python3.7/site-packages (from matplotlib->catboost) (4.33.3)\r\n",
      "Requirement already satisfied: pillow>=6.2.0 in /opt/conda/lib/python3.7/site-packages (from matplotlib->catboost) (9.1.1)\r\n",
      "Requirement already satisfied: packaging>=20.0 in /opt/conda/lib/python3.7/site-packages (from matplotlib->catboost) (23.0)\r\n",
      "Requirement already satisfied: kiwisolver>=1.0.1 in /opt/conda/lib/python3.7/site-packages (from matplotlib->catboost) (1.4.3)\r\n",
      "Requirement already satisfied: cycler>=0.10 in /opt/conda/lib/python3.7/site-packages (from matplotlib->catboost) (0.11.0)\r\n",
      "Requirement already satisfied: tenacity>=6.2.0 in /opt/conda/lib/python3.7/site-packages (from plotly->catboost) (8.0.1)\r\n",
      "Requirement already satisfied: typing-extensions in /opt/conda/lib/python3.7/site-packages (from kiwisolver>=1.0.1->matplotlib->catboost) (4.1.1)\r\n",
      "\u001b[33mWARNING: Running pip as the 'root' user can result in broken permissions and conflicting behaviour with the system package manager. It is recommended to use a virtual environment instead: https://pip.pypa.io/warnings/venv\u001b[0m\u001b[33m\r\n",
      "\u001b[0m"
     ]
    }
   ],
   "source": [
    "!pip install catboost\n",
    "# !pip install ipywidgets\n",
    "# !jupyter nbextension enable --py widgetsnbextension"
   ]
  },
  {
   "cell_type": "code",
   "execution_count": 3,
   "id": "577f97d4",
   "metadata": {
    "execution": {
     "iopub.execute_input": "2023-01-26T18:33:44.390495Z",
     "iopub.status.busy": "2023-01-26T18:33:44.390096Z",
     "iopub.status.idle": "2023-01-26T18:33:44.398366Z",
     "shell.execute_reply": "2023-01-26T18:33:44.397117Z"
    },
    "papermill": {
     "duration": 0.018797,
     "end_time": "2023-01-26T18:33:44.400629",
     "exception": false,
     "start_time": "2023-01-26T18:33:44.381832",
     "status": "completed"
    },
    "tags": []
   },
   "outputs": [],
   "source": [
    "# Числовые признаки\n",
    "num_cols = [\n",
    "    'ClientPeriod',\n",
    "    'MonthlySpending',\n",
    "    'TotalSpent'\n",
    "]\n",
    "\n",
    "# Категориальные признаки\n",
    "cat_cols = [\n",
    "    'Sex',\n",
    "    'IsSeniorCitizen',\n",
    "    'HasPartner',\n",
    "    'HasChild',\n",
    "    'HasPhoneService',\n",
    "    'HasMultiplePhoneNumbers',\n",
    "    'HasInternetService',\n",
    "    'HasOnlineSecurityService',\n",
    "    'HasOnlineBackup',\n",
    "    'HasDeviceProtection',\n",
    "    'HasTechSupportAccess',\n",
    "    'HasOnlineTV',\n",
    "    'HasMovieSubscription',\n",
    "    'HasContractPhone',\n",
    "    'IsBillingPaperless',\n",
    "    'PaymentMethod'\n",
    "]\n",
    "\n",
    "no_cat = [\n",
    "    'ClientPeriod',\n",
    "    'MonthlySpending',\n",
    "    'TotalSpent',\n",
    "    'Churn'\n",
    "]\n",
    "\n",
    "feature_cols = num_cols + cat_cols\n",
    "col_count = len(feature_cols)\n",
    "unique_cat = []\n",
    "target_col = 'Churn'\n",
    "error_col = 'TotalSpent'"
   ]
  },
  {
   "cell_type": "code",
   "execution_count": 4,
   "id": "97367732",
   "metadata": {
    "execution": {
     "iopub.execute_input": "2023-01-26T18:33:44.415677Z",
     "iopub.status.busy": "2023-01-26T18:33:44.415265Z",
     "iopub.status.idle": "2023-01-26T18:33:44.488662Z",
     "shell.execute_reply": "2023-01-26T18:33:44.487590Z"
    },
    "papermill": {
     "duration": 0.084025,
     "end_time": "2023-01-26T18:33:44.491142",
     "exception": false,
     "start_time": "2023-01-26T18:33:44.407117",
     "status": "completed"
    },
    "tags": []
   },
   "outputs": [],
   "source": [
    "# DATA IMPORT\n",
    "\n",
    "data = pd.read_csv('/kaggle/input/advanced-dls-spring-2021/train.csv')\n",
    "# похоже в этом столбце некорректный формат данных\n",
    "data[error_col] =  pd.to_numeric(data[error_col], errors='coerce')\n",
    "data.fillna(1., inplace=True)\n",
    "\n",
    "# numeric data settings\n",
    "scaler = StandardScaler()\n",
    "data[num_cols] = scaler.fit_transform(data[num_cols])"
   ]
  },
  {
   "cell_type": "code",
   "execution_count": 5,
   "id": "7e278296",
   "metadata": {
    "execution": {
     "iopub.execute_input": "2023-01-26T18:33:44.506829Z",
     "iopub.status.busy": "2023-01-26T18:33:44.505865Z",
     "iopub.status.idle": "2023-01-26T18:33:44.510752Z",
     "shell.execute_reply": "2023-01-26T18:33:44.509894Z"
    },
    "papermill": {
     "duration": 0.014747,
     "end_time": "2023-01-26T18:33:44.512693",
     "exception": false,
     "start_time": "2023-01-26T18:33:44.497946",
     "status": "completed"
    },
    "tags": []
   },
   "outputs": [],
   "source": [
    "# print(list(data[error_col]))"
   ]
  },
  {
   "cell_type": "code",
   "execution_count": 6,
   "id": "f689c303",
   "metadata": {
    "execution": {
     "iopub.execute_input": "2023-01-26T18:33:44.528310Z",
     "iopub.status.busy": "2023-01-26T18:33:44.527294Z",
     "iopub.status.idle": "2023-01-26T18:33:44.539683Z",
     "shell.execute_reply": "2023-01-26T18:33:44.538554Z"
    },
    "papermill": {
     "duration": 0.023205,
     "end_time": "2023-01-26T18:33:44.542357",
     "exception": false,
     "start_time": "2023-01-26T18:33:44.519152",
     "status": "completed"
    },
    "tags": []
   },
   "outputs": [],
   "source": [
    "# DATASET SPLIT\n",
    "\n",
    "y = data[target_col]\n",
    "\n",
    "features_list = list(data)\n",
    "features_list.remove(target_col)\n",
    "\n",
    "X = data[features_list]\n",
    "X_train, X_validation, y_train, y_validation = train_test_split(X, y, \n",
    "                                                                train_size=0.75, \n",
    "                                                                random_state=42)\n",
    "\n",
    "# X_submis = X_submis.to_numpy()"
   ]
  },
  {
   "cell_type": "code",
   "execution_count": 7,
   "id": "90cdfb83",
   "metadata": {
    "execution": {
     "iopub.execute_input": "2023-01-26T18:33:44.558231Z",
     "iopub.status.busy": "2023-01-26T18:33:44.557454Z",
     "iopub.status.idle": "2023-01-26T18:33:45.263525Z",
     "shell.execute_reply": "2023-01-26T18:33:45.261979Z"
    },
    "papermill": {
     "duration": 0.717426,
     "end_time": "2023-01-26T18:33:45.266736",
     "exception": false,
     "start_time": "2023-01-26T18:33:44.549310",
     "status": "completed"
    },
    "tags": []
   },
   "outputs": [
    {
     "data": {
      "image/png": "[encoded data removed]",
      "text/plain": [
       "<Figure size 1440x720 with 4 Axes>"
      ]
     },
     "metadata": {
      "needs_background": "light"
     },
     "output_type": "display_data"
    }
   ],
   "source": [
    "data[num_cols].hist(bins=35, figsize=(20, 10))\n",
    "plt.show()"
   ]
  },
  {
   "cell_type": "code",
   "execution_count": 8,
   "id": "26bcdba1",
   "metadata": {
    "execution": {
     "iopub.execute_input": "2023-01-26T18:33:45.282698Z",
     "iopub.status.busy": "2023-01-26T18:33:45.282289Z",
     "iopub.status.idle": "2023-01-26T18:33:45.286828Z",
     "shell.execute_reply": "2023-01-26T18:33:45.285578Z"
    },
    "papermill": {
     "duration": 0.014943,
     "end_time": "2023-01-26T18:33:45.289009",
     "exception": false,
     "start_time": "2023-01-26T18:33:45.274066",
     "status": "completed"
    },
    "tags": []
   },
   "outputs": [],
   "source": [
    "# model = CatBoostClassifier(\n",
    "#     custom_loss=[metrics.Accuracy()],\n",
    "#     random_seed=42,\n",
    "#     logging_level='Silent'\n",
    "# )"
   ]
  },
  {
   "cell_type": "code",
   "execution_count": 9,
   "id": "70144a14",
   "metadata": {
    "execution": {
     "iopub.execute_input": "2023-01-26T18:33:45.305036Z",
     "iopub.status.busy": "2023-01-26T18:33:45.304661Z",
     "iopub.status.idle": "2023-01-26T18:33:55.837423Z",
     "shell.execute_reply": "2023-01-26T18:33:55.836253Z"
    },
    "papermill": {
     "duration": 10.543639,
     "end_time": "2023-01-26T18:33:55.839745",
     "exception": false,
     "start_time": "2023-01-26T18:33:45.296106",
     "status": "completed"
    },
    "tags": []
   },
   "outputs": [
    {
     "data": {
      "text/plain": [
       "<catboost.core.CatBoostClassifier at 0x7f6b2d7e7b50>"
      ]
     },
     "execution_count": 9,
     "metadata": {},
     "output_type": "execute_result"
    }
   ],
   "source": [
    "model = CatBoostClassifier(cat_features=cat_cols, verbose=False)\n",
    "model.fit(X_train, y_train)"
   ]
  },
  {
   "cell_type": "code",
   "execution_count": 10,
   "id": "b13d6c71",
   "metadata": {
    "execution": {
     "iopub.execute_input": "2023-01-26T18:33:55.855942Z",
     "iopub.status.busy": "2023-01-26T18:33:55.855483Z",
     "iopub.status.idle": "2023-01-26T18:33:55.883197Z",
     "shell.execute_reply": "2023-01-26T18:33:55.882140Z"
    },
    "papermill": {
     "duration": 0.038621,
     "end_time": "2023-01-26T18:33:55.885637",
     "exception": false,
     "start_time": "2023-01-26T18:33:55.847016",
     "status": "completed"
    },
    "tags": []
   },
   "outputs": [],
   "source": [
    "predictions = model.predict(X_validation)\n",
    "predictions_probs = model.predict_proba(X_validation)[:, -1]\n"
   ]
  },
  {
   "cell_type": "code",
   "execution_count": 11,
   "id": "47c9097f",
   "metadata": {
    "execution": {
     "iopub.execute_input": "2023-01-26T18:33:55.903565Z",
     "iopub.status.busy": "2023-01-26T18:33:55.902960Z",
     "iopub.status.idle": "2023-01-26T18:33:55.909031Z",
     "shell.execute_reply": "2023-01-26T18:33:55.907895Z"
    },
    "papermill": {
     "duration": 0.017105,
     "end_time": "2023-01-26T18:33:55.911283",
     "exception": false,
     "start_time": "2023-01-26T18:33:55.894178",
     "status": "completed"
    },
    "tags": []
   },
   "outputs": [
    {
     "data": {
      "text/plain": [
       "(1321, 19)"
      ]
     },
     "execution_count": 11,
     "metadata": {},
     "output_type": "execute_result"
    }
   ],
   "source": [
    "X_validation.shape"
   ]
  },
  {
   "cell_type": "code",
   "execution_count": 12,
   "id": "394da21c",
   "metadata": {
    "execution": {
     "iopub.execute_input": "2023-01-26T18:33:55.928268Z",
     "iopub.status.busy": "2023-01-26T18:33:55.927853Z",
     "iopub.status.idle": "2023-01-26T18:33:55.934444Z",
     "shell.execute_reply": "2023-01-26T18:33:55.933367Z"
    },
    "papermill": {
     "duration": 0.017794,
     "end_time": "2023-01-26T18:33:55.936746",
     "exception": false,
     "start_time": "2023-01-26T18:33:55.918952",
     "status": "completed"
    },
    "tags": []
   },
   "outputs": [
    {
     "data": {
      "text/plain": [
       "(1321,)"
      ]
     },
     "execution_count": 12,
     "metadata": {},
     "output_type": "execute_result"
    }
   ],
   "source": [
    "predictions_probs.shape"
   ]
  },
  {
   "cell_type": "code",
   "execution_count": 13,
   "id": "53d1ab85",
   "metadata": {
    "execution": {
     "iopub.execute_input": "2023-01-26T18:33:55.952920Z",
     "iopub.status.busy": "2023-01-26T18:33:55.952548Z",
     "iopub.status.idle": "2023-01-26T18:33:55.962638Z",
     "shell.execute_reply": "2023-01-26T18:33:55.961450Z"
    },
    "papermill": {
     "duration": 0.020855,
     "end_time": "2023-01-26T18:33:55.964845",
     "exception": false,
     "start_time": "2023-01-26T18:33:55.943990",
     "status": "completed"
    },
    "tags": []
   },
   "outputs": [
    {
     "data": {
      "text/plain": [
       "0.8227270773463021"
      ]
     },
     "execution_count": 13,
     "metadata": {},
     "output_type": "execute_result"
    }
   ],
   "source": [
    "roc_auc_score(y_validation, predictions_probs)"
   ]
  },
  {
   "cell_type": "code",
   "execution_count": 14,
   "id": "ae5a7fa4",
   "metadata": {
    "execution": {
     "iopub.execute_input": "2023-01-26T18:33:55.981936Z",
     "iopub.status.busy": "2023-01-26T18:33:55.980972Z",
     "iopub.status.idle": "2023-01-26T18:33:55.986027Z",
     "shell.execute_reply": "2023-01-26T18:33:55.985157Z"
    },
    "papermill": {
     "duration": 0.016028,
     "end_time": "2023-01-26T18:33:55.988282",
     "exception": false,
     "start_time": "2023-01-26T18:33:55.972254",
     "status": "completed"
    },
    "tags": []
   },
   "outputs": [],
   "source": [
    "# params = {\n",
    "#     'iterations': 500,\n",
    "# #     'learning_rate': 0.1,\n",
    "#     'eval_metric': metrics.Accuracy(),\n",
    "#     'random_seed': 42,\n",
    "#     'logging_level': 'Silent',\n",
    "#     'use_best_model': False\n",
    "# }\n",
    "# train_pool = Pool(X_train, y_train, cat_features=cat_cols)\n",
    "# validate_pool = Pool(X_validation, y_validation, cat_features=cat_cols)"
   ]
  },
  {
   "cell_type": "code",
   "execution_count": 15,
   "id": "bce81324",
   "metadata": {
    "execution": {
     "iopub.execute_input": "2023-01-26T18:33:56.005451Z",
     "iopub.status.busy": "2023-01-26T18:33:56.004779Z",
     "iopub.status.idle": "2023-01-26T18:33:56.009714Z",
     "shell.execute_reply": "2023-01-26T18:33:56.008893Z"
    },
    "papermill": {
     "duration": 0.015954,
     "end_time": "2023-01-26T18:33:56.011772",
     "exception": false,
     "start_time": "2023-01-26T18:33:55.995818",
     "status": "completed"
    },
    "tags": []
   },
   "outputs": [],
   "source": [
    "# model = CatBoostClassifier(**params)\n",
    "# model.fit(train_pool, eval_set=validate_pool)\n",
    "\n",
    "# best_model_params = params.copy()\n",
    "# best_model_params.update({\n",
    "#     'use_best_model': True\n",
    "# })\n",
    "# best_model = CatBoostClassifier(**best_model_params)\n",
    "# best_model.fit(train_pool, eval_set=validate_pool);\n",
    "\n",
    "# print('Simple model validation accuracy: {:.4}'.format(\n",
    "#     accuracy_score(y_validation, model.predict(X_validation))\n",
    "# ))\n",
    "# print('')\n",
    "\n",
    "# print('Best model validation accuracy: {:.4}'.format(\n",
    "#     accuracy_score(y_validation, best_model.predict(X_validation))\n",
    "# ))"
   ]
  },
  {
   "cell_type": "code",
   "execution_count": 16,
   "id": "41b6b377",
   "metadata": {
    "execution": {
     "iopub.execute_input": "2023-01-26T18:33:56.027531Z",
     "iopub.status.busy": "2023-01-26T18:33:56.027121Z",
     "iopub.status.idle": "2023-01-26T18:33:56.031577Z",
     "shell.execute_reply": "2023-01-26T18:33:56.030434Z"
    },
    "papermill": {
     "duration": 0.01476,
     "end_time": "2023-01-26T18:33:56.033628",
     "exception": false,
     "start_time": "2023-01-26T18:33:56.018868",
     "status": "completed"
    },
    "tags": []
   },
   "outputs": [],
   "source": [
    "# model.fit(\n",
    "#     X_train, y_train,\n",
    "#     cat_features=cat_cols,\n",
    "#     eval_set=(X_validation, y_validation),\n",
    "#     logging_level='Verbose',  # you can uncomment this for text output\n",
    "#     plot=True\n",
    "# );"
   ]
  },
  {
   "cell_type": "code",
   "execution_count": 17,
   "id": "8abbfa17",
   "metadata": {
    "execution": {
     "iopub.execute_input": "2023-01-26T18:33:56.050037Z",
     "iopub.status.busy": "2023-01-26T18:33:56.049639Z",
     "iopub.status.idle": "2023-01-26T18:33:56.080196Z",
     "shell.execute_reply": "2023-01-26T18:33:56.079274Z"
    },
    "papermill": {
     "duration": 0.041937,
     "end_time": "2023-01-26T18:33:56.082883",
     "exception": false,
     "start_time": "2023-01-26T18:33:56.040946",
     "status": "completed"
    },
    "tags": []
   },
   "outputs": [],
   "source": [
    "X_submis = pd.read_csv('/kaggle/input/advanced-dls-spring-2021/test.csv')\n",
    "X_submis[error_col] =  pd.to_numeric(X_submis[error_col], errors='coerce')\n",
    "median = X_submis[error_col].sum()//len(X_submis[error_col])\n",
    "# X_submis = X_submis.fillna(median)\n",
    "X_submis.fillna(1., inplace=True)\n",
    "\n",
    "X_submis[num_cols] = scaler.fit_transform(X_submis[num_cols])"
   ]
  },
  {
   "cell_type": "code",
   "execution_count": 18,
   "id": "917b6966",
   "metadata": {
    "execution": {
     "iopub.execute_input": "2023-01-26T18:33:56.100011Z",
     "iopub.status.busy": "2023-01-26T18:33:56.099624Z",
     "iopub.status.idle": "2023-01-26T18:33:56.104100Z",
     "shell.execute_reply": "2023-01-26T18:33:56.103054Z"
    },
    "papermill": {
     "duration": 0.015553,
     "end_time": "2023-01-26T18:33:56.106301",
     "exception": false,
     "start_time": "2023-01-26T18:33:56.090748",
     "status": "completed"
    },
    "tags": []
   },
   "outputs": [],
   "source": [
    "# cv_params = model.get_params()\n",
    "# cv_params.update({\n",
    "#     'loss_function': metrics.Logloss()\n",
    "# })\n",
    "# cv_data = cv(\n",
    "#     Pool(X, y, cat_features=cat_cols),\n",
    "#     cv_params,\n",
    "#     plot=True\n",
    "# )"
   ]
  },
  {
   "cell_type": "code",
   "execution_count": 19,
   "id": "78430eae",
   "metadata": {
    "execution": {
     "iopub.execute_input": "2023-01-26T18:33:56.123559Z",
     "iopub.status.busy": "2023-01-26T18:33:56.123158Z",
     "iopub.status.idle": "2023-01-26T18:33:56.127782Z",
     "shell.execute_reply": "2023-01-26T18:33:56.126466Z"
    },
    "papermill": {
     "duration": 0.016343,
     "end_time": "2023-01-26T18:33:56.130315",
     "exception": false,
     "start_time": "2023-01-26T18:33:56.113972",
     "status": "completed"
    },
    "tags": []
   },
   "outputs": [],
   "source": [
    "# print('Best validation accuracy score: {:.2f}±{:.2f} on step {}'.format(\n",
    "#     np.max(cv_data['test-Accuracy-mean']),\n",
    "#     cv_data['test-Accuracy-std'][np.argmax(cv_data['test-Accuracy-mean'])],\n",
    "#     np.argmax(cv_data['test-Accuracy-mean'])\n",
    "# ))"
   ]
  },
  {
   "cell_type": "code",
   "execution_count": 20,
   "id": "eb3acb0b",
   "metadata": {
    "execution": {
     "iopub.execute_input": "2023-01-26T18:33:56.147176Z",
     "iopub.status.busy": "2023-01-26T18:33:56.146784Z",
     "iopub.status.idle": "2023-01-26T18:33:56.151311Z",
     "shell.execute_reply": "2023-01-26T18:33:56.150168Z"
    },
    "papermill": {
     "duration": 0.015906,
     "end_time": "2023-01-26T18:33:56.153693",
     "exception": false,
     "start_time": "2023-01-26T18:33:56.137787",
     "status": "completed"
    },
    "tags": []
   },
   "outputs": [],
   "source": [
    "# print('Precise validation accuracy score: {}'.format(np.max(cv_data['test-Accuracy-mean'])))"
   ]
  },
  {
   "cell_type": "code",
   "execution_count": 21,
   "id": "7c693b68",
   "metadata": {
    "execution": {
     "iopub.execute_input": "2023-01-26T18:33:56.173124Z",
     "iopub.status.busy": "2023-01-26T18:33:56.172759Z",
     "iopub.status.idle": "2023-01-26T18:33:56.212427Z",
     "shell.execute_reply": "2023-01-26T18:33:56.211246Z"
    },
    "papermill": {
     "duration": 0.054566,
     "end_time": "2023-01-26T18:33:56.216087",
     "exception": false,
     "start_time": "2023-01-26T18:33:56.161521",
     "status": "completed"
    },
    "tags": []
   },
   "outputs": [],
   "source": [
    "predictions = model.predict(X_submis)\n",
    "predictions_probs = model.predict_proba(X_submis)[:, -1]"
   ]
  },
  {
   "cell_type": "code",
   "execution_count": 22,
   "id": "7a5ee85d",
   "metadata": {
    "execution": {
     "iopub.execute_input": "2023-01-26T18:33:56.238748Z",
     "iopub.status.busy": "2023-01-26T18:33:56.238035Z",
     "iopub.status.idle": "2023-01-26T18:33:56.247970Z",
     "shell.execute_reply": "2023-01-26T18:33:56.246407Z"
    },
    "papermill": {
     "duration": 0.022541,
     "end_time": "2023-01-26T18:33:56.251108",
     "exception": false,
     "start_time": "2023-01-26T18:33:56.228567",
     "status": "completed"
    },
    "tags": []
   },
   "outputs": [
    {
     "name": "stdout",
     "output_type": "stream",
     "text": [
      "(1761,)\n"
     ]
    }
   ],
   "source": [
    "new_df = pd.DataFrame(predictions_probs)\n",
    "print(predictions_probs.shape)"
   ]
  },
  {
   "cell_type": "code",
   "execution_count": 23,
   "id": "5a27bd3d",
   "metadata": {
    "execution": {
     "iopub.execute_input": "2023-01-26T18:33:56.272103Z",
     "iopub.status.busy": "2023-01-26T18:33:56.271682Z",
     "iopub.status.idle": "2023-01-26T18:33:56.281959Z",
     "shell.execute_reply": "2023-01-26T18:33:56.280850Z"
    },
    "papermill": {
     "duration": 0.025381,
     "end_time": "2023-01-26T18:33:56.284567",
     "exception": false,
     "start_time": "2023-01-26T18:33:56.259186",
     "status": "completed"
    },
    "tags": []
   },
   "outputs": [],
   "source": [
    "submission = pd.read_csv('/kaggle/input/advanced-dls-spring-2021/submission.csv')"
   ]
  },
  {
   "cell_type": "code",
   "execution_count": 24,
   "id": "1ea97ed0",
   "metadata": {
    "execution": {
     "iopub.execute_input": "2023-01-26T18:33:56.301264Z",
     "iopub.status.busy": "2023-01-26T18:33:56.300855Z",
     "iopub.status.idle": "2023-01-26T18:33:56.314975Z",
     "shell.execute_reply": "2023-01-26T18:33:56.313480Z"
    },
    "papermill": {
     "duration": 0.025737,
     "end_time": "2023-01-26T18:33:56.317830",
     "exception": false,
     "start_time": "2023-01-26T18:33:56.292093",
     "status": "completed"
    },
    "tags": []
   },
   "outputs": [
    {
     "name": "stdout",
     "output_type": "stream",
     "text": [
      "Your submission was successfully saved!\n"
     ]
    }
   ],
   "source": [
    "submission[target_col] = new_df\n",
    "os.chdir('/kaggle/working/')\n",
    "submission.to_csv('submission.csv', index=False)\n",
    "print(\"Your submission was successfully saved!\")"
   ]
  },
  {
   "cell_type": "code",
   "execution_count": 25,
   "id": "81e074fd",
   "metadata": {
    "execution": {
     "iopub.execute_input": "2023-01-26T18:33:56.335585Z",
     "iopub.status.busy": "2023-01-26T18:33:56.334665Z",
     "iopub.status.idle": "2023-01-26T18:33:56.351370Z",
     "shell.execute_reply": "2023-01-26T18:33:56.350090Z"
    },
    "papermill": {
     "duration": 0.028082,
     "end_time": "2023-01-26T18:33:56.353947",
     "exception": false,
     "start_time": "2023-01-26T18:33:56.325865",
     "status": "completed"
    },
    "tags": []
   },
   "outputs": [
    {
     "data": {
      "text/html": [
       "<div>\n",
       "<style scoped>\n",
       "    .dataframe tbody tr th:only-of-type {\n",
       "        vertical-align: middle;\n",
       "    }\n",
       "\n",
       "    .dataframe tbody tr th {\n",
       "        vertical-align: top;\n",
       "    }\n",
       "\n",
       "    .dataframe thead th {\n",
       "        text-align: right;\n",
       "    }\n",
       "</style>\n",
       "<table border=\"1\" class=\"dataframe\">\n",
       "  <thead>\n",
       "    <tr style=\"text-align: right;\">\n",
       "      <th></th>\n",
       "      <th>Id</th>\n",
       "      <th>Churn</th>\n",
       "    </tr>\n",
       "  </thead>\n",
       "  <tbody>\n",
       "    <tr>\n",
       "      <th>0</th>\n",
       "      <td>0</td>\n",
       "      <td>0.049842</td>\n",
       "    </tr>\n",
       "    <tr>\n",
       "      <th>1</th>\n",
       "      <td>1</td>\n",
       "      <td>0.801252</td>\n",
       "    </tr>\n",
       "    <tr>\n",
       "      <th>2</th>\n",
       "      <td>2</td>\n",
       "      <td>0.626593</td>\n",
       "    </tr>\n",
       "    <tr>\n",
       "      <th>3</th>\n",
       "      <td>3</td>\n",
       "      <td>0.014770</td>\n",
       "    </tr>\n",
       "    <tr>\n",
       "      <th>4</th>\n",
       "      <td>4</td>\n",
       "      <td>0.002160</td>\n",
       "    </tr>\n",
       "  </tbody>\n",
       "</table>\n",
       "</div>"
      ],
      "text/plain": [
       "   Id     Churn\n",
       "0   0  0.049842\n",
       "1   1  0.801252\n",
       "2   2  0.626593\n",
       "3   3  0.014770\n",
       "4   4  0.002160"
      ]
     },
     "execution_count": 25,
     "metadata": {},
     "output_type": "execute_result"
    }
   ],
   "source": [
    "pd.read_csv('/kaggle/working/submission.csv').head()"
   ]
  }
 ],
 "metadata": {
  "kernelspec": {
   "display_name": "Python 3",
   "language": "python",
   "name": "python3"
  },
  "language_info": {
   "codemirror_mode": {
    "name": "ipython",
    "version": 3
   },
   "file_extension": ".py",
   "mimetype": "text/x-python",
   "name": "python",
   "nbconvert_exporter": "python",
   "pygments_lexer": "ipython3",
   "version": "3.7.12"
  },
  "papermill": {
   "default_parameters": {},
   "duration": 35.131404,
   "end_time": "2023-01-26T18:33:57.182511",
   "environment_variables": {},
   "exception": null,
   "input_path": "__notebook__.ipynb",
   "output_path": "__notebook__.ipynb",
   "parameters": {},
   "start_time": "2023-01-26T18:33:22.051107",
   "version": "2.3.4"
  }
 },
 "nbformat": 4,
 "nbformat_minor": 5
}
