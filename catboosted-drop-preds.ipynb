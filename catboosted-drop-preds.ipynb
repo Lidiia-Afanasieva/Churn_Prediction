{
 "cells": [
  {
   "cell_type": "code",
   "execution_count": 1,
   "id": "88936612",
   "metadata": {
    "_cell_guid": "b1076dfc-b9ad-4769-8c92-a6c4dae69d19",
    "_uuid": "8f2839f25d086af736a60e9eeb907d3b93b6e0e5",
    "execution": {
     "iopub.execute_input": "2023-01-27T18:17:58.284979Z",
     "iopub.status.busy": "2023-01-27T18:17:58.284237Z",
     "iopub.status.idle": "2023-01-27T18:18:00.234312Z",
     "shell.execute_reply": "2023-01-27T18:18:00.232581Z"
    },
    "papermill": {
     "duration": 1.963412,
     "end_time": "2023-01-27T18:18:00.237801",
     "exception": false,
     "start_time": "2023-01-27T18:17:58.274389",
     "status": "completed"
    },
    "tags": []
   },
   "outputs": [],
   "source": [
    "import os\n",
    "from sklearn.metrics import roc_auc_score\n",
    "import pandas as pd\n",
    "import numpy as np\n",
    "from matplotlib import pyplot as plt\n",
    "\n",
    "from sklearn.linear_model import LogisticRegression, LogisticRegressionCV\n",
    "from sklearn.model_selection import train_test_split, GridSearchCV\n",
    "from sklearn.preprocessing import StandardScaler, RobustScaler, LabelEncoder, OneHotEncoder\n",
    "from sklearn.pipeline import make_pipeline\n",
    "\n",
    "from sklearn.compose import ColumnTransformer\n",
    "from sklearn.pipeline import Pipeline\n",
    "from sklearn.impute import SimpleImputer\n",
    "\n",
    "from sklearn.metrics import confusion_matrix\n",
    "from sklearn.metrics import classification_report\n",
    "\n",
    "#for classification_report\n",
    "from sklearn.utils.multiclass import unique_labels\n",
    "from sklearn.metrics import precision_recall_fscore_support\n",
    "from tabulate import tabulate\n",
    "\n",
    "from catboost import CatBoostClassifier, Pool, metrics, cv\n",
    "from sklearn.metrics import accuracy_score"
   ]
  },
  {
   "cell_type": "code",
   "execution_count": 2,
   "id": "25e43f38",
   "metadata": {
    "execution": {
     "iopub.execute_input": "2023-01-27T18:18:00.252473Z",
     "iopub.status.busy": "2023-01-27T18:18:00.252047Z",
     "iopub.status.idle": "2023-01-27T18:18:14.099063Z",
     "shell.execute_reply": "2023-01-27T18:18:14.097270Z"
    },
    "papermill": {
     "duration": 13.857758,
     "end_time": "2023-01-27T18:18:14.102075",
     "exception": false,
     "start_time": "2023-01-27T18:18:00.244317",
     "status": "completed"
    },
    "tags": []
   },
   "outputs": [
    {
     "name": "stdout",
     "output_type": "stream",
     "text": [
      "Requirement already satisfied: catboost in /opt/conda/lib/python3.7/site-packages (1.1.1)\r\n",
      "Requirement already satisfied: scipy in /opt/conda/lib/python3.7/site-packages (from catboost) (1.7.3)\r\n",
      "Requirement already satisfied: matplotlib in /opt/conda/lib/python3.7/site-packages (from catboost) (3.5.2)\r\n",
      "Requirement already satisfied: six in /opt/conda/lib/python3.7/site-packages (from catboost) (1.15.0)\r\n",
      "Requirement already satisfied: graphviz in /opt/conda/lib/python3.7/site-packages (from catboost) (0.8.4)\r\n",
      "Requirement already satisfied: pandas>=0.24.0 in /opt/conda/lib/python3.7/site-packages (from catboost) (1.3.5)\r\n",
      "Requirement already satisfied: plotly in /opt/conda/lib/python3.7/site-packages (from catboost) (5.12.0)\r\n",
      "Requirement already satisfied: numpy>=1.16.0 in /opt/conda/lib/python3.7/site-packages (from catboost) (1.21.6)\r\n",
      "Requirement already satisfied: python-dateutil>=2.7.3 in /opt/conda/lib/python3.7/site-packages (from pandas>=0.24.0->catboost) (2.8.2)\r\n",
      "Requirement already satisfied: pytz>=2017.3 in /opt/conda/lib/python3.7/site-packages (from pandas>=0.24.0->catboost) (2022.1)\r\n",
      "Requirement already satisfied: kiwisolver>=1.0.1 in /opt/conda/lib/python3.7/site-packages (from matplotlib->catboost) (1.4.3)\r\n",
      "Requirement already satisfied: packaging>=20.0 in /opt/conda/lib/python3.7/site-packages (from matplotlib->catboost) (23.0)\r\n",
      "Requirement already satisfied: cycler>=0.10 in /opt/conda/lib/python3.7/site-packages (from matplotlib->catboost) (0.11.0)\r\n",
      "Requirement already satisfied: pillow>=6.2.0 in /opt/conda/lib/python3.7/site-packages (from matplotlib->catboost) (9.1.1)\r\n",
      "Requirement already satisfied: pyparsing>=2.2.1 in /opt/conda/lib/python3.7/site-packages (from matplotlib->catboost) (3.0.9)\r\n",
      "Requirement already satisfied: fonttools>=4.22.0 in /opt/conda/lib/python3.7/site-packages (from matplotlib->catboost) (4.33.3)\r\n",
      "Requirement already satisfied: tenacity>=6.2.0 in /opt/conda/lib/python3.7/site-packages (from plotly->catboost) (8.0.1)\r\n",
      "Requirement already satisfied: typing-extensions in /opt/conda/lib/python3.7/site-packages (from kiwisolver>=1.0.1->matplotlib->catboost) (4.1.1)\r\n",
      "\u001b[33mWARNING: Running pip as the 'root' user can result in broken permissions and conflicting behaviour with the system package manager. It is recommended to use a virtual environment instead: https://pip.pypa.io/warnings/venv\u001b[0m\u001b[33m\r\n",
      "\u001b[0m"
     ]
    }
   ],
   "source": [
    "!pip install catboost\n",
    "# !pip install ipywidgets\n",
    "# !jupyter nbextension enable --py widgetsnbextension"
   ]
  },
  {
   "cell_type": "code",
   "execution_count": 3,
   "id": "ee427feb",
   "metadata": {
    "execution": {
     "iopub.execute_input": "2023-01-27T18:18:14.117336Z",
     "iopub.status.busy": "2023-01-27T18:18:14.116916Z",
     "iopub.status.idle": "2023-01-27T18:18:14.125903Z",
     "shell.execute_reply": "2023-01-27T18:18:14.124545Z"
    },
    "papermill": {
     "duration": 0.019616,
     "end_time": "2023-01-27T18:18:14.128176",
     "exception": false,
     "start_time": "2023-01-27T18:18:14.108560",
     "status": "completed"
    },
    "tags": []
   },
   "outputs": [],
   "source": [
    "# Числовые признаки\n",
    "num_cols = [\n",
    "    'ClientPeriod',\n",
    "    'MonthlySpending',\n",
    "    'TotalSpent'\n",
    "]\n",
    "\n",
    "# Категориальные признаки\n",
    "cat_cols = [\n",
    "    'Sex',\n",
    "    'IsSeniorCitizen',\n",
    "    'HasPartner',\n",
    "    'HasChild',\n",
    "    'HasPhoneService',\n",
    "    'HasMultiplePhoneNumbers',\n",
    "    'HasInternetService',\n",
    "    'HasOnlineSecurityService',\n",
    "    'HasOnlineBackup',\n",
    "    'HasDeviceProtection',\n",
    "    'HasTechSupportAccess',\n",
    "    'HasOnlineTV',\n",
    "    'HasMovieSubscription',\n",
    "    'HasContractPhone',\n",
    "    'IsBillingPaperless',\n",
    "    'PaymentMethod'\n",
    "]\n",
    "\n",
    "no_cat = [\n",
    "    'ClientPeriod',\n",
    "    'MonthlySpending',\n",
    "    'TotalSpent',\n",
    "    'Churn'\n",
    "]\n",
    "\n",
    "feature_cols = num_cols + cat_cols\n",
    "col_count = len(feature_cols)\n",
    "unique_cat = []\n",
    "target_col = 'Churn'\n",
    "error_col = 'TotalSpent'"
   ]
  },
  {
   "cell_type": "code",
   "execution_count": 4,
   "id": "99efbe72",
   "metadata": {
    "execution": {
     "iopub.execute_input": "2023-01-27T18:18:14.143154Z",
     "iopub.status.busy": "2023-01-27T18:18:14.142632Z",
     "iopub.status.idle": "2023-01-27T18:18:14.241814Z",
     "shell.execute_reply": "2023-01-27T18:18:14.240375Z"
    },
    "papermill": {
     "duration": 0.110611,
     "end_time": "2023-01-27T18:18:14.245170",
     "exception": false,
     "start_time": "2023-01-27T18:18:14.134559",
     "status": "completed"
    },
    "tags": []
   },
   "outputs": [],
   "source": [
    "# DATA IMPORT\n",
    "\n",
    "data = pd.read_csv('/kaggle/input/advanced-dls-spring-2021/train.csv')\n",
    "# похоже в этом столбце некорректный формат данных\n",
    "data[error_col] =  pd.to_numeric(data[error_col], errors='coerce')\n",
    "data.fillna(1000., inplace=True)\n",
    "\n",
    "# numeric data settings\n",
    "scaler = StandardScaler()\n",
    "data[num_cols] = scaler.fit_transform(data[num_cols])"
   ]
  },
  {
   "cell_type": "code",
   "execution_count": 5,
   "id": "1c0845f5",
   "metadata": {
    "execution": {
     "iopub.execute_input": "2023-01-27T18:18:14.259886Z",
     "iopub.status.busy": "2023-01-27T18:18:14.259465Z",
     "iopub.status.idle": "2023-01-27T18:18:14.265420Z",
     "shell.execute_reply": "2023-01-27T18:18:14.264105Z"
    },
    "papermill": {
     "duration": 0.016968,
     "end_time": "2023-01-27T18:18:14.268416",
     "exception": false,
     "start_time": "2023-01-27T18:18:14.251448",
     "status": "completed"
    },
    "tags": []
   },
   "outputs": [],
   "source": [
    "# print(list(data[error_col]))"
   ]
  },
  {
   "cell_type": "code",
   "execution_count": 6,
   "id": "2c70c2eb",
   "metadata": {
    "execution": {
     "iopub.execute_input": "2023-01-27T18:18:14.283826Z",
     "iopub.status.busy": "2023-01-27T18:18:14.283308Z",
     "iopub.status.idle": "2023-01-27T18:18:14.298459Z",
     "shell.execute_reply": "2023-01-27T18:18:14.296868Z"
    },
    "papermill": {
     "duration": 0.026739,
     "end_time": "2023-01-27T18:18:14.301887",
     "exception": false,
     "start_time": "2023-01-27T18:18:14.275148",
     "status": "completed"
    },
    "tags": []
   },
   "outputs": [],
   "source": [
    "# DATASET SPLIT\n",
    "\n",
    "y = data[target_col]\n",
    "\n",
    "features_list = list(data)\n",
    "features_list.remove(target_col)\n",
    "\n",
    "X = data[features_list]\n",
    "X_train, X_validation, y_train, y_validation = train_test_split(X, y, \n",
    "                                                                train_size=0.6, \n",
    "                                                                random_state=42)\n",
    "\n",
    "# X_submis = X_submis.to_numpy()"
   ]
  },
  {
   "cell_type": "code",
   "execution_count": 7,
   "id": "e9aa01ab",
   "metadata": {
    "execution": {
     "iopub.execute_input": "2023-01-27T18:18:14.319220Z",
     "iopub.status.busy": "2023-01-27T18:18:14.318719Z",
     "iopub.status.idle": "2023-01-27T18:18:15.057041Z",
     "shell.execute_reply": "2023-01-27T18:18:15.055325Z"
    },
    "papermill": {
     "duration": 0.750196,
     "end_time": "2023-01-27T18:18:15.060189",
     "exception": false,
     "start_time": "2023-01-27T18:18:14.309993",
     "status": "completed"
    },
    "tags": []
   },
   "outputs": [
    {
     "data": {
      "image/png": "[encoded data removed]",
      "text/plain": [
       "<Figure size 1440x720 with 4 Axes>"
      ]
     },
     "metadata": {
      "needs_background": "light"
     },
     "output_type": "display_data"
    }
   ],
   "source": [
    "data[num_cols].hist(bins=35, figsize=(20, 10))\n",
    "plt.show()"
   ]
  },
  {
   "cell_type": "code",
   "execution_count": 8,
   "id": "c13d4dc8",
   "metadata": {
    "execution": {
     "iopub.execute_input": "2023-01-27T18:18:15.077416Z",
     "iopub.status.busy": "2023-01-27T18:18:15.076941Z",
     "iopub.status.idle": "2023-01-27T18:22:30.735163Z",
     "shell.execute_reply": "2023-01-27T18:22:30.733686Z"
    },
    "papermill": {
     "duration": 255.676472,
     "end_time": "2023-01-27T18:22:30.744198",
     "exception": false,
     "start_time": "2023-01-27T18:18:15.067726",
     "status": "completed"
    },
    "tags": []
   },
   "outputs": [
    {
     "name": "stdout",
     "output_type": "stream",
     "text": [
      "CPU times: user 12min 44s, sys: 2min 2s, total: 14min 46s\n",
      "Wall time: 4min 15s\n"
     ]
    },
    {
     "data": {
      "text/plain": [
       "GridSearchCV(cv=5,\n",
       "             estimator=<catboost.core.CatBoostClassifier object at 0x7f8a8c790850>,\n",
       "             param_grid={'depth': [1, 3, 4, 6], 'iterations': [1000],\n",
       "                         'learning_rate': [0.01],\n",
       "                         'loss_function': ['Logloss', 'CrossEntropy']},\n",
       "             scoring='roc_auc')"
      ]
     },
     "execution_count": 8,
     "metadata": {},
     "output_type": "execute_result"
    }
   ],
   "source": [
    "%%time\n",
    "\n",
    "C_l = [10000, 1000, 100, 1, 0.1, 0.01, 0.001]\n",
    "\n",
    "param_grid = {'iterations':[1000],\n",
    "              'learning_rate':[0.01],\n",
    "              'depth': [1, 3, 4, 6],\n",
    "              'loss_function': ['Logloss', 'CrossEntropy'],\n",
    "}\n",
    "# clf = \n",
    "# preprocessing pipline for numeric data\n",
    "# num_features = num_cols\n",
    "\n",
    "# num_transformer = Pipeline(steps=[\n",
    "#     ('imputer', SimpleImputer(strategy='constant', fill_value=1.)),\n",
    "#     ('numerical', StandardScaler())])\n",
    "\n",
    "# использует трансвормеры на отдельных колонках\n",
    "# preprocessor = ColumnTransformer(\n",
    "#     transformers=[\n",
    "#         ('num', num_transformer, num_features),]\n",
    "#         )\n",
    "\n",
    "\n",
    "# pipe =  Pipeline(steps=[('preprocessor', preprocessor),\n",
    "#                    (\"catboostclf\", CatBoostClassifier(cat_features=cat_cols, verbose=False))\n",
    "#                    ])\n",
    "\n",
    "search = GridSearchCV(CatBoostClassifier(cat_features=cat_cols, verbose=False), \n",
    "                      param_grid,\n",
    "                      scoring='roc_auc',\n",
    "                      cv=5,\n",
    "                      refit=True)\n",
    "\n",
    "search.fit(X_train, y_train)"
   ]
  },
  {
   "cell_type": "code",
   "execution_count": 9,
   "id": "0e7a056e",
   "metadata": {
    "execution": {
     "iopub.execute_input": "2023-01-27T18:22:30.760626Z",
     "iopub.status.busy": "2023-01-27T18:22:30.760213Z",
     "iopub.status.idle": "2023-01-27T18:22:30.764892Z",
     "shell.execute_reply": "2023-01-27T18:22:30.763713Z"
    },
    "papermill": {
     "duration": 0.016593,
     "end_time": "2023-01-27T18:22:30.768130",
     "exception": false,
     "start_time": "2023-01-27T18:22:30.751537",
     "status": "completed"
    },
    "tags": []
   },
   "outputs": [],
   "source": [
    "# model = CatBoostClassifier(cat_features=cat_cols, verbose=False)\n",
    "\n",
    "# model.fit(X_train, y_train)\n",
    "# model.get_params().keys()"
   ]
  },
  {
   "cell_type": "code",
   "execution_count": 10,
   "id": "f29137d5",
   "metadata": {
    "execution": {
     "iopub.execute_input": "2023-01-27T18:22:30.785300Z",
     "iopub.status.busy": "2023-01-27T18:22:30.784891Z",
     "iopub.status.idle": "2023-01-27T18:22:30.790837Z",
     "shell.execute_reply": "2023-01-27T18:22:30.789873Z"
    },
    "papermill": {
     "duration": 0.016764,
     "end_time": "2023-01-27T18:22:30.793277",
     "exception": false,
     "start_time": "2023-01-27T18:22:30.776513",
     "status": "completed"
    },
    "tags": []
   },
   "outputs": [],
   "source": [
    "# %%time\n",
    "# search = model.grid_search(param_grid,\n",
    "#                            X=X_train,\n",
    "#                            y=y_train,\n",
    "#                            plot=True)\n",
    "# # search.fit(X_train, y_train)"
   ]
  },
  {
   "cell_type": "code",
   "execution_count": 11,
   "id": "9a790b31",
   "metadata": {
    "execution": {
     "iopub.execute_input": "2023-01-27T18:22:30.808870Z",
     "iopub.status.busy": "2023-01-27T18:22:30.808441Z",
     "iopub.status.idle": "2023-01-27T18:22:30.817061Z",
     "shell.execute_reply": "2023-01-27T18:22:30.815378Z"
    },
    "papermill": {
     "duration": 0.019778,
     "end_time": "2023-01-27T18:22:30.819963",
     "exception": false,
     "start_time": "2023-01-27T18:22:30.800185",
     "status": "completed"
    },
    "tags": []
   },
   "outputs": [
    {
     "data": {
      "text/plain": [
       "dict_keys(['cv', 'error_score', 'estimator__verbose', 'estimator__cat_features', 'estimator', 'n_jobs', 'param_grid', 'pre_dispatch', 'refit', 'return_train_score', 'scoring', 'verbose'])"
      ]
     },
     "execution_count": 11,
     "metadata": {},
     "output_type": "execute_result"
    }
   ],
   "source": [
    "search.get_params().keys()"
   ]
  },
  {
   "cell_type": "code",
   "execution_count": 12,
   "id": "5337789b",
   "metadata": {
    "execution": {
     "iopub.execute_input": "2023-01-27T18:22:30.838271Z",
     "iopub.status.busy": "2023-01-27T18:22:30.836852Z",
     "iopub.status.idle": "2023-01-27T18:22:30.869078Z",
     "shell.execute_reply": "2023-01-27T18:22:30.867867Z"
    },
    "papermill": {
     "duration": 0.044252,
     "end_time": "2023-01-27T18:22:30.872188",
     "exception": false,
     "start_time": "2023-01-27T18:22:30.827936",
     "status": "completed"
    },
    "tags": []
   },
   "outputs": [],
   "source": [
    "predictions = search.predict(X_validation)\n",
    "predictions_probs = search.predict_proba(X_validation)[:, -1]"
   ]
  },
  {
   "cell_type": "code",
   "execution_count": 13,
   "id": "f94079eb",
   "metadata": {
    "execution": {
     "iopub.execute_input": "2023-01-27T18:22:30.889755Z",
     "iopub.status.busy": "2023-01-27T18:22:30.889346Z",
     "iopub.status.idle": "2023-01-27T18:22:30.895073Z",
     "shell.execute_reply": "2023-01-27T18:22:30.893892Z"
    },
    "papermill": {
     "duration": 0.017869,
     "end_time": "2023-01-27T18:22:30.898209",
     "exception": false,
     "start_time": "2023-01-27T18:22:30.880340",
     "status": "completed"
    },
    "tags": []
   },
   "outputs": [
    {
     "name": "stdout",
     "output_type": "stream",
     "text": [
      "Tuned Hyperparameters : {'depth': 4, 'iterations': 1000, 'learning_rate': 0.01, 'loss_function': 'Logloss'}\n",
      "Accuracy : 0.8546953177784443\n"
     ]
    }
   ],
   "source": [
    "print(\"Tuned Hyperparameters :\", search.best_params_)\n",
    "print(\"Accuracy :\",search.best_score_)"
   ]
  },
  {
   "cell_type": "code",
   "execution_count": 14,
   "id": "78d57093",
   "metadata": {
    "execution": {
     "iopub.execute_input": "2023-01-27T18:22:30.916194Z",
     "iopub.status.busy": "2023-01-27T18:22:30.915721Z",
     "iopub.status.idle": "2023-01-27T18:22:30.922791Z",
     "shell.execute_reply": "2023-01-27T18:22:30.921565Z"
    },
    "papermill": {
     "duration": 0.019424,
     "end_time": "2023-01-27T18:22:30.926041",
     "exception": false,
     "start_time": "2023-01-27T18:22:30.906617",
     "status": "completed"
    },
    "tags": []
   },
   "outputs": [
    {
     "data": {
      "text/plain": [
       "(2113, 19)"
      ]
     },
     "execution_count": 14,
     "metadata": {},
     "output_type": "execute_result"
    }
   ],
   "source": [
    "X_validation.shape"
   ]
  },
  {
   "cell_type": "code",
   "execution_count": 15,
   "id": "c88da716",
   "metadata": {
    "execution": {
     "iopub.execute_input": "2023-01-27T18:22:30.943349Z",
     "iopub.status.busy": "2023-01-27T18:22:30.942903Z",
     "iopub.status.idle": "2023-01-27T18:22:30.951731Z",
     "shell.execute_reply": "2023-01-27T18:22:30.950124Z"
    },
    "papermill": {
     "duration": 0.021207,
     "end_time": "2023-01-27T18:22:30.954882",
     "exception": false,
     "start_time": "2023-01-27T18:22:30.933675",
     "status": "completed"
    },
    "tags": []
   },
   "outputs": [
    {
     "data": {
      "text/plain": [
       "(2113,)"
      ]
     },
     "execution_count": 15,
     "metadata": {},
     "output_type": "execute_result"
    }
   ],
   "source": [
    "predictions_probs.shape"
   ]
  },
  {
   "cell_type": "code",
   "execution_count": 16,
   "id": "dfa75d6d",
   "metadata": {
    "execution": {
     "iopub.execute_input": "2023-01-27T18:22:30.972313Z",
     "iopub.status.busy": "2023-01-27T18:22:30.971722Z",
     "iopub.status.idle": "2023-01-27T18:22:30.984209Z",
     "shell.execute_reply": "2023-01-27T18:22:30.982850Z"
    },
    "papermill": {
     "duration": 0.024583,
     "end_time": "2023-01-27T18:22:30.986932",
     "exception": false,
     "start_time": "2023-01-27T18:22:30.962349",
     "status": "completed"
    },
    "tags": []
   },
   "outputs": [
    {
     "data": {
      "text/plain": [
       "0.8321283934920298"
      ]
     },
     "execution_count": 16,
     "metadata": {},
     "output_type": "execute_result"
    }
   ],
   "source": [
    "roc_auc_score(y_validation, predictions_probs)"
   ]
  },
  {
   "cell_type": "code",
   "execution_count": 17,
   "id": "f1e7bea5",
   "metadata": {
    "execution": {
     "iopub.execute_input": "2023-01-27T18:22:31.004210Z",
     "iopub.status.busy": "2023-01-27T18:22:31.003710Z",
     "iopub.status.idle": "2023-01-27T18:22:31.043537Z",
     "shell.execute_reply": "2023-01-27T18:22:31.042110Z"
    },
    "papermill": {
     "duration": 0.052378,
     "end_time": "2023-01-27T18:22:31.046942",
     "exception": false,
     "start_time": "2023-01-27T18:22:30.994564",
     "status": "completed"
    },
    "tags": []
   },
   "outputs": [],
   "source": [
    "X_submis = pd.read_csv('/kaggle/input/advanced-dls-spring-2021/test.csv')\n",
    "X_submis[error_col] =  pd.to_numeric(X_submis[error_col], errors='coerce')\n",
    "median = X_submis[error_col].sum()//len(X_submis[error_col])\n",
    "# X_submis = X_submis.fillna(median)\n",
    "X_submis.fillna(1., inplace=True)\n",
    "\n",
    "X_submis[num_cols] = scaler.fit_transform(X_submis[num_cols])"
   ]
  },
  {
   "cell_type": "code",
   "execution_count": 18,
   "id": "de8ae31d",
   "metadata": {
    "execution": {
     "iopub.execute_input": "2023-01-27T18:22:31.065227Z",
     "iopub.status.busy": "2023-01-27T18:22:31.064790Z",
     "iopub.status.idle": "2023-01-27T18:22:31.093687Z",
     "shell.execute_reply": "2023-01-27T18:22:31.092494Z"
    },
    "papermill": {
     "duration": 0.042082,
     "end_time": "2023-01-27T18:22:31.097239",
     "exception": false,
     "start_time": "2023-01-27T18:22:31.055157",
     "status": "completed"
    },
    "tags": []
   },
   "outputs": [],
   "source": [
    "predictions = search.predict(X_submis)\n",
    "predictions_probs = search.predict_proba(X_submis)[:, -1]"
   ]
  },
  {
   "cell_type": "code",
   "execution_count": 19,
   "id": "f1f39fc2",
   "metadata": {
    "execution": {
     "iopub.execute_input": "2023-01-27T18:22:31.115103Z",
     "iopub.status.busy": "2023-01-27T18:22:31.114661Z",
     "iopub.status.idle": "2023-01-27T18:22:31.121137Z",
     "shell.execute_reply": "2023-01-27T18:22:31.119875Z"
    },
    "papermill": {
     "duration": 0.018975,
     "end_time": "2023-01-27T18:22:31.123893",
     "exception": false,
     "start_time": "2023-01-27T18:22:31.104918",
     "status": "completed"
    },
    "tags": []
   },
   "outputs": [
    {
     "name": "stdout",
     "output_type": "stream",
     "text": [
      "(1761,)\n"
     ]
    }
   ],
   "source": [
    "new_df = pd.DataFrame(predictions_probs)\n",
    "print(predictions_probs.shape)"
   ]
  },
  {
   "cell_type": "code",
   "execution_count": 20,
   "id": "51143731",
   "metadata": {
    "execution": {
     "iopub.execute_input": "2023-01-27T18:22:31.141698Z",
     "iopub.status.busy": "2023-01-27T18:22:31.141283Z",
     "iopub.status.idle": "2023-01-27T18:22:31.165403Z",
     "shell.execute_reply": "2023-01-27T18:22:31.164017Z"
    },
    "papermill": {
     "duration": 0.037,
     "end_time": "2023-01-27T18:22:31.168844",
     "exception": false,
     "start_time": "2023-01-27T18:22:31.131844",
     "status": "completed"
    },
    "tags": []
   },
   "outputs": [
    {
     "name": "stdout",
     "output_type": "stream",
     "text": [
      "Your submission was successfully saved!\n"
     ]
    }
   ],
   "source": [
    "submission = pd.read_csv('/kaggle/input/advanced-dls-spring-2021/submission.csv')\n",
    "submission[target_col] = new_df\n",
    "os.chdir('/kaggle/working/')\n",
    "submission.to_csv('submission.csv', index=False)\n",
    "print(\"Your submission was successfully saved!\")"
   ]
  },
  {
   "cell_type": "code",
   "execution_count": 21,
   "id": "db237026",
   "metadata": {
    "execution": {
     "iopub.execute_input": "2023-01-27T18:22:31.186346Z",
     "iopub.status.busy": "2023-01-27T18:22:31.185803Z",
     "iopub.status.idle": "2023-01-27T18:22:31.208573Z",
     "shell.execute_reply": "2023-01-27T18:22:31.207126Z"
    },
    "papermill": {
     "duration": 0.035273,
     "end_time": "2023-01-27T18:22:31.211755",
     "exception": false,
     "start_time": "2023-01-27T18:22:31.176482",
     "status": "completed"
    },
    "tags": []
   },
   "outputs": [
    {
     "data": {
      "text/html": [
       "<div>\n",
       "<style scoped>\n",
       "    .dataframe tbody tr th:only-of-type {\n",
       "        vertical-align: middle;\n",
       "    }\n",
       "\n",
       "    .dataframe tbody tr th {\n",
       "        vertical-align: top;\n",
       "    }\n",
       "\n",
       "    .dataframe thead th {\n",
       "        text-align: right;\n",
       "    }\n",
       "</style>\n",
       "<table border=\"1\" class=\"dataframe\">\n",
       "  <thead>\n",
       "    <tr style=\"text-align: right;\">\n",
       "      <th></th>\n",
       "      <th>Id</th>\n",
       "      <th>Churn</th>\n",
       "    </tr>\n",
       "  </thead>\n",
       "  <tbody>\n",
       "    <tr>\n",
       "      <th>0</th>\n",
       "      <td>0</td>\n",
       "      <td>0.047097</td>\n",
       "    </tr>\n",
       "    <tr>\n",
       "      <th>1</th>\n",
       "      <td>1</td>\n",
       "      <td>0.719949</td>\n",
       "    </tr>\n",
       "    <tr>\n",
       "      <th>2</th>\n",
       "      <td>2</td>\n",
       "      <td>0.663543</td>\n",
       "    </tr>\n",
       "    <tr>\n",
       "      <th>3</th>\n",
       "      <td>3</td>\n",
       "      <td>0.013661</td>\n",
       "    </tr>\n",
       "    <tr>\n",
       "      <th>4</th>\n",
       "      <td>4</td>\n",
       "      <td>0.008497</td>\n",
       "    </tr>\n",
       "  </tbody>\n",
       "</table>\n",
       "</div>"
      ],
      "text/plain": [
       "   Id     Churn\n",
       "0   0  0.047097\n",
       "1   1  0.719949\n",
       "2   2  0.663543\n",
       "3   3  0.013661\n",
       "4   4  0.008497"
      ]
     },
     "execution_count": 21,
     "metadata": {},
     "output_type": "execute_result"
    }
   ],
   "source": [
    "pd.read_csv('/kaggle/working/submission.csv').head()"
   ]
  }
 ],
 "metadata": {
  "kernelspec": {
   "display_name": "Python 3",
   "language": "python",
   "name": "python3"
  },
  "language_info": {
   "codemirror_mode": {
    "name": "ipython",
    "version": 3
   },
   "file_extension": ".py",
   "mimetype": "text/x-python",
   "name": "python",
   "nbconvert_exporter": "python",
   "pygments_lexer": "ipython3",
   "version": "3.7.12"
  },
  "papermill": {
   "default_parameters": {},
   "duration": 283.530323,
   "end_time": "2023-01-27T18:22:32.148223",
   "environment_variables": {},
   "exception": null,
   "input_path": "__notebook__.ipynb",
   "output_path": "__notebook__.ipynb",
   "parameters": {},
   "start_time": "2023-01-27T18:17:48.617900",
   "version": "2.3.4"
  }
 },
 "nbformat": 4,
 "nbformat_minor": 5
}
